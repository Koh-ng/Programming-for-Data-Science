{
 "cells": [
  {
   "cell_type": "markdown",
   "metadata": {},
   "source": [
    "# ST2195 Programming for Data Science\n",
    "## Coursework Project"
   ]
  },
  {
   "cell_type": "markdown",
   "metadata": {},
   "source": [
    "Candidate number: 200665977 "
   ]
  },
  {
   "cell_type": "markdown",
   "metadata": {},
   "source": [
    "As we already had some comments about the steps to approach the questions in R markdown file, in this jupyter markdown, I only write the codes to get the outputs which are similar to the R markdown results."
   ]
  },
  {
   "cell_type": "markdown",
   "metadata": {},
   "source": [
    "## Import Data and Libraries"
   ]
  },
  {
   "cell_type": "code",
   "execution_count": 2,
   "metadata": {},
   "outputs": [
    {
     "name": "stderr",
     "output_type": "stream",
     "text": [
      "/Users/bo/opt/anaconda3/lib/python3.8/site-packages/xgboost/compat.py:36: FutureWarning: pandas.Int64Index is deprecated and will be removed from pandas in a future version. Use pandas.Index with the appropriate dtype instead.\n",
      "  from pandas import MultiIndex, Int64Index\n"
     ]
    }
   ],
   "source": [
    "#For data wrangling\n",
    "import pandas as pd\n",
    "import numpy as np\n",
    "import os\n",
    "from statistics import mean\n",
    "import random\n",
    "#For plotting\n",
    "import matplotlib.pyplot as plt\n",
    "import seaborn as sns\n",
    "import plotly.graph_objects as go\n",
    "#Machine learning\n",
    "from sklearn import model_selection\n",
    "from sklearn.model_selection import train_test_split, GridSearchCV \n",
    "from sklearn.linear_model import LinearRegression\n",
    "from sklearn.linear_model import Ridge\n",
    "from sklearn.ensemble import RandomForestRegressor\n",
    "from sklearn.pipeline import Pipeline\n",
    "from sklearn.preprocessing import StandardScaler, OneHotEncoder\n",
    "from sklearn.svm import SVR\n",
    "from xgboost.sklearn import XGBRegressor\n",
    "from sklearn.impute import SimpleImputer\n",
    "from sklearn.compose import ColumnTransformer #transform different types\n",
    "from sklearn.metrics import mean_squared_error, r2_score, mean_absolute_error, accuracy_score\n",
    "from math import sqrt\n"
   ]
  },
  {
   "cell_type": "code",
   "execution_count": 4,
   "metadata": {},
   "outputs": [],
   "source": [
    "pwd = os.getcwd()"
   ]
  },
  {
   "cell_type": "code",
   "execution_count": 5,
   "metadata": {},
   "outputs": [],
   "source": [
    "data_1999 = pd.read_csv(pwd + \"/CourseWork_Data/1999.csv\",encoding='latin-1')\n",
    "data_2000 = pd.read_csv(pwd + \"/CourseWork_Data/2000.csv\",encoding='latin-1')"
   ]
  },
  {
   "cell_type": "code",
   "execution_count": 4,
   "metadata": {},
   "outputs": [],
   "source": [
    "airports = pd.read_csv(pwd + \"/CourseWork_Data/airports.csv\",encoding='latin-1')\n",
    "carriers = pd.read_csv(pwd + \"/CourseWork_Data/carriers.csv\",encoding='latin-1')\n",
    "plane_data = pd.read_csv(pwd + \"/CourseWork_Data/plane-data.csv\",encoding='latin-1')"
   ]
  },
  {
   "cell_type": "code",
   "execution_count": 6,
   "metadata": {},
   "outputs": [
    {
     "data": {
      "text/html": [
       "<div>\n",
       "<style scoped>\n",
       "    .dataframe tbody tr th:only-of-type {\n",
       "        vertical-align: middle;\n",
       "    }\n",
       "\n",
       "    .dataframe tbody tr th {\n",
       "        vertical-align: top;\n",
       "    }\n",
       "\n",
       "    .dataframe thead th {\n",
       "        text-align: right;\n",
       "    }\n",
       "</style>\n",
       "<table border=\"1\" class=\"dataframe\">\n",
       "  <thead>\n",
       "    <tr style=\"text-align: right;\">\n",
       "      <th></th>\n",
       "      <th>Year</th>\n",
       "      <th>Month</th>\n",
       "      <th>DayofMonth</th>\n",
       "      <th>DayOfWeek</th>\n",
       "      <th>DepTime</th>\n",
       "      <th>CRSDepTime</th>\n",
       "      <th>ArrTime</th>\n",
       "      <th>CRSArrTime</th>\n",
       "      <th>UniqueCarrier</th>\n",
       "      <th>FlightNum</th>\n",
       "      <th>...</th>\n",
       "      <th>TaxiIn</th>\n",
       "      <th>TaxiOut</th>\n",
       "      <th>Cancelled</th>\n",
       "      <th>CancellationCode</th>\n",
       "      <th>Diverted</th>\n",
       "      <th>CarrierDelay</th>\n",
       "      <th>WeatherDelay</th>\n",
       "      <th>NASDelay</th>\n",
       "      <th>SecurityDelay</th>\n",
       "      <th>LateAircraftDelay</th>\n",
       "    </tr>\n",
       "  </thead>\n",
       "  <tbody>\n",
       "    <tr>\n",
       "      <th>0</th>\n",
       "      <td>1999</td>\n",
       "      <td>1</td>\n",
       "      <td>27</td>\n",
       "      <td>3</td>\n",
       "      <td>1906.0</td>\n",
       "      <td>1908</td>\n",
       "      <td>2024.0</td>\n",
       "      <td>2005</td>\n",
       "      <td>US</td>\n",
       "      <td>1244</td>\n",
       "      <td>...</td>\n",
       "      <td>3</td>\n",
       "      <td>9</td>\n",
       "      <td>0</td>\n",
       "      <td>NaN</td>\n",
       "      <td>0</td>\n",
       "      <td>NaN</td>\n",
       "      <td>NaN</td>\n",
       "      <td>NaN</td>\n",
       "      <td>NaN</td>\n",
       "      <td>NaN</td>\n",
       "    </tr>\n",
       "    <tr>\n",
       "      <th>1</th>\n",
       "      <td>1999</td>\n",
       "      <td>1</td>\n",
       "      <td>28</td>\n",
       "      <td>4</td>\n",
       "      <td>2016.0</td>\n",
       "      <td>1908</td>\n",
       "      <td>2126.0</td>\n",
       "      <td>2005</td>\n",
       "      <td>US</td>\n",
       "      <td>1244</td>\n",
       "      <td>...</td>\n",
       "      <td>19</td>\n",
       "      <td>10</td>\n",
       "      <td>0</td>\n",
       "      <td>NaN</td>\n",
       "      <td>0</td>\n",
       "      <td>NaN</td>\n",
       "      <td>NaN</td>\n",
       "      <td>NaN</td>\n",
       "      <td>NaN</td>\n",
       "      <td>NaN</td>\n",
       "    </tr>\n",
       "    <tr>\n",
       "      <th>2</th>\n",
       "      <td>1999</td>\n",
       "      <td>1</td>\n",
       "      <td>29</td>\n",
       "      <td>5</td>\n",
       "      <td>1907.0</td>\n",
       "      <td>1908</td>\n",
       "      <td>2000.0</td>\n",
       "      <td>2005</td>\n",
       "      <td>US</td>\n",
       "      <td>1244</td>\n",
       "      <td>...</td>\n",
       "      <td>2</td>\n",
       "      <td>8</td>\n",
       "      <td>0</td>\n",
       "      <td>NaN</td>\n",
       "      <td>0</td>\n",
       "      <td>NaN</td>\n",
       "      <td>NaN</td>\n",
       "      <td>NaN</td>\n",
       "      <td>NaN</td>\n",
       "      <td>NaN</td>\n",
       "    </tr>\n",
       "    <tr>\n",
       "      <th>3</th>\n",
       "      <td>1999</td>\n",
       "      <td>1</td>\n",
       "      <td>31</td>\n",
       "      <td>7</td>\n",
       "      <td>1932.0</td>\n",
       "      <td>1908</td>\n",
       "      <td>2031.0</td>\n",
       "      <td>2005</td>\n",
       "      <td>US</td>\n",
       "      <td>1244</td>\n",
       "      <td>...</td>\n",
       "      <td>6</td>\n",
       "      <td>8</td>\n",
       "      <td>0</td>\n",
       "      <td>NaN</td>\n",
       "      <td>0</td>\n",
       "      <td>NaN</td>\n",
       "      <td>NaN</td>\n",
       "      <td>NaN</td>\n",
       "      <td>NaN</td>\n",
       "      <td>NaN</td>\n",
       "    </tr>\n",
       "    <tr>\n",
       "      <th>4</th>\n",
       "      <td>1999</td>\n",
       "      <td>1</td>\n",
       "      <td>1</td>\n",
       "      <td>5</td>\n",
       "      <td>1601.0</td>\n",
       "      <td>1535</td>\n",
       "      <td>1707.0</td>\n",
       "      <td>1645</td>\n",
       "      <td>US</td>\n",
       "      <td>297</td>\n",
       "      <td>...</td>\n",
       "      <td>11</td>\n",
       "      <td>8</td>\n",
       "      <td>0</td>\n",
       "      <td>NaN</td>\n",
       "      <td>0</td>\n",
       "      <td>NaN</td>\n",
       "      <td>NaN</td>\n",
       "      <td>NaN</td>\n",
       "      <td>NaN</td>\n",
       "      <td>NaN</td>\n",
       "    </tr>\n",
       "    <tr>\n",
       "      <th>...</th>\n",
       "      <td>...</td>\n",
       "      <td>...</td>\n",
       "      <td>...</td>\n",
       "      <td>...</td>\n",
       "      <td>...</td>\n",
       "      <td>...</td>\n",
       "      <td>...</td>\n",
       "      <td>...</td>\n",
       "      <td>...</td>\n",
       "      <td>...</td>\n",
       "      <td>...</td>\n",
       "      <td>...</td>\n",
       "      <td>...</td>\n",
       "      <td>...</td>\n",
       "      <td>...</td>\n",
       "      <td>...</td>\n",
       "      <td>...</td>\n",
       "      <td>...</td>\n",
       "      <td>...</td>\n",
       "      <td>...</td>\n",
       "      <td>...</td>\n",
       "    </tr>\n",
       "    <tr>\n",
       "      <th>11210926</th>\n",
       "      <td>2000</td>\n",
       "      <td>12</td>\n",
       "      <td>9</td>\n",
       "      <td>6</td>\n",
       "      <td>615.0</td>\n",
       "      <td>613</td>\n",
       "      <td>941.0</td>\n",
       "      <td>945</td>\n",
       "      <td>AA</td>\n",
       "      <td>705</td>\n",
       "      <td>...</td>\n",
       "      <td>11</td>\n",
       "      <td>18</td>\n",
       "      <td>0</td>\n",
       "      <td>NaN</td>\n",
       "      <td>0</td>\n",
       "      <td>NaN</td>\n",
       "      <td>NaN</td>\n",
       "      <td>NaN</td>\n",
       "      <td>NaN</td>\n",
       "      <td>NaN</td>\n",
       "    </tr>\n",
       "    <tr>\n",
       "      <th>11210927</th>\n",
       "      <td>2000</td>\n",
       "      <td>12</td>\n",
       "      <td>10</td>\n",
       "      <td>7</td>\n",
       "      <td>619.0</td>\n",
       "      <td>613</td>\n",
       "      <td>925.0</td>\n",
       "      <td>945</td>\n",
       "      <td>AA</td>\n",
       "      <td>705</td>\n",
       "      <td>...</td>\n",
       "      <td>8</td>\n",
       "      <td>15</td>\n",
       "      <td>0</td>\n",
       "      <td>NaN</td>\n",
       "      <td>0</td>\n",
       "      <td>NaN</td>\n",
       "      <td>NaN</td>\n",
       "      <td>NaN</td>\n",
       "      <td>NaN</td>\n",
       "      <td>NaN</td>\n",
       "    </tr>\n",
       "    <tr>\n",
       "      <th>11210928</th>\n",
       "      <td>2000</td>\n",
       "      <td>12</td>\n",
       "      <td>11</td>\n",
       "      <td>1</td>\n",
       "      <td>611.0</td>\n",
       "      <td>613</td>\n",
       "      <td>949.0</td>\n",
       "      <td>945</td>\n",
       "      <td>AA</td>\n",
       "      <td>705</td>\n",
       "      <td>...</td>\n",
       "      <td>8</td>\n",
       "      <td>12</td>\n",
       "      <td>0</td>\n",
       "      <td>NaN</td>\n",
       "      <td>0</td>\n",
       "      <td>NaN</td>\n",
       "      <td>NaN</td>\n",
       "      <td>NaN</td>\n",
       "      <td>NaN</td>\n",
       "      <td>NaN</td>\n",
       "    </tr>\n",
       "    <tr>\n",
       "      <th>11210929</th>\n",
       "      <td>2000</td>\n",
       "      <td>12</td>\n",
       "      <td>12</td>\n",
       "      <td>2</td>\n",
       "      <td>613.0</td>\n",
       "      <td>613</td>\n",
       "      <td>1005.0</td>\n",
       "      <td>945</td>\n",
       "      <td>AA</td>\n",
       "      <td>705</td>\n",
       "      <td>...</td>\n",
       "      <td>9</td>\n",
       "      <td>18</td>\n",
       "      <td>0</td>\n",
       "      <td>NaN</td>\n",
       "      <td>0</td>\n",
       "      <td>NaN</td>\n",
       "      <td>NaN</td>\n",
       "      <td>NaN</td>\n",
       "      <td>NaN</td>\n",
       "      <td>NaN</td>\n",
       "    </tr>\n",
       "    <tr>\n",
       "      <th>11210930</th>\n",
       "      <td>2000</td>\n",
       "      <td>12</td>\n",
       "      <td>13</td>\n",
       "      <td>3</td>\n",
       "      <td>614.0</td>\n",
       "      <td>613</td>\n",
       "      <td>948.0</td>\n",
       "      <td>945</td>\n",
       "      <td>AA</td>\n",
       "      <td>705</td>\n",
       "      <td>...</td>\n",
       "      <td>12</td>\n",
       "      <td>23</td>\n",
       "      <td>0</td>\n",
       "      <td>NaN</td>\n",
       "      <td>0</td>\n",
       "      <td>NaN</td>\n",
       "      <td>NaN</td>\n",
       "      <td>NaN</td>\n",
       "      <td>NaN</td>\n",
       "      <td>NaN</td>\n",
       "    </tr>\n",
       "  </tbody>\n",
       "</table>\n",
       "<p>11210931 rows × 29 columns</p>\n",
       "</div>"
      ],
      "text/plain": [
       "          Year  Month  DayofMonth  DayOfWeek  DepTime  CRSDepTime  ArrTime  \\\n",
       "0         1999      1          27          3   1906.0        1908   2024.0   \n",
       "1         1999      1          28          4   2016.0        1908   2126.0   \n",
       "2         1999      1          29          5   1907.0        1908   2000.0   \n",
       "3         1999      1          31          7   1932.0        1908   2031.0   \n",
       "4         1999      1           1          5   1601.0        1535   1707.0   \n",
       "...        ...    ...         ...        ...      ...         ...      ...   \n",
       "11210926  2000     12           9          6    615.0         613    941.0   \n",
       "11210927  2000     12          10          7    619.0         613    925.0   \n",
       "11210928  2000     12          11          1    611.0         613    949.0   \n",
       "11210929  2000     12          12          2    613.0         613   1005.0   \n",
       "11210930  2000     12          13          3    614.0         613    948.0   \n",
       "\n",
       "          CRSArrTime UniqueCarrier  FlightNum  ... TaxiIn  TaxiOut  Cancelled  \\\n",
       "0               2005            US       1244  ...      3        9          0   \n",
       "1               2005            US       1244  ...     19       10          0   \n",
       "2               2005            US       1244  ...      2        8          0   \n",
       "3               2005            US       1244  ...      6        8          0   \n",
       "4               1645            US        297  ...     11        8          0   \n",
       "...              ...           ...        ...  ...    ...      ...        ...   \n",
       "11210926         945            AA        705  ...     11       18          0   \n",
       "11210927         945            AA        705  ...      8       15          0   \n",
       "11210928         945            AA        705  ...      8       12          0   \n",
       "11210929         945            AA        705  ...      9       18          0   \n",
       "11210930         945            AA        705  ...     12       23          0   \n",
       "\n",
       "          CancellationCode  Diverted  CarrierDelay WeatherDelay NASDelay  \\\n",
       "0                      NaN         0           NaN          NaN      NaN   \n",
       "1                      NaN         0           NaN          NaN      NaN   \n",
       "2                      NaN         0           NaN          NaN      NaN   \n",
       "3                      NaN         0           NaN          NaN      NaN   \n",
       "4                      NaN         0           NaN          NaN      NaN   \n",
       "...                    ...       ...           ...          ...      ...   \n",
       "11210926               NaN         0           NaN          NaN      NaN   \n",
       "11210927               NaN         0           NaN          NaN      NaN   \n",
       "11210928               NaN         0           NaN          NaN      NaN   \n",
       "11210929               NaN         0           NaN          NaN      NaN   \n",
       "11210930               NaN         0           NaN          NaN      NaN   \n",
       "\n",
       "          SecurityDelay  LateAircraftDelay  \n",
       "0                   NaN                NaN  \n",
       "1                   NaN                NaN  \n",
       "2                   NaN                NaN  \n",
       "3                   NaN                NaN  \n",
       "4                   NaN                NaN  \n",
       "...                 ...                ...  \n",
       "11210926            NaN                NaN  \n",
       "11210927            NaN                NaN  \n",
       "11210928            NaN                NaN  \n",
       "11210929            NaN                NaN  \n",
       "11210930            NaN                NaN  \n",
       "\n",
       "[11210931 rows x 29 columns]"
      ]
     },
     "execution_count": 6,
     "metadata": {},
     "output_type": "execute_result"
    }
   ],
   "source": [
    "dataset = pd.concat([data_1999, data_2000], ignore_index=True, sort=False)\n",
    "dataset_modified = dataset.copy()\n",
    "dataset_modified"
   ]
  },
  {
   "cell_type": "markdown",
   "metadata": {},
   "source": [
    "## Data Wrangling"
   ]
  },
  {
   "cell_type": "code",
   "execution_count": 6,
   "metadata": {},
   "outputs": [
    {
     "data": {
      "text/plain": [
       "Year                        0\n",
       "Month                       0\n",
       "DayofMonth                  0\n",
       "DayOfWeek                   0\n",
       "DepTime                341801\n",
       "CRSDepTime                  0\n",
       "ArrTime                369610\n",
       "CRSArrTime                  0\n",
       "UniqueCarrier               0\n",
       "FlightNum                   0\n",
       "TailNum                     0\n",
       "ActualElapsedTime      369610\n",
       "CRSElapsedTime           9261\n",
       "AirTime                369610\n",
       "ArrDelay               369610\n",
       "DepDelay               341801\n",
       "Origin                      0\n",
       "Dest                        0\n",
       "Distance                    0\n",
       "TaxiIn                      0\n",
       "TaxiOut                     0\n",
       "Cancelled                   0\n",
       "CancellationCode     11210931\n",
       "Diverted                    0\n",
       "CarrierDelay         11210931\n",
       "WeatherDelay         11210931\n",
       "NASDelay             11210931\n",
       "SecurityDelay        11210931\n",
       "LateAircraftDelay    11210931\n",
       "dtype: int64"
      ]
     },
     "execution_count": 6,
     "metadata": {},
     "output_type": "execute_result"
    }
   ],
   "source": [
    "dataset_modified.isna().sum()"
   ]
  },
  {
   "cell_type": "code",
   "execution_count": 7,
   "metadata": {},
   "outputs": [
    {
     "data": {
      "text/html": [
       "<div>\n",
       "<style scoped>\n",
       "    .dataframe tbody tr th:only-of-type {\n",
       "        vertical-align: middle;\n",
       "    }\n",
       "\n",
       "    .dataframe tbody tr th {\n",
       "        vertical-align: top;\n",
       "    }\n",
       "\n",
       "    .dataframe thead th {\n",
       "        text-align: right;\n",
       "    }\n",
       "</style>\n",
       "<table border=\"1\" class=\"dataframe\">\n",
       "  <thead>\n",
       "    <tr style=\"text-align: right;\">\n",
       "      <th></th>\n",
       "      <th>Year</th>\n",
       "      <th>Month</th>\n",
       "      <th>DayofMonth</th>\n",
       "      <th>DayOfWeek</th>\n",
       "      <th>FlightNum</th>\n",
       "      <th>TailNum</th>\n",
       "      <th>Origin</th>\n",
       "      <th>Dest</th>\n",
       "      <th>CRSDepTime</th>\n",
       "      <th>CRSArrTime</th>\n",
       "      <th>DepTime</th>\n",
       "      <th>ArrTime</th>\n",
       "      <th>ArrDelay</th>\n",
       "      <th>DepDelay</th>\n",
       "    </tr>\n",
       "  </thead>\n",
       "  <tbody>\n",
       "    <tr>\n",
       "      <th>0</th>\n",
       "      <td>1999</td>\n",
       "      <td>1</td>\n",
       "      <td>27</td>\n",
       "      <td>3</td>\n",
       "      <td>1244</td>\n",
       "      <td>N942VJ</td>\n",
       "      <td>RIC</td>\n",
       "      <td>PHL</td>\n",
       "      <td>1908</td>\n",
       "      <td>2005</td>\n",
       "      <td>1906.0</td>\n",
       "      <td>2024.0</td>\n",
       "      <td>19.0</td>\n",
       "      <td>-2.0</td>\n",
       "    </tr>\n",
       "    <tr>\n",
       "      <th>1</th>\n",
       "      <td>1999</td>\n",
       "      <td>1</td>\n",
       "      <td>28</td>\n",
       "      <td>4</td>\n",
       "      <td>1244</td>\n",
       "      <td>N955VJ</td>\n",
       "      <td>RIC</td>\n",
       "      <td>PHL</td>\n",
       "      <td>1908</td>\n",
       "      <td>2005</td>\n",
       "      <td>2016.0</td>\n",
       "      <td>2126.0</td>\n",
       "      <td>81.0</td>\n",
       "      <td>68.0</td>\n",
       "    </tr>\n",
       "    <tr>\n",
       "      <th>3</th>\n",
       "      <td>1999</td>\n",
       "      <td>1</td>\n",
       "      <td>31</td>\n",
       "      <td>7</td>\n",
       "      <td>1244</td>\n",
       "      <td>N912VJ</td>\n",
       "      <td>RIC</td>\n",
       "      <td>PHL</td>\n",
       "      <td>1908</td>\n",
       "      <td>2005</td>\n",
       "      <td>1932.0</td>\n",
       "      <td>2031.0</td>\n",
       "      <td>26.0</td>\n",
       "      <td>24.0</td>\n",
       "    </tr>\n",
       "    <tr>\n",
       "      <th>4</th>\n",
       "      <td>1999</td>\n",
       "      <td>1</td>\n",
       "      <td>1</td>\n",
       "      <td>5</td>\n",
       "      <td>297</td>\n",
       "      <td>N935VJ</td>\n",
       "      <td>ROC</td>\n",
       "      <td>PHL</td>\n",
       "      <td>1535</td>\n",
       "      <td>1645</td>\n",
       "      <td>1601.0</td>\n",
       "      <td>1707.0</td>\n",
       "      <td>22.0</td>\n",
       "      <td>26.0</td>\n",
       "    </tr>\n",
       "    <tr>\n",
       "      <th>5</th>\n",
       "      <td>1999</td>\n",
       "      <td>1</td>\n",
       "      <td>2</td>\n",
       "      <td>6</td>\n",
       "      <td>297</td>\n",
       "      <td>N980VJ</td>\n",
       "      <td>ROC</td>\n",
       "      <td>PHL</td>\n",
       "      <td>1535</td>\n",
       "      <td>1645</td>\n",
       "      <td>1651.0</td>\n",
       "      <td>1829.0</td>\n",
       "      <td>104.0</td>\n",
       "      <td>76.0</td>\n",
       "    </tr>\n",
       "    <tr>\n",
       "      <th>...</th>\n",
       "      <td>...</td>\n",
       "      <td>...</td>\n",
       "      <td>...</td>\n",
       "      <td>...</td>\n",
       "      <td>...</td>\n",
       "      <td>...</td>\n",
       "      <td>...</td>\n",
       "      <td>...</td>\n",
       "      <td>...</td>\n",
       "      <td>...</td>\n",
       "      <td>...</td>\n",
       "      <td>...</td>\n",
       "      <td>...</td>\n",
       "      <td>...</td>\n",
       "    </tr>\n",
       "    <tr>\n",
       "      <th>11210918</th>\n",
       "      <td>2000</td>\n",
       "      <td>12</td>\n",
       "      <td>1</td>\n",
       "      <td>5</td>\n",
       "      <td>705</td>\n",
       "      <td>N639AA</td>\n",
       "      <td>BOS</td>\n",
       "      <td>DFW</td>\n",
       "      <td>613</td>\n",
       "      <td>945</td>\n",
       "      <td>629.0</td>\n",
       "      <td>1006.0</td>\n",
       "      <td>21.0</td>\n",
       "      <td>16.0</td>\n",
       "    </tr>\n",
       "    <tr>\n",
       "      <th>11210925</th>\n",
       "      <td>2000</td>\n",
       "      <td>12</td>\n",
       "      <td>8</td>\n",
       "      <td>5</td>\n",
       "      <td>705</td>\n",
       "      <td>N641AA</td>\n",
       "      <td>BOS</td>\n",
       "      <td>DFW</td>\n",
       "      <td>613</td>\n",
       "      <td>945</td>\n",
       "      <td>620.0</td>\n",
       "      <td>949.0</td>\n",
       "      <td>4.0</td>\n",
       "      <td>7.0</td>\n",
       "    </tr>\n",
       "    <tr>\n",
       "      <th>11210928</th>\n",
       "      <td>2000</td>\n",
       "      <td>12</td>\n",
       "      <td>11</td>\n",
       "      <td>1</td>\n",
       "      <td>705</td>\n",
       "      <td>N638AA</td>\n",
       "      <td>BOS</td>\n",
       "      <td>DFW</td>\n",
       "      <td>613</td>\n",
       "      <td>945</td>\n",
       "      <td>611.0</td>\n",
       "      <td>949.0</td>\n",
       "      <td>4.0</td>\n",
       "      <td>-2.0</td>\n",
       "    </tr>\n",
       "    <tr>\n",
       "      <th>11210929</th>\n",
       "      <td>2000</td>\n",
       "      <td>12</td>\n",
       "      <td>12</td>\n",
       "      <td>2</td>\n",
       "      <td>705</td>\n",
       "      <td>N627AA</td>\n",
       "      <td>BOS</td>\n",
       "      <td>DFW</td>\n",
       "      <td>613</td>\n",
       "      <td>945</td>\n",
       "      <td>613.0</td>\n",
       "      <td>1005.0</td>\n",
       "      <td>20.0</td>\n",
       "      <td>0.0</td>\n",
       "    </tr>\n",
       "    <tr>\n",
       "      <th>11210930</th>\n",
       "      <td>2000</td>\n",
       "      <td>12</td>\n",
       "      <td>13</td>\n",
       "      <td>3</td>\n",
       "      <td>705</td>\n",
       "      <td>N638AA</td>\n",
       "      <td>BOS</td>\n",
       "      <td>DFW</td>\n",
       "      <td>613</td>\n",
       "      <td>945</td>\n",
       "      <td>614.0</td>\n",
       "      <td>948.0</td>\n",
       "      <td>3.0</td>\n",
       "      <td>1.0</td>\n",
       "    </tr>\n",
       "  </tbody>\n",
       "</table>\n",
       "<p>5368210 rows × 14 columns</p>\n",
       "</div>"
      ],
      "text/plain": [
       "          Year  Month  DayofMonth  DayOfWeek  FlightNum TailNum Origin Dest  \\\n",
       "0         1999      1          27          3       1244  N942VJ    RIC  PHL   \n",
       "1         1999      1          28          4       1244  N955VJ    RIC  PHL   \n",
       "3         1999      1          31          7       1244  N912VJ    RIC  PHL   \n",
       "4         1999      1           1          5        297  N935VJ    ROC  PHL   \n",
       "5         1999      1           2          6        297  N980VJ    ROC  PHL   \n",
       "...        ...    ...         ...        ...        ...     ...    ...  ...   \n",
       "11210918  2000     12           1          5        705  N639AA    BOS  DFW   \n",
       "11210925  2000     12           8          5        705  N641AA    BOS  DFW   \n",
       "11210928  2000     12          11          1        705  N638AA    BOS  DFW   \n",
       "11210929  2000     12          12          2        705  N627AA    BOS  DFW   \n",
       "11210930  2000     12          13          3        705  N638AA    BOS  DFW   \n",
       "\n",
       "          CRSDepTime  CRSArrTime  DepTime  ArrTime  ArrDelay  DepDelay  \n",
       "0               1908        2005   1906.0   2024.0      19.0      -2.0  \n",
       "1               1908        2005   2016.0   2126.0      81.0      68.0  \n",
       "3               1908        2005   1932.0   2031.0      26.0      24.0  \n",
       "4               1535        1645   1601.0   1707.0      22.0      26.0  \n",
       "5               1535        1645   1651.0   1829.0     104.0      76.0  \n",
       "...              ...         ...      ...      ...       ...       ...  \n",
       "11210918         613         945    629.0   1006.0      21.0      16.0  \n",
       "11210925         613         945    620.0    949.0       4.0       7.0  \n",
       "11210928         613         945    611.0    949.0       4.0      -2.0  \n",
       "11210929         613         945    613.0   1005.0      20.0       0.0  \n",
       "11210930         613         945    614.0    948.0       3.0       1.0  \n",
       "\n",
       "[5368210 rows x 14 columns]"
      ]
     },
     "execution_count": 7,
     "metadata": {},
     "output_type": "execute_result"
    }
   ],
   "source": [
    "selected_columns = [\"Year\",\n",
    "                    \"Month\",\n",
    "                    \"DayofMonth\",\n",
    "                    \"DayOfWeek\",\n",
    "                    \"FlightNum\",\n",
    "                    \"TailNum\",\n",
    "                    \"Origin\",\n",
    "                    \"Dest\",\n",
    "                    \"CRSDepTime\",\n",
    "                    \"CRSArrTime\",\n",
    "                    \"DepTime\",\n",
    "                    \"ArrTime\",\n",
    "                    \"ArrDelay\",\n",
    "                    \"DepDelay\"]\n",
    "flightdb = dataset_modified.loc[(dataset_modified.Cancelled == 0) \n",
    "                                    & (dataset_modified.Diverted == 0)\n",
    "                                    & (dataset_modified.ArrDelay > 0),selected_columns]\n",
    "flightdb\n"
   ]
  },
  {
   "cell_type": "code",
   "execution_count": 8,
   "metadata": {},
   "outputs": [
    {
     "data": {
      "text/plain": [
       "Year          0\n",
       "Month         0\n",
       "DayofMonth    0\n",
       "DayOfWeek     0\n",
       "FlightNum     0\n",
       "TailNum       0\n",
       "Origin        0\n",
       "Dest          0\n",
       "CRSDepTime    0\n",
       "CRSArrTime    0\n",
       "DepTime       0\n",
       "ArrTime       0\n",
       "ArrDelay      0\n",
       "DepDelay      0\n",
       "dtype: int64"
      ]
     },
     "execution_count": 8,
     "metadata": {},
     "output_type": "execute_result"
    }
   ],
   "source": [
    "flightdb[selected_columns].isna().sum()"
   ]
  },
  {
   "cell_type": "markdown",
   "metadata": {},
   "source": [
    "## Question 1"
   ]
  },
  {
   "cell_type": "markdown",
   "metadata": {},
   "source": [
    "### The best time of day"
   ]
  },
  {
   "cell_type": "code",
   "execution_count": 9,
   "metadata": {},
   "outputs": [
    {
     "data": {
      "text/html": [
       "<div>\n",
       "<style scoped>\n",
       "    .dataframe tbody tr th:only-of-type {\n",
       "        vertical-align: middle;\n",
       "    }\n",
       "\n",
       "    .dataframe tbody tr th {\n",
       "        vertical-align: top;\n",
       "    }\n",
       "\n",
       "    .dataframe thead th {\n",
       "        text-align: right;\n",
       "    }\n",
       "</style>\n",
       "<table border=\"1\" class=\"dataframe\">\n",
       "  <thead>\n",
       "    <tr style=\"text-align: right;\">\n",
       "      <th></th>\n",
       "      <th>Year</th>\n",
       "      <th>Month</th>\n",
       "      <th>DayofMonth</th>\n",
       "      <th>DayOfWeek</th>\n",
       "      <th>FlightNum</th>\n",
       "      <th>TailNum</th>\n",
       "      <th>Origin</th>\n",
       "      <th>Dest</th>\n",
       "      <th>CRSDepTime</th>\n",
       "      <th>CRSArrTime</th>\n",
       "      <th>DepTime</th>\n",
       "      <th>ArrTime</th>\n",
       "      <th>ArrDelay</th>\n",
       "      <th>DepDelay</th>\n",
       "      <th>Time_Interval</th>\n",
       "    </tr>\n",
       "  </thead>\n",
       "  <tbody>\n",
       "    <tr>\n",
       "      <th>0</th>\n",
       "      <td>1999</td>\n",
       "      <td>1</td>\n",
       "      <td>27</td>\n",
       "      <td>3</td>\n",
       "      <td>1244</td>\n",
       "      <td>N942VJ</td>\n",
       "      <td>RIC</td>\n",
       "      <td>PHL</td>\n",
       "      <td>1908</td>\n",
       "      <td>2005</td>\n",
       "      <td>1906.0</td>\n",
       "      <td>2024.0</td>\n",
       "      <td>19.0</td>\n",
       "      <td>-2.0</td>\n",
       "      <td>4PM - 8PM</td>\n",
       "    </tr>\n",
       "    <tr>\n",
       "      <th>1</th>\n",
       "      <td>1999</td>\n",
       "      <td>1</td>\n",
       "      <td>28</td>\n",
       "      <td>4</td>\n",
       "      <td>1244</td>\n",
       "      <td>N955VJ</td>\n",
       "      <td>RIC</td>\n",
       "      <td>PHL</td>\n",
       "      <td>1908</td>\n",
       "      <td>2005</td>\n",
       "      <td>2016.0</td>\n",
       "      <td>2126.0</td>\n",
       "      <td>81.0</td>\n",
       "      <td>68.0</td>\n",
       "      <td>4PM - 8PM</td>\n",
       "    </tr>\n",
       "    <tr>\n",
       "      <th>3</th>\n",
       "      <td>1999</td>\n",
       "      <td>1</td>\n",
       "      <td>31</td>\n",
       "      <td>7</td>\n",
       "      <td>1244</td>\n",
       "      <td>N912VJ</td>\n",
       "      <td>RIC</td>\n",
       "      <td>PHL</td>\n",
       "      <td>1908</td>\n",
       "      <td>2005</td>\n",
       "      <td>1932.0</td>\n",
       "      <td>2031.0</td>\n",
       "      <td>26.0</td>\n",
       "      <td>24.0</td>\n",
       "      <td>4PM - 8PM</td>\n",
       "    </tr>\n",
       "    <tr>\n",
       "      <th>4</th>\n",
       "      <td>1999</td>\n",
       "      <td>1</td>\n",
       "      <td>1</td>\n",
       "      <td>5</td>\n",
       "      <td>297</td>\n",
       "      <td>N935VJ</td>\n",
       "      <td>ROC</td>\n",
       "      <td>PHL</td>\n",
       "      <td>1535</td>\n",
       "      <td>1645</td>\n",
       "      <td>1601.0</td>\n",
       "      <td>1707.0</td>\n",
       "      <td>22.0</td>\n",
       "      <td>26.0</td>\n",
       "      <td>12PM - 4PM</td>\n",
       "    </tr>\n",
       "    <tr>\n",
       "      <th>5</th>\n",
       "      <td>1999</td>\n",
       "      <td>1</td>\n",
       "      <td>2</td>\n",
       "      <td>6</td>\n",
       "      <td>297</td>\n",
       "      <td>N980VJ</td>\n",
       "      <td>ROC</td>\n",
       "      <td>PHL</td>\n",
       "      <td>1535</td>\n",
       "      <td>1645</td>\n",
       "      <td>1651.0</td>\n",
       "      <td>1829.0</td>\n",
       "      <td>104.0</td>\n",
       "      <td>76.0</td>\n",
       "      <td>12PM - 4PM</td>\n",
       "    </tr>\n",
       "    <tr>\n",
       "      <th>...</th>\n",
       "      <td>...</td>\n",
       "      <td>...</td>\n",
       "      <td>...</td>\n",
       "      <td>...</td>\n",
       "      <td>...</td>\n",
       "      <td>...</td>\n",
       "      <td>...</td>\n",
       "      <td>...</td>\n",
       "      <td>...</td>\n",
       "      <td>...</td>\n",
       "      <td>...</td>\n",
       "      <td>...</td>\n",
       "      <td>...</td>\n",
       "      <td>...</td>\n",
       "      <td>...</td>\n",
       "    </tr>\n",
       "    <tr>\n",
       "      <th>11210918</th>\n",
       "      <td>2000</td>\n",
       "      <td>12</td>\n",
       "      <td>1</td>\n",
       "      <td>5</td>\n",
       "      <td>705</td>\n",
       "      <td>N639AA</td>\n",
       "      <td>BOS</td>\n",
       "      <td>DFW</td>\n",
       "      <td>613</td>\n",
       "      <td>945</td>\n",
       "      <td>629.0</td>\n",
       "      <td>1006.0</td>\n",
       "      <td>21.0</td>\n",
       "      <td>16.0</td>\n",
       "      <td>4AM - 8AM</td>\n",
       "    </tr>\n",
       "    <tr>\n",
       "      <th>11210925</th>\n",
       "      <td>2000</td>\n",
       "      <td>12</td>\n",
       "      <td>8</td>\n",
       "      <td>5</td>\n",
       "      <td>705</td>\n",
       "      <td>N641AA</td>\n",
       "      <td>BOS</td>\n",
       "      <td>DFW</td>\n",
       "      <td>613</td>\n",
       "      <td>945</td>\n",
       "      <td>620.0</td>\n",
       "      <td>949.0</td>\n",
       "      <td>4.0</td>\n",
       "      <td>7.0</td>\n",
       "      <td>4AM - 8AM</td>\n",
       "    </tr>\n",
       "    <tr>\n",
       "      <th>11210928</th>\n",
       "      <td>2000</td>\n",
       "      <td>12</td>\n",
       "      <td>11</td>\n",
       "      <td>1</td>\n",
       "      <td>705</td>\n",
       "      <td>N638AA</td>\n",
       "      <td>BOS</td>\n",
       "      <td>DFW</td>\n",
       "      <td>613</td>\n",
       "      <td>945</td>\n",
       "      <td>611.0</td>\n",
       "      <td>949.0</td>\n",
       "      <td>4.0</td>\n",
       "      <td>-2.0</td>\n",
       "      <td>4AM - 8AM</td>\n",
       "    </tr>\n",
       "    <tr>\n",
       "      <th>11210929</th>\n",
       "      <td>2000</td>\n",
       "      <td>12</td>\n",
       "      <td>12</td>\n",
       "      <td>2</td>\n",
       "      <td>705</td>\n",
       "      <td>N627AA</td>\n",
       "      <td>BOS</td>\n",
       "      <td>DFW</td>\n",
       "      <td>613</td>\n",
       "      <td>945</td>\n",
       "      <td>613.0</td>\n",
       "      <td>1005.0</td>\n",
       "      <td>20.0</td>\n",
       "      <td>0.0</td>\n",
       "      <td>4AM - 8AM</td>\n",
       "    </tr>\n",
       "    <tr>\n",
       "      <th>11210930</th>\n",
       "      <td>2000</td>\n",
       "      <td>12</td>\n",
       "      <td>13</td>\n",
       "      <td>3</td>\n",
       "      <td>705</td>\n",
       "      <td>N638AA</td>\n",
       "      <td>BOS</td>\n",
       "      <td>DFW</td>\n",
       "      <td>613</td>\n",
       "      <td>945</td>\n",
       "      <td>614.0</td>\n",
       "      <td>948.0</td>\n",
       "      <td>3.0</td>\n",
       "      <td>1.0</td>\n",
       "      <td>4AM - 8AM</td>\n",
       "    </tr>\n",
       "  </tbody>\n",
       "</table>\n",
       "<p>5368210 rows × 15 columns</p>\n",
       "</div>"
      ],
      "text/plain": [
       "          Year  Month  DayofMonth  DayOfWeek  FlightNum TailNum Origin Dest  \\\n",
       "0         1999      1          27          3       1244  N942VJ    RIC  PHL   \n",
       "1         1999      1          28          4       1244  N955VJ    RIC  PHL   \n",
       "3         1999      1          31          7       1244  N912VJ    RIC  PHL   \n",
       "4         1999      1           1          5        297  N935VJ    ROC  PHL   \n",
       "5         1999      1           2          6        297  N980VJ    ROC  PHL   \n",
       "...        ...    ...         ...        ...        ...     ...    ...  ...   \n",
       "11210918  2000     12           1          5        705  N639AA    BOS  DFW   \n",
       "11210925  2000     12           8          5        705  N641AA    BOS  DFW   \n",
       "11210928  2000     12          11          1        705  N638AA    BOS  DFW   \n",
       "11210929  2000     12          12          2        705  N627AA    BOS  DFW   \n",
       "11210930  2000     12          13          3        705  N638AA    BOS  DFW   \n",
       "\n",
       "          CRSDepTime  CRSArrTime  DepTime  ArrTime  ArrDelay  DepDelay  \\\n",
       "0               1908        2005   1906.0   2024.0      19.0      -2.0   \n",
       "1               1908        2005   2016.0   2126.0      81.0      68.0   \n",
       "3               1908        2005   1932.0   2031.0      26.0      24.0   \n",
       "4               1535        1645   1601.0   1707.0      22.0      26.0   \n",
       "5               1535        1645   1651.0   1829.0     104.0      76.0   \n",
       "...              ...         ...      ...      ...       ...       ...   \n",
       "11210918         613         945    629.0   1006.0      21.0      16.0   \n",
       "11210925         613         945    620.0    949.0       4.0       7.0   \n",
       "11210928         613         945    611.0    949.0       4.0      -2.0   \n",
       "11210929         613         945    613.0   1005.0      20.0       0.0   \n",
       "11210930         613         945    614.0    948.0       3.0       1.0   \n",
       "\n",
       "         Time_Interval  \n",
       "0            4PM - 8PM  \n",
       "1            4PM - 8PM  \n",
       "3            4PM - 8PM  \n",
       "4           12PM - 4PM  \n",
       "5           12PM - 4PM  \n",
       "...                ...  \n",
       "11210918     4AM - 8AM  \n",
       "11210925     4AM - 8AM  \n",
       "11210928     4AM - 8AM  \n",
       "11210929     4AM - 8AM  \n",
       "11210930     4AM - 8AM  \n",
       "\n",
       "[5368210 rows x 15 columns]"
      ]
     },
     "execution_count": 9,
     "metadata": {},
     "output_type": "execute_result"
    }
   ],
   "source": [
    "def TimeDivide(time):\n",
    "    if time < 401:\n",
    "        return \"0AM - 4AM\"\n",
    "    elif time < 801:\n",
    "        return \"4AM - 8AM\"\n",
    "    elif time < 1201:\n",
    "        return \"8AM - 12PM\"\n",
    "    elif time < 1601:\n",
    "        return \"12PM - 4PM\"\n",
    "    elif time < 2001:\n",
    "        return \"4PM - 8PM\"\n",
    "    elif time < 2401:\n",
    "        return \"8PM - 12AM\"\n",
    "    else:\n",
    "        return \"0AM - 4AM\"\n",
    "TimeInterval = []\n",
    "for i in flightdb.CRSDepTime:\n",
    "    TimeInterval.append(TimeDivide(i))\n",
    "flightdb[\"Time_Interval\"] = TimeInterval\n",
    "flightdb\n"
   ]
  },
  {
   "cell_type": "code",
   "execution_count": 10,
   "metadata": {},
   "outputs": [
    {
     "data": {
      "text/html": [
       "<div>\n",
       "<style scoped>\n",
       "    .dataframe tbody tr th:only-of-type {\n",
       "        vertical-align: middle;\n",
       "    }\n",
       "\n",
       "    .dataframe tbody tr th {\n",
       "        vertical-align: top;\n",
       "    }\n",
       "\n",
       "    .dataframe thead th {\n",
       "        text-align: right;\n",
       "    }\n",
       "</style>\n",
       "<table border=\"1\" class=\"dataframe\">\n",
       "  <thead>\n",
       "    <tr style=\"text-align: right;\">\n",
       "      <th></th>\n",
       "      <th>Time_Interval</th>\n",
       "      <th>Avg_delay</th>\n",
       "      <th>Total_delay</th>\n",
       "    </tr>\n",
       "  </thead>\n",
       "  <tbody>\n",
       "    <tr>\n",
       "      <th>2</th>\n",
       "      <td>4AM - 8AM</td>\n",
       "      <td>18.102210</td>\n",
       "      <td>11257674.0</td>\n",
       "    </tr>\n",
       "    <tr>\n",
       "      <th>4</th>\n",
       "      <td>8AM - 12PM</td>\n",
       "      <td>22.161595</td>\n",
       "      <td>27241011.0</td>\n",
       "    </tr>\n",
       "    <tr>\n",
       "      <th>0</th>\n",
       "      <td>0AM - 4AM</td>\n",
       "      <td>27.370159</td>\n",
       "      <td>3476366.0</td>\n",
       "    </tr>\n",
       "    <tr>\n",
       "      <th>1</th>\n",
       "      <td>12PM - 4PM</td>\n",
       "      <td>27.657947</td>\n",
       "      <td>37641691.0</td>\n",
       "    </tr>\n",
       "    <tr>\n",
       "      <th>5</th>\n",
       "      <td>8PM - 12AM</td>\n",
       "      <td>32.324973</td>\n",
       "      <td>19924305.0</td>\n",
       "    </tr>\n",
       "    <tr>\n",
       "      <th>3</th>\n",
       "      <td>4PM - 8PM</td>\n",
       "      <td>34.188732</td>\n",
       "      <td>48300336.0</td>\n",
       "    </tr>\n",
       "  </tbody>\n",
       "</table>\n",
       "</div>"
      ],
      "text/plain": [
       "  Time_Interval  Avg_delay  Total_delay\n",
       "2     4AM - 8AM  18.102210   11257674.0\n",
       "4    8AM - 12PM  22.161595   27241011.0\n",
       "0     0AM - 4AM  27.370159    3476366.0\n",
       "1    12PM - 4PM  27.657947   37641691.0\n",
       "5    8PM - 12AM  32.324973   19924305.0\n",
       "3     4PM - 8PM  34.188732   48300336.0"
      ]
     },
     "execution_count": 10,
     "metadata": {},
     "output_type": "execute_result"
    }
   ],
   "source": [
    "TimeOfDay = flightdb.groupby(\"Time_Interval\").ArrDelay.agg(['mean', 'sum']).reset_index()\n",
    "TimeOfDay.rename(columns = {'mean':'Avg_delay', 'sum':'Total_delay'}, inplace = True)\n",
    "TimeOfDay.sort_values(\"Avg_delay\")"
   ]
  },
  {
   "cell_type": "code",
   "execution_count": 11,
   "metadata": {},
   "outputs": [
    {
     "data": {
      "text/plain": [
       "<AxesSubplot:title={'center':'The average delay per time frames'}, xlabel='Time_Interval'>"
      ]
     },
     "execution_count": 11,
     "metadata": {},
     "output_type": "execute_result"
    },
    {
     "data": {
      "image/png": "[encoded data removed]",
      "text/plain": [
       "<Figure size 432x288 with 1 Axes>"
      ]
     },
     "metadata": {
      "needs_background": "light"
     },
     "output_type": "display_data"
    }
   ],
   "source": [
    "df_mapping = pd.DataFrame({\n",
    "    'timeinterval': ['0AM - 4AM', '4AM - 8AM', '8AM - 12PM', '12PM - 4PM', '4PM - 8PM',\"8PM - 12AM\"],\n",
    "})\n",
    "sort_mapping = df_mapping.reset_index().set_index('timeinterval')\n",
    "TimeOfDay['timeinterval_index'] = TimeOfDay['Time_Interval'].map(sort_mapping['index'])\n",
    "TimeOfDay.sort_values('timeinterval_index').plot.bar(x = \"Time_Interval\", y = \"Avg_delay\", rot=70, title=\"The average delay per time frames\")"
   ]
  },
  {
   "cell_type": "markdown",
   "metadata": {},
   "source": [
    "### The best day of week"
   ]
  },
  {
   "cell_type": "code",
   "execution_count": 12,
   "metadata": {},
   "outputs": [
    {
     "data": {
      "text/html": [
       "<div>\n",
       "<style scoped>\n",
       "    .dataframe tbody tr th:only-of-type {\n",
       "        vertical-align: middle;\n",
       "    }\n",
       "\n",
       "    .dataframe tbody tr th {\n",
       "        vertical-align: top;\n",
       "    }\n",
       "\n",
       "    .dataframe thead th {\n",
       "        text-align: right;\n",
       "    }\n",
       "</style>\n",
       "<table border=\"1\" class=\"dataframe\">\n",
       "  <thead>\n",
       "    <tr style=\"text-align: right;\">\n",
       "      <th></th>\n",
       "      <th>DayOfWeek</th>\n",
       "      <th>Avg_delay</th>\n",
       "    </tr>\n",
       "  </thead>\n",
       "  <tbody>\n",
       "    <tr>\n",
       "      <th>1</th>\n",
       "      <td>2</td>\n",
       "      <td>24.825967</td>\n",
       "    </tr>\n",
       "    <tr>\n",
       "      <th>5</th>\n",
       "      <td>6</td>\n",
       "      <td>25.989915</td>\n",
       "    </tr>\n",
       "    <tr>\n",
       "      <th>2</th>\n",
       "      <td>3</td>\n",
       "      <td>26.345413</td>\n",
       "    </tr>\n",
       "    <tr>\n",
       "      <th>0</th>\n",
       "      <td>1</td>\n",
       "      <td>26.654220</td>\n",
       "    </tr>\n",
       "    <tr>\n",
       "      <th>6</th>\n",
       "      <td>7</td>\n",
       "      <td>28.431899</td>\n",
       "    </tr>\n",
       "    <tr>\n",
       "      <th>3</th>\n",
       "      <td>4</td>\n",
       "      <td>28.629192</td>\n",
       "    </tr>\n",
       "    <tr>\n",
       "      <th>4</th>\n",
       "      <td>5</td>\n",
       "      <td>30.884425</td>\n",
       "    </tr>\n",
       "  </tbody>\n",
       "</table>\n",
       "</div>"
      ],
      "text/plain": [
       "   DayOfWeek  Avg_delay\n",
       "1          2  24.825967\n",
       "5          6  25.989915\n",
       "2          3  26.345413\n",
       "0          1  26.654220\n",
       "6          7  28.431899\n",
       "3          4  28.629192\n",
       "4          5  30.884425"
      ]
     },
     "execution_count": 12,
     "metadata": {},
     "output_type": "execute_result"
    }
   ],
   "source": [
    "DayWeek = flightdb.groupby(\"DayOfWeek\").agg({'ArrDelay':'mean'}).reset_index()\n",
    "DayWeek.rename(columns = {'ArrDelay':'Avg_delay'}, inplace = True)\n",
    "DayWeek.sort_values(\"Avg_delay\")"
   ]
  },
  {
   "cell_type": "code",
   "execution_count": 13,
   "metadata": {},
   "outputs": [
    {
     "data": {
      "text/plain": [
       "<AxesSubplot:title={'center':'The average delay per day of week'}, xlabel='day_week'>"
      ]
     },
     "execution_count": 13,
     "metadata": {},
     "output_type": "execute_result"
    },
    {
     "data": {
      "image/png": "[encoded data removed]",
      "text/plain": [
       "<Figure size 432x288 with 1 Axes>"
      ]
     },
     "metadata": {
      "needs_background": "light"
     },
     "output_type": "display_data"
    }
   ],
   "source": [
    "name_day_of_week = pd.DataFrame({\n",
    "    'day_week': ['Mon', 'Tue', 'Wed', 'Thu', 'Fri',\"Sat\", \"Sun\"],\n",
    "    'num': [1, 2, 3, 4, 5, 6, 7]\n",
    "})\n",
    "DayWeek_plot = DayWeek.join(name_day_of_week)\n",
    "DayWeek_plot.plot.bar(x = \"day_week\", y = \"Avg_delay\", rot=0, title=\"The average delay per day of week\")"
   ]
  },
  {
   "cell_type": "markdown",
   "metadata": {},
   "source": [
    "### The best time of year"
   ]
  },
  {
   "cell_type": "code",
   "execution_count": 14,
   "metadata": {},
   "outputs": [
    {
     "data": {
      "text/html": [
       "<div>\n",
       "<style scoped>\n",
       "    .dataframe tbody tr th:only-of-type {\n",
       "        vertical-align: middle;\n",
       "    }\n",
       "\n",
       "    .dataframe tbody tr th {\n",
       "        vertical-align: top;\n",
       "    }\n",
       "\n",
       "    .dataframe thead th {\n",
       "        text-align: right;\n",
       "    }\n",
       "</style>\n",
       "<table border=\"1\" class=\"dataframe\">\n",
       "  <thead>\n",
       "    <tr style=\"text-align: right;\">\n",
       "      <th></th>\n",
       "      <th>Month</th>\n",
       "      <th>Avg_delay</th>\n",
       "    </tr>\n",
       "  </thead>\n",
       "  <tbody>\n",
       "    <tr>\n",
       "      <th>9</th>\n",
       "      <td>10</td>\n",
       "      <td>23.626813</td>\n",
       "    </tr>\n",
       "    <tr>\n",
       "      <th>8</th>\n",
       "      <td>9</td>\n",
       "      <td>24.011412</td>\n",
       "    </tr>\n",
       "    <tr>\n",
       "      <th>10</th>\n",
       "      <td>11</td>\n",
       "      <td>24.343317</td>\n",
       "    </tr>\n",
       "    <tr>\n",
       "      <th>1</th>\n",
       "      <td>2</td>\n",
       "      <td>24.817798</td>\n",
       "    </tr>\n",
       "    <tr>\n",
       "      <th>2</th>\n",
       "      <td>3</td>\n",
       "      <td>25.150175</td>\n",
       "    </tr>\n",
       "    <tr>\n",
       "      <th>3</th>\n",
       "      <td>4</td>\n",
       "      <td>26.233410</td>\n",
       "    </tr>\n",
       "    <tr>\n",
       "      <th>7</th>\n",
       "      <td>8</td>\n",
       "      <td>28.375577</td>\n",
       "    </tr>\n",
       "    <tr>\n",
       "      <th>11</th>\n",
       "      <td>12</td>\n",
       "      <td>28.606778</td>\n",
       "    </tr>\n",
       "    <tr>\n",
       "      <th>4</th>\n",
       "      <td>5</td>\n",
       "      <td>29.204385</td>\n",
       "    </tr>\n",
       "    <tr>\n",
       "      <th>0</th>\n",
       "      <td>1</td>\n",
       "      <td>29.231795</td>\n",
       "    </tr>\n",
       "    <tr>\n",
       "      <th>6</th>\n",
       "      <td>7</td>\n",
       "      <td>31.794149</td>\n",
       "    </tr>\n",
       "    <tr>\n",
       "      <th>5</th>\n",
       "      <td>6</td>\n",
       "      <td>32.865580</td>\n",
       "    </tr>\n",
       "  </tbody>\n",
       "</table>\n",
       "</div>"
      ],
      "text/plain": [
       "    Month  Avg_delay\n",
       "9      10  23.626813\n",
       "8       9  24.011412\n",
       "10     11  24.343317\n",
       "1       2  24.817798\n",
       "2       3  25.150175\n",
       "3       4  26.233410\n",
       "7       8  28.375577\n",
       "11     12  28.606778\n",
       "4       5  29.204385\n",
       "0       1  29.231795\n",
       "6       7  31.794149\n",
       "5       6  32.865580"
      ]
     },
     "execution_count": 14,
     "metadata": {},
     "output_type": "execute_result"
    }
   ],
   "source": [
    "TimeOfYear = flightdb.groupby(\"Month\").agg({'ArrDelay':'mean'}).reset_index()\n",
    "TimeOfYear.rename(columns = {'ArrDelay':'Avg_delay'}, inplace = True)\n",
    "TimeOfYear.sort_values(\"Avg_delay\")"
   ]
  },
  {
   "cell_type": "code",
   "execution_count": 15,
   "metadata": {},
   "outputs": [
    {
     "data": {
      "text/plain": [
       "<AxesSubplot:title={'center':'The average delay per months'}, xlabel='month'>"
      ]
     },
     "execution_count": 15,
     "metadata": {},
     "output_type": "execute_result"
    },
    {
     "data": {
      "image/png": "[encoded data removed]",
      "text/plain": [
       "<Figure size 432x288 with 1 Axes>"
      ]
     },
     "metadata": {
      "needs_background": "light"
     },
     "output_type": "display_data"
    }
   ],
   "source": [
    "name_day_of_month = pd.DataFrame({\n",
    "    'month': ['Jan', 'Feb', 'Mar', 'Apr', 'May',\"Jun\", \"July\",\"Aug\",\"Sep\",\"Oct\",\"Nov\",\"Dec\"],\n",
    "    'num': [1, 2, 3, 4, 5, 6, 7,8,9,10,11,12]\n",
    "})\n",
    "TimeOfYear_plot = TimeOfYear.join(name_day_of_month)\n",
    "TimeOfYear_plot.plot.bar(x = \"month\", y = \"Avg_delay\", rot=0, title=\"The average delay per months\")"
   ]
  },
  {
   "cell_type": "markdown",
   "metadata": {},
   "source": [
    "## Question 2"
   ]
  },
  {
   "cell_type": "code",
   "execution_count": 16,
   "metadata": {},
   "outputs": [
    {
     "name": "stderr",
     "output_type": "stream",
     "text": [
      "/var/folders/hh/1gnlnf013m3b1z0ggw9jmxhw0000gn/T/ipykernel_73306/2981175436.py:1: UserWarning: Boolean Series key will be reindexed to match DataFrame index.\n",
      "  plane_data_modified = plane_data.dropna()[plane_data.year < \"2001\"]\n"
     ]
    },
    {
     "data": {
      "text/html": [
       "<div>\n",
       "<style scoped>\n",
       "    .dataframe tbody tr th:only-of-type {\n",
       "        vertical-align: middle;\n",
       "    }\n",
       "\n",
       "    .dataframe tbody tr th {\n",
       "        vertical-align: top;\n",
       "    }\n",
       "\n",
       "    .dataframe thead th {\n",
       "        text-align: right;\n",
       "    }\n",
       "</style>\n",
       "<table border=\"1\" class=\"dataframe\">\n",
       "  <thead>\n",
       "    <tr style=\"text-align: right;\">\n",
       "      <th></th>\n",
       "      <th>tailnum</th>\n",
       "      <th>type</th>\n",
       "      <th>manufacturer</th>\n",
       "      <th>issue_date</th>\n",
       "      <th>model</th>\n",
       "      <th>status</th>\n",
       "      <th>aircraft_type</th>\n",
       "      <th>engine_type</th>\n",
       "      <th>year</th>\n",
       "    </tr>\n",
       "  </thead>\n",
       "  <tbody>\n",
       "    <tr>\n",
       "      <th>35</th>\n",
       "      <td>N102UW</td>\n",
       "      <td>Corporation</td>\n",
       "      <td>AIRBUS INDUSTRIE</td>\n",
       "      <td>05/26/1999</td>\n",
       "      <td>A320-214</td>\n",
       "      <td>Valid</td>\n",
       "      <td>Fixed Wing Multi-Engine</td>\n",
       "      <td>Turbo-Fan</td>\n",
       "      <td>1998</td>\n",
       "    </tr>\n",
       "    <tr>\n",
       "      <th>36</th>\n",
       "      <td>N10323</td>\n",
       "      <td>Corporation</td>\n",
       "      <td>BOEING</td>\n",
       "      <td>07/01/1997</td>\n",
       "      <td>737-3TO</td>\n",
       "      <td>Valid</td>\n",
       "      <td>Fixed Wing Multi-Engine</td>\n",
       "      <td>Turbo-Jet</td>\n",
       "      <td>1986</td>\n",
       "    </tr>\n",
       "    <tr>\n",
       "      <th>37</th>\n",
       "      <td>N103US</td>\n",
       "      <td>Corporation</td>\n",
       "      <td>AIRBUS INDUSTRIE</td>\n",
       "      <td>06/18/1999</td>\n",
       "      <td>A320-214</td>\n",
       "      <td>Valid</td>\n",
       "      <td>Fixed Wing Multi-Engine</td>\n",
       "      <td>Turbo-Fan</td>\n",
       "      <td>1999</td>\n",
       "    </tr>\n",
       "    <tr>\n",
       "      <th>38</th>\n",
       "      <td>N104UA</td>\n",
       "      <td>Corporation</td>\n",
       "      <td>BOEING</td>\n",
       "      <td>01/26/1998</td>\n",
       "      <td>747-422</td>\n",
       "      <td>Valid</td>\n",
       "      <td>Fixed Wing Multi-Engine</td>\n",
       "      <td>Turbo-Fan</td>\n",
       "      <td>1998</td>\n",
       "    </tr>\n",
       "    <tr>\n",
       "      <th>39</th>\n",
       "      <td>N104UW</td>\n",
       "      <td>Corporation</td>\n",
       "      <td>AIRBUS INDUSTRIE</td>\n",
       "      <td>07/02/1999</td>\n",
       "      <td>A320-214</td>\n",
       "      <td>Valid</td>\n",
       "      <td>Fixed Wing Multi-Engine</td>\n",
       "      <td>Turbo-Fan</td>\n",
       "      <td>1999</td>\n",
       "    </tr>\n",
       "    <tr>\n",
       "      <th>...</th>\n",
       "      <td>...</td>\n",
       "      <td>...</td>\n",
       "      <td>...</td>\n",
       "      <td>...</td>\n",
       "      <td>...</td>\n",
       "      <td>...</td>\n",
       "      <td>...</td>\n",
       "      <td>...</td>\n",
       "      <td>...</td>\n",
       "    </tr>\n",
       "    <tr>\n",
       "      <th>5022</th>\n",
       "      <td>N996DL</td>\n",
       "      <td>Corporation</td>\n",
       "      <td>MCDONNELL DOUGLAS AIRCRAFT CO</td>\n",
       "      <td>02/27/1992</td>\n",
       "      <td>MD-88</td>\n",
       "      <td>Valid</td>\n",
       "      <td>Fixed Wing Multi-Engine</td>\n",
       "      <td>Turbo-Fan</td>\n",
       "      <td>1991</td>\n",
       "    </tr>\n",
       "    <tr>\n",
       "      <th>5024</th>\n",
       "      <td>N997DL</td>\n",
       "      <td>Corporation</td>\n",
       "      <td>MCDONNELL DOUGLAS AIRCRAFT CO</td>\n",
       "      <td>03/11/1992</td>\n",
       "      <td>MD-88</td>\n",
       "      <td>Valid</td>\n",
       "      <td>Fixed Wing Multi-Engine</td>\n",
       "      <td>Turbo-Fan</td>\n",
       "      <td>1992</td>\n",
       "    </tr>\n",
       "    <tr>\n",
       "      <th>5026</th>\n",
       "      <td>N998DL</td>\n",
       "      <td>Corporation</td>\n",
       "      <td>MCDONNELL DOUGLAS CORPORATION</td>\n",
       "      <td>04/02/1992</td>\n",
       "      <td>MD-88</td>\n",
       "      <td>Valid</td>\n",
       "      <td>Fixed Wing Multi-Engine</td>\n",
       "      <td>Turbo-Jet</td>\n",
       "      <td>1992</td>\n",
       "    </tr>\n",
       "    <tr>\n",
       "      <th>5027</th>\n",
       "      <td>N999CA</td>\n",
       "      <td>Foreign Corporation</td>\n",
       "      <td>CANADAIR</td>\n",
       "      <td>07/09/2008</td>\n",
       "      <td>CL-600-2B19</td>\n",
       "      <td>Valid</td>\n",
       "      <td>Fixed Wing Multi-Engine</td>\n",
       "      <td>Turbo-Jet</td>\n",
       "      <td>1998</td>\n",
       "    </tr>\n",
       "    <tr>\n",
       "      <th>5028</th>\n",
       "      <td>N999DN</td>\n",
       "      <td>Corporation</td>\n",
       "      <td>MCDONNELL DOUGLAS CORPORATION</td>\n",
       "      <td>04/02/1992</td>\n",
       "      <td>MD-88</td>\n",
       "      <td>Valid</td>\n",
       "      <td>Fixed Wing Multi-Engine</td>\n",
       "      <td>Turbo-Jet</td>\n",
       "      <td>1992</td>\n",
       "    </tr>\n",
       "  </tbody>\n",
       "</table>\n",
       "<p>2645 rows × 9 columns</p>\n",
       "</div>"
      ],
      "text/plain": [
       "     tailnum                 type                   manufacturer  issue_date  \\\n",
       "35    N102UW          Corporation               AIRBUS INDUSTRIE  05/26/1999   \n",
       "36    N10323          Corporation                         BOEING  07/01/1997   \n",
       "37    N103US          Corporation               AIRBUS INDUSTRIE  06/18/1999   \n",
       "38    N104UA          Corporation                         BOEING  01/26/1998   \n",
       "39    N104UW          Corporation               AIRBUS INDUSTRIE  07/02/1999   \n",
       "...      ...                  ...                            ...         ...   \n",
       "5022  N996DL          Corporation  MCDONNELL DOUGLAS AIRCRAFT CO  02/27/1992   \n",
       "5024  N997DL          Corporation  MCDONNELL DOUGLAS AIRCRAFT CO  03/11/1992   \n",
       "5026  N998DL          Corporation  MCDONNELL DOUGLAS CORPORATION  04/02/1992   \n",
       "5027  N999CA  Foreign Corporation                       CANADAIR  07/09/2008   \n",
       "5028  N999DN          Corporation  MCDONNELL DOUGLAS CORPORATION  04/02/1992   \n",
       "\n",
       "            model status            aircraft_type engine_type  year  \n",
       "35       A320-214  Valid  Fixed Wing Multi-Engine   Turbo-Fan  1998  \n",
       "36        737-3TO  Valid  Fixed Wing Multi-Engine   Turbo-Jet  1986  \n",
       "37       A320-214  Valid  Fixed Wing Multi-Engine   Turbo-Fan  1999  \n",
       "38        747-422  Valid  Fixed Wing Multi-Engine   Turbo-Fan  1998  \n",
       "39       A320-214  Valid  Fixed Wing Multi-Engine   Turbo-Fan  1999  \n",
       "...           ...    ...                      ...         ...   ...  \n",
       "5022        MD-88  Valid  Fixed Wing Multi-Engine   Turbo-Fan  1991  \n",
       "5024        MD-88  Valid  Fixed Wing Multi-Engine   Turbo-Fan  1992  \n",
       "5026        MD-88  Valid  Fixed Wing Multi-Engine   Turbo-Jet  1992  \n",
       "5027  CL-600-2B19  Valid  Fixed Wing Multi-Engine   Turbo-Jet  1998  \n",
       "5028        MD-88  Valid  Fixed Wing Multi-Engine   Turbo-Jet  1992  \n",
       "\n",
       "[2645 rows x 9 columns]"
      ]
     },
     "execution_count": 16,
     "metadata": {},
     "output_type": "execute_result"
    }
   ],
   "source": [
    "plane_data_modified = plane_data.dropna()[plane_data.year < \"2001\"]\n",
    "plane_data_modified\n"
   ]
  },
  {
   "cell_type": "code",
   "execution_count": 17,
   "metadata": {},
   "outputs": [
    {
     "data": {
      "text/html": [
       "<div>\n",
       "<style scoped>\n",
       "    .dataframe tbody tr th:only-of-type {\n",
       "        vertical-align: middle;\n",
       "    }\n",
       "\n",
       "    .dataframe tbody tr th {\n",
       "        vertical-align: top;\n",
       "    }\n",
       "\n",
       "    .dataframe thead th {\n",
       "        text-align: right;\n",
       "    }\n",
       "</style>\n",
       "<table border=\"1\" class=\"dataframe\">\n",
       "  <thead>\n",
       "    <tr style=\"text-align: right;\">\n",
       "      <th></th>\n",
       "      <th>year</th>\n",
       "      <th>avg_delay</th>\n",
       "      <th>num_of_delay</th>\n",
       "    </tr>\n",
       "  </thead>\n",
       "  <tbody>\n",
       "    <tr>\n",
       "      <th>0</th>\n",
       "      <td>1956</td>\n",
       "      <td>40.949239</td>\n",
       "      <td>197</td>\n",
       "    </tr>\n",
       "    <tr>\n",
       "      <th>11</th>\n",
       "      <td>1972</td>\n",
       "      <td>33.732984</td>\n",
       "      <td>191</td>\n",
       "    </tr>\n",
       "    <tr>\n",
       "      <th>4</th>\n",
       "      <td>1964</td>\n",
       "      <td>32.092308</td>\n",
       "      <td>1170</td>\n",
       "    </tr>\n",
       "    <tr>\n",
       "      <th>20</th>\n",
       "      <td>1982</td>\n",
       "      <td>30.568230</td>\n",
       "      <td>2367</td>\n",
       "    </tr>\n",
       "    <tr>\n",
       "      <th>1</th>\n",
       "      <td>1959</td>\n",
       "      <td>30.537427</td>\n",
       "      <td>2231</td>\n",
       "    </tr>\n",
       "    <tr>\n",
       "      <th>2</th>\n",
       "      <td>1962</td>\n",
       "      <td>29.792779</td>\n",
       "      <td>1274</td>\n",
       "    </tr>\n",
       "    <tr>\n",
       "      <th>27</th>\n",
       "      <td>1989</td>\n",
       "      <td>29.484844</td>\n",
       "      <td>169409</td>\n",
       "    </tr>\n",
       "    <tr>\n",
       "      <th>13</th>\n",
       "      <td>1974</td>\n",
       "      <td>29.410000</td>\n",
       "      <td>1400</td>\n",
       "    </tr>\n",
       "    <tr>\n",
       "      <th>3</th>\n",
       "      <td>1963</td>\n",
       "      <td>28.767626</td>\n",
       "      <td>1390</td>\n",
       "    </tr>\n",
       "    <tr>\n",
       "      <th>28</th>\n",
       "      <td>1990</td>\n",
       "      <td>28.668646</td>\n",
       "      <td>198899</td>\n",
       "    </tr>\n",
       "  </tbody>\n",
       "</table>\n",
       "</div>"
      ],
      "text/plain": [
       "    year  avg_delay  num_of_delay\n",
       "0   1956  40.949239           197\n",
       "11  1972  33.732984           191\n",
       "4   1964  32.092308          1170\n",
       "20  1982  30.568230          2367\n",
       "1   1959  30.537427          2231\n",
       "2   1962  29.792779          1274\n",
       "27  1989  29.484844        169409\n",
       "13  1974  29.410000          1400\n",
       "3   1963  28.767626          1390\n",
       "28  1990  28.668646        198899"
      ]
     },
     "execution_count": 17,
     "metadata": {},
     "output_type": "execute_result"
    }
   ],
   "source": [
    "q2 = pd.merge(flightdb, plane_data_modified, how = 'inner',left_on='TailNum',right_on='tailnum')\n",
    "q2_modified = q2.groupby('year')['ArrDelay'].agg(['mean','count']).reset_index()\n",
    "q2_modified.rename(columns = {'mean':'avg_delay','count': 'num_of_delay'}, inplace = True)\n",
    "q2_modified.sort_values('avg_delay', ascending= False).head(10)"
   ]
  },
  {
   "cell_type": "code",
   "execution_count": 18,
   "metadata": {},
   "outputs": [
    {
     "data": {
      "text/plain": [
       "<AxesSubplot:xlabel='year', ylabel='num_of_delay'>"
      ]
     },
     "execution_count": 18,
     "metadata": {},
     "output_type": "execute_result"
    },
    {
     "data": {
      "image/png": "[encoded data removed]",
      "text/plain": [
       "<Figure size 1080x288 with 2 Axes>"
      ]
     },
     "metadata": {
      "needs_background": "light"
     },
     "output_type": "display_data"
    }
   ],
   "source": [
    "q2_modified.year = pd.to_numeric(q2_modified.year)\n",
    "fig, ax = plt.subplots(ncols = 2, figsize =(15,4))\n",
    "sns.regplot(x = 'year', y ='avg_delay', data = q2_modified, ax = ax[0])\n",
    "sns.regplot(x = 'year', y ='num_of_delay', data = q2_modified, ax = ax[1])"
   ]
  },
  {
   "cell_type": "markdown",
   "metadata": {},
   "source": [
    "## Question 3"
   ]
  },
  {
   "cell_type": "code",
   "execution_count": 35,
   "metadata": {},
   "outputs": [],
   "source": [
    "q3 = pd.merge(dataset_modified, airports, how = 'inner', left_on = 'Dest', right_on = 'iata')"
   ]
  },
  {
   "cell_type": "code",
   "execution_count": 36,
   "metadata": {},
   "outputs": [
    {
     "data": {
      "text/html": [
       "<div>\n",
       "<style scoped>\n",
       "    .dataframe tbody tr th:only-of-type {\n",
       "        vertical-align: middle;\n",
       "    }\n",
       "\n",
       "    .dataframe tbody tr th {\n",
       "        vertical-align: top;\n",
       "    }\n",
       "\n",
       "    .dataframe thead th {\n",
       "        text-align: right;\n",
       "    }\n",
       "</style>\n",
       "<table border=\"1\" class=\"dataframe\">\n",
       "  <thead>\n",
       "    <tr style=\"text-align: right;\">\n",
       "      <th></th>\n",
       "      <th>state</th>\n",
       "      <th>Year</th>\n",
       "      <th>num_of_flights</th>\n",
       "    </tr>\n",
       "  </thead>\n",
       "  <tbody>\n",
       "    <tr>\n",
       "      <th>9</th>\n",
       "      <td>CA</td>\n",
       "      <td>2000</td>\n",
       "      <td>678908</td>\n",
       "    </tr>\n",
       "    <tr>\n",
       "      <th>8</th>\n",
       "      <td>CA</td>\n",
       "      <td>1999</td>\n",
       "      <td>640212</td>\n",
       "    </tr>\n",
       "    <tr>\n",
       "      <th>84</th>\n",
       "      <td>TX</td>\n",
       "      <td>1999</td>\n",
       "      <td>602848</td>\n",
       "    </tr>\n",
       "    <tr>\n",
       "      <th>85</th>\n",
       "      <td>TX</td>\n",
       "      <td>2000</td>\n",
       "      <td>598840</td>\n",
       "    </tr>\n",
       "    <tr>\n",
       "      <th>15</th>\n",
       "      <td>FL</td>\n",
       "      <td>2000</td>\n",
       "      <td>356034</td>\n",
       "    </tr>\n",
       "    <tr>\n",
       "      <th>14</th>\n",
       "      <td>FL</td>\n",
       "      <td>1999</td>\n",
       "      <td>341644</td>\n",
       "    </tr>\n",
       "    <tr>\n",
       "      <th>24</th>\n",
       "      <td>IL</td>\n",
       "      <td>1999</td>\n",
       "      <td>333644</td>\n",
       "    </tr>\n",
       "    <tr>\n",
       "      <th>25</th>\n",
       "      <td>IL</td>\n",
       "      <td>2000</td>\n",
       "      <td>330650</td>\n",
       "    </tr>\n",
       "    <tr>\n",
       "      <th>16</th>\n",
       "      <td>GA</td>\n",
       "      <td>1999</td>\n",
       "      <td>262291</td>\n",
       "    </tr>\n",
       "    <tr>\n",
       "      <th>17</th>\n",
       "      <td>GA</td>\n",
       "      <td>2000</td>\n",
       "      <td>261270</td>\n",
       "    </tr>\n",
       "  </tbody>\n",
       "</table>\n",
       "</div>"
      ],
      "text/plain": [
       "   state  Year  num_of_flights\n",
       "9     CA  2000          678908\n",
       "8     CA  1999          640212\n",
       "84    TX  1999          602848\n",
       "85    TX  2000          598840\n",
       "15    FL  2000          356034\n",
       "14    FL  1999          341644\n",
       "24    IL  1999          333644\n",
       "25    IL  2000          330650\n",
       "16    GA  1999          262291\n",
       "17    GA  2000          261270"
      ]
     },
     "execution_count": 36,
     "metadata": {},
     "output_type": "execute_result"
    }
   ],
   "source": [
    "q3_modified = q3[q3.Cancelled == 0].groupby(['state','Year'])['CRSDepTime'].count().reset_index()\n",
    "q3_modified.rename(columns = {'CRSDepTime': 'num_of_flights'}, inplace = True)\n",
    "q3_modified.sort_values('num_of_flights', ascending= False).head(10)"
   ]
  },
  {
   "cell_type": "code",
   "execution_count": 37,
   "metadata": {},
   "outputs": [
    {
     "data": {
      "text/html": [
       "<div>\n",
       "<style scoped>\n",
       "    .dataframe tbody tr th:only-of-type {\n",
       "        vertical-align: middle;\n",
       "    }\n",
       "\n",
       "    .dataframe tbody tr th {\n",
       "        vertical-align: top;\n",
       "    }\n",
       "\n",
       "    .dataframe thead th {\n",
       "        text-align: right;\n",
       "    }\n",
       "</style>\n",
       "<table border=\"1\" class=\"dataframe\">\n",
       "  <thead>\n",
       "    <tr style=\"text-align: right;\">\n",
       "      <th>Year</th>\n",
       "      <th>state</th>\n",
       "      <th>flight1999</th>\n",
       "      <th>flight2000</th>\n",
       "      <th>gap</th>\n",
       "    </tr>\n",
       "  </thead>\n",
       "  <tbody>\n",
       "    <tr>\n",
       "      <th>0</th>\n",
       "      <td>CA</td>\n",
       "      <td>640212</td>\n",
       "      <td>678908</td>\n",
       "      <td>38696</td>\n",
       "    </tr>\n",
       "    <tr>\n",
       "      <th>1</th>\n",
       "      <td>TX</td>\n",
       "      <td>602848</td>\n",
       "      <td>598840</td>\n",
       "      <td>-4008</td>\n",
       "    </tr>\n",
       "    <tr>\n",
       "      <th>2</th>\n",
       "      <td>FL</td>\n",
       "      <td>341644</td>\n",
       "      <td>356034</td>\n",
       "      <td>14390</td>\n",
       "    </tr>\n",
       "    <tr>\n",
       "      <th>3</th>\n",
       "      <td>IL</td>\n",
       "      <td>333644</td>\n",
       "      <td>330650</td>\n",
       "      <td>-2994</td>\n",
       "    </tr>\n",
       "    <tr>\n",
       "      <th>4</th>\n",
       "      <td>GA</td>\n",
       "      <td>262291</td>\n",
       "      <td>261270</td>\n",
       "      <td>-1021</td>\n",
       "    </tr>\n",
       "    <tr>\n",
       "      <th>5</th>\n",
       "      <td>MO</td>\n",
       "      <td>233440</td>\n",
       "      <td>228775</td>\n",
       "      <td>-4665</td>\n",
       "    </tr>\n",
       "  </tbody>\n",
       "</table>\n",
       "</div>"
      ],
      "text/plain": [
       "Year state  flight1999  flight2000    gap\n",
       "0       CA      640212      678908  38696\n",
       "1       TX      602848      598840  -4008\n",
       "2       FL      341644      356034  14390\n",
       "3       IL      333644      330650  -2994\n",
       "4       GA      262291      261270  -1021\n",
       "5       MO      233440      228775  -4665"
      ]
     },
     "execution_count": 37,
     "metadata": {},
     "output_type": "execute_result"
    }
   ],
   "source": [
    "flight_state = q3_modified.pivot_table(values='num_of_flights', index=['state'], columns=['Year'])\n",
    "flight_state.rename(columns = {1999: 'flight1999',2000: 'flight2000'}, inplace = True)\n",
    "flight_state['gap'] = flight_state['flight2000'] - flight_state['flight1999']\n",
    "flight_state.sort_values('flight1999', ascending=False).reset_index().head(6)"
   ]
  },
  {
   "cell_type": "code",
   "execution_count": 38,
   "metadata": {},
   "outputs": [
    {
     "data": {
      "text/html": [
       "<div>\n",
       "<style scoped>\n",
       "    .dataframe tbody tr th:only-of-type {\n",
       "        vertical-align: middle;\n",
       "    }\n",
       "\n",
       "    .dataframe tbody tr th {\n",
       "        vertical-align: top;\n",
       "    }\n",
       "\n",
       "    .dataframe thead th {\n",
       "        text-align: right;\n",
       "    }\n",
       "</style>\n",
       "<table border=\"1\" class=\"dataframe\">\n",
       "  <thead>\n",
       "    <tr style=\"text-align: right;\">\n",
       "      <th>Year</th>\n",
       "      <th>flight1999</th>\n",
       "      <th>flight2000</th>\n",
       "      <th>gap</th>\n",
       "    </tr>\n",
       "    <tr>\n",
       "      <th>state</th>\n",
       "      <th></th>\n",
       "      <th></th>\n",
       "      <th></th>\n",
       "    </tr>\n",
       "  </thead>\n",
       "  <tbody>\n",
       "    <tr>\n",
       "      <th>CA</th>\n",
       "      <td>640212</td>\n",
       "      <td>678908</td>\n",
       "      <td>38696</td>\n",
       "    </tr>\n",
       "    <tr>\n",
       "      <th>FL</th>\n",
       "      <td>341644</td>\n",
       "      <td>356034</td>\n",
       "      <td>14390</td>\n",
       "    </tr>\n",
       "    <tr>\n",
       "      <th>NC</th>\n",
       "      <td>168054</td>\n",
       "      <td>180812</td>\n",
       "      <td>12758</td>\n",
       "    </tr>\n",
       "    <tr>\n",
       "      <th>NV</th>\n",
       "      <td>153139</td>\n",
       "      <td>165845</td>\n",
       "      <td>12706</td>\n",
       "    </tr>\n",
       "    <tr>\n",
       "      <th>HI</th>\n",
       "      <td>15328</td>\n",
       "      <td>27661</td>\n",
       "      <td>12333</td>\n",
       "    </tr>\n",
       "    <tr>\n",
       "      <th>PA</th>\n",
       "      <td>222793</td>\n",
       "      <td>233758</td>\n",
       "      <td>10965</td>\n",
       "    </tr>\n",
       "    <tr>\n",
       "      <th>MD</th>\n",
       "      <td>79944</td>\n",
       "      <td>89349</td>\n",
       "      <td>9405</td>\n",
       "    </tr>\n",
       "    <tr>\n",
       "      <th>AZ</th>\n",
       "      <td>193792</td>\n",
       "      <td>202942</td>\n",
       "      <td>9150</td>\n",
       "    </tr>\n",
       "    <tr>\n",
       "      <th>NY</th>\n",
       "      <td>206910</td>\n",
       "      <td>214083</td>\n",
       "      <td>7173</td>\n",
       "    </tr>\n",
       "    <tr>\n",
       "      <th>TN</th>\n",
       "      <td>112828</td>\n",
       "      <td>119049</td>\n",
       "      <td>6221</td>\n",
       "    </tr>\n",
       "  </tbody>\n",
       "</table>\n",
       "</div>"
      ],
      "text/plain": [
       "Year   flight1999  flight2000    gap\n",
       "state                               \n",
       "CA         640212      678908  38696\n",
       "FL         341644      356034  14390\n",
       "NC         168054      180812  12758\n",
       "NV         153139      165845  12706\n",
       "HI          15328       27661  12333\n",
       "PA         222793      233758  10965\n",
       "MD          79944       89349   9405\n",
       "AZ         193792      202942   9150\n",
       "NY         206910      214083   7173\n",
       "TN         112828      119049   6221"
      ]
     },
     "execution_count": 38,
     "metadata": {},
     "output_type": "execute_result"
    }
   ],
   "source": [
    "moreflightstates = flight_state[flight_state.gap > 0]\n",
    "moreflightstates.sort_values('gap', ascending = False).head(10)"
   ]
  },
  {
   "cell_type": "code",
   "execution_count": 39,
   "metadata": {},
   "outputs": [
    {
     "name": "stderr",
     "output_type": "stream",
     "text": [
      "/var/folders/hh/1gnlnf013m3b1z0ggw9jmxhw0000gn/T/ipykernel_86235/2975732903.py:2: SettingWithCopyWarning: \n",
      "A value is trying to be set on a copy of a slice from a DataFrame.\n",
      "Try using .loc[row_indexer,col_indexer] = value instead\n",
      "\n",
      "See the caveats in the documentation: https://pandas.pydata.org/pandas-docs/stable/user_guide/indexing.html#returning-a-view-versus-a-copy\n",
      "  lessflightstates.gap = abs(lessflightstates.gap)\n"
     ]
    },
    {
     "data": {
      "text/html": [
       "<div>\n",
       "<style scoped>\n",
       "    .dataframe tbody tr th:only-of-type {\n",
       "        vertical-align: middle;\n",
       "    }\n",
       "\n",
       "    .dataframe tbody tr th {\n",
       "        vertical-align: top;\n",
       "    }\n",
       "\n",
       "    .dataframe thead th {\n",
       "        text-align: right;\n",
       "    }\n",
       "</style>\n",
       "<table border=\"1\" class=\"dataframe\">\n",
       "  <thead>\n",
       "    <tr style=\"text-align: right;\">\n",
       "      <th>Year</th>\n",
       "      <th>flight1999</th>\n",
       "      <th>flight2000</th>\n",
       "      <th>gap</th>\n",
       "    </tr>\n",
       "    <tr>\n",
       "      <th>state</th>\n",
       "      <th></th>\n",
       "      <th></th>\n",
       "      <th></th>\n",
       "    </tr>\n",
       "  </thead>\n",
       "  <tbody>\n",
       "    <tr>\n",
       "      <th>MO</th>\n",
       "      <td>233440</td>\n",
       "      <td>228775</td>\n",
       "      <td>4665</td>\n",
       "    </tr>\n",
       "    <tr>\n",
       "      <th>KY</th>\n",
       "      <td>101608</td>\n",
       "      <td>96971</td>\n",
       "      <td>4637</td>\n",
       "    </tr>\n",
       "    <tr>\n",
       "      <th>OH</th>\n",
       "      <td>105466</td>\n",
       "      <td>101456</td>\n",
       "      <td>4010</td>\n",
       "    </tr>\n",
       "    <tr>\n",
       "      <th>TX</th>\n",
       "      <td>602848</td>\n",
       "      <td>598840</td>\n",
       "      <td>4008</td>\n",
       "    </tr>\n",
       "    <tr>\n",
       "      <th>IL</th>\n",
       "      <td>333644</td>\n",
       "      <td>330650</td>\n",
       "      <td>2994</td>\n",
       "    </tr>\n",
       "    <tr>\n",
       "      <th>VA</th>\n",
       "      <td>179777</td>\n",
       "      <td>177576</td>\n",
       "      <td>2201</td>\n",
       "    </tr>\n",
       "    <tr>\n",
       "      <th>MI</th>\n",
       "      <td>167642</td>\n",
       "      <td>165584</td>\n",
       "      <td>2058</td>\n",
       "    </tr>\n",
       "    <tr>\n",
       "      <th>UT</th>\n",
       "      <td>80732</td>\n",
       "      <td>78913</td>\n",
       "      <td>1819</td>\n",
       "    </tr>\n",
       "    <tr>\n",
       "      <th>NJ</th>\n",
       "      <td>119936</td>\n",
       "      <td>118160</td>\n",
       "      <td>1776</td>\n",
       "    </tr>\n",
       "    <tr>\n",
       "      <th>AL</th>\n",
       "      <td>31719</td>\n",
       "      <td>30253</td>\n",
       "      <td>1466</td>\n",
       "    </tr>\n",
       "  </tbody>\n",
       "</table>\n",
       "</div>"
      ],
      "text/plain": [
       "Year   flight1999  flight2000   gap\n",
       "state                              \n",
       "MO         233440      228775  4665\n",
       "KY         101608       96971  4637\n",
       "OH         105466      101456  4010\n",
       "TX         602848      598840  4008\n",
       "IL         333644      330650  2994\n",
       "VA         179777      177576  2201\n",
       "MI         167642      165584  2058\n",
       "UT          80732       78913  1819\n",
       "NJ         119936      118160  1776\n",
       "AL          31719       30253  1466"
      ]
     },
     "execution_count": 39,
     "metadata": {},
     "output_type": "execute_result"
    }
   ],
   "source": [
    "lessflightstates = flight_state[(flight_state.gap < 0) | (flight_state.gap == 0)]\n",
    "lessflightstates.gap = abs(lessflightstates.gap)\n",
    "lessflightstates.sort_values('gap', ascending = False).head(10)"
   ]
  },
  {
   "cell_type": "markdown",
   "metadata": {},
   "source": [
    "### Visualization"
   ]
  },
  {
   "cell_type": "code",
   "execution_count": 41,
   "metadata": {},
   "outputs": [
    {
     "data": {
      "application/vnd.plotly.v1+json": {
       "config": {
        "plotlyServerURL": "https://plot.ly"
       },
       "data": [
        {
         "colorbar": {
          "title": {
           "text": "Number of flights"
          }
         },
         "colorscale": [
          [
           0,
           "rgb(255,245,240)"
          ],
          [
           0.125,
           "rgb(254,224,210)"
          ],
          [
           0.25,
           "rgb(252,187,161)"
          ],
          [
           0.375,
           "rgb(252,146,114)"
          ],
          [
           0.5,
           "rgb(251,106,74)"
          ],
          [
           0.625,
           "rgb(239,59,44)"
          ],
          [
           0.75,
           "rgb(203,24,29)"
          ],
          [
           0.875,
           "rgb(165,15,21)"
          ],
          [
           1,
           "rgb(103,0,13)"
          ]
         ],
         "locationmode": "USA-states",
         "locations": [
          "AK",
          "AL",
          "AR",
          "AZ",
          "CA",
          "CO",
          "CT",
          "FL",
          "GA",
          "HI",
          "IA",
          "ID",
          "IL",
          "IN",
          "KS",
          "KY",
          "LA",
          "MA",
          "MD",
          "ME",
          "MI",
          "MN",
          "MO",
          "MS",
          "MT",
          "NC",
          "ND",
          "NE",
          "NH",
          "NJ",
          "NM",
          "NV",
          "NY",
          "OH",
          "OK",
          "OR",
          "PA",
          "PR",
          "RI",
          "SC",
          "SD",
          "TN",
          "TX",
          "UT",
          "VA",
          "VI",
          "VT",
          "WA",
          "WI",
          "WV",
          "WY"
         ],
         "type": "choropleth",
         "z": [
          41833,
          31719,
          12876,
          193792,
          640212,
          147429,
          30907,
          341644,
          262291,
          15328,
          12568,
          11459,
          333644,
          36857,
          6212,
          101608,
          59487,
          101691,
          79944,
          5897,
          167642,
          142817,
          233440,
          10217,
          11050,
          168054,
          6122,
          19712,
          12659,
          119936,
          36989,
          153139,
          206910,
          105466,
          38698,
          59615,
          222793,
          20927,
          22495,
          20096,
          5018,
          112828,
          602848,
          80732,
          179777,
          3607,
          2588,
          115573,
          22337,
          1307,
          783
         ]
        }
       ],
       "layout": {
        "geo": {
         "scope": "usa"
        },
        "template": {
         "data": {
          "bar": [
           {
            "error_x": {
             "color": "#2a3f5f"
            },
            "error_y": {
             "color": "#2a3f5f"
            },
            "marker": {
             "line": {
              "color": "#E5ECF6",
              "width": 0.5
             },
             "pattern": {
              "fillmode": "overlay",
              "size": 10,
              "solidity": 0.2
             }
            },
            "type": "bar"
           }
          ],
          "barpolar": [
           {
            "marker": {
             "line": {
              "color": "#E5ECF6",
              "width": 0.5
             },
             "pattern": {
              "fillmode": "overlay",
              "size": 10,
              "solidity": 0.2
             }
            },
            "type": "barpolar"
           }
          ],
          "carpet": [
           {
            "aaxis": {
             "endlinecolor": "#2a3f5f",
             "gridcolor": "white",
             "linecolor": "white",
             "minorgridcolor": "white",
             "startlinecolor": "#2a3f5f"
            },
            "baxis": {
             "endlinecolor": "#2a3f5f",
             "gridcolor": "white",
             "linecolor": "white",
             "minorgridcolor": "white",
             "startlinecolor": "#2a3f5f"
            },
            "type": "carpet"
           }
          ],
          "choropleth": [
           {
            "colorbar": {
             "outlinewidth": 0,
             "ticks": ""
            },
            "type": "choropleth"
           }
          ],
          "contour": [
           {
            "colorbar": {
             "outlinewidth": 0,
             "ticks": ""
            },
            "colorscale": [
             [
              0,
              "#0d0887"
             ],
             [
              0.1111111111111111,
              "#46039f"
             ],
             [
              0.2222222222222222,
              "#7201a8"
             ],
             [
              0.3333333333333333,
              "#9c179e"
             ],
             [
              0.4444444444444444,
              "#bd3786"
             ],
             [
              0.5555555555555556,
              "#d8576b"
             ],
             [
              0.6666666666666666,
              "#ed7953"
             ],
             [
              0.7777777777777778,
              "#fb9f3a"
             ],
             [
              0.8888888888888888,
              "#fdca26"
             ],
             [
              1,
              "#f0f921"
             ]
            ],
            "type": "contour"
           }
          ],
          "contourcarpet": [
           {
            "colorbar": {
             "outlinewidth": 0,
             "ticks": ""
            },
            "type": "contourcarpet"
           }
          ],
          "heatmap": [
           {
            "colorbar": {
             "outlinewidth": 0,
             "ticks": ""
            },
            "colorscale": [
             [
              0,
              "#0d0887"
             ],
             [
              0.1111111111111111,
              "#46039f"
             ],
             [
              0.2222222222222222,
              "#7201a8"
             ],
             [
              0.3333333333333333,
              "#9c179e"
             ],
             [
              0.4444444444444444,
              "#bd3786"
             ],
             [
              0.5555555555555556,
              "#d8576b"
             ],
             [
              0.6666666666666666,
              "#ed7953"
             ],
             [
              0.7777777777777778,
              "#fb9f3a"
             ],
             [
              0.8888888888888888,
              "#fdca26"
             ],
             [
              1,
              "#f0f921"
             ]
            ],
            "type": "heatmap"
           }
          ],
          "heatmapgl": [
           {
            "colorbar": {
             "outlinewidth": 0,
             "ticks": ""
            },
            "colorscale": [
             [
              0,
              "#0d0887"
             ],
             [
              0.1111111111111111,
              "#46039f"
             ],
             [
              0.2222222222222222,
              "#7201a8"
             ],
             [
              0.3333333333333333,
              "#9c179e"
             ],
             [
              0.4444444444444444,
              "#bd3786"
             ],
             [
              0.5555555555555556,
              "#d8576b"
             ],
             [
              0.6666666666666666,
              "#ed7953"
             ],
             [
              0.7777777777777778,
              "#fb9f3a"
             ],
             [
              0.8888888888888888,
              "#fdca26"
             ],
             [
              1,
              "#f0f921"
             ]
            ],
            "type": "heatmapgl"
           }
          ],
          "histogram": [
           {
            "marker": {
             "pattern": {
              "fillmode": "overlay",
              "size": 10,
              "solidity": 0.2
             }
            },
            "type": "histogram"
           }
          ],
          "histogram2d": [
           {
            "colorbar": {
             "outlinewidth": 0,
             "ticks": ""
            },
            "colorscale": [
             [
              0,
              "#0d0887"
             ],
             [
              0.1111111111111111,
              "#46039f"
             ],
             [
              0.2222222222222222,
              "#7201a8"
             ],
             [
              0.3333333333333333,
              "#9c179e"
             ],
             [
              0.4444444444444444,
              "#bd3786"
             ],
             [
              0.5555555555555556,
              "#d8576b"
             ],
             [
              0.6666666666666666,
              "#ed7953"
             ],
             [
              0.7777777777777778,
              "#fb9f3a"
             ],
             [
              0.8888888888888888,
              "#fdca26"
             ],
             [
              1,
              "#f0f921"
             ]
            ],
            "type": "histogram2d"
           }
          ],
          "histogram2dcontour": [
           {
            "colorbar": {
             "outlinewidth": 0,
             "ticks": ""
            },
            "colorscale": [
             [
              0,
              "#0d0887"
             ],
             [
              0.1111111111111111,
              "#46039f"
             ],
             [
              0.2222222222222222,
              "#7201a8"
             ],
             [
              0.3333333333333333,
              "#9c179e"
             ],
             [
              0.4444444444444444,
              "#bd3786"
             ],
             [
              0.5555555555555556,
              "#d8576b"
             ],
             [
              0.6666666666666666,
              "#ed7953"
             ],
             [
              0.7777777777777778,
              "#fb9f3a"
             ],
             [
              0.8888888888888888,
              "#fdca26"
             ],
             [
              1,
              "#f0f921"
             ]
            ],
            "type": "histogram2dcontour"
           }
          ],
          "mesh3d": [
           {
            "colorbar": {
             "outlinewidth": 0,
             "ticks": ""
            },
            "type": "mesh3d"
           }
          ],
          "parcoords": [
           {
            "line": {
             "colorbar": {
              "outlinewidth": 0,
              "ticks": ""
             }
            },
            "type": "parcoords"
           }
          ],
          "pie": [
           {
            "automargin": true,
            "type": "pie"
           }
          ],
          "scatter": [
           {
            "marker": {
             "colorbar": {
              "outlinewidth": 0,
              "ticks": ""
             }
            },
            "type": "scatter"
           }
          ],
          "scatter3d": [
           {
            "line": {
             "colorbar": {
              "outlinewidth": 0,
              "ticks": ""
             }
            },
            "marker": {
             "colorbar": {
              "outlinewidth": 0,
              "ticks": ""
             }
            },
            "type": "scatter3d"
           }
          ],
          "scattercarpet": [
           {
            "marker": {
             "colorbar": {
              "outlinewidth": 0,
              "ticks": ""
             }
            },
            "type": "scattercarpet"
           }
          ],
          "scattergeo": [
           {
            "marker": {
             "colorbar": {
              "outlinewidth": 0,
              "ticks": ""
             }
            },
            "type": "scattergeo"
           }
          ],
          "scattergl": [
           {
            "marker": {
             "colorbar": {
              "outlinewidth": 0,
              "ticks": ""
             }
            },
            "type": "scattergl"
           }
          ],
          "scattermapbox": [
           {
            "marker": {
             "colorbar": {
              "outlinewidth": 0,
              "ticks": ""
             }
            },
            "type": "scattermapbox"
           }
          ],
          "scatterpolar": [
           {
            "marker": {
             "colorbar": {
              "outlinewidth": 0,
              "ticks": ""
             }
            },
            "type": "scatterpolar"
           }
          ],
          "scatterpolargl": [
           {
            "marker": {
             "colorbar": {
              "outlinewidth": 0,
              "ticks": ""
             }
            },
            "type": "scatterpolargl"
           }
          ],
          "scatterternary": [
           {
            "marker": {
             "colorbar": {
              "outlinewidth": 0,
              "ticks": ""
             }
            },
            "type": "scatterternary"
           }
          ],
          "surface": [
           {
            "colorbar": {
             "outlinewidth": 0,
             "ticks": ""
            },
            "colorscale": [
             [
              0,
              "#0d0887"
             ],
             [
              0.1111111111111111,
              "#46039f"
             ],
             [
              0.2222222222222222,
              "#7201a8"
             ],
             [
              0.3333333333333333,
              "#9c179e"
             ],
             [
              0.4444444444444444,
              "#bd3786"
             ],
             [
              0.5555555555555556,
              "#d8576b"
             ],
             [
              0.6666666666666666,
              "#ed7953"
             ],
             [
              0.7777777777777778,
              "#fb9f3a"
             ],
             [
              0.8888888888888888,
              "#fdca26"
             ],
             [
              1,
              "#f0f921"
             ]
            ],
            "type": "surface"
           }
          ],
          "table": [
           {
            "cells": {
             "fill": {
              "color": "#EBF0F8"
             },
             "line": {
              "color": "white"
             }
            },
            "header": {
             "fill": {
              "color": "#C8D4E3"
             },
             "line": {
              "color": "white"
             }
            },
            "type": "table"
           }
          ]
         },
         "layout": {
          "annotationdefaults": {
           "arrowcolor": "#2a3f5f",
           "arrowhead": 0,
           "arrowwidth": 1
          },
          "autotypenumbers": "strict",
          "coloraxis": {
           "colorbar": {
            "outlinewidth": 0,
            "ticks": ""
           }
          },
          "colorscale": {
           "diverging": [
            [
             0,
             "#8e0152"
            ],
            [
             0.1,
             "#c51b7d"
            ],
            [
             0.2,
             "#de77ae"
            ],
            [
             0.3,
             "#f1b6da"
            ],
            [
             0.4,
             "#fde0ef"
            ],
            [
             0.5,
             "#f7f7f7"
            ],
            [
             0.6,
             "#e6f5d0"
            ],
            [
             0.7,
             "#b8e186"
            ],
            [
             0.8,
             "#7fbc41"
            ],
            [
             0.9,
             "#4d9221"
            ],
            [
             1,
             "#276419"
            ]
           ],
           "sequential": [
            [
             0,
             "#0d0887"
            ],
            [
             0.1111111111111111,
             "#46039f"
            ],
            [
             0.2222222222222222,
             "#7201a8"
            ],
            [
             0.3333333333333333,
             "#9c179e"
            ],
            [
             0.4444444444444444,
             "#bd3786"
            ],
            [
             0.5555555555555556,
             "#d8576b"
            ],
            [
             0.6666666666666666,
             "#ed7953"
            ],
            [
             0.7777777777777778,
             "#fb9f3a"
            ],
            [
             0.8888888888888888,
             "#fdca26"
            ],
            [
             1,
             "#f0f921"
            ]
           ],
           "sequentialminus": [
            [
             0,
             "#0d0887"
            ],
            [
             0.1111111111111111,
             "#46039f"
            ],
            [
             0.2222222222222222,
             "#7201a8"
            ],
            [
             0.3333333333333333,
             "#9c179e"
            ],
            [
             0.4444444444444444,
             "#bd3786"
            ],
            [
             0.5555555555555556,
             "#d8576b"
            ],
            [
             0.6666666666666666,
             "#ed7953"
            ],
            [
             0.7777777777777778,
             "#fb9f3a"
            ],
            [
             0.8888888888888888,
             "#fdca26"
            ],
            [
             1,
             "#f0f921"
            ]
           ]
          },
          "colorway": [
           "#636efa",
           "#EF553B",
           "#00cc96",
           "#ab63fa",
           "#FFA15A",
           "#19d3f3",
           "#FF6692",
           "#B6E880",
           "#FF97FF",
           "#FECB52"
          ],
          "font": {
           "color": "#2a3f5f"
          },
          "geo": {
           "bgcolor": "white",
           "lakecolor": "white",
           "landcolor": "#E5ECF6",
           "showlakes": true,
           "showland": true,
           "subunitcolor": "white"
          },
          "hoverlabel": {
           "align": "left"
          },
          "hovermode": "closest",
          "mapbox": {
           "style": "light"
          },
          "paper_bgcolor": "white",
          "plot_bgcolor": "#E5ECF6",
          "polar": {
           "angularaxis": {
            "gridcolor": "white",
            "linecolor": "white",
            "ticks": ""
           },
           "bgcolor": "#E5ECF6",
           "radialaxis": {
            "gridcolor": "white",
            "linecolor": "white",
            "ticks": ""
           }
          },
          "scene": {
           "xaxis": {
            "backgroundcolor": "#E5ECF6",
            "gridcolor": "white",
            "gridwidth": 2,
            "linecolor": "white",
            "showbackground": true,
            "ticks": "",
            "zerolinecolor": "white"
           },
           "yaxis": {
            "backgroundcolor": "#E5ECF6",
            "gridcolor": "white",
            "gridwidth": 2,
            "linecolor": "white",
            "showbackground": true,
            "ticks": "",
            "zerolinecolor": "white"
           },
           "zaxis": {
            "backgroundcolor": "#E5ECF6",
            "gridcolor": "white",
            "gridwidth": 2,
            "linecolor": "white",
            "showbackground": true,
            "ticks": "",
            "zerolinecolor": "white"
           }
          },
          "shapedefaults": {
           "line": {
            "color": "#2a3f5f"
           }
          },
          "ternary": {
           "aaxis": {
            "gridcolor": "white",
            "linecolor": "white",
            "ticks": ""
           },
           "baxis": {
            "gridcolor": "white",
            "linecolor": "white",
            "ticks": ""
           },
           "bgcolor": "#E5ECF6",
           "caxis": {
            "gridcolor": "white",
            "linecolor": "white",
            "ticks": ""
           }
          },
          "title": {
           "x": 0.05
          },
          "xaxis": {
           "automargin": true,
           "gridcolor": "white",
           "linecolor": "white",
           "ticks": "",
           "title": {
            "standoff": 15
           },
           "zerolinecolor": "white",
           "zerolinewidth": 2
          },
          "yaxis": {
           "automargin": true,
           "gridcolor": "white",
           "linecolor": "white",
           "ticks": "",
           "title": {
            "standoff": 15
           },
           "zerolinecolor": "white",
           "zerolinewidth": 2
          }
         }
        },
        "title": {
         "text": "Number of flights flew in 1999"
        }
       }
      }
     },
     "metadata": {},
     "output_type": "display_data"
    }
   ],
   "source": [
    "fig = go.Figure(data=go.Choropleth(\n",
    "    locations=flight_state.reset_index()['state'], # Spatial coordinates\n",
    "    z = flight_state['flight1999'].astype(float), # Data to be color-coded\n",
    "    locationmode = 'USA-states', # set of locations match entries in `locations`\n",
    "    colorscale = 'Reds',\n",
    "    colorbar_title = \"Number of flights\",\n",
    "))\n",
    "\n",
    "fig.update_layout(\n",
    "    title_text = 'Number of flights flew in 1999',\n",
    "    geo_scope='usa', # limite map scope to USA\n",
    ")\n",
    "\n",
    "fig.show()"
   ]
  },
  {
   "cell_type": "code",
   "execution_count": 25,
   "metadata": {},
   "outputs": [
    {
     "data": {
      "application/vnd.plotly.v1+json": {
       "config": {
        "plotlyServerURL": "https://plot.ly"
       },
       "data": [
        {
         "colorbar": {
          "title": {
           "text": "Number of flights"
          }
         },
         "colorscale": [
          [
           0,
           "rgb(247,251,255)"
          ],
          [
           0.125,
           "rgb(222,235,247)"
          ],
          [
           0.25,
           "rgb(198,219,239)"
          ],
          [
           0.375,
           "rgb(158,202,225)"
          ],
          [
           0.5,
           "rgb(107,174,214)"
          ],
          [
           0.625,
           "rgb(66,146,198)"
          ],
          [
           0.75,
           "rgb(33,113,181)"
          ],
          [
           0.875,
           "rgb(8,81,156)"
          ],
          [
           1,
           "rgb(8,48,107)"
          ]
         ],
         "locationmode": "USA-states",
         "locations": [
          "AK",
          "AL",
          "AR",
          "AZ",
          "CA",
          "CO",
          "CT",
          "FL",
          "GA",
          "HI",
          "IA",
          "ID",
          "IL",
          "IN",
          "KS",
          "KY",
          "LA",
          "MA",
          "MD",
          "ME",
          "MI",
          "MN",
          "MO",
          "MS",
          "MT",
          "NC",
          "ND",
          "NE",
          "NH",
          "NJ",
          "NM",
          "NV",
          "NY",
          "OH",
          "OK",
          "OR",
          "PA",
          "PR",
          "RI",
          "SC",
          "SD",
          "TN",
          "TX",
          "UT",
          "VA",
          "VI",
          "VT",
          "WA",
          "WI",
          "WV",
          "WY"
         ],
         "type": "choropleth",
         "z": [
          41364,
          30253,
          13240,
          202942,
          678908,
          147301,
          35473,
          356034,
          261270,
          27661,
          11982,
          12434,
          330650,
          36720,
          6272,
          96971,
          60465,
          105592,
          89349,
          5881,
          165584,
          145776,
          228775,
          9917,
          11228,
          180812,
          5703,
          19694,
          13449,
          118160,
          36002,
          165845,
          214083,
          101456,
          39158,
          59447,
          233758,
          24813,
          25439,
          20511,
          4690,
          119049,
          598840,
          78913,
          177576,
          3464,
          2531,
          116011,
          21992,
          1185,
          846
         ]
        }
       ],
       "layout": {
        "geo": {
         "scope": "usa"
        },
        "template": {
         "data": {
          "bar": [
           {
            "error_x": {
             "color": "#2a3f5f"
            },
            "error_y": {
             "color": "#2a3f5f"
            },
            "marker": {
             "line": {
              "color": "#E5ECF6",
              "width": 0.5
             },
             "pattern": {
              "fillmode": "overlay",
              "size": 10,
              "solidity": 0.2
             }
            },
            "type": "bar"
           }
          ],
          "barpolar": [
           {
            "marker": {
             "line": {
              "color": "#E5ECF6",
              "width": 0.5
             },
             "pattern": {
              "fillmode": "overlay",
              "size": 10,
              "solidity": 0.2
             }
            },
            "type": "barpolar"
           }
          ],
          "carpet": [
           {
            "aaxis": {
             "endlinecolor": "#2a3f5f",
             "gridcolor": "white",
             "linecolor": "white",
             "minorgridcolor": "white",
             "startlinecolor": "#2a3f5f"
            },
            "baxis": {
             "endlinecolor": "#2a3f5f",
             "gridcolor": "white",
             "linecolor": "white",
             "minorgridcolor": "white",
             "startlinecolor": "#2a3f5f"
            },
            "type": "carpet"
           }
          ],
          "choropleth": [
           {
            "colorbar": {
             "outlinewidth": 0,
             "ticks": ""
            },
            "type": "choropleth"
           }
          ],
          "contour": [
           {
            "colorbar": {
             "outlinewidth": 0,
             "ticks": ""
            },
            "colorscale": [
             [
              0,
              "#0d0887"
             ],
             [
              0.1111111111111111,
              "#46039f"
             ],
             [
              0.2222222222222222,
              "#7201a8"
             ],
             [
              0.3333333333333333,
              "#9c179e"
             ],
             [
              0.4444444444444444,
              "#bd3786"
             ],
             [
              0.5555555555555556,
              "#d8576b"
             ],
             [
              0.6666666666666666,
              "#ed7953"
             ],
             [
              0.7777777777777778,
              "#fb9f3a"
             ],
             [
              0.8888888888888888,
              "#fdca26"
             ],
             [
              1,
              "#f0f921"
             ]
            ],
            "type": "contour"
           }
          ],
          "contourcarpet": [
           {
            "colorbar": {
             "outlinewidth": 0,
             "ticks": ""
            },
            "type": "contourcarpet"
           }
          ],
          "heatmap": [
           {
            "colorbar": {
             "outlinewidth": 0,
             "ticks": ""
            },
            "colorscale": [
             [
              0,
              "#0d0887"
             ],
             [
              0.1111111111111111,
              "#46039f"
             ],
             [
              0.2222222222222222,
              "#7201a8"
             ],
             [
              0.3333333333333333,
              "#9c179e"
             ],
             [
              0.4444444444444444,
              "#bd3786"
             ],
             [
              0.5555555555555556,
              "#d8576b"
             ],
             [
              0.6666666666666666,
              "#ed7953"
             ],
             [
              0.7777777777777778,
              "#fb9f3a"
             ],
             [
              0.8888888888888888,
              "#fdca26"
             ],
             [
              1,
              "#f0f921"
             ]
            ],
            "type": "heatmap"
           }
          ],
          "heatmapgl": [
           {
            "colorbar": {
             "outlinewidth": 0,
             "ticks": ""
            },
            "colorscale": [
             [
              0,
              "#0d0887"
             ],
             [
              0.1111111111111111,
              "#46039f"
             ],
             [
              0.2222222222222222,
              "#7201a8"
             ],
             [
              0.3333333333333333,
              "#9c179e"
             ],
             [
              0.4444444444444444,
              "#bd3786"
             ],
             [
              0.5555555555555556,
              "#d8576b"
             ],
             [
              0.6666666666666666,
              "#ed7953"
             ],
             [
              0.7777777777777778,
              "#fb9f3a"
             ],
             [
              0.8888888888888888,
              "#fdca26"
             ],
             [
              1,
              "#f0f921"
             ]
            ],
            "type": "heatmapgl"
           }
          ],
          "histogram": [
           {
            "marker": {
             "pattern": {
              "fillmode": "overlay",
              "size": 10,
              "solidity": 0.2
             }
            },
            "type": "histogram"
           }
          ],
          "histogram2d": [
           {
            "colorbar": {
             "outlinewidth": 0,
             "ticks": ""
            },
            "colorscale": [
             [
              0,
              "#0d0887"
             ],
             [
              0.1111111111111111,
              "#46039f"
             ],
             [
              0.2222222222222222,
              "#7201a8"
             ],
             [
              0.3333333333333333,
              "#9c179e"
             ],
             [
              0.4444444444444444,
              "#bd3786"
             ],
             [
              0.5555555555555556,
              "#d8576b"
             ],
             [
              0.6666666666666666,
              "#ed7953"
             ],
             [
              0.7777777777777778,
              "#fb9f3a"
             ],
             [
              0.8888888888888888,
              "#fdca26"
             ],
             [
              1,
              "#f0f921"
             ]
            ],
            "type": "histogram2d"
           }
          ],
          "histogram2dcontour": [
           {
            "colorbar": {
             "outlinewidth": 0,
             "ticks": ""
            },
            "colorscale": [
             [
              0,
              "#0d0887"
             ],
             [
              0.1111111111111111,
              "#46039f"
             ],
             [
              0.2222222222222222,
              "#7201a8"
             ],
             [
              0.3333333333333333,
              "#9c179e"
             ],
             [
              0.4444444444444444,
              "#bd3786"
             ],
             [
              0.5555555555555556,
              "#d8576b"
             ],
             [
              0.6666666666666666,
              "#ed7953"
             ],
             [
              0.7777777777777778,
              "#fb9f3a"
             ],
             [
              0.8888888888888888,
              "#fdca26"
             ],
             [
              1,
              "#f0f921"
             ]
            ],
            "type": "histogram2dcontour"
           }
          ],
          "mesh3d": [
           {
            "colorbar": {
             "outlinewidth": 0,
             "ticks": ""
            },
            "type": "mesh3d"
           }
          ],
          "parcoords": [
           {
            "line": {
             "colorbar": {
              "outlinewidth": 0,
              "ticks": ""
             }
            },
            "type": "parcoords"
           }
          ],
          "pie": [
           {
            "automargin": true,
            "type": "pie"
           }
          ],
          "scatter": [
           {
            "marker": {
             "colorbar": {
              "outlinewidth": 0,
              "ticks": ""
             }
            },
            "type": "scatter"
           }
          ],
          "scatter3d": [
           {
            "line": {
             "colorbar": {
              "outlinewidth": 0,
              "ticks": ""
             }
            },
            "marker": {
             "colorbar": {
              "outlinewidth": 0,
              "ticks": ""
             }
            },
            "type": "scatter3d"
           }
          ],
          "scattercarpet": [
           {
            "marker": {
             "colorbar": {
              "outlinewidth": 0,
              "ticks": ""
             }
            },
            "type": "scattercarpet"
           }
          ],
          "scattergeo": [
           {
            "marker": {
             "colorbar": {
              "outlinewidth": 0,
              "ticks": ""
             }
            },
            "type": "scattergeo"
           }
          ],
          "scattergl": [
           {
            "marker": {
             "colorbar": {
              "outlinewidth": 0,
              "ticks": ""
             }
            },
            "type": "scattergl"
           }
          ],
          "scattermapbox": [
           {
            "marker": {
             "colorbar": {
              "outlinewidth": 0,
              "ticks": ""
             }
            },
            "type": "scattermapbox"
           }
          ],
          "scatterpolar": [
           {
            "marker": {
             "colorbar": {
              "outlinewidth": 0,
              "ticks": ""
             }
            },
            "type": "scatterpolar"
           }
          ],
          "scatterpolargl": [
           {
            "marker": {
             "colorbar": {
              "outlinewidth": 0,
              "ticks": ""
             }
            },
            "type": "scatterpolargl"
           }
          ],
          "scatterternary": [
           {
            "marker": {
             "colorbar": {
              "outlinewidth": 0,
              "ticks": ""
             }
            },
            "type": "scatterternary"
           }
          ],
          "surface": [
           {
            "colorbar": {
             "outlinewidth": 0,
             "ticks": ""
            },
            "colorscale": [
             [
              0,
              "#0d0887"
             ],
             [
              0.1111111111111111,
              "#46039f"
             ],
             [
              0.2222222222222222,
              "#7201a8"
             ],
             [
              0.3333333333333333,
              "#9c179e"
             ],
             [
              0.4444444444444444,
              "#bd3786"
             ],
             [
              0.5555555555555556,
              "#d8576b"
             ],
             [
              0.6666666666666666,
              "#ed7953"
             ],
             [
              0.7777777777777778,
              "#fb9f3a"
             ],
             [
              0.8888888888888888,
              "#fdca26"
             ],
             [
              1,
              "#f0f921"
             ]
            ],
            "type": "surface"
           }
          ],
          "table": [
           {
            "cells": {
             "fill": {
              "color": "#EBF0F8"
             },
             "line": {
              "color": "white"
             }
            },
            "header": {
             "fill": {
              "color": "#C8D4E3"
             },
             "line": {
              "color": "white"
             }
            },
            "type": "table"
           }
          ]
         },
         "layout": {
          "annotationdefaults": {
           "arrowcolor": "#2a3f5f",
           "arrowhead": 0,
           "arrowwidth": 1
          },
          "autotypenumbers": "strict",
          "coloraxis": {
           "colorbar": {
            "outlinewidth": 0,
            "ticks": ""
           }
          },
          "colorscale": {
           "diverging": [
            [
             0,
             "#8e0152"
            ],
            [
             0.1,
             "#c51b7d"
            ],
            [
             0.2,
             "#de77ae"
            ],
            [
             0.3,
             "#f1b6da"
            ],
            [
             0.4,
             "#fde0ef"
            ],
            [
             0.5,
             "#f7f7f7"
            ],
            [
             0.6,
             "#e6f5d0"
            ],
            [
             0.7,
             "#b8e186"
            ],
            [
             0.8,
             "#7fbc41"
            ],
            [
             0.9,
             "#4d9221"
            ],
            [
             1,
             "#276419"
            ]
           ],
           "sequential": [
            [
             0,
             "#0d0887"
            ],
            [
             0.1111111111111111,
             "#46039f"
            ],
            [
             0.2222222222222222,
             "#7201a8"
            ],
            [
             0.3333333333333333,
             "#9c179e"
            ],
            [
             0.4444444444444444,
             "#bd3786"
            ],
            [
             0.5555555555555556,
             "#d8576b"
            ],
            [
             0.6666666666666666,
             "#ed7953"
            ],
            [
             0.7777777777777778,
             "#fb9f3a"
            ],
            [
             0.8888888888888888,
             "#fdca26"
            ],
            [
             1,
             "#f0f921"
            ]
           ],
           "sequentialminus": [
            [
             0,
             "#0d0887"
            ],
            [
             0.1111111111111111,
             "#46039f"
            ],
            [
             0.2222222222222222,
             "#7201a8"
            ],
            [
             0.3333333333333333,
             "#9c179e"
            ],
            [
             0.4444444444444444,
             "#bd3786"
            ],
            [
             0.5555555555555556,
             "#d8576b"
            ],
            [
             0.6666666666666666,
             "#ed7953"
            ],
            [
             0.7777777777777778,
             "#fb9f3a"
            ],
            [
             0.8888888888888888,
             "#fdca26"
            ],
            [
             1,
             "#f0f921"
            ]
           ]
          },
          "colorway": [
           "#636efa",
           "#EF553B",
           "#00cc96",
           "#ab63fa",
           "#FFA15A",
           "#19d3f3",
           "#FF6692",
           "#B6E880",
           "#FF97FF",
           "#FECB52"
          ],
          "font": {
           "color": "#2a3f5f"
          },
          "geo": {
           "bgcolor": "white",
           "lakecolor": "white",
           "landcolor": "#E5ECF6",
           "showlakes": true,
           "showland": true,
           "subunitcolor": "white"
          },
          "hoverlabel": {
           "align": "left"
          },
          "hovermode": "closest",
          "mapbox": {
           "style": "light"
          },
          "paper_bgcolor": "white",
          "plot_bgcolor": "#E5ECF6",
          "polar": {
           "angularaxis": {
            "gridcolor": "white",
            "linecolor": "white",
            "ticks": ""
           },
           "bgcolor": "#E5ECF6",
           "radialaxis": {
            "gridcolor": "white",
            "linecolor": "white",
            "ticks": ""
           }
          },
          "scene": {
           "xaxis": {
            "backgroundcolor": "#E5ECF6",
            "gridcolor": "white",
            "gridwidth": 2,
            "linecolor": "white",
            "showbackground": true,
            "ticks": "",
            "zerolinecolor": "white"
           },
           "yaxis": {
            "backgroundcolor": "#E5ECF6",
            "gridcolor": "white",
            "gridwidth": 2,
            "linecolor": "white",
            "showbackground": true,
            "ticks": "",
            "zerolinecolor": "white"
           },
           "zaxis": {
            "backgroundcolor": "#E5ECF6",
            "gridcolor": "white",
            "gridwidth": 2,
            "linecolor": "white",
            "showbackground": true,
            "ticks": "",
            "zerolinecolor": "white"
           }
          },
          "shapedefaults": {
           "line": {
            "color": "#2a3f5f"
           }
          },
          "ternary": {
           "aaxis": {
            "gridcolor": "white",
            "linecolor": "white",
            "ticks": ""
           },
           "baxis": {
            "gridcolor": "white",
            "linecolor": "white",
            "ticks": ""
           },
           "bgcolor": "#E5ECF6",
           "caxis": {
            "gridcolor": "white",
            "linecolor": "white",
            "ticks": ""
           }
          },
          "title": {
           "x": 0.05
          },
          "xaxis": {
           "automargin": true,
           "gridcolor": "white",
           "linecolor": "white",
           "ticks": "",
           "title": {
            "standoff": 15
           },
           "zerolinecolor": "white",
           "zerolinewidth": 2
          },
          "yaxis": {
           "automargin": true,
           "gridcolor": "white",
           "linecolor": "white",
           "ticks": "",
           "title": {
            "standoff": 15
           },
           "zerolinecolor": "white",
           "zerolinewidth": 2
          }
         }
        },
        "title": {
         "text": "Number of flights flew in 2000"
        }
       }
      }
     },
     "metadata": {},
     "output_type": "display_data"
    }
   ],
   "source": [
    "fig = go.Figure(data=go.Choropleth(\n",
    "    locations=flight_state.reset_index()['state'], # Spatial coordinates\n",
    "    z = flight_state['flight2000'].astype(float), # Data to be color-coded\n",
    "    locationmode = 'USA-states', # set of locations match entries in `locations`\n",
    "    colorscale = 'blues',\n",
    "    colorbar_title = \"Number of flights\",\n",
    "))\n",
    "\n",
    "fig.update_layout(\n",
    "    title_text = 'Number of flights flew in 2000',\n",
    "    geo_scope='usa', # limite map scope to USA\n",
    ")\n",
    "\n",
    "fig.show()"
   ]
  },
  {
   "cell_type": "code",
   "execution_count": 26,
   "metadata": {},
   "outputs": [
    {
     "data": {
      "application/vnd.plotly.v1+json": {
       "config": {
        "plotlyServerURL": "https://plot.ly"
       },
       "data": [
        {
         "colorbar": {
          "title": {
           "text": "Number of flights"
          }
         },
         "colorscale": [
          [
           0,
           "rgb(247,252,245)"
          ],
          [
           0.125,
           "rgb(229,245,224)"
          ],
          [
           0.25,
           "rgb(199,233,192)"
          ],
          [
           0.375,
           "rgb(161,217,155)"
          ],
          [
           0.5,
           "rgb(116,196,118)"
          ],
          [
           0.625,
           "rgb(65,171,93)"
          ],
          [
           0.75,
           "rgb(35,139,69)"
          ],
          [
           0.875,
           "rgb(0,109,44)"
          ],
          [
           1,
           "rgb(0,68,27)"
          ]
         ],
         "locationmode": "USA-states",
         "locations": [
          "AR",
          "AZ",
          "CA",
          "CT",
          "FL",
          "HI",
          "ID",
          "KS",
          "LA",
          "MA",
          "MD",
          "MN",
          "MT",
          "NC",
          "NH",
          "NV",
          "NY",
          "OK",
          "PA",
          "PR",
          "RI",
          "SC",
          "TN",
          "WA",
          "WY"
         ],
         "type": "choropleth",
         "z": [
          364,
          9150,
          38696,
          4566,
          14390,
          12333,
          975,
          60,
          978,
          3901,
          9405,
          2959,
          178,
          12758,
          790,
          12706,
          7173,
          460,
          10965,
          3886,
          2944,
          415,
          6221,
          438,
          63
         ]
        }
       ],
       "layout": {
        "geo": {
         "scope": "usa"
        },
        "template": {
         "data": {
          "bar": [
           {
            "error_x": {
             "color": "#2a3f5f"
            },
            "error_y": {
             "color": "#2a3f5f"
            },
            "marker": {
             "line": {
              "color": "#E5ECF6",
              "width": 0.5
             },
             "pattern": {
              "fillmode": "overlay",
              "size": 10,
              "solidity": 0.2
             }
            },
            "type": "bar"
           }
          ],
          "barpolar": [
           {
            "marker": {
             "line": {
              "color": "#E5ECF6",
              "width": 0.5
             },
             "pattern": {
              "fillmode": "overlay",
              "size": 10,
              "solidity": 0.2
             }
            },
            "type": "barpolar"
           }
          ],
          "carpet": [
           {
            "aaxis": {
             "endlinecolor": "#2a3f5f",
             "gridcolor": "white",
             "linecolor": "white",
             "minorgridcolor": "white",
             "startlinecolor": "#2a3f5f"
            },
            "baxis": {
             "endlinecolor": "#2a3f5f",
             "gridcolor": "white",
             "linecolor": "white",
             "minorgridcolor": "white",
             "startlinecolor": "#2a3f5f"
            },
            "type": "carpet"
           }
          ],
          "choropleth": [
           {
            "colorbar": {
             "outlinewidth": 0,
             "ticks": ""
            },
            "type": "choropleth"
           }
          ],
          "contour": [
           {
            "colorbar": {
             "outlinewidth": 0,
             "ticks": ""
            },
            "colorscale": [
             [
              0,
              "#0d0887"
             ],
             [
              0.1111111111111111,
              "#46039f"
             ],
             [
              0.2222222222222222,
              "#7201a8"
             ],
             [
              0.3333333333333333,
              "#9c179e"
             ],
             [
              0.4444444444444444,
              "#bd3786"
             ],
             [
              0.5555555555555556,
              "#d8576b"
             ],
             [
              0.6666666666666666,
              "#ed7953"
             ],
             [
              0.7777777777777778,
              "#fb9f3a"
             ],
             [
              0.8888888888888888,
              "#fdca26"
             ],
             [
              1,
              "#f0f921"
             ]
            ],
            "type": "contour"
           }
          ],
          "contourcarpet": [
           {
            "colorbar": {
             "outlinewidth": 0,
             "ticks": ""
            },
            "type": "contourcarpet"
           }
          ],
          "heatmap": [
           {
            "colorbar": {
             "outlinewidth": 0,
             "ticks": ""
            },
            "colorscale": [
             [
              0,
              "#0d0887"
             ],
             [
              0.1111111111111111,
              "#46039f"
             ],
             [
              0.2222222222222222,
              "#7201a8"
             ],
             [
              0.3333333333333333,
              "#9c179e"
             ],
             [
              0.4444444444444444,
              "#bd3786"
             ],
             [
              0.5555555555555556,
              "#d8576b"
             ],
             [
              0.6666666666666666,
              "#ed7953"
             ],
             [
              0.7777777777777778,
              "#fb9f3a"
             ],
             [
              0.8888888888888888,
              "#fdca26"
             ],
             [
              1,
              "#f0f921"
             ]
            ],
            "type": "heatmap"
           }
          ],
          "heatmapgl": [
           {
            "colorbar": {
             "outlinewidth": 0,
             "ticks": ""
            },
            "colorscale": [
             [
              0,
              "#0d0887"
             ],
             [
              0.1111111111111111,
              "#46039f"
             ],
             [
              0.2222222222222222,
              "#7201a8"
             ],
             [
              0.3333333333333333,
              "#9c179e"
             ],
             [
              0.4444444444444444,
              "#bd3786"
             ],
             [
              0.5555555555555556,
              "#d8576b"
             ],
             [
              0.6666666666666666,
              "#ed7953"
             ],
             [
              0.7777777777777778,
              "#fb9f3a"
             ],
             [
              0.8888888888888888,
              "#fdca26"
             ],
             [
              1,
              "#f0f921"
             ]
            ],
            "type": "heatmapgl"
           }
          ],
          "histogram": [
           {
            "marker": {
             "pattern": {
              "fillmode": "overlay",
              "size": 10,
              "solidity": 0.2
             }
            },
            "type": "histogram"
           }
          ],
          "histogram2d": [
           {
            "colorbar": {
             "outlinewidth": 0,
             "ticks": ""
            },
            "colorscale": [
             [
              0,
              "#0d0887"
             ],
             [
              0.1111111111111111,
              "#46039f"
             ],
             [
              0.2222222222222222,
              "#7201a8"
             ],
             [
              0.3333333333333333,
              "#9c179e"
             ],
             [
              0.4444444444444444,
              "#bd3786"
             ],
             [
              0.5555555555555556,
              "#d8576b"
             ],
             [
              0.6666666666666666,
              "#ed7953"
             ],
             [
              0.7777777777777778,
              "#fb9f3a"
             ],
             [
              0.8888888888888888,
              "#fdca26"
             ],
             [
              1,
              "#f0f921"
             ]
            ],
            "type": "histogram2d"
           }
          ],
          "histogram2dcontour": [
           {
            "colorbar": {
             "outlinewidth": 0,
             "ticks": ""
            },
            "colorscale": [
             [
              0,
              "#0d0887"
             ],
             [
              0.1111111111111111,
              "#46039f"
             ],
             [
              0.2222222222222222,
              "#7201a8"
             ],
             [
              0.3333333333333333,
              "#9c179e"
             ],
             [
              0.4444444444444444,
              "#bd3786"
             ],
             [
              0.5555555555555556,
              "#d8576b"
             ],
             [
              0.6666666666666666,
              "#ed7953"
             ],
             [
              0.7777777777777778,
              "#fb9f3a"
             ],
             [
              0.8888888888888888,
              "#fdca26"
             ],
             [
              1,
              "#f0f921"
             ]
            ],
            "type": "histogram2dcontour"
           }
          ],
          "mesh3d": [
           {
            "colorbar": {
             "outlinewidth": 0,
             "ticks": ""
            },
            "type": "mesh3d"
           }
          ],
          "parcoords": [
           {
            "line": {
             "colorbar": {
              "outlinewidth": 0,
              "ticks": ""
             }
            },
            "type": "parcoords"
           }
          ],
          "pie": [
           {
            "automargin": true,
            "type": "pie"
           }
          ],
          "scatter": [
           {
            "marker": {
             "colorbar": {
              "outlinewidth": 0,
              "ticks": ""
             }
            },
            "type": "scatter"
           }
          ],
          "scatter3d": [
           {
            "line": {
             "colorbar": {
              "outlinewidth": 0,
              "ticks": ""
             }
            },
            "marker": {
             "colorbar": {
              "outlinewidth": 0,
              "ticks": ""
             }
            },
            "type": "scatter3d"
           }
          ],
          "scattercarpet": [
           {
            "marker": {
             "colorbar": {
              "outlinewidth": 0,
              "ticks": ""
             }
            },
            "type": "scattercarpet"
           }
          ],
          "scattergeo": [
           {
            "marker": {
             "colorbar": {
              "outlinewidth": 0,
              "ticks": ""
             }
            },
            "type": "scattergeo"
           }
          ],
          "scattergl": [
           {
            "marker": {
             "colorbar": {
              "outlinewidth": 0,
              "ticks": ""
             }
            },
            "type": "scattergl"
           }
          ],
          "scattermapbox": [
           {
            "marker": {
             "colorbar": {
              "outlinewidth": 0,
              "ticks": ""
             }
            },
            "type": "scattermapbox"
           }
          ],
          "scatterpolar": [
           {
            "marker": {
             "colorbar": {
              "outlinewidth": 0,
              "ticks": ""
             }
            },
            "type": "scatterpolar"
           }
          ],
          "scatterpolargl": [
           {
            "marker": {
             "colorbar": {
              "outlinewidth": 0,
              "ticks": ""
             }
            },
            "type": "scatterpolargl"
           }
          ],
          "scatterternary": [
           {
            "marker": {
             "colorbar": {
              "outlinewidth": 0,
              "ticks": ""
             }
            },
            "type": "scatterternary"
           }
          ],
          "surface": [
           {
            "colorbar": {
             "outlinewidth": 0,
             "ticks": ""
            },
            "colorscale": [
             [
              0,
              "#0d0887"
             ],
             [
              0.1111111111111111,
              "#46039f"
             ],
             [
              0.2222222222222222,
              "#7201a8"
             ],
             [
              0.3333333333333333,
              "#9c179e"
             ],
             [
              0.4444444444444444,
              "#bd3786"
             ],
             [
              0.5555555555555556,
              "#d8576b"
             ],
             [
              0.6666666666666666,
              "#ed7953"
             ],
             [
              0.7777777777777778,
              "#fb9f3a"
             ],
             [
              0.8888888888888888,
              "#fdca26"
             ],
             [
              1,
              "#f0f921"
             ]
            ],
            "type": "surface"
           }
          ],
          "table": [
           {
            "cells": {
             "fill": {
              "color": "#EBF0F8"
             },
             "line": {
              "color": "white"
             }
            },
            "header": {
             "fill": {
              "color": "#C8D4E3"
             },
             "line": {
              "color": "white"
             }
            },
            "type": "table"
           }
          ]
         },
         "layout": {
          "annotationdefaults": {
           "arrowcolor": "#2a3f5f",
           "arrowhead": 0,
           "arrowwidth": 1
          },
          "autotypenumbers": "strict",
          "coloraxis": {
           "colorbar": {
            "outlinewidth": 0,
            "ticks": ""
           }
          },
          "colorscale": {
           "diverging": [
            [
             0,
             "#8e0152"
            ],
            [
             0.1,
             "#c51b7d"
            ],
            [
             0.2,
             "#de77ae"
            ],
            [
             0.3,
             "#f1b6da"
            ],
            [
             0.4,
             "#fde0ef"
            ],
            [
             0.5,
             "#f7f7f7"
            ],
            [
             0.6,
             "#e6f5d0"
            ],
            [
             0.7,
             "#b8e186"
            ],
            [
             0.8,
             "#7fbc41"
            ],
            [
             0.9,
             "#4d9221"
            ],
            [
             1,
             "#276419"
            ]
           ],
           "sequential": [
            [
             0,
             "#0d0887"
            ],
            [
             0.1111111111111111,
             "#46039f"
            ],
            [
             0.2222222222222222,
             "#7201a8"
            ],
            [
             0.3333333333333333,
             "#9c179e"
            ],
            [
             0.4444444444444444,
             "#bd3786"
            ],
            [
             0.5555555555555556,
             "#d8576b"
            ],
            [
             0.6666666666666666,
             "#ed7953"
            ],
            [
             0.7777777777777778,
             "#fb9f3a"
            ],
            [
             0.8888888888888888,
             "#fdca26"
            ],
            [
             1,
             "#f0f921"
            ]
           ],
           "sequentialminus": [
            [
             0,
             "#0d0887"
            ],
            [
             0.1111111111111111,
             "#46039f"
            ],
            [
             0.2222222222222222,
             "#7201a8"
            ],
            [
             0.3333333333333333,
             "#9c179e"
            ],
            [
             0.4444444444444444,
             "#bd3786"
            ],
            [
             0.5555555555555556,
             "#d8576b"
            ],
            [
             0.6666666666666666,
             "#ed7953"
            ],
            [
             0.7777777777777778,
             "#fb9f3a"
            ],
            [
             0.8888888888888888,
             "#fdca26"
            ],
            [
             1,
             "#f0f921"
            ]
           ]
          },
          "colorway": [
           "#636efa",
           "#EF553B",
           "#00cc96",
           "#ab63fa",
           "#FFA15A",
           "#19d3f3",
           "#FF6692",
           "#B6E880",
           "#FF97FF",
           "#FECB52"
          ],
          "font": {
           "color": "#2a3f5f"
          },
          "geo": {
           "bgcolor": "white",
           "lakecolor": "white",
           "landcolor": "#E5ECF6",
           "showlakes": true,
           "showland": true,
           "subunitcolor": "white"
          },
          "hoverlabel": {
           "align": "left"
          },
          "hovermode": "closest",
          "mapbox": {
           "style": "light"
          },
          "paper_bgcolor": "white",
          "plot_bgcolor": "#E5ECF6",
          "polar": {
           "angularaxis": {
            "gridcolor": "white",
            "linecolor": "white",
            "ticks": ""
           },
           "bgcolor": "#E5ECF6",
           "radialaxis": {
            "gridcolor": "white",
            "linecolor": "white",
            "ticks": ""
           }
          },
          "scene": {
           "xaxis": {
            "backgroundcolor": "#E5ECF6",
            "gridcolor": "white",
            "gridwidth": 2,
            "linecolor": "white",
            "showbackground": true,
            "ticks": "",
            "zerolinecolor": "white"
           },
           "yaxis": {
            "backgroundcolor": "#E5ECF6",
            "gridcolor": "white",
            "gridwidth": 2,
            "linecolor": "white",
            "showbackground": true,
            "ticks": "",
            "zerolinecolor": "white"
           },
           "zaxis": {
            "backgroundcolor": "#E5ECF6",
            "gridcolor": "white",
            "gridwidth": 2,
            "linecolor": "white",
            "showbackground": true,
            "ticks": "",
            "zerolinecolor": "white"
           }
          },
          "shapedefaults": {
           "line": {
            "color": "#2a3f5f"
           }
          },
          "ternary": {
           "aaxis": {
            "gridcolor": "white",
            "linecolor": "white",
            "ticks": ""
           },
           "baxis": {
            "gridcolor": "white",
            "linecolor": "white",
            "ticks": ""
           },
           "bgcolor": "#E5ECF6",
           "caxis": {
            "gridcolor": "white",
            "linecolor": "white",
            "ticks": ""
           }
          },
          "title": {
           "x": 0.05
          },
          "xaxis": {
           "automargin": true,
           "gridcolor": "white",
           "linecolor": "white",
           "ticks": "",
           "title": {
            "standoff": 15
           },
           "zerolinecolor": "white",
           "zerolinewidth": 2
          },
          "yaxis": {
           "automargin": true,
           "gridcolor": "white",
           "linecolor": "white",
           "ticks": "",
           "title": {
            "standoff": 15
           },
           "zerolinecolor": "white",
           "zerolinewidth": 2
          }
         }
        },
        "title": {
         "text": "States with more flights between 1999 and 2000"
        }
       }
      }
     },
     "metadata": {},
     "output_type": "display_data"
    }
   ],
   "source": [
    "fig = go.Figure(data=go.Choropleth(\n",
    "    locations= moreflightstates.reset_index()['state'], # Spatial coordinates\n",
    "    z = moreflightstates['gap'].astype(float), # Data to be color-coded\n",
    "    locationmode = 'USA-states', # set of locations match entries in `locations`\n",
    "    colorscale = 'greens',\n",
    "    colorbar_title = \"Number of flights\",\n",
    "))\n",
    "\n",
    "fig.update_layout(\n",
    "    title_text = 'States with more flights between 1999 and 2000',\n",
    "    geo_scope='usa', # limite map scope to USA\n",
    ")\n",
    "\n",
    "fig.show()"
   ]
  },
  {
   "cell_type": "code",
   "execution_count": 27,
   "metadata": {},
   "outputs": [
    {
     "data": {
      "application/vnd.plotly.v1+json": {
       "config": {
        "plotlyServerURL": "https://plot.ly"
       },
       "data": [
        {
         "colorbar": {
          "title": {
           "text": "Number of flights"
          }
         },
         "colorscale": [
          [
           0,
           "rgb(252,251,253)"
          ],
          [
           0.125,
           "rgb(239,237,245)"
          ],
          [
           0.25,
           "rgb(218,218,235)"
          ],
          [
           0.375,
           "rgb(188,189,220)"
          ],
          [
           0.5,
           "rgb(158,154,200)"
          ],
          [
           0.625,
           "rgb(128,125,186)"
          ],
          [
           0.75,
           "rgb(106,81,163)"
          ],
          [
           0.875,
           "rgb(84,39,143)"
          ],
          [
           1,
           "rgb(63,0,125)"
          ]
         ],
         "locationmode": "USA-states",
         "locations": [
          "AK",
          "AL",
          "CO",
          "GA",
          "IA",
          "IL",
          "IN",
          "KY",
          "ME",
          "MI",
          "MO",
          "MS",
          "ND",
          "NE",
          "NJ",
          "NM",
          "OH",
          "OR",
          "SD",
          "TX",
          "UT",
          "VA",
          "VI",
          "VT",
          "WI",
          "WV"
         ],
         "type": "choropleth",
         "z": [
          469,
          1466,
          128,
          1021,
          586,
          2994,
          137,
          4637,
          16,
          2058,
          4665,
          300,
          419,
          18,
          1776,
          987,
          4010,
          168,
          328,
          4008,
          1819,
          2201,
          143,
          57,
          345,
          122
         ]
        }
       ],
       "layout": {
        "geo": {
         "scope": "usa"
        },
        "template": {
         "data": {
          "bar": [
           {
            "error_x": {
             "color": "#2a3f5f"
            },
            "error_y": {
             "color": "#2a3f5f"
            },
            "marker": {
             "line": {
              "color": "#E5ECF6",
              "width": 0.5
             },
             "pattern": {
              "fillmode": "overlay",
              "size": 10,
              "solidity": 0.2
             }
            },
            "type": "bar"
           }
          ],
          "barpolar": [
           {
            "marker": {
             "line": {
              "color": "#E5ECF6",
              "width": 0.5
             },
             "pattern": {
              "fillmode": "overlay",
              "size": 10,
              "solidity": 0.2
             }
            },
            "type": "barpolar"
           }
          ],
          "carpet": [
           {
            "aaxis": {
             "endlinecolor": "#2a3f5f",
             "gridcolor": "white",
             "linecolor": "white",
             "minorgridcolor": "white",
             "startlinecolor": "#2a3f5f"
            },
            "baxis": {
             "endlinecolor": "#2a3f5f",
             "gridcolor": "white",
             "linecolor": "white",
             "minorgridcolor": "white",
             "startlinecolor": "#2a3f5f"
            },
            "type": "carpet"
           }
          ],
          "choropleth": [
           {
            "colorbar": {
             "outlinewidth": 0,
             "ticks": ""
            },
            "type": "choropleth"
           }
          ],
          "contour": [
           {
            "colorbar": {
             "outlinewidth": 0,
             "ticks": ""
            },
            "colorscale": [
             [
              0,
              "#0d0887"
             ],
             [
              0.1111111111111111,
              "#46039f"
             ],
             [
              0.2222222222222222,
              "#7201a8"
             ],
             [
              0.3333333333333333,
              "#9c179e"
             ],
             [
              0.4444444444444444,
              "#bd3786"
             ],
             [
              0.5555555555555556,
              "#d8576b"
             ],
             [
              0.6666666666666666,
              "#ed7953"
             ],
             [
              0.7777777777777778,
              "#fb9f3a"
             ],
             [
              0.8888888888888888,
              "#fdca26"
             ],
             [
              1,
              "#f0f921"
             ]
            ],
            "type": "contour"
           }
          ],
          "contourcarpet": [
           {
            "colorbar": {
             "outlinewidth": 0,
             "ticks": ""
            },
            "type": "contourcarpet"
           }
          ],
          "heatmap": [
           {
            "colorbar": {
             "outlinewidth": 0,
             "ticks": ""
            },
            "colorscale": [
             [
              0,
              "#0d0887"
             ],
             [
              0.1111111111111111,
              "#46039f"
             ],
             [
              0.2222222222222222,
              "#7201a8"
             ],
             [
              0.3333333333333333,
              "#9c179e"
             ],
             [
              0.4444444444444444,
              "#bd3786"
             ],
             [
              0.5555555555555556,
              "#d8576b"
             ],
             [
              0.6666666666666666,
              "#ed7953"
             ],
             [
              0.7777777777777778,
              "#fb9f3a"
             ],
             [
              0.8888888888888888,
              "#fdca26"
             ],
             [
              1,
              "#f0f921"
             ]
            ],
            "type": "heatmap"
           }
          ],
          "heatmapgl": [
           {
            "colorbar": {
             "outlinewidth": 0,
             "ticks": ""
            },
            "colorscale": [
             [
              0,
              "#0d0887"
             ],
             [
              0.1111111111111111,
              "#46039f"
             ],
             [
              0.2222222222222222,
              "#7201a8"
             ],
             [
              0.3333333333333333,
              "#9c179e"
             ],
             [
              0.4444444444444444,
              "#bd3786"
             ],
             [
              0.5555555555555556,
              "#d8576b"
             ],
             [
              0.6666666666666666,
              "#ed7953"
             ],
             [
              0.7777777777777778,
              "#fb9f3a"
             ],
             [
              0.8888888888888888,
              "#fdca26"
             ],
             [
              1,
              "#f0f921"
             ]
            ],
            "type": "heatmapgl"
           }
          ],
          "histogram": [
           {
            "marker": {
             "pattern": {
              "fillmode": "overlay",
              "size": 10,
              "solidity": 0.2
             }
            },
            "type": "histogram"
           }
          ],
          "histogram2d": [
           {
            "colorbar": {
             "outlinewidth": 0,
             "ticks": ""
            },
            "colorscale": [
             [
              0,
              "#0d0887"
             ],
             [
              0.1111111111111111,
              "#46039f"
             ],
             [
              0.2222222222222222,
              "#7201a8"
             ],
             [
              0.3333333333333333,
              "#9c179e"
             ],
             [
              0.4444444444444444,
              "#bd3786"
             ],
             [
              0.5555555555555556,
              "#d8576b"
             ],
             [
              0.6666666666666666,
              "#ed7953"
             ],
             [
              0.7777777777777778,
              "#fb9f3a"
             ],
             [
              0.8888888888888888,
              "#fdca26"
             ],
             [
              1,
              "#f0f921"
             ]
            ],
            "type": "histogram2d"
           }
          ],
          "histogram2dcontour": [
           {
            "colorbar": {
             "outlinewidth": 0,
             "ticks": ""
            },
            "colorscale": [
             [
              0,
              "#0d0887"
             ],
             [
              0.1111111111111111,
              "#46039f"
             ],
             [
              0.2222222222222222,
              "#7201a8"
             ],
             [
              0.3333333333333333,
              "#9c179e"
             ],
             [
              0.4444444444444444,
              "#bd3786"
             ],
             [
              0.5555555555555556,
              "#d8576b"
             ],
             [
              0.6666666666666666,
              "#ed7953"
             ],
             [
              0.7777777777777778,
              "#fb9f3a"
             ],
             [
              0.8888888888888888,
              "#fdca26"
             ],
             [
              1,
              "#f0f921"
             ]
            ],
            "type": "histogram2dcontour"
           }
          ],
          "mesh3d": [
           {
            "colorbar": {
             "outlinewidth": 0,
             "ticks": ""
            },
            "type": "mesh3d"
           }
          ],
          "parcoords": [
           {
            "line": {
             "colorbar": {
              "outlinewidth": 0,
              "ticks": ""
             }
            },
            "type": "parcoords"
           }
          ],
          "pie": [
           {
            "automargin": true,
            "type": "pie"
           }
          ],
          "scatter": [
           {
            "marker": {
             "colorbar": {
              "outlinewidth": 0,
              "ticks": ""
             }
            },
            "type": "scatter"
           }
          ],
          "scatter3d": [
           {
            "line": {
             "colorbar": {
              "outlinewidth": 0,
              "ticks": ""
             }
            },
            "marker": {
             "colorbar": {
              "outlinewidth": 0,
              "ticks": ""
             }
            },
            "type": "scatter3d"
           }
          ],
          "scattercarpet": [
           {
            "marker": {
             "colorbar": {
              "outlinewidth": 0,
              "ticks": ""
             }
            },
            "type": "scattercarpet"
           }
          ],
          "scattergeo": [
           {
            "marker": {
             "colorbar": {
              "outlinewidth": 0,
              "ticks": ""
             }
            },
            "type": "scattergeo"
           }
          ],
          "scattergl": [
           {
            "marker": {
             "colorbar": {
              "outlinewidth": 0,
              "ticks": ""
             }
            },
            "type": "scattergl"
           }
          ],
          "scattermapbox": [
           {
            "marker": {
             "colorbar": {
              "outlinewidth": 0,
              "ticks": ""
             }
            },
            "type": "scattermapbox"
           }
          ],
          "scatterpolar": [
           {
            "marker": {
             "colorbar": {
              "outlinewidth": 0,
              "ticks": ""
             }
            },
            "type": "scatterpolar"
           }
          ],
          "scatterpolargl": [
           {
            "marker": {
             "colorbar": {
              "outlinewidth": 0,
              "ticks": ""
             }
            },
            "type": "scatterpolargl"
           }
          ],
          "scatterternary": [
           {
            "marker": {
             "colorbar": {
              "outlinewidth": 0,
              "ticks": ""
             }
            },
            "type": "scatterternary"
           }
          ],
          "surface": [
           {
            "colorbar": {
             "outlinewidth": 0,
             "ticks": ""
            },
            "colorscale": [
             [
              0,
              "#0d0887"
             ],
             [
              0.1111111111111111,
              "#46039f"
             ],
             [
              0.2222222222222222,
              "#7201a8"
             ],
             [
              0.3333333333333333,
              "#9c179e"
             ],
             [
              0.4444444444444444,
              "#bd3786"
             ],
             [
              0.5555555555555556,
              "#d8576b"
             ],
             [
              0.6666666666666666,
              "#ed7953"
             ],
             [
              0.7777777777777778,
              "#fb9f3a"
             ],
             [
              0.8888888888888888,
              "#fdca26"
             ],
             [
              1,
              "#f0f921"
             ]
            ],
            "type": "surface"
           }
          ],
          "table": [
           {
            "cells": {
             "fill": {
              "color": "#EBF0F8"
             },
             "line": {
              "color": "white"
             }
            },
            "header": {
             "fill": {
              "color": "#C8D4E3"
             },
             "line": {
              "color": "white"
             }
            },
            "type": "table"
           }
          ]
         },
         "layout": {
          "annotationdefaults": {
           "arrowcolor": "#2a3f5f",
           "arrowhead": 0,
           "arrowwidth": 1
          },
          "autotypenumbers": "strict",
          "coloraxis": {
           "colorbar": {
            "outlinewidth": 0,
            "ticks": ""
           }
          },
          "colorscale": {
           "diverging": [
            [
             0,
             "#8e0152"
            ],
            [
             0.1,
             "#c51b7d"
            ],
            [
             0.2,
             "#de77ae"
            ],
            [
             0.3,
             "#f1b6da"
            ],
            [
             0.4,
             "#fde0ef"
            ],
            [
             0.5,
             "#f7f7f7"
            ],
            [
             0.6,
             "#e6f5d0"
            ],
            [
             0.7,
             "#b8e186"
            ],
            [
             0.8,
             "#7fbc41"
            ],
            [
             0.9,
             "#4d9221"
            ],
            [
             1,
             "#276419"
            ]
           ],
           "sequential": [
            [
             0,
             "#0d0887"
            ],
            [
             0.1111111111111111,
             "#46039f"
            ],
            [
             0.2222222222222222,
             "#7201a8"
            ],
            [
             0.3333333333333333,
             "#9c179e"
            ],
            [
             0.4444444444444444,
             "#bd3786"
            ],
            [
             0.5555555555555556,
             "#d8576b"
            ],
            [
             0.6666666666666666,
             "#ed7953"
            ],
            [
             0.7777777777777778,
             "#fb9f3a"
            ],
            [
             0.8888888888888888,
             "#fdca26"
            ],
            [
             1,
             "#f0f921"
            ]
           ],
           "sequentialminus": [
            [
             0,
             "#0d0887"
            ],
            [
             0.1111111111111111,
             "#46039f"
            ],
            [
             0.2222222222222222,
             "#7201a8"
            ],
            [
             0.3333333333333333,
             "#9c179e"
            ],
            [
             0.4444444444444444,
             "#bd3786"
            ],
            [
             0.5555555555555556,
             "#d8576b"
            ],
            [
             0.6666666666666666,
             "#ed7953"
            ],
            [
             0.7777777777777778,
             "#fb9f3a"
            ],
            [
             0.8888888888888888,
             "#fdca26"
            ],
            [
             1,
             "#f0f921"
            ]
           ]
          },
          "colorway": [
           "#636efa",
           "#EF553B",
           "#00cc96",
           "#ab63fa",
           "#FFA15A",
           "#19d3f3",
           "#FF6692",
           "#B6E880",
           "#FF97FF",
           "#FECB52"
          ],
          "font": {
           "color": "#2a3f5f"
          },
          "geo": {
           "bgcolor": "white",
           "lakecolor": "white",
           "landcolor": "#E5ECF6",
           "showlakes": true,
           "showland": true,
           "subunitcolor": "white"
          },
          "hoverlabel": {
           "align": "left"
          },
          "hovermode": "closest",
          "mapbox": {
           "style": "light"
          },
          "paper_bgcolor": "white",
          "plot_bgcolor": "#E5ECF6",
          "polar": {
           "angularaxis": {
            "gridcolor": "white",
            "linecolor": "white",
            "ticks": ""
           },
           "bgcolor": "#E5ECF6",
           "radialaxis": {
            "gridcolor": "white",
            "linecolor": "white",
            "ticks": ""
           }
          },
          "scene": {
           "xaxis": {
            "backgroundcolor": "#E5ECF6",
            "gridcolor": "white",
            "gridwidth": 2,
            "linecolor": "white",
            "showbackground": true,
            "ticks": "",
            "zerolinecolor": "white"
           },
           "yaxis": {
            "backgroundcolor": "#E5ECF6",
            "gridcolor": "white",
            "gridwidth": 2,
            "linecolor": "white",
            "showbackground": true,
            "ticks": "",
            "zerolinecolor": "white"
           },
           "zaxis": {
            "backgroundcolor": "#E5ECF6",
            "gridcolor": "white",
            "gridwidth": 2,
            "linecolor": "white",
            "showbackground": true,
            "ticks": "",
            "zerolinecolor": "white"
           }
          },
          "shapedefaults": {
           "line": {
            "color": "#2a3f5f"
           }
          },
          "ternary": {
           "aaxis": {
            "gridcolor": "white",
            "linecolor": "white",
            "ticks": ""
           },
           "baxis": {
            "gridcolor": "white",
            "linecolor": "white",
            "ticks": ""
           },
           "bgcolor": "#E5ECF6",
           "caxis": {
            "gridcolor": "white",
            "linecolor": "white",
            "ticks": ""
           }
          },
          "title": {
           "x": 0.05
          },
          "xaxis": {
           "automargin": true,
           "gridcolor": "white",
           "linecolor": "white",
           "ticks": "",
           "title": {
            "standoff": 15
           },
           "zerolinecolor": "white",
           "zerolinewidth": 2
          },
          "yaxis": {
           "automargin": true,
           "gridcolor": "white",
           "linecolor": "white",
           "ticks": "",
           "title": {
            "standoff": 15
           },
           "zerolinecolor": "white",
           "zerolinewidth": 2
          }
         }
        },
        "title": {
         "text": "States with less flights between 1999 and 2000"
        }
       }
      }
     },
     "metadata": {},
     "output_type": "display_data"
    }
   ],
   "source": [
    "fig = go.Figure(data=go.Choropleth(\n",
    "    locations= lessflightstates.reset_index()['state'], # Spatial coordinates\n",
    "    z = lessflightstates['gap'].astype(float), # Data to be color-coded\n",
    "    locationmode = 'USA-states', # set of locations match entries in `locations`\n",
    "    colorscale = 'purples',\n",
    "    colorbar_title = \"Number of flights\",\n",
    "))\n",
    "\n",
    "fig.update_layout(\n",
    "    title_text = 'States with less flights between 1999 and 2000',\n",
    "    geo_scope='usa', # limite map scope to USA\n",
    ")\n",
    "\n",
    "fig.show()"
   ]
  },
  {
   "cell_type": "markdown",
   "metadata": {},
   "source": [
    "## Question 4"
   ]
  },
  {
   "cell_type": "code",
   "execution_count": 28,
   "metadata": {},
   "outputs": [
    {
     "data": {
      "text/html": [
       "<div>\n",
       "<style scoped>\n",
       "    .dataframe tbody tr th:only-of-type {\n",
       "        vertical-align: middle;\n",
       "    }\n",
       "\n",
       "    .dataframe tbody tr th {\n",
       "        vertical-align: top;\n",
       "    }\n",
       "\n",
       "    .dataframe thead th {\n",
       "        text-align: right;\n",
       "    }\n",
       "</style>\n",
       "<table border=\"1\" class=\"dataframe\">\n",
       "  <thead>\n",
       "    <tr style=\"text-align: right;\">\n",
       "      <th></th>\n",
       "      <th>Number_of_flights</th>\n",
       "    </tr>\n",
       "    <tr>\n",
       "      <th>TailNum</th>\n",
       "      <th></th>\n",
       "    </tr>\n",
       "  </thead>\n",
       "  <tbody>\n",
       "    <tr>\n",
       "      <th>N513</th>\n",
       "      <td>6665</td>\n",
       "    </tr>\n",
       "    <tr>\n",
       "      <th>N103</th>\n",
       "      <td>6514</td>\n",
       "    </tr>\n",
       "    <tr>\n",
       "      <th>N512</th>\n",
       "      <td>6505</td>\n",
       "    </tr>\n",
       "    <tr>\n",
       "      <th>N514</th>\n",
       "      <td>6485</td>\n",
       "    </tr>\n",
       "    <tr>\n",
       "      <th>N93</th>\n",
       "      <td>6482</td>\n",
       "    </tr>\n",
       "    <tr>\n",
       "      <th>N525</th>\n",
       "      <td>6460</td>\n",
       "    </tr>\n",
       "  </tbody>\n",
       "</table>\n",
       "</div>"
      ],
      "text/plain": [
       "         Number_of_flights\n",
       "TailNum                   \n",
       "N513                  6665\n",
       "N103                  6514\n",
       "N512                  6505\n",
       "N514                  6485\n",
       "N93                   6482\n",
       "N525                  6460"
      ]
     },
     "execution_count": 28,
     "metadata": {},
     "output_type": "execute_result"
    }
   ],
   "source": [
    "dataset_modified[dataset_modified.Cancelled == 0].groupby('TailNum').agg({'DepTime':'count'}).rename(columns = {'DepTime':'Number_of_flights'}).sort_values('Number_of_flights',ascending = False).head(6)"
   ]
  },
  {
   "cell_type": "code",
   "execution_count": 29,
   "metadata": {},
   "outputs": [
    {
     "data": {
      "text/html": [
       "<div>\n",
       "<style scoped>\n",
       "    .dataframe tbody tr th:only-of-type {\n",
       "        vertical-align: middle;\n",
       "    }\n",
       "\n",
       "    .dataframe tbody tr th {\n",
       "        vertical-align: top;\n",
       "    }\n",
       "\n",
       "    .dataframe thead th {\n",
       "        text-align: right;\n",
       "    }\n",
       "</style>\n",
       "<table border=\"1\" class=\"dataframe\">\n",
       "  <thead>\n",
       "    <tr style=\"text-align: right;\">\n",
       "      <th></th>\n",
       "      <th>Year</th>\n",
       "      <th>Month</th>\n",
       "      <th>DayofMonth</th>\n",
       "      <th>CRSDepTime</th>\n",
       "      <th>CRSArrTime</th>\n",
       "      <th>DepDelay</th>\n",
       "      <th>ArrDelay</th>\n",
       "    </tr>\n",
       "  </thead>\n",
       "  <tbody>\n",
       "    <tr>\n",
       "      <th>173297</th>\n",
       "      <td>1999</td>\n",
       "      <td>1</td>\n",
       "      <td>1</td>\n",
       "      <td>1020</td>\n",
       "      <td>1120</td>\n",
       "      <td>0.0</td>\n",
       "      <td>-13.0</td>\n",
       "    </tr>\n",
       "    <tr>\n",
       "      <th>288845</th>\n",
       "      <td>1999</td>\n",
       "      <td>1</td>\n",
       "      <td>1</td>\n",
       "      <td>1140</td>\n",
       "      <td>1245</td>\n",
       "      <td>7.0</td>\n",
       "      <td>5.0</td>\n",
       "    </tr>\n",
       "    <tr>\n",
       "      <th>172794</th>\n",
       "      <td>1999</td>\n",
       "      <td>1</td>\n",
       "      <td>1</td>\n",
       "      <td>1600</td>\n",
       "      <td>1700</td>\n",
       "      <td>0.0</td>\n",
       "      <td>-2.0</td>\n",
       "    </tr>\n",
       "    <tr>\n",
       "      <th>108202</th>\n",
       "      <td>1999</td>\n",
       "      <td>1</td>\n",
       "      <td>1</td>\n",
       "      <td>1725</td>\n",
       "      <td>1950</td>\n",
       "      <td>0.0</td>\n",
       "      <td>-5.0</td>\n",
       "    </tr>\n",
       "    <tr>\n",
       "      <th>312813</th>\n",
       "      <td>1999</td>\n",
       "      <td>1</td>\n",
       "      <td>1</td>\n",
       "      <td>2010</td>\n",
       "      <td>2055</td>\n",
       "      <td>0.0</td>\n",
       "      <td>-8.0</td>\n",
       "    </tr>\n",
       "    <tr>\n",
       "      <th>277558</th>\n",
       "      <td>1999</td>\n",
       "      <td>1</td>\n",
       "      <td>2</td>\n",
       "      <td>630</td>\n",
       "      <td>735</td>\n",
       "      <td>0.0</td>\n",
       "      <td>5.0</td>\n",
       "    </tr>\n",
       "    <tr>\n",
       "      <th>398608</th>\n",
       "      <td>1999</td>\n",
       "      <td>1</td>\n",
       "      <td>2</td>\n",
       "      <td>800</td>\n",
       "      <td>1025</td>\n",
       "      <td>0.0</td>\n",
       "      <td>3.0</td>\n",
       "    </tr>\n",
       "    <tr>\n",
       "      <th>47338</th>\n",
       "      <td>1999</td>\n",
       "      <td>1</td>\n",
       "      <td>2</td>\n",
       "      <td>1100</td>\n",
       "      <td>1240</td>\n",
       "      <td>0.0</td>\n",
       "      <td>7.0</td>\n",
       "    </tr>\n",
       "    <tr>\n",
       "      <th>15732</th>\n",
       "      <td>1999</td>\n",
       "      <td>1</td>\n",
       "      <td>2</td>\n",
       "      <td>1510</td>\n",
       "      <td>1645</td>\n",
       "      <td>0.0</td>\n",
       "      <td>-7.0</td>\n",
       "    </tr>\n",
       "    <tr>\n",
       "      <th>324304</th>\n",
       "      <td>1999</td>\n",
       "      <td>1</td>\n",
       "      <td>2</td>\n",
       "      <td>1550</td>\n",
       "      <td>1550</td>\n",
       "      <td>70.0</td>\n",
       "      <td>66.0</td>\n",
       "    </tr>\n",
       "    <tr>\n",
       "      <th>7317</th>\n",
       "      <td>1999</td>\n",
       "      <td>1</td>\n",
       "      <td>2</td>\n",
       "      <td>1615</td>\n",
       "      <td>1815</td>\n",
       "      <td>72.0</td>\n",
       "      <td>63.0</td>\n",
       "    </tr>\n",
       "    <tr>\n",
       "      <th>184938</th>\n",
       "      <td>1999</td>\n",
       "      <td>1</td>\n",
       "      <td>3</td>\n",
       "      <td>835</td>\n",
       "      <td>840</td>\n",
       "      <td>0.0</td>\n",
       "      <td>12.0</td>\n",
       "    </tr>\n",
       "    <tr>\n",
       "      <th>177441</th>\n",
       "      <td>1999</td>\n",
       "      <td>1</td>\n",
       "      <td>3</td>\n",
       "      <td>900</td>\n",
       "      <td>1010</td>\n",
       "      <td>11.0</td>\n",
       "      <td>14.0</td>\n",
       "    </tr>\n",
       "    <tr>\n",
       "      <th>334679</th>\n",
       "      <td>1999</td>\n",
       "      <td>1</td>\n",
       "      <td>3</td>\n",
       "      <td>1000</td>\n",
       "      <td>1115</td>\n",
       "      <td>60.0</td>\n",
       "      <td>65.0</td>\n",
       "    </tr>\n",
       "    <tr>\n",
       "      <th>32886</th>\n",
       "      <td>1999</td>\n",
       "      <td>1</td>\n",
       "      <td>3</td>\n",
       "      <td>1200</td>\n",
       "      <td>1315</td>\n",
       "      <td>48.0</td>\n",
       "      <td>51.0</td>\n",
       "    </tr>\n",
       "    <tr>\n",
       "      <th>382564</th>\n",
       "      <td>1999</td>\n",
       "      <td>1</td>\n",
       "      <td>3</td>\n",
       "      <td>1335</td>\n",
       "      <td>1535</td>\n",
       "      <td>50.0</td>\n",
       "      <td>52.0</td>\n",
       "    </tr>\n",
       "    <tr>\n",
       "      <th>279895</th>\n",
       "      <td>1999</td>\n",
       "      <td>1</td>\n",
       "      <td>3</td>\n",
       "      <td>1555</td>\n",
       "      <td>1550</td>\n",
       "      <td>55.0</td>\n",
       "      <td>59.0</td>\n",
       "    </tr>\n",
       "    <tr>\n",
       "      <th>382257</th>\n",
       "      <td>1999</td>\n",
       "      <td>1</td>\n",
       "      <td>3</td>\n",
       "      <td>1615</td>\n",
       "      <td>1810</td>\n",
       "      <td>59.0</td>\n",
       "      <td>54.0</td>\n",
       "    </tr>\n",
       "    <tr>\n",
       "      <th>32242</th>\n",
       "      <td>1999</td>\n",
       "      <td>1</td>\n",
       "      <td>3</td>\n",
       "      <td>1830</td>\n",
       "      <td>1830</td>\n",
       "      <td>49.0</td>\n",
       "      <td>43.0</td>\n",
       "    </tr>\n",
       "    <tr>\n",
       "      <th>338588</th>\n",
       "      <td>1999</td>\n",
       "      <td>1</td>\n",
       "      <td>3</td>\n",
       "      <td>1855</td>\n",
       "      <td>2015</td>\n",
       "      <td>43.0</td>\n",
       "      <td>38.0</td>\n",
       "    </tr>\n",
       "  </tbody>\n",
       "</table>\n",
       "</div>"
      ],
      "text/plain": [
       "        Year  Month  DayofMonth  CRSDepTime  CRSArrTime  DepDelay  ArrDelay\n",
       "173297  1999      1           1        1020        1120       0.0     -13.0\n",
       "288845  1999      1           1        1140        1245       7.0       5.0\n",
       "172794  1999      1           1        1600        1700       0.0      -2.0\n",
       "108202  1999      1           1        1725        1950       0.0      -5.0\n",
       "312813  1999      1           1        2010        2055       0.0      -8.0\n",
       "277558  1999      1           2         630         735       0.0       5.0\n",
       "398608  1999      1           2         800        1025       0.0       3.0\n",
       "47338   1999      1           2        1100        1240       0.0       7.0\n",
       "15732   1999      1           2        1510        1645       0.0      -7.0\n",
       "324304  1999      1           2        1550        1550      70.0      66.0\n",
       "7317    1999      1           2        1615        1815      72.0      63.0\n",
       "184938  1999      1           3         835         840       0.0      12.0\n",
       "177441  1999      1           3         900        1010      11.0      14.0\n",
       "334679  1999      1           3        1000        1115      60.0      65.0\n",
       "32886   1999      1           3        1200        1315      48.0      51.0\n",
       "382564  1999      1           3        1335        1535      50.0      52.0\n",
       "279895  1999      1           3        1555        1550      55.0      59.0\n",
       "382257  1999      1           3        1615        1810      59.0      54.0\n",
       "32242   1999      1           3        1830        1830      49.0      43.0\n",
       "338588  1999      1           3        1855        2015      43.0      38.0"
      ]
     },
     "execution_count": 29,
     "metadata": {},
     "output_type": "execute_result"
    }
   ],
   "source": [
    "dataset_modified[(dataset_modified.TailNum == 'N513')&(dataset_modified.Cancelled == 0)&(dataset_modified.Diverted == 0)][list(['Year','Month','DayofMonth','CRSDepTime','CRSArrTime','DepDelay','ArrDelay'])].sort_values(['Year','Month','DayofMonth','CRSDepTime']).head(20)"
   ]
  },
  {
   "cell_type": "code",
   "execution_count": 30,
   "metadata": {},
   "outputs": [
    {
     "data": {
      "text/html": [
       "<div>\n",
       "<style scoped>\n",
       "    .dataframe tbody tr th:only-of-type {\n",
       "        vertical-align: middle;\n",
       "    }\n",
       "\n",
       "    .dataframe tbody tr th {\n",
       "        vertical-align: top;\n",
       "    }\n",
       "\n",
       "    .dataframe thead th {\n",
       "        text-align: right;\n",
       "    }\n",
       "</style>\n",
       "<table border=\"1\" class=\"dataframe\">\n",
       "  <thead>\n",
       "    <tr style=\"text-align: right;\">\n",
       "      <th></th>\n",
       "      <th>Number_of_flights</th>\n",
       "    </tr>\n",
       "    <tr>\n",
       "      <th>Origin</th>\n",
       "      <th></th>\n",
       "    </tr>\n",
       "  </thead>\n",
       "  <tbody>\n",
       "    <tr>\n",
       "      <th>ABE</th>\n",
       "      <td>2745</td>\n",
       "    </tr>\n",
       "    <tr>\n",
       "      <th>ABQ</th>\n",
       "      <td>22402</td>\n",
       "    </tr>\n",
       "    <tr>\n",
       "      <th>ADQ</th>\n",
       "      <td>528</td>\n",
       "    </tr>\n",
       "    <tr>\n",
       "      <th>AGS</th>\n",
       "      <td>492</td>\n",
       "    </tr>\n",
       "    <tr>\n",
       "      <th>AKN</th>\n",
       "      <td>240</td>\n",
       "    </tr>\n",
       "  </tbody>\n",
       "</table>\n",
       "</div>"
      ],
      "text/plain": [
       "        Number_of_flights\n",
       "Origin                   \n",
       "ABE                  2745\n",
       "ABQ                 22402\n",
       "ADQ                   528\n",
       "AGS                   492\n",
       "AKN                   240"
      ]
     },
     "execution_count": 30,
     "metadata": {},
     "output_type": "execute_result"
    }
   ],
   "source": [
    "airport_flightnum = dataset_modified.loc[(dataset_modified.DepDelay > 0)&(dataset_modified.ArrDelay > 0)].groupby('Origin').agg({'DepTime':'count'}).rename(columns = {'DepTime':'Number_of_flights'})\n",
    "airport_flightnum.head()"
   ]
  },
  {
   "cell_type": "code",
   "execution_count": 31,
   "metadata": {},
   "outputs": [
    {
     "data": {
      "text/html": [
       "<div>\n",
       "<style scoped>\n",
       "    .dataframe tbody tr th:only-of-type {\n",
       "        vertical-align: middle;\n",
       "    }\n",
       "\n",
       "    .dataframe tbody tr th {\n",
       "        vertical-align: top;\n",
       "    }\n",
       "\n",
       "    .dataframe thead th {\n",
       "        text-align: right;\n",
       "    }\n",
       "</style>\n",
       "<table border=\"1\" class=\"dataframe\">\n",
       "  <thead>\n",
       "    <tr style=\"text-align: right;\">\n",
       "      <th></th>\n",
       "      <th>Number_of_airports</th>\n",
       "    </tr>\n",
       "    <tr>\n",
       "      <th>Origin</th>\n",
       "      <th></th>\n",
       "    </tr>\n",
       "  </thead>\n",
       "  <tbody>\n",
       "    <tr>\n",
       "      <th>ABE</th>\n",
       "      <td>7</td>\n",
       "    </tr>\n",
       "    <tr>\n",
       "      <th>ABQ</th>\n",
       "      <td>28</td>\n",
       "    </tr>\n",
       "    <tr>\n",
       "      <th>ADQ</th>\n",
       "      <td>1</td>\n",
       "    </tr>\n",
       "    <tr>\n",
       "      <th>AGS</th>\n",
       "      <td>2</td>\n",
       "    </tr>\n",
       "    <tr>\n",
       "      <th>AKN</th>\n",
       "      <td>2</td>\n",
       "    </tr>\n",
       "    <tr>\n",
       "      <th>...</th>\n",
       "      <td>...</td>\n",
       "    </tr>\n",
       "    <tr>\n",
       "      <th>TVC</th>\n",
       "      <td>2</td>\n",
       "    </tr>\n",
       "    <tr>\n",
       "      <th>TYS</th>\n",
       "      <td>9</td>\n",
       "    </tr>\n",
       "    <tr>\n",
       "      <th>VPS</th>\n",
       "      <td>1</td>\n",
       "    </tr>\n",
       "    <tr>\n",
       "      <th>WRG</th>\n",
       "      <td>2</td>\n",
       "    </tr>\n",
       "    <tr>\n",
       "      <th>YAK</th>\n",
       "      <td>2</td>\n",
       "    </tr>\n",
       "  </tbody>\n",
       "</table>\n",
       "<p>208 rows × 1 columns</p>\n",
       "</div>"
      ],
      "text/plain": [
       "        Number_of_airports\n",
       "Origin                    \n",
       "ABE                      7\n",
       "ABQ                     28\n",
       "ADQ                      1\n",
       "AGS                      2\n",
       "AKN                      2\n",
       "...                    ...\n",
       "TVC                      2\n",
       "TYS                      9\n",
       "VPS                      1\n",
       "WRG                      2\n",
       "YAK                      2\n",
       "\n",
       "[208 rows x 1 columns]"
      ]
     },
     "execution_count": 31,
     "metadata": {},
     "output_type": "execute_result"
    }
   ],
   "source": [
    "airportaffected= dataset_modified.loc[(dataset_modified.DepDelay > 0)&(dataset_modified.ArrDelay > 0)].groupby('Origin')['Dest'].nunique()\n",
    "airportaffected = airportaffected.to_frame().rename(columns = {'Dest':'Number_of_airports'})\n",
    "airportaffected"
   ]
  },
  {
   "cell_type": "code",
   "execution_count": 32,
   "metadata": {},
   "outputs": [
    {
     "name": "stdout",
     "output_type": "stream",
     "text": [
      "<class 'pandas.core.frame.DataFrame'>\n",
      "Index: 208 entries, ABE to YAK\n",
      "Data columns (total 1 columns):\n",
      " #   Column              Non-Null Count  Dtype\n",
      "---  ------              --------------  -----\n",
      " 0   Number_of_airports  208 non-null    int64\n",
      "dtypes: int64(1)\n",
      "memory usage: 3.2+ KB\n"
     ]
    }
   ],
   "source": [
    "airportaffected.info()"
   ]
  },
  {
   "cell_type": "code",
   "execution_count": 33,
   "metadata": {},
   "outputs": [
    {
     "data": {
      "text/html": [
       "<div>\n",
       "<style scoped>\n",
       "    .dataframe tbody tr th:only-of-type {\n",
       "        vertical-align: middle;\n",
       "    }\n",
       "\n",
       "    .dataframe tbody tr th {\n",
       "        vertical-align: top;\n",
       "    }\n",
       "\n",
       "    .dataframe thead th {\n",
       "        text-align: right;\n",
       "    }\n",
       "</style>\n",
       "<table border=\"1\" class=\"dataframe\">\n",
       "  <thead>\n",
       "    <tr style=\"text-align: right;\">\n",
       "      <th></th>\n",
       "      <th>Number_of_airports</th>\n",
       "      <th>Number_of_flights</th>\n",
       "    </tr>\n",
       "    <tr>\n",
       "      <th>Origin</th>\n",
       "      <th></th>\n",
       "      <th></th>\n",
       "    </tr>\n",
       "  </thead>\n",
       "  <tbody>\n",
       "    <tr>\n",
       "      <th>ORD</th>\n",
       "      <td>98</td>\n",
       "      <td>219545</td>\n",
       "    </tr>\n",
       "    <tr>\n",
       "      <th>ATL</th>\n",
       "      <td>97</td>\n",
       "      <td>208672</td>\n",
       "    </tr>\n",
       "    <tr>\n",
       "      <th>MSP</th>\n",
       "      <td>93</td>\n",
       "      <td>81278</td>\n",
       "    </tr>\n",
       "    <tr>\n",
       "      <th>DFW</th>\n",
       "      <td>91</td>\n",
       "      <td>163660</td>\n",
       "    </tr>\n",
       "    <tr>\n",
       "      <th>IAH</th>\n",
       "      <td>84</td>\n",
       "      <td>80671</td>\n",
       "    </tr>\n",
       "    <tr>\n",
       "      <th>DTW</th>\n",
       "      <td>84</td>\n",
       "      <td>102021</td>\n",
       "    </tr>\n",
       "    <tr>\n",
       "      <th>STL</th>\n",
       "      <td>80</td>\n",
       "      <td>106205</td>\n",
       "    </tr>\n",
       "    <tr>\n",
       "      <th>CLT</th>\n",
       "      <td>70</td>\n",
       "      <td>86363</td>\n",
       "    </tr>\n",
       "    <tr>\n",
       "      <th>PIT</th>\n",
       "      <td>68</td>\n",
       "      <td>73163</td>\n",
       "    </tr>\n",
       "    <tr>\n",
       "      <th>EWR</th>\n",
       "      <td>67</td>\n",
       "      <td>72853</td>\n",
       "    </tr>\n",
       "  </tbody>\n",
       "</table>\n",
       "</div>"
      ],
      "text/plain": [
       "        Number_of_airports  Number_of_flights\n",
       "Origin                                       \n",
       "ORD                     98             219545\n",
       "ATL                     97             208672\n",
       "MSP                     93              81278\n",
       "DFW                     91             163660\n",
       "IAH                     84              80671\n",
       "DTW                     84             102021\n",
       "STL                     80             106205\n",
       "CLT                     70              86363\n",
       "PIT                     68              73163\n",
       "EWR                     67              72853"
      ]
     },
     "execution_count": 33,
     "metadata": {},
     "output_type": "execute_result"
    }
   ],
   "source": [
    "pd.merge(airportaffected, airport_flightnum, left_index= True, right_index= True).sort_values('Number_of_airports', ascending = False).head(10)"
   ]
  },
  {
   "cell_type": "markdown",
   "metadata": {},
   "source": [
    "### Data for graphing network"
   ]
  },
  {
   "cell_type": "code",
   "execution_count": 34,
   "metadata": {},
   "outputs": [
    {
     "data": {
      "text/html": [
       "<div>\n",
       "<style scoped>\n",
       "    .dataframe tbody tr th:only-of-type {\n",
       "        vertical-align: middle;\n",
       "    }\n",
       "\n",
       "    .dataframe tbody tr th {\n",
       "        vertical-align: top;\n",
       "    }\n",
       "\n",
       "    .dataframe thead th {\n",
       "        text-align: right;\n",
       "    }\n",
       "</style>\n",
       "<table border=\"1\" class=\"dataframe\">\n",
       "  <thead>\n",
       "    <tr style=\"text-align: right;\">\n",
       "      <th></th>\n",
       "      <th>Origin</th>\n",
       "      <th>Dest</th>\n",
       "      <th>Number_of_flights</th>\n",
       "    </tr>\n",
       "  </thead>\n",
       "  <tbody>\n",
       "    <tr>\n",
       "      <th>0</th>\n",
       "      <td>ABQ</td>\n",
       "      <td>DAL</td>\n",
       "      <td>1513</td>\n",
       "    </tr>\n",
       "    <tr>\n",
       "      <th>1</th>\n",
       "      <td>ABQ</td>\n",
       "      <td>DEN</td>\n",
       "      <td>1627</td>\n",
       "    </tr>\n",
       "    <tr>\n",
       "      <th>2</th>\n",
       "      <td>ABQ</td>\n",
       "      <td>ELP</td>\n",
       "      <td>1359</td>\n",
       "    </tr>\n",
       "    <tr>\n",
       "      <th>3</th>\n",
       "      <td>ABQ</td>\n",
       "      <td>LAS</td>\n",
       "      <td>1627</td>\n",
       "    </tr>\n",
       "    <tr>\n",
       "      <th>4</th>\n",
       "      <td>ABQ</td>\n",
       "      <td>LAX</td>\n",
       "      <td>1482</td>\n",
       "    </tr>\n",
       "    <tr>\n",
       "      <th>...</th>\n",
       "      <td>...</td>\n",
       "      <td>...</td>\n",
       "      <td>...</td>\n",
       "    </tr>\n",
       "    <tr>\n",
       "      <th>1082</th>\n",
       "      <td>TUS</td>\n",
       "      <td>DFW</td>\n",
       "      <td>1102</td>\n",
       "    </tr>\n",
       "    <tr>\n",
       "      <th>1083</th>\n",
       "      <td>TUS</td>\n",
       "      <td>LAS</td>\n",
       "      <td>1092</td>\n",
       "    </tr>\n",
       "    <tr>\n",
       "      <th>1084</th>\n",
       "      <td>TUS</td>\n",
       "      <td>LAX</td>\n",
       "      <td>3089</td>\n",
       "    </tr>\n",
       "    <tr>\n",
       "      <th>1085</th>\n",
       "      <td>TUS</td>\n",
       "      <td>PHX</td>\n",
       "      <td>2629</td>\n",
       "    </tr>\n",
       "    <tr>\n",
       "      <th>1086</th>\n",
       "      <td>TYS</td>\n",
       "      <td>ATL</td>\n",
       "      <td>1481</td>\n",
       "    </tr>\n",
       "  </tbody>\n",
       "</table>\n",
       "<p>1087 rows × 3 columns</p>\n",
       "</div>"
      ],
      "text/plain": [
       "     Origin Dest  Number_of_flights\n",
       "0       ABQ  DAL               1513\n",
       "1       ABQ  DEN               1627\n",
       "2       ABQ  ELP               1359\n",
       "3       ABQ  LAS               1627\n",
       "4       ABQ  LAX               1482\n",
       "...     ...  ...                ...\n",
       "1082    TUS  DFW               1102\n",
       "1083    TUS  LAS               1092\n",
       "1084    TUS  LAX               3089\n",
       "1085    TUS  PHX               2629\n",
       "1086    TYS  ATL               1481\n",
       "\n",
       "[1087 rows x 3 columns]"
      ]
     },
     "execution_count": 34,
     "metadata": {},
     "output_type": "execute_result"
    }
   ],
   "source": [
    "toproutes = dataset_modified.loc[(dataset_modified.DepDelay > 0)&(dataset_modified.ArrDelay > 0)].groupby(['Origin','Dest']).agg({'DepTime':'count'}).rename(columns = {'DepTime':'Number_of_flights'})\n",
    "toproutes = toproutes[toproutes.Number_of_flights > mean(toproutes.Number_of_flights)].reset_index()\n",
    "toproutes"
   ]
  },
  {
   "cell_type": "code",
   "execution_count": 35,
   "metadata": {},
   "outputs": [
    {
     "data": {
      "text/html": [
       "<div>\n",
       "<style scoped>\n",
       "    .dataframe tbody tr th:only-of-type {\n",
       "        vertical-align: middle;\n",
       "    }\n",
       "\n",
       "    .dataframe tbody tr th {\n",
       "        vertical-align: top;\n",
       "    }\n",
       "\n",
       "    .dataframe thead th {\n",
       "        text-align: right;\n",
       "    }\n",
       "</style>\n",
       "<table border=\"1\" class=\"dataframe\">\n",
       "  <thead>\n",
       "    <tr style=\"text-align: right;\">\n",
       "      <th></th>\n",
       "      <th>iata</th>\n",
       "      <th>long</th>\n",
       "      <th>lat</th>\n",
       "    </tr>\n",
       "  </thead>\n",
       "  <tbody>\n",
       "    <tr>\n",
       "      <th>0</th>\n",
       "      <td>00M</td>\n",
       "      <td>-89.234505</td>\n",
       "      <td>31.953765</td>\n",
       "    </tr>\n",
       "    <tr>\n",
       "      <th>1</th>\n",
       "      <td>00R</td>\n",
       "      <td>-95.017928</td>\n",
       "      <td>30.685861</td>\n",
       "    </tr>\n",
       "    <tr>\n",
       "      <th>2</th>\n",
       "      <td>00V</td>\n",
       "      <td>-104.569893</td>\n",
       "      <td>38.945749</td>\n",
       "    </tr>\n",
       "    <tr>\n",
       "      <th>3</th>\n",
       "      <td>01G</td>\n",
       "      <td>-78.052081</td>\n",
       "      <td>42.741347</td>\n",
       "    </tr>\n",
       "    <tr>\n",
       "      <th>4</th>\n",
       "      <td>01J</td>\n",
       "      <td>-81.905944</td>\n",
       "      <td>30.688012</td>\n",
       "    </tr>\n",
       "    <tr>\n",
       "      <th>...</th>\n",
       "      <td>...</td>\n",
       "      <td>...</td>\n",
       "      <td>...</td>\n",
       "    </tr>\n",
       "    <tr>\n",
       "      <th>3371</th>\n",
       "      <td>ZEF</td>\n",
       "      <td>-80.786069</td>\n",
       "      <td>36.280024</td>\n",
       "    </tr>\n",
       "    <tr>\n",
       "      <th>3372</th>\n",
       "      <td>ZER</td>\n",
       "      <td>-76.373147</td>\n",
       "      <td>40.706449</td>\n",
       "    </tr>\n",
       "    <tr>\n",
       "      <th>3373</th>\n",
       "      <td>ZPH</td>\n",
       "      <td>-82.155916</td>\n",
       "      <td>28.228065</td>\n",
       "    </tr>\n",
       "    <tr>\n",
       "      <th>3374</th>\n",
       "      <td>ZUN</td>\n",
       "      <td>-108.791777</td>\n",
       "      <td>35.083227</td>\n",
       "    </tr>\n",
       "    <tr>\n",
       "      <th>3375</th>\n",
       "      <td>ZZV</td>\n",
       "      <td>-81.892105</td>\n",
       "      <td>39.944458</td>\n",
       "    </tr>\n",
       "  </tbody>\n",
       "</table>\n",
       "<p>3376 rows × 3 columns</p>\n",
       "</div>"
      ],
      "text/plain": [
       "     iata        long        lat\n",
       "0     00M  -89.234505  31.953765\n",
       "1     00R  -95.017928  30.685861\n",
       "2     00V -104.569893  38.945749\n",
       "3     01G  -78.052081  42.741347\n",
       "4     01J  -81.905944  30.688012\n",
       "...   ...         ...        ...\n",
       "3371  ZEF  -80.786069  36.280024\n",
       "3372  ZER  -76.373147  40.706449\n",
       "3373  ZPH  -82.155916  28.228065\n",
       "3374  ZUN -108.791777  35.083227\n",
       "3375  ZZV  -81.892105  39.944458\n",
       "\n",
       "[3376 rows x 3 columns]"
      ]
     },
     "execution_count": 35,
     "metadata": {},
     "output_type": "execute_result"
    }
   ],
   "source": [
    "position = airports.loc[:,['iata','long','lat']]\n",
    "position"
   ]
  },
  {
   "cell_type": "code",
   "execution_count": 36,
   "metadata": {},
   "outputs": [
    {
     "data": {
      "text/html": [
       "<div>\n",
       "<style scoped>\n",
       "    .dataframe tbody tr th:only-of-type {\n",
       "        vertical-align: middle;\n",
       "    }\n",
       "\n",
       "    .dataframe tbody tr th {\n",
       "        vertical-align: top;\n",
       "    }\n",
       "\n",
       "    .dataframe thead th {\n",
       "        text-align: right;\n",
       "    }\n",
       "</style>\n",
       "<table border=\"1\" class=\"dataframe\">\n",
       "  <thead>\n",
       "    <tr style=\"text-align: right;\">\n",
       "      <th></th>\n",
       "      <th>Origin</th>\n",
       "      <th>Dest</th>\n",
       "      <th>Number_of_flights</th>\n",
       "      <th>iata_x</th>\n",
       "      <th>start_long</th>\n",
       "      <th>start_lat</th>\n",
       "      <th>iata_y</th>\n",
       "      <th>end_long</th>\n",
       "      <th>end_lat</th>\n",
       "    </tr>\n",
       "  </thead>\n",
       "  <tbody>\n",
       "    <tr>\n",
       "      <th>0</th>\n",
       "      <td>ABQ</td>\n",
       "      <td>DAL</td>\n",
       "      <td>1513</td>\n",
       "      <td>ABQ</td>\n",
       "      <td>-106.609194</td>\n",
       "      <td>35.040222</td>\n",
       "      <td>DAL</td>\n",
       "      <td>-96.851772</td>\n",
       "      <td>32.847114</td>\n",
       "    </tr>\n",
       "    <tr>\n",
       "      <th>1</th>\n",
       "      <td>ABQ</td>\n",
       "      <td>DEN</td>\n",
       "      <td>1627</td>\n",
       "      <td>ABQ</td>\n",
       "      <td>-106.609194</td>\n",
       "      <td>35.040222</td>\n",
       "      <td>DEN</td>\n",
       "      <td>-104.667002</td>\n",
       "      <td>39.858408</td>\n",
       "    </tr>\n",
       "    <tr>\n",
       "      <th>2</th>\n",
       "      <td>ABQ</td>\n",
       "      <td>ELP</td>\n",
       "      <td>1359</td>\n",
       "      <td>ABQ</td>\n",
       "      <td>-106.609194</td>\n",
       "      <td>35.040222</td>\n",
       "      <td>ELP</td>\n",
       "      <td>-106.377806</td>\n",
       "      <td>31.806667</td>\n",
       "    </tr>\n",
       "    <tr>\n",
       "      <th>3</th>\n",
       "      <td>ABQ</td>\n",
       "      <td>LAS</td>\n",
       "      <td>1627</td>\n",
       "      <td>ABQ</td>\n",
       "      <td>-106.609194</td>\n",
       "      <td>35.040222</td>\n",
       "      <td>LAS</td>\n",
       "      <td>-115.152333</td>\n",
       "      <td>36.080361</td>\n",
       "    </tr>\n",
       "    <tr>\n",
       "      <th>4</th>\n",
       "      <td>ABQ</td>\n",
       "      <td>LAX</td>\n",
       "      <td>1482</td>\n",
       "      <td>ABQ</td>\n",
       "      <td>-106.609194</td>\n",
       "      <td>35.040222</td>\n",
       "      <td>LAX</td>\n",
       "      <td>-118.408074</td>\n",
       "      <td>33.942536</td>\n",
       "    </tr>\n",
       "  </tbody>\n",
       "</table>\n",
       "</div>"
      ],
      "text/plain": [
       "  Origin Dest  Number_of_flights iata_x  start_long  start_lat iata_y  \\\n",
       "0    ABQ  DAL               1513    ABQ -106.609194  35.040222    DAL   \n",
       "1    ABQ  DEN               1627    ABQ -106.609194  35.040222    DEN   \n",
       "2    ABQ  ELP               1359    ABQ -106.609194  35.040222    ELP   \n",
       "3    ABQ  LAS               1627    ABQ -106.609194  35.040222    LAS   \n",
       "4    ABQ  LAX               1482    ABQ -106.609194  35.040222    LAX   \n",
       "\n",
       "     end_long    end_lat  \n",
       "0  -96.851772  32.847114  \n",
       "1 -104.667002  39.858408  \n",
       "2 -106.377806  31.806667  \n",
       "3 -115.152333  36.080361  \n",
       "4 -118.408074  33.942536  "
      ]
     },
     "execution_count": 36,
     "metadata": {},
     "output_type": "execute_result"
    }
   ],
   "source": [
    "toproutesfinal = pd.merge(toproutes, position, how = 'left', left_on='Origin',right_on='iata').rename(columns = {'long':'start_long', 'lat':'start_lat'})\n",
    "toproutesfinal = pd.merge(toproutesfinal, position, how = 'left', left_on='Dest',right_on='iata').rename(columns = {'long':'end_long', 'lat':'end_lat'})\n",
    "toproutesfinal.head()\n",
    "\n"
   ]
  },
  {
   "cell_type": "code",
   "execution_count": 37,
   "metadata": {},
   "outputs": [
    {
     "data": {
      "text/html": [
       "<div>\n",
       "<style scoped>\n",
       "    .dataframe tbody tr th:only-of-type {\n",
       "        vertical-align: middle;\n",
       "    }\n",
       "\n",
       "    .dataframe tbody tr th {\n",
       "        vertical-align: top;\n",
       "    }\n",
       "\n",
       "    .dataframe thead th {\n",
       "        text-align: right;\n",
       "    }\n",
       "</style>\n",
       "<table border=\"1\" class=\"dataframe\">\n",
       "  <thead>\n",
       "    <tr style=\"text-align: right;\">\n",
       "      <th></th>\n",
       "      <th>0</th>\n",
       "    </tr>\n",
       "  </thead>\n",
       "  <tbody>\n",
       "    <tr>\n",
       "      <th>0</th>\n",
       "      <td>ABQ</td>\n",
       "    </tr>\n",
       "    <tr>\n",
       "      <th>1</th>\n",
       "      <td>ALB</td>\n",
       "    </tr>\n",
       "    <tr>\n",
       "      <th>2</th>\n",
       "      <td>AMA</td>\n",
       "    </tr>\n",
       "    <tr>\n",
       "      <th>3</th>\n",
       "      <td>ANC</td>\n",
       "    </tr>\n",
       "    <tr>\n",
       "      <th>4</th>\n",
       "      <td>ATL</td>\n",
       "    </tr>\n",
       "    <tr>\n",
       "      <th>...</th>\n",
       "      <td>...</td>\n",
       "    </tr>\n",
       "    <tr>\n",
       "      <th>116</th>\n",
       "      <td>TLH</td>\n",
       "    </tr>\n",
       "    <tr>\n",
       "      <th>117</th>\n",
       "      <td>TPA</td>\n",
       "    </tr>\n",
       "    <tr>\n",
       "      <th>118</th>\n",
       "      <td>TUL</td>\n",
       "    </tr>\n",
       "    <tr>\n",
       "      <th>119</th>\n",
       "      <td>TUS</td>\n",
       "    </tr>\n",
       "    <tr>\n",
       "      <th>120</th>\n",
       "      <td>TYS</td>\n",
       "    </tr>\n",
       "  </tbody>\n",
       "</table>\n",
       "<p>121 rows × 1 columns</p>\n",
       "</div>"
      ],
      "text/plain": [
       "       0\n",
       "0    ABQ\n",
       "1    ALB\n",
       "2    AMA\n",
       "3    ANC\n",
       "4    ATL\n",
       "..   ...\n",
       "116  TLH\n",
       "117  TPA\n",
       "118  TUL\n",
       "119  TUS\n",
       "120  TYS\n",
       "\n",
       "[121 rows x 1 columns]"
      ]
     },
     "execution_count": 37,
     "metadata": {},
     "output_type": "execute_result"
    }
   ],
   "source": [
    "uniairports = np.unique(toproutesfinal[['Origin', 'Dest']].values)\n",
    "uniairports = pd.DataFrame(uniairports)\n",
    "uniairports"
   ]
  },
  {
   "cell_type": "code",
   "execution_count": 38,
   "metadata": {},
   "outputs": [
    {
     "data": {
      "text/html": [
       "<div>\n",
       "<style scoped>\n",
       "    .dataframe tbody tr th:only-of-type {\n",
       "        vertical-align: middle;\n",
       "    }\n",
       "\n",
       "    .dataframe tbody tr th {\n",
       "        vertical-align: top;\n",
       "    }\n",
       "\n",
       "    .dataframe thead th {\n",
       "        text-align: right;\n",
       "    }\n",
       "</style>\n",
       "<table border=\"1\" class=\"dataframe\">\n",
       "  <thead>\n",
       "    <tr style=\"text-align: right;\">\n",
       "      <th></th>\n",
       "      <th>0</th>\n",
       "      <th>iata</th>\n",
       "      <th>airport</th>\n",
       "      <th>city</th>\n",
       "      <th>state</th>\n",
       "      <th>country</th>\n",
       "      <th>lat</th>\n",
       "      <th>long</th>\n",
       "    </tr>\n",
       "  </thead>\n",
       "  <tbody>\n",
       "    <tr>\n",
       "      <th>0</th>\n",
       "      <td>ABQ</td>\n",
       "      <td>ABQ</td>\n",
       "      <td>Albuquerque International</td>\n",
       "      <td>Albuquerque</td>\n",
       "      <td>NM</td>\n",
       "      <td>USA</td>\n",
       "      <td>35.040222</td>\n",
       "      <td>-106.609194</td>\n",
       "    </tr>\n",
       "    <tr>\n",
       "      <th>1</th>\n",
       "      <td>ALB</td>\n",
       "      <td>ALB</td>\n",
       "      <td>Albany Cty</td>\n",
       "      <td>Albany</td>\n",
       "      <td>NY</td>\n",
       "      <td>USA</td>\n",
       "      <td>42.748119</td>\n",
       "      <td>-73.802979</td>\n",
       "    </tr>\n",
       "    <tr>\n",
       "      <th>2</th>\n",
       "      <td>AMA</td>\n",
       "      <td>AMA</td>\n",
       "      <td>Amarillo International</td>\n",
       "      <td>Amarillo</td>\n",
       "      <td>TX</td>\n",
       "      <td>USA</td>\n",
       "      <td>35.219372</td>\n",
       "      <td>-101.705927</td>\n",
       "    </tr>\n",
       "    <tr>\n",
       "      <th>3</th>\n",
       "      <td>ANC</td>\n",
       "      <td>ANC</td>\n",
       "      <td>Ted Stevens Anchorage International</td>\n",
       "      <td>Anchorage</td>\n",
       "      <td>AK</td>\n",
       "      <td>USA</td>\n",
       "      <td>61.174320</td>\n",
       "      <td>-149.996186</td>\n",
       "    </tr>\n",
       "    <tr>\n",
       "      <th>4</th>\n",
       "      <td>ATL</td>\n",
       "      <td>ATL</td>\n",
       "      <td>William B Hartsfield-Atlanta Intl</td>\n",
       "      <td>Atlanta</td>\n",
       "      <td>GA</td>\n",
       "      <td>USA</td>\n",
       "      <td>33.640444</td>\n",
       "      <td>-84.426944</td>\n",
       "    </tr>\n",
       "    <tr>\n",
       "      <th>...</th>\n",
       "      <td>...</td>\n",
       "      <td>...</td>\n",
       "      <td>...</td>\n",
       "      <td>...</td>\n",
       "      <td>...</td>\n",
       "      <td>...</td>\n",
       "      <td>...</td>\n",
       "      <td>...</td>\n",
       "    </tr>\n",
       "    <tr>\n",
       "      <th>116</th>\n",
       "      <td>TLH</td>\n",
       "      <td>TLH</td>\n",
       "      <td>Tallahassee Regional</td>\n",
       "      <td>Tallahassee</td>\n",
       "      <td>FL</td>\n",
       "      <td>USA</td>\n",
       "      <td>30.396528</td>\n",
       "      <td>-84.350333</td>\n",
       "    </tr>\n",
       "    <tr>\n",
       "      <th>117</th>\n",
       "      <td>TPA</td>\n",
       "      <td>TPA</td>\n",
       "      <td>Tampa International</td>\n",
       "      <td>Tampa</td>\n",
       "      <td>FL</td>\n",
       "      <td>USA</td>\n",
       "      <td>27.975472</td>\n",
       "      <td>-82.533250</td>\n",
       "    </tr>\n",
       "    <tr>\n",
       "      <th>118</th>\n",
       "      <td>TUL</td>\n",
       "      <td>TUL</td>\n",
       "      <td>Tulsa International</td>\n",
       "      <td>Tulsa</td>\n",
       "      <td>OK</td>\n",
       "      <td>USA</td>\n",
       "      <td>36.198372</td>\n",
       "      <td>-95.888242</td>\n",
       "    </tr>\n",
       "    <tr>\n",
       "      <th>119</th>\n",
       "      <td>TUS</td>\n",
       "      <td>TUS</td>\n",
       "      <td>Tucson International</td>\n",
       "      <td>Tucson</td>\n",
       "      <td>AZ</td>\n",
       "      <td>USA</td>\n",
       "      <td>32.116083</td>\n",
       "      <td>-110.941028</td>\n",
       "    </tr>\n",
       "    <tr>\n",
       "      <th>120</th>\n",
       "      <td>TYS</td>\n",
       "      <td>TYS</td>\n",
       "      <td>McGhee-Tyson</td>\n",
       "      <td>Knoxville</td>\n",
       "      <td>TN</td>\n",
       "      <td>USA</td>\n",
       "      <td>35.812487</td>\n",
       "      <td>-83.992856</td>\n",
       "    </tr>\n",
       "  </tbody>\n",
       "</table>\n",
       "<p>121 rows × 8 columns</p>\n",
       "</div>"
      ],
      "text/plain": [
       "       0 iata                              airport         city state country  \\\n",
       "0    ABQ  ABQ            Albuquerque International  Albuquerque    NM     USA   \n",
       "1    ALB  ALB                           Albany Cty       Albany    NY     USA   \n",
       "2    AMA  AMA               Amarillo International     Amarillo    TX     USA   \n",
       "3    ANC  ANC  Ted Stevens Anchorage International    Anchorage    AK     USA   \n",
       "4    ATL  ATL    William B Hartsfield-Atlanta Intl      Atlanta    GA     USA   \n",
       "..   ...  ...                                  ...          ...   ...     ...   \n",
       "116  TLH  TLH                 Tallahassee Regional  Tallahassee    FL     USA   \n",
       "117  TPA  TPA                 Tampa International         Tampa    FL     USA   \n",
       "118  TUL  TUL                  Tulsa International        Tulsa    OK     USA   \n",
       "119  TUS  TUS                 Tucson International       Tucson    AZ     USA   \n",
       "120  TYS  TYS                         McGhee-Tyson    Knoxville    TN     USA   \n",
       "\n",
       "           lat        long  \n",
       "0    35.040222 -106.609194  \n",
       "1    42.748119  -73.802979  \n",
       "2    35.219372 -101.705927  \n",
       "3    61.174320 -149.996186  \n",
       "4    33.640444  -84.426944  \n",
       "..         ...         ...  \n",
       "116  30.396528  -84.350333  \n",
       "117  27.975472  -82.533250  \n",
       "118  36.198372  -95.888242  \n",
       "119  32.116083 -110.941028  \n",
       "120  35.812487  -83.992856  \n",
       "\n",
       "[121 rows x 8 columns]"
      ]
     },
     "execution_count": 38,
     "metadata": {},
     "output_type": "execute_result"
    }
   ],
   "source": [
    "airportdata = pd.merge(uniairports, airports, how = 'left', left_on = 0, right_on='iata')\n",
    "airportdata"
   ]
  },
  {
   "cell_type": "markdown",
   "metadata": {},
   "source": [
    "### Visualization"
   ]
  },
  {
   "cell_type": "code",
   "execution_count": 39,
   "metadata": {},
   "outputs": [
    {
     "data": {
      "application/vnd.plotly.v1+json": {
       "config": {
        "plotlyServerURL": "https://plot.ly"
       },
       "data": [
        {
         "hoverinfo": "text",
         "lat": [
          35.04022222,
          42.74811944,
          35.2193725,
          61.17432028,
          33.64044444,
          30.19453278,
          41.93887417,
          33.56294306,
          36.12447667,
          43.56444444,
          42.3643475,
          44.47300361,
          42.94052472,
          34.20061917,
          39.17540167,
          33.93884,
          32.89864639,
          41.88458833,
          41.41089417,
          35.21401111,
          39.99798528,
          38.80580556,
          27.77036083,
          39.04614278,
          29.17991667,
          32.84711389,
          39.90237583,
          38.85208333,
          39.85840806,
          32.89595056,
          41.53493306,
          42.21205889,
          31.80666667,
          44.12326,
          40.69249722,
          64.8136775,
          46.91934889,
          26.07258333,
          47.61985556,
          42.88081972,
          36.09774694,
          34.89566722,
          21.31869111,
          29.64541861,
          41.06695778,
          26.22850611,
          34.6404475,
          38.94453194,
          29.98047222,
          37.64995889,
          34.27061111,
          39.71732917,
          40.7952425,
          32.31116667,
          30.49405556,
          40.63975111,
          58.35496194,
          55.35556861,
          42.7787,
          36.08036111,
          33.94253611,
          33.66363889,
          40.77724306,
          33.81772222,
          34.72939611,
          31.94252778,
          39.29760528,
          28.42888889,
          40.19349528,
          41.7859825,
          35.04241667,
          26.17583333,
          42.93451639,
          25.79325,
          42.94722222,
          28.10275,
          30.69141667,
          43.13985778,
          44.88054694,
          29.99338889,
          33.67975,
          37.72129083,
          20.89864972,
          35.39308833,
          41.30251861,
          34.056,
          41.979595,
          36.89461111,
          26.68316194,
          45.58872222,
          39.87195278,
          33.43416667,
          40.49146583,
          30.47330556,
          41.72399917,
          43.64616667,
          35.87763889,
          37.50516667,
          39.49857611,
          43.11886611,
          26.53616667,
          32.73355611,
          29.53369444,
          32.12758333,
          34.42621194,
          38.17438889,
          47.44898194,
          37.61900194,
          37.36186194,
          18.43941667,
          40.78838778,
          38.69542167,
          33.67565861,
          27.39533333,
          38.74768694,
          43.11118694,
          30.39652778,
          27.97547222,
          36.19837222,
          32.11608333,
          35.81248722
         ],
         "locationmode": "USA-states",
         "lon": [
          -106.6091944,
          -73.80297861,
          -101.7059272,
          -149.9961856,
          -84.42694444,
          -97.66987194,
          -72.68322833,
          -86.75354972,
          -86.67818222,
          -116.2227778,
          -71.00517917,
          -73.1503125,
          -78.73216667,
          -118.3584969,
          -76.66819833,
          -81.11953944,
          -80.04050583,
          -91.71087222,
          -81.84939667,
          -80.94312583,
          -82.89188278,
          -104.70025,
          -97.50121528,
          -84.6621725,
          -81.05805556,
          -96.85177222,
          -84.219375,
          -77.03772222,
          -104.6670019,
          -97.0372,
          -93.66068222,
          -83.34883583,
          -106.3778056,
          -123.2186856,
          -74.16866056,
          -147.8596694,
          -96.81498889,
          -80.15275,
          -117.5338425,
          -85.52276778,
          -79.9372975,
          -82.21885833,
          -157.9224072,
          -95.27888889,
          -73.70757444,
          -97.65439389,
          -86.77310944,
          -77.45580972,
          -95.33972222,
          -97.43304583,
          -77.90255556,
          -86.29438417,
          -73.10021194,
          -90.07588889,
          -81.68786111,
          -73.77892556,
          -134.5762764,
          -131.71374,
          -84.58735806,
          -115.1523333,
          -118.4080744,
          -101.8227778,
          -73.87260917,
          -118.1516111,
          -92.22424556,
          -102.2019139,
          -94.71390556,
          -81.31602778,
          -76.76340361,
          -87.75242444,
          -89.97666667,
          -98.23861111,
          -71.43705583,
          -80.29055556,
          -87.89658333,
          -80.64580556,
          -88.24283333,
          -89.33751361,
          -93.2169225,
          -90.25802778,
          -78.92833333,
          -122.2207167,
          -156.4304578,
          -97.60073389,
          -95.89417306,
          -117.6011944,
          -87.90446417,
          -76.20122222,
          -80.09559417,
          -122.5975,
          -75.24114083,
          -112.0080556,
          -80.23287083,
          -87.18744444,
          -71.42822111,
          -70.30875,
          -78.78747222,
          -77.31966667,
          -119.7680647,
          -77.67238389,
          -81.75516667,
          -117.1896567,
          -98.46977778,
          -81.20213889,
          -119.8403733,
          -85.736,
          -122.3093131,
          -122.3748433,
          -121.9290089,
          -66.00183333,
          -111.9777731,
          -121.5907669,
          -117.8682225,
          -82.55411111,
          -90.35998972,
          -76.10631056,
          -84.35033333,
          -82.53325,
          -95.88824167,
          -110.9410278,
          -83.99285583
         ],
         "marker": {
          "color": "rgb(255, 0, 0)",
          "line": {
           "color": "rgba(68, 68, 68, 0)",
           "width": 3
          },
          "size": 2
         },
         "mode": "markers",
         "text": [
          "Albuquerque International",
          "Albany Cty",
          "Amarillo International",
          "Ted Stevens Anchorage International",
          "William B Hartsfield-Atlanta Intl",
          "Austin-Bergstrom International",
          "Bradley International",
          "Birmingham International",
          "Nashville International",
          "Boise Air Terminal",
          "Gen Edw L Logan Intl",
          "Burlington International",
          "Buffalo Niagara Intl",
          "Burbank-Glendale-Pasadena",
          "Baltimore-Washington International",
          "Columbia Metropolitan",
          "Charleston AFB/International",
          "Eastern Iowa ",
          "Cleveland-Hopkins Intl",
          "Charlotte/Douglas International",
          "Port Columbus Intl",
          "City of Colorado Springs Muni",
          "Corpus Christi International",
          "Cincinnati Northern Kentucky Intl",
          "Daytona Beach International",
          "Dallas Love ",
          "James M Cox Dayton Intl",
          "Ronald Reagan Washington National",
          "Denver Intl",
          "Dallas-Fort Worth International",
          "Des Moines International",
          "Detroit Metropolitan-Wayne County",
          "El Paso International",
          "Mahlon Sweet ",
          "Newark Intl",
          "Fairbanks International",
          "Hector International",
          "Fort Lauderdale-Hollywood Int'l",
          "Spokane Intl",
          "Kent County International",
          "Piedmont Triad International",
          "Greenville-Spartanburg",
          "Honolulu International",
          "William P Hobby",
          "Westchester Cty",
          "Valley International",
          "Huntsville International ",
          "Washington Dulles International",
          "George Bush Intercontinental",
          "Wichita Mid-Continent",
          "Wilmington International",
          "Indianapolis International",
          "Long Island - MacArthur",
          "Jackson International",
          "Jacksonville International",
          "John F Kennedy Intl",
          "Juneau International",
          "Ketchikan International",
          "Capital City",
          "McCarran International",
          "Los Angeles International",
          "Lubbock International",
          "LaGuardia",
          "Long Beach (Daugherty )",
          "Adams ",
          "Midland International",
          "Kansas City International",
          "Orlando International",
          "Harrisburg Intl",
          "Chicago Midway",
          "Memphis International",
          "McAllen Miller International",
          "Manchester",
          "Miami International",
          "General Mitchell International",
          "Melbourne International ",
          "Mobile Regional",
          "Dane County Regional",
          "Minneapolis-St Paul Intl",
          "New Orleans International ",
          "Myrtle Beach International",
          "Metropolitan Oakland International",
          "Kahului",
          "Will Rogers World",
          "Eppley Airfield",
          "Ontario International",
          "Chicago O'Hare International",
          "Norfolk International",
          "Palm Beach International",
          "Portland Intl",
          "Philadelphia Intl",
          "Phoenix Sky Harbor International",
          "Pittsburgh International",
          "Pensacola Regional",
          "Theodore F Green State",
          "Portland International Jetport",
          "Raleigh-Durham International",
          "Richmond International",
          "Reno/Tahoe International",
          "Greater Rochester Int'l",
          "Southwest Florida International",
          "San Diego International-Lindbergh ",
          "San Antonio International",
          "Savannah International",
          "Santa Barbara Municipal",
          "Louisville International-Standiford ",
          "Seattle-Tacoma Intl",
          "San Francisco International",
          "San Jose International",
          "Luis Munoz Marin International",
          "Salt Lake City Intl",
          "Sacramento International",
          "John Wayne /Orange Co",
          "Sarasota Bradenton International",
          "Lambert-St Louis International",
          "Syracuse-Hancock Intl",
          "Tallahassee Regional",
          "Tampa International ",
          "Tulsa International",
          "Tucson International",
          "McGhee-Tyson"
         ],
         "type": "scattergeo"
        },
        {
         "lat": [
          35.04022222,
          32.84711389
         ],
         "line": {
          "color": "red",
          "width": 1
         },
         "locationmode": "USA-states",
         "lon": [
          -106.6091944,
          -96.85177222
         ],
         "mode": "lines",
         "opacity": 0.10435202427753638,
         "type": "scattergeo"
        },
        {
         "lat": [
          35.04022222,
          39.85840806
         ],
         "line": {
          "color": "red",
          "width": 1
         },
         "locationmode": "USA-states",
         "lon": [
          -106.6091944,
          -104.6670019
         ],
         "mode": "lines",
         "opacity": 0.11221463549210291,
         "type": "scattergeo"
        },
        {
         "lat": [
          35.04022222,
          31.80666667
         ],
         "line": {
          "color": "red",
          "width": 1
         },
         "locationmode": "USA-states",
         "lon": [
          -106.6091944,
          -106.3778056
         ],
         "mode": "lines",
         "opacity": 0.09373060211049038,
         "type": "scattergeo"
        },
        {
         "lat": [
          35.04022222,
          36.08036111
         ],
         "line": {
          "color": "red",
          "width": 1
         },
         "locationmode": "USA-states",
         "lon": [
          -106.6091944,
          -115.1523333
         ],
         "mode": "lines",
         "opacity": 0.11221463549210291,
         "type": "scattergeo"
        },
        {
         "lat": [
          35.04022222,
          33.94253611
         ],
         "line": {
          "color": "red",
          "width": 1
         },
         "locationmode": "USA-states",
         "lon": [
          -106.6091944,
          -118.4080744
         ],
         "mode": "lines",
         "opacity": 0.10221394578936478,
         "type": "scattergeo"
        },
        {
         "lat": [
          35.04022222,
          33.43416667
         ],
         "line": {
          "color": "red",
          "width": 1
         },
         "locationmode": "USA-states",
         "lon": [
          -106.6091944,
          -112.0080556
         ],
         "mode": "lines",
         "opacity": 0.36057659148906823,
         "type": "scattergeo"
        },
        {
         "lat": [
          35.04022222,
          38.74768694
         ],
         "line": {
          "color": "red",
          "width": 1
         },
         "locationmode": "USA-states",
         "lon": [
          -106.6091944,
          -90.35998972
         ],
         "mode": "lines",
         "opacity": 0.08704048555072763,
         "type": "scattergeo"
        },
        {
         "lat": [
          42.74811944,
          39.87195278
         ],
         "line": {
          "color": "red",
          "width": 1
         },
         "locationmode": "USA-states",
         "lon": [
          -73.80297861,
          -75.24114083
         ],
         "mode": "lines",
         "opacity": 0.08993723705083109,
         "type": "scattergeo"
        },
        {
         "lat": [
          35.2193725,
          32.84711389
         ],
         "line": {
          "color": "red",
          "width": 1
         },
         "locationmode": "USA-states",
         "lon": [
          -101.7059272,
          -96.85177222
         ],
         "mode": "lines",
         "opacity": 0.09697220497965377,
         "type": "scattergeo"
        },
        {
         "lat": [
          61.17432028,
          64.8136775
         ],
         "line": {
          "color": "red",
          "width": 1
         },
         "locationmode": "USA-states",
         "lon": [
          -149.9961856,
          -147.8596694
         ],
         "mode": "lines",
         "opacity": 0.18366783916132148,
         "type": "scattergeo"
        },
        {
         "lat": [
          61.17432028,
          47.44898194
         ],
         "line": {
          "color": "red",
          "width": 1
         },
         "locationmode": "USA-states",
         "lon": [
          -149.9961856,
          -122.3093131
         ],
         "mode": "lines",
         "opacity": 0.28064004414097526,
         "type": "scattergeo"
        },
        {
         "lat": [
          33.64044444,
          30.19453278
         ],
         "line": {
          "color": "red",
          "width": 1
         },
         "locationmode": "USA-states",
         "lon": [
          -84.42694444,
          -97.66987194
         ],
         "mode": "lines",
         "opacity": 0.09566176977722601,
         "type": "scattergeo"
        },
        {
         "lat": [
          33.64044444,
          41.93887417
         ],
         "line": {
          "color": "red",
          "width": 1
         },
         "locationmode": "USA-states",
         "lon": [
          -84.42694444,
          -72.68322833
         ],
         "mode": "lines",
         "opacity": 0.12780191737361196,
         "type": "scattergeo"
        },
        {
         "lat": [
          33.64044444,
          33.56294306
         ],
         "line": {
          "color": "red",
          "width": 1
         },
         "locationmode": "USA-states",
         "lon": [
          -84.42694444,
          -86.75354972
         ],
         "mode": "lines",
         "opacity": 0.175529346851507,
         "type": "scattergeo"
        },
        {
         "lat": [
          33.64044444,
          36.12447667
         ],
         "line": {
          "color": "red",
          "width": 1
         },
         "locationmode": "USA-states",
         "lon": [
          -84.42694444,
          -86.67818222
         ],
         "mode": "lines",
         "opacity": 0.19173736119732396,
         "type": "scattergeo"
        },
        {
         "lat": [
          33.64044444,
          42.3643475
         ],
         "line": {
          "color": "red",
          "width": 1
         },
         "locationmode": "USA-states",
         "lon": [
          -84.42694444,
          -71.00517917
         ],
         "mode": "lines",
         "opacity": 0.3706462514656183,
         "type": "scattergeo"
        },
        {
         "lat": [
          33.64044444,
          39.17540167
         ],
         "line": {
          "color": "red",
          "width": 1
         },
         "locationmode": "USA-states",
         "lon": [
          -84.42694444,
          -76.66819833
         ],
         "mode": "lines",
         "opacity": 0.2365680391751155,
         "type": "scattergeo"
        },
        {
         "lat": [
          33.64044444,
          33.93884
         ],
         "line": {
          "color": "red",
          "width": 1
         },
         "locationmode": "USA-states",
         "lon": [
          -84.42694444,
          -81.11953944
         ],
         "mode": "lines",
         "opacity": 0.13359542037381889,
         "type": "scattergeo"
        },
        {
         "lat": [
          33.64044444,
          32.89864639
         ],
         "line": {
          "color": "red",
          "width": 1
         },
         "locationmode": "USA-states",
         "lon": [
          -84.42694444,
          -80.04050583
         ],
         "mode": "lines",
         "opacity": 0.1930477963997517,
         "type": "scattergeo"
        },
        {
         "lat": [
          33.64044444,
          41.41089417
         ],
         "line": {
          "color": "red",
          "width": 1
         },
         "locationmode": "USA-states",
         "lon": [
          -84.42694444,
          -81.84939667
         ],
         "mode": "lines",
         "opacity": 0.11621491137319816,
         "type": "scattergeo"
        },
        {
         "lat": [
          33.64044444,
          35.21401111
         ],
         "line": {
          "color": "red",
          "width": 1
         },
         "locationmode": "USA-states",
         "lon": [
          -84.42694444,
          -80.94312583
         ],
         "mode": "lines",
         "opacity": 0.26250086212842266,
         "type": "scattergeo"
        },
        {
         "lat": [
          33.64044444,
          39.99798528
         ],
         "line": {
          "color": "red",
          "width": 1
         },
         "locationmode": "USA-states",
         "lon": [
          -84.42694444,
          -82.89188278
         ],
         "mode": "lines",
         "opacity": 0.13525070694530658,
         "type": "scattergeo"
        },
        {
         "lat": [
          33.64044444,
          39.04614278
         ],
         "line": {
          "color": "red",
          "width": 1
         },
         "locationmode": "USA-states",
         "lon": [
          -84.42694444,
          -84.6621725
         ],
         "mode": "lines",
         "opacity": 0.2165666597696393,
         "type": "scattergeo"
        },
        {
         "lat": [
          33.64044444,
          29.17991667
         ],
         "line": {
          "color": "red",
          "width": 1
         },
         "locationmode": "USA-states",
         "lon": [
          -84.42694444,
          -81.05805556
         ],
         "mode": "lines",
         "opacity": 0.10359335126560452,
         "type": "scattergeo"
        },
        {
         "lat": [
          33.64044444,
          39.90237583
         ],
         "line": {
          "color": "red",
          "width": 1
         },
         "locationmode": "USA-states",
         "lon": [
          -84.42694444,
          -84.219375
         ],
         "mode": "lines",
         "opacity": 0.1020760052417408,
         "type": "scattergeo"
        },
        {
         "lat": [
          33.64044444,
          38.85208333
         ],
         "line": {
          "color": "red",
          "width": 1
         },
         "locationmode": "USA-states",
         "lon": [
          -84.42694444,
          -77.03772222
         ],
         "mode": "lines",
         "opacity": 0.28146768742671907,
         "type": "scattergeo"
        },
        {
         "lat": [
          33.64044444,
          39.85840806
         ],
         "line": {
          "color": "red",
          "width": 1
         },
         "locationmode": "USA-states",
         "lon": [
          -84.42694444,
          -104.6670019
         ],
         "mode": "lines",
         "opacity": 0.24215463135388648,
         "type": "scattergeo"
        },
        {
         "lat": [
          33.64044444,
          32.89595056
         ],
         "line": {
          "color": "red",
          "width": 1
         },
         "locationmode": "USA-states",
         "lon": [
          -84.42694444,
          -97.0372
         ],
         "mode": "lines",
         "opacity": 0.531829781364232,
         "type": "scattergeo"
        },
        {
         "lat": [
          33.64044444,
          42.21205889
         ],
         "line": {
          "color": "red",
          "width": 1
         },
         "locationmode": "USA-states",
         "lon": [
          -84.42694444,
          -83.34883583
         ],
         "mode": "lines",
         "opacity": 0.26215601075936273,
         "type": "scattergeo"
        },
        {
         "lat": [
          33.64044444,
          40.69249722
         ],
         "line": {
          "color": "red",
          "width": 1
         },
         "locationmode": "USA-states",
         "lon": [
          -84.42694444,
          -74.16866056
         ],
         "mode": "lines",
         "opacity": 0.4427201875991448,
         "type": "scattergeo"
        },
        {
         "lat": [
          33.64044444,
          26.07258333
         ],
         "line": {
          "color": "red",
          "width": 1
         },
         "locationmode": "USA-states",
         "lon": [
          -84.42694444,
          -80.15275
         ],
         "mode": "lines",
         "opacity": 0.26663907855714186,
         "type": "scattergeo"
        },
        {
         "lat": [
          33.64044444,
          36.09774694
         ],
         "line": {
          "color": "red",
          "width": 1
         },
         "locationmode": "USA-states",
         "lon": [
          -84.42694444,
          -79.9372975
         ],
         "mode": "lines",
         "opacity": 0.17932271191116628,
         "type": "scattergeo"
        },
        {
         "lat": [
          33.64044444,
          34.89566722
         ],
         "line": {
          "color": "red",
          "width": 1
         },
         "locationmode": "USA-states",
         "lon": [
          -84.42694444,
          -82.21885833
         ],
         "mode": "lines",
         "opacity": 0.11697358438513,
         "type": "scattergeo"
        },
        {
         "lat": [
          33.64044444,
          29.64541861
         ],
         "line": {
          "color": "red",
          "width": 1
         },
         "locationmode": "USA-states",
         "lon": [
          -84.42694444,
          -95.27888889
         ],
         "mode": "lines",
         "opacity": 0.08393682322918822,
         "type": "scattergeo"
        },
        {
         "lat": [
          33.64044444,
          34.6404475
         ],
         "line": {
          "color": "red",
          "width": 1
         },
         "locationmode": "USA-states",
         "lon": [
          -84.42694444,
          -86.77310944
         ],
         "mode": "lines",
         "opacity": 0.15828677839851024,
         "type": "scattergeo"
        },
        {
         "lat": [
          33.64044444,
          38.94453194
         ],
         "line": {
          "color": "red",
          "width": 1
         },
         "locationmode": "USA-states",
         "lon": [
          -84.42694444,
          -77.45580972
         ],
         "mode": "lines",
         "opacity": 0.32947099799986207,
         "type": "scattergeo"
        },
        {
         "lat": [
          33.64044444,
          29.98047222
         ],
         "line": {
          "color": "red",
          "width": 1
         },
         "locationmode": "USA-states",
         "lon": [
          -84.42694444,
          -95.33972222
         ],
         "mode": "lines",
         "opacity": 0.2644320297951583,
         "type": "scattergeo"
        },
        {
         "lat": [
          33.64044444,
          39.71732917
         ],
         "line": {
          "color": "red",
          "width": 1
         },
         "locationmode": "USA-states",
         "lon": [
          -84.42694444,
          -86.29438417
         ],
         "mode": "lines",
         "opacity": 0.09297192909855852,
         "type": "scattergeo"
        },
        {
         "lat": [
          33.64044444,
          32.31116667
         ],
         "line": {
          "color": "red",
          "width": 1
         },
         "locationmode": "USA-states",
         "lon": [
          -84.42694444,
          -90.07588889
         ],
         "mode": "lines",
         "opacity": 0.08593696116973584,
         "type": "scattergeo"
        },
        {
         "lat": [
          33.64044444,
          30.49405556
         ],
         "line": {
          "color": "red",
          "width": 1
         },
         "locationmode": "USA-states",
         "lon": [
          -84.42694444,
          -81.68786111
         ],
         "mode": "lines",
         "opacity": 0.2304296848058487,
         "type": "scattergeo"
        },
        {
         "lat": [
          33.64044444,
          40.63975111
         ],
         "line": {
          "color": "red",
          "width": 1
         },
         "locationmode": "USA-states",
         "lon": [
          -84.42694444,
          -73.77892556
         ],
         "mode": "lines",
         "opacity": 0.08766121801503551,
         "type": "scattergeo"
        },
        {
         "lat": [
          33.64044444,
          36.08036111
         ],
         "line": {
          "color": "red",
          "width": 1
         },
         "locationmode": "USA-states",
         "lon": [
          -84.42694444,
          -115.1523333
         ],
         "mode": "lines",
         "opacity": 0.13421615283812677,
         "type": "scattergeo"
        },
        {
         "lat": [
          33.64044444,
          33.94253611
         ],
         "line": {
          "color": "red",
          "width": 1
         },
         "locationmode": "USA-states",
         "lon": [
          -84.42694444,
          -118.4080744
         ],
         "mode": "lines",
         "opacity": 0.22380853851989793,
         "type": "scattergeo"
        },
        {
         "lat": [
          33.64044444,
          40.77724306
         ],
         "line": {
          "color": "red",
          "width": 1
         },
         "locationmode": "USA-states",
         "lon": [
          -84.42694444,
          -73.87260917
         ],
         "mode": "lines",
         "opacity": 0.5012069797917098,
         "type": "scattergeo"
        },
        {
         "lat": [
          33.64044444,
          34.72939611
         ],
         "line": {
          "color": "red",
          "width": 1
         },
         "locationmode": "USA-states",
         "lon": [
          -84.42694444,
          -92.22424556
         ],
         "mode": "lines",
         "opacity": 0.07331540106214221,
         "type": "scattergeo"
        },
        {
         "lat": [
          33.64044444,
          39.29760528
         ],
         "line": {
          "color": "red",
          "width": 1
         },
         "locationmode": "USA-states",
         "lon": [
          -84.42694444,
          -94.71390556
         ],
         "mode": "lines",
         "opacity": 0.1362162907786744,
         "type": "scattergeo"
        },
        {
         "lat": [
          33.64044444,
          28.42888889
         ],
         "line": {
          "color": "red",
          "width": 1
         },
         "locationmode": "USA-states",
         "lon": [
          -84.42694444,
          -81.31602778
         ],
         "mode": "lines",
         "opacity": 0.377474308573005,
         "type": "scattergeo"
        },
        {
         "lat": [
          33.64044444,
          35.04241667
         ],
         "line": {
          "color": "red",
          "width": 1
         },
         "locationmode": "USA-states",
         "lon": [
          -84.42694444,
          -89.97666667
         ],
         "mode": "lines",
         "opacity": 0.21311814607903992,
         "type": "scattergeo"
        },
        {
         "lat": [
          33.64044444,
          25.79325
         ],
         "line": {
          "color": "red",
          "width": 1
         },
         "locationmode": "USA-states",
         "lon": [
          -84.42694444,
          -80.29055556
         ],
         "mode": "lines",
         "opacity": 0.40216566659769637,
         "type": "scattergeo"
        },
        {
         "lat": [
          33.64044444,
          28.10275
         ],
         "line": {
          "color": "red",
          "width": 1
         },
         "locationmode": "USA-states",
         "lon": [
          -84.42694444,
          -80.64580556
         ],
         "mode": "lines",
         "opacity": 0.07986757707428098,
         "type": "scattergeo"
        },
        {
         "lat": [
          33.64044444,
          30.69141667
         ],
         "line": {
          "color": "red",
          "width": 1
         },
         "locationmode": "USA-states",
         "lon": [
          -84.42694444,
          -88.24283333
         ],
         "mode": "lines",
         "opacity": 0.13021587695703152,
         "type": "scattergeo"
        },
        {
         "lat": [
          33.64044444,
          44.88054694
         ],
         "line": {
          "color": "red",
          "width": 1
         },
         "locationmode": "USA-states",
         "lon": [
          -84.42694444,
          -93.2169225
         ],
         "mode": "lines",
         "opacity": 0.15911442168425408,
         "type": "scattergeo"
        },
        {
         "lat": [
          33.64044444,
          29.99338889
         ],
         "line": {
          "color": "red",
          "width": 1
         },
         "locationmode": "USA-states",
         "lon": [
          -84.42694444,
          -90.25802778
         ],
         "mode": "lines",
         "opacity": 0.2064280295192772,
         "type": "scattergeo"
        },
        {
         "lat": [
          33.64044444,
          41.979595
         ],
         "line": {
          "color": "red",
          "width": 1
         },
         "locationmode": "USA-states",
         "lon": [
          -84.42694444,
          -87.90446417
         ],
         "mode": "lines",
         "opacity": 0.5557624663769916,
         "type": "scattergeo"
        },
        {
         "lat": [
          33.64044444,
          36.89461111
         ],
         "line": {
          "color": "red",
          "width": 1
         },
         "locationmode": "USA-states",
         "lon": [
          -84.42694444,
          -76.20122222
         ],
         "mode": "lines",
         "opacity": 0.11255948686116284,
         "type": "scattergeo"
        },
        {
         "lat": [
          33.64044444,
          26.68316194
         ],
         "line": {
          "color": "red",
          "width": 1
         },
         "locationmode": "USA-states",
         "lon": [
          -84.42694444,
          -80.09559417
         ],
         "mode": "lines",
         "opacity": 0.19015104489964826,
         "type": "scattergeo"
        },
        {
         "lat": [
          33.64044444,
          39.87195278
         ],
         "line": {
          "color": "red",
          "width": 1
         },
         "locationmode": "USA-states",
         "lon": [
          -84.42694444,
          -75.24114083
         ],
         "mode": "lines",
         "opacity": 0.3985792123594731,
         "type": "scattergeo"
        },
        {
         "lat": [
          33.64044444,
          33.43416667
         ],
         "line": {
          "color": "red",
          "width": 1
         },
         "locationmode": "USA-states",
         "lon": [
          -84.42694444,
          -112.0080556
         ],
         "mode": "lines",
         "opacity": 0.2170494516863232,
         "type": "scattergeo"
        },
        {
         "lat": [
          33.64044444,
          40.49146583
         ],
         "line": {
          "color": "red",
          "width": 1
         },
         "locationmode": "USA-states",
         "lon": [
          -84.42694444,
          -80.23287083
         ],
         "mode": "lines",
         "opacity": 0.19794468584040278,
         "type": "scattergeo"
        },
        {
         "lat": [
          33.64044444,
          30.47330556
         ],
         "line": {
          "color": "red",
          "width": 1
         },
         "locationmode": "USA-states",
         "lon": [
          -84.42694444,
          -87.18744444
         ],
         "mode": "lines",
         "opacity": 0.13518173667149458,
         "type": "scattergeo"
        },
        {
         "lat": [
          33.64044444,
          35.87763889
         ],
         "line": {
          "color": "red",
          "width": 1
         },
         "locationmode": "USA-states",
         "lon": [
          -84.42694444,
          -78.78747222
         ],
         "mode": "lines",
         "opacity": 0.22208428167459826,
         "type": "scattergeo"
        },
        {
         "lat": [
          33.64044444,
          37.50516667
         ],
         "line": {
          "color": "red",
          "width": 1
         },
         "locationmode": "USA-states",
         "lon": [
          -84.42694444,
          -77.31966667
         ],
         "mode": "lines",
         "opacity": 0.10897303262293952,
         "type": "scattergeo"
        },
        {
         "lat": [
          33.64044444,
          26.53616667
         ],
         "line": {
          "color": "red",
          "width": 1
         },
         "locationmode": "USA-states",
         "lon": [
          -84.42694444,
          -81.75516667
         ],
         "mode": "lines",
         "opacity": 0.17932271191116628,
         "type": "scattergeo"
        },
        {
         "lat": [
          33.64044444,
          32.73355611
         ],
         "line": {
          "color": "red",
          "width": 1
         },
         "locationmode": "USA-states",
         "lon": [
          -84.42694444,
          -117.1896567
         ],
         "mode": "lines",
         "opacity": 0.08779915856265949,
         "type": "scattergeo"
        },
        {
         "lat": [
          33.64044444,
          29.53369444
         ],
         "line": {
          "color": "red",
          "width": 1
         },
         "locationmode": "USA-states",
         "lon": [
          -84.42694444,
          -98.46977778
         ],
         "mode": "lines",
         "opacity": 0.10600731084902407,
         "type": "scattergeo"
        },
        {
         "lat": [
          33.64044444,
          32.12758333
         ],
         "line": {
          "color": "red",
          "width": 1
         },
         "locationmode": "USA-states",
         "lon": [
          -84.42694444,
          -81.20213889
         ],
         "mode": "lines",
         "opacity": 0.19822056693565074,
         "type": "scattergeo"
        },
        {
         "lat": [
          33.64044444,
          38.17438889
         ],
         "line": {
          "color": "red",
          "width": 1
         },
         "locationmode": "USA-states",
         "lon": [
          -84.42694444,
          -85.736
         ],
         "mode": "lines",
         "opacity": 0.1266294227188082,
         "type": "scattergeo"
        },
        {
         "lat": [
          33.64044444,
          37.61900194
         ],
         "line": {
          "color": "red",
          "width": 1
         },
         "locationmode": "USA-states",
         "lon": [
          -84.42694444,
          -122.3748433
         ],
         "mode": "lines",
         "opacity": 0.17380509000620734,
         "type": "scattergeo"
        },
        {
         "lat": [
          33.64044444,
          18.43941667
         ],
         "line": {
          "color": "red",
          "width": 1
         },
         "locationmode": "USA-states",
         "lon": [
          -84.42694444,
          -66.00183333
         ],
         "mode": "lines",
         "opacity": 0.11290433823022278,
         "type": "scattergeo"
        },
        {
         "lat": [
          33.64044444,
          40.78838778
         ],
         "line": {
          "color": "red",
          "width": 1
         },
         "locationmode": "USA-states",
         "lon": [
          -84.42694444,
          -111.9777731
         ],
         "mode": "lines",
         "opacity": 0.24463756121111802,
         "type": "scattergeo"
        },
        {
         "lat": [
          33.64044444,
          27.39533333
         ],
         "line": {
          "color": "red",
          "width": 1
         },
         "locationmode": "USA-states",
         "lon": [
          -84.42694444,
          -82.55411111
         ],
         "mode": "lines",
         "opacity": 0.11345610042071867,
         "type": "scattergeo"
        },
        {
         "lat": [
          33.64044444,
          38.74768694
         ],
         "line": {
          "color": "red",
          "width": 1
         },
         "locationmode": "USA-states",
         "lon": [
          -84.42694444,
          -90.35998972
         ],
         "mode": "lines",
         "opacity": 0.18794399613766466,
         "type": "scattergeo"
        },
        {
         "lat": [
          33.64044444,
          30.39652778
         ],
         "line": {
          "color": "red",
          "width": 1
         },
         "locationmode": "USA-states",
         "lon": [
          -84.42694444,
          -84.35033333
         ],
         "mode": "lines",
         "opacity": 0.12014621698048142,
         "type": "scattergeo"
        },
        {
         "lat": [
          33.64044444,
          27.97547222
         ],
         "line": {
          "color": "red",
          "width": 1
         },
         "locationmode": "USA-states",
         "lon": [
          -84.42694444,
          -82.53325
         ],
         "mode": "lines",
         "opacity": 0.2685012759500655,
         "type": "scattergeo"
        },
        {
         "lat": [
          33.64044444,
          36.19837222
         ],
         "line": {
          "color": "red",
          "width": 1
         },
         "locationmode": "USA-states",
         "lon": [
          -84.42694444,
          -95.88824167
         ],
         "mode": "lines",
         "opacity": 0.0755224498241258,
         "type": "scattergeo"
        },
        {
         "lat": [
          33.64044444,
          35.81248722
         ],
         "line": {
          "color": "red",
          "width": 1
         },
         "locationmode": "USA-states",
         "lon": [
          -84.42694444,
          -83.99285583
         ],
         "mode": "lines",
         "opacity": 0.1362162907786744,
         "type": "scattergeo"
        },
        {
         "lat": [
          30.19453278,
          33.64044444
         ],
         "line": {
          "color": "red",
          "width": 1
         },
         "locationmode": "USA-states",
         "lon": [
          -97.66987194,
          -84.42694444
         ],
         "mode": "lines",
         "opacity": 0.0909028208841989,
         "type": "scattergeo"
        },
        {
         "lat": [
          30.19453278,
          32.84711389
         ],
         "line": {
          "color": "red",
          "width": 1
         },
         "locationmode": "USA-states",
         "lon": [
          -97.66987194,
          -96.85177222
         ],
         "mode": "lines",
         "opacity": 0.2451893234016139,
         "type": "scattergeo"
        },
        {
         "lat": [
          30.19453278,
          32.89595056
         ],
         "line": {
          "color": "red",
          "width": 1
         },
         "locationmode": "USA-states",
         "lon": [
          -97.66987194,
          -97.0372
         ],
         "mode": "lines",
         "opacity": 0.2062900889716532,
         "type": "scattergeo"
        },
        {
         "lat": [
          30.19453278,
          29.64541861
         ],
         "line": {
          "color": "red",
          "width": 1
         },
         "locationmode": "USA-states",
         "lon": [
          -97.66987194,
          -95.27888889
         ],
         "mode": "lines",
         "opacity": 0.18642665011380094,
         "type": "scattergeo"
        },
        {
         "lat": [
          30.19453278,
          29.98047222
         ],
         "line": {
          "color": "red",
          "width": 1
         },
         "locationmode": "USA-states",
         "lon": [
          -97.66987194,
          -95.33972222
         ],
         "mode": "lines",
         "opacity": 0.12276708738533693,
         "type": "scattergeo"
        },
        {
         "lat": [
          30.19453278,
          41.979595
         ],
         "line": {
          "color": "red",
          "width": 1
         },
         "locationmode": "USA-states",
         "lon": [
          -97.66987194,
          -87.90446417
         ],
         "mode": "lines",
         "opacity": 0.10345541071798055,
         "type": "scattergeo"
        },
        {
         "lat": [
          30.19453278,
          33.43416667
         ],
         "line": {
          "color": "red",
          "width": 1
         },
         "locationmode": "USA-states",
         "lon": [
          -97.66987194,
          -112.0080556
         ],
         "mode": "lines",
         "opacity": 0.09476515621767019,
         "type": "scattergeo"
        },
        {
         "lat": [
          41.93887417,
          33.64044444
         ],
         "line": {
          "color": "red",
          "width": 1
         },
         "locationmode": "USA-states",
         "lon": [
          -72.68322833,
          -84.42694444
         ],
         "mode": "lines",
         "opacity": 0.11297330850403477,
         "type": "scattergeo"
        },
        {
         "lat": [
          41.93887417,
          39.17540167
         ],
         "line": {
          "color": "red",
          "width": 1
         },
         "locationmode": "USA-states",
         "lon": [
          -72.68322833,
          -76.66819833
         ],
         "mode": "lines",
         "opacity": 0.07572936064556177,
         "type": "scattergeo"
        },
        {
         "lat": [
          41.93887417,
          35.21401111
         ],
         "line": {
          "color": "red",
          "width": 1
         },
         "locationmode": "USA-states",
         "lon": [
          -72.68322833,
          -80.94312583
         ],
         "mode": "lines",
         "opacity": 0.07303951996689427,
         "type": "scattergeo"
        },
        {
         "lat": [
          41.93887417,
          38.94453194
         ],
         "line": {
          "color": "red",
          "width": 1
         },
         "locationmode": "USA-states",
         "lon": [
          -72.68322833,
          -77.45580972
         ],
         "mode": "lines",
         "opacity": 0.08641975308641975,
         "type": "scattergeo"
        },
        {
         "lat": [
          41.93887417,
          28.42888889
         ],
         "line": {
          "color": "red",
          "width": 1
         },
         "locationmode": "USA-states",
         "lon": [
          -72.68322833,
          -81.31602778
         ],
         "mode": "lines",
         "opacity": 0.10980067590868335,
         "type": "scattergeo"
        },
        {
         "lat": [
          41.93887417,
          41.979595
         ],
         "line": {
          "color": "red",
          "width": 1
         },
         "locationmode": "USA-states",
         "lon": [
          -72.68322833,
          -87.90446417
         ],
         "mode": "lines",
         "opacity": 0.15925236223187805,
         "type": "scattergeo"
        },
        {
         "lat": [
          41.93887417,
          39.87195278
         ],
         "line": {
          "color": "red",
          "width": 1
         },
         "locationmode": "USA-states",
         "lon": [
          -72.68322833,
          -75.24114083
         ],
         "mode": "lines",
         "opacity": 0.11904269259948962,
         "type": "scattergeo"
        },
        {
         "lat": [
          41.93887417,
          40.49146583
         ],
         "line": {
          "color": "red",
          "width": 1
         },
         "locationmode": "USA-states",
         "lon": [
          -72.68322833,
          -80.23287083
         ],
         "mode": "lines",
         "opacity": 0.08497137733636803,
         "type": "scattergeo"
        },
        {
         "lat": [
          33.56294306,
          33.64044444
         ],
         "line": {
          "color": "red",
          "width": 1
         },
         "locationmode": "USA-states",
         "lon": [
          -86.75354972,
          -84.42694444
         ],
         "mode": "lines",
         "opacity": 0.15145872129112353,
         "type": "scattergeo"
        },
        {
         "lat": [
          33.56294306,
          29.99338889
         ],
         "line": {
          "color": "red",
          "width": 1
         },
         "locationmode": "USA-states",
         "lon": [
          -86.75354972,
          -90.25802778
         ],
         "mode": "lines",
         "opacity": 0.11249051658735085,
         "type": "scattergeo"
        },
        {
         "lat": [
          36.12447667,
          33.64044444
         ],
         "line": {
          "color": "red",
          "width": 1
         },
         "locationmode": "USA-states",
         "lon": [
          -86.67818222,
          -84.42694444
         ],
         "mode": "lines",
         "opacity": 0.1378026070763501,
         "type": "scattergeo"
        },
        {
         "lat": [
          36.12447667,
          39.17540167
         ],
         "line": {
          "color": "red",
          "width": 1
         },
         "locationmode": "USA-states",
         "lon": [
          -86.67818222,
          -76.66819833
         ],
         "mode": "lines",
         "opacity": 0.13525070694530658,
         "type": "scattergeo"
        },
        {
         "lat": [
          36.12447667,
          32.89595056
         ],
         "line": {
          "color": "red",
          "width": 1
         },
         "locationmode": "USA-states",
         "lon": [
          -86.67818222,
          -97.0372
         ],
         "mode": "lines",
         "opacity": 0.09173046416994275,
         "type": "scattergeo"
        },
        {
         "lat": [
          36.12447667,
          42.21205889
         ],
         "line": {
          "color": "red",
          "width": 1
         },
         "locationmode": "USA-states",
         "lon": [
          -86.67818222,
          -83.34883583
         ],
         "mode": "lines",
         "opacity": 0.08876474239602732,
         "type": "scattergeo"
        },
        {
         "lat": [
          36.12447667,
          29.64541861
         ],
         "line": {
          "color": "red",
          "width": 1
         },
         "locationmode": "USA-states",
         "lon": [
          -86.67818222,
          -95.27888889
         ],
         "mode": "lines",
         "opacity": 0.11000758673011932,
         "type": "scattergeo"
        },
        {
         "lat": [
          36.12447667,
          30.49405556
         ],
         "line": {
          "color": "red",
          "width": 1
         },
         "locationmode": "USA-states",
         "lon": [
          -86.67818222,
          -81.68786111
         ],
         "mode": "lines",
         "opacity": 0.07517759845506587,
         "type": "scattergeo"
        },
        {
         "lat": [
          36.12447667,
          28.42888889
         ],
         "line": {
          "color": "red",
          "width": 1
         },
         "locationmode": "USA-states",
         "lon": [
          -86.67818222,
          -81.31602778
         ],
         "mode": "lines",
         "opacity": 0.10469687564659631,
         "type": "scattergeo"
        },
        {
         "lat": [
          36.12447667,
          41.7859825
         ],
         "line": {
          "color": "red",
          "width": 1
         },
         "locationmode": "USA-states",
         "lon": [
          -86.67818222,
          -87.75242444
         ],
         "mode": "lines",
         "opacity": 0.1611145596248017,
         "type": "scattergeo"
        },
        {
         "lat": [
          36.12447667,
          41.979595
         ],
         "line": {
          "color": "red",
          "width": 1
         },
         "locationmode": "USA-states",
         "lon": [
          -86.67818222,
          -87.90446417
         ],
         "mode": "lines",
         "opacity": 0.09938616456307331,
         "type": "scattergeo"
        },
        {
         "lat": [
          36.12447667,
          35.87763889
         ],
         "line": {
          "color": "red",
          "width": 1
         },
         "locationmode": "USA-states",
         "lon": [
          -86.67818222,
          -78.78747222
         ],
         "mode": "lines",
         "opacity": 0.07310849024070626,
         "type": "scattergeo"
        },
        {
         "lat": [
          36.12447667,
          27.97547222
         ],
         "line": {
          "color": "red",
          "width": 1
         },
         "locationmode": "USA-states",
         "lon": [
          -86.67818222,
          -82.53325
         ],
         "mode": "lines",
         "opacity": 0.0760052417408097,
         "type": "scattergeo"
        },
        {
         "lat": [
          43.56444444,
          37.61900194
         ],
         "line": {
          "color": "red",
          "width": 1
         },
         "locationmode": "USA-states",
         "lon": [
          -116.2227778,
          -122.3748433
         ],
         "mode": "lines",
         "opacity": 0.08055727981240085,
         "type": "scattergeo"
        },
        {
         "lat": [
          42.3643475,
          33.64044444
         ],
         "line": {
          "color": "red",
          "width": 1
         },
         "locationmode": "USA-states",
         "lon": [
          -71.00517917,
          -84.42694444
         ],
         "mode": "lines",
         "opacity": 0.2589833781640113,
         "type": "scattergeo"
        },
        {
         "lat": [
          42.3643475,
          39.17540167
         ],
         "line": {
          "color": "red",
          "width": 1
         },
         "locationmode": "USA-states",
         "lon": [
          -71.00517917,
          -76.66819833
         ],
         "mode": "lines",
         "opacity": 0.09593765087247397,
         "type": "scattergeo"
        },
        {
         "lat": [
          42.3643475,
          35.21401111
         ],
         "line": {
          "color": "red",
          "width": 1
         },
         "locationmode": "USA-states",
         "lon": [
          -71.00517917,
          -80.94312583
         ],
         "mode": "lines",
         "opacity": 0.16090764880336575,
         "type": "scattergeo"
        },
        {
         "lat": [
          42.3643475,
          39.04614278
         ],
         "line": {
          "color": "red",
          "width": 1
         },
         "locationmode": "USA-states",
         "lon": [
          -71.00517917,
          -84.6621725
         ],
         "mode": "lines",
         "opacity": 0.10655907303951996,
         "type": "scattergeo"
        },
        {
         "lat": [
          42.3643475,
          38.85208333
         ],
         "line": {
          "color": "red",
          "width": 1
         },
         "locationmode": "USA-states",
         "lon": [
          -71.00517917,
          -77.03772222
         ],
         "mode": "lines",
         "opacity": 0.17366714945858336,
         "type": "scattergeo"
        },
        {
         "lat": [
          42.3643475,
          39.85840806
         ],
         "line": {
          "color": "red",
          "width": 1
         },
         "locationmode": "USA-states",
         "lon": [
          -71.00517917,
          -104.6670019
         ],
         "mode": "lines",
         "opacity": 0.10090351058693703,
         "type": "scattergeo"
        },
        {
         "lat": [
          42.3643475,
          32.89595056
         ],
         "line": {
          "color": "red",
          "width": 1
         },
         "locationmode": "USA-states",
         "lon": [
          -71.00517917,
          -97.0372
         ],
         "mode": "lines",
         "opacity": 0.17408097110145526,
         "type": "scattergeo"
        },
        {
         "lat": [
          42.3643475,
          42.21205889
         ],
         "line": {
          "color": "red",
          "width": 1
         },
         "locationmode": "USA-states",
         "lon": [
          -71.00517917,
          -83.34883583
         ],
         "mode": "lines",
         "opacity": 0.08545416925305194,
         "type": "scattergeo"
        },
        {
         "lat": [
          42.3643475,
          40.69249722
         ],
         "line": {
          "color": "red",
          "width": 1
         },
         "locationmode": "USA-states",
         "lon": [
          -71.00517917,
          -74.16866056
         ],
         "mode": "lines",
         "opacity": 0.23408510931788398,
         "type": "scattergeo"
        },
        {
         "lat": [
          42.3643475,
          26.07258333
         ],
         "line": {
          "color": "red",
          "width": 1
         },
         "locationmode": "USA-states",
         "lon": [
          -71.00517917,
          -80.15275
         ],
         "mode": "lines",
         "opacity": 0.12683633354024415,
         "type": "scattergeo"
        },
        {
         "lat": [
          42.3643475,
          38.94453194
         ],
         "line": {
          "color": "red",
          "width": 1
         },
         "locationmode": "USA-states",
         "lon": [
          -71.00517917,
          -77.45580972
         ],
         "mode": "lines",
         "opacity": 0.27912269811711155,
         "type": "scattergeo"
        },
        {
         "lat": [
          42.3643475,
          29.98047222
         ],
         "line": {
          "color": "red",
          "width": 1
         },
         "locationmode": "USA-states",
         "lon": [
          -71.00517917,
          -95.33972222
         ],
         "mode": "lines",
         "opacity": 0.07572936064556177,
         "type": "scattergeo"
        },
        {
         "lat": [
          42.3643475,
          40.63975111
         ],
         "line": {
          "color": "red",
          "width": 1
         },
         "locationmode": "USA-states",
         "lon": [
          -71.00517917,
          -73.77892556
         ],
         "mode": "lines",
         "opacity": 0.09048899924132699,
         "type": "scattergeo"
        },
        {
         "lat": [
          42.3643475,
          33.94253611
         ],
         "line": {
          "color": "red",
          "width": 1
         },
         "locationmode": "USA-states",
         "lon": [
          -71.00517917,
          -118.4080744
         ],
         "mode": "lines",
         "opacity": 0.11766328712324987,
         "type": "scattergeo"
        },
        {
         "lat": [
          42.3643475,
          40.77724306
         ],
         "line": {
          "color": "red",
          "width": 1
         },
         "locationmode": "USA-states",
         "lon": [
          -71.00517917,
          -73.87260917
         ],
         "mode": "lines",
         "opacity": 0.11021449755155528,
         "type": "scattergeo"
        },
        {
         "lat": [
          42.3643475,
          28.42888889
         ],
         "line": {
          "color": "red",
          "width": 1
         },
         "locationmode": "USA-states",
         "lon": [
          -71.00517917,
          -81.31602778
         ],
         "mode": "lines",
         "opacity": 0.18946134216152838,
         "type": "scattergeo"
        },
        {
         "lat": [
          42.3643475,
          25.79325
         ],
         "line": {
          "color": "red",
          "width": 1
         },
         "locationmode": "USA-states",
         "lon": [
          -71.00517917,
          -80.29055556
         ],
         "mode": "lines",
         "opacity": 0.079798606800469,
         "type": "scattergeo"
        },
        {
         "lat": [
          42.3643475,
          44.88054694
         ],
         "line": {
          "color": "red",
          "width": 1
         },
         "locationmode": "USA-states",
         "lon": [
          -71.00517917,
          -93.2169225
         ],
         "mode": "lines",
         "opacity": 0.08235050693151252,
         "type": "scattergeo"
        },
        {
         "lat": [
          42.3643475,
          41.979595
         ],
         "line": {
          "color": "red",
          "width": 1
         },
         "locationmode": "USA-states",
         "lon": [
          -71.00517917,
          -87.90446417
         ],
         "mode": "lines",
         "opacity": 0.4225808676460446,
         "type": "scattergeo"
        },
        {
         "lat": [
          42.3643475,
          39.87195278
         ],
         "line": {
          "color": "red",
          "width": 1
         },
         "locationmode": "USA-states",
         "lon": [
          -71.00517917,
          -75.24114083
         ],
         "mode": "lines",
         "opacity": 0.32050486240430376,
         "type": "scattergeo"
        },
        {
         "lat": [
          42.3643475,
          40.49146583
         ],
         "line": {
          "color": "red",
          "width": 1
         },
         "locationmode": "USA-states",
         "lon": [
          -71.00517917,
          -80.23287083
         ],
         "mode": "lines",
         "opacity": 0.15945927305331403,
         "type": "scattergeo"
        },
        {
         "lat": [
          42.3643475,
          37.61900194
         ],
         "line": {
          "color": "red",
          "width": 1
         },
         "locationmode": "USA-states",
         "lon": [
          -71.00517917,
          -122.3748433
         ],
         "mode": "lines",
         "opacity": 0.14111318021932548,
         "type": "scattergeo"
        },
        {
         "lat": [
          42.3643475,
          27.97547222
         ],
         "line": {
          "color": "red",
          "width": 1
         },
         "locationmode": "USA-states",
         "lon": [
          -71.00517917,
          -82.53325
         ],
         "mode": "lines",
         "opacity": 0.11393889233740258,
         "type": "scattergeo"
        },
        {
         "lat": [
          42.94052472,
          40.77724306
         ],
         "line": {
          "color": "red",
          "width": 1
         },
         "locationmode": "USA-states",
         "lon": [
          -78.73216667,
          -73.87260917
         ],
         "mode": "lines",
         "opacity": 0.12062900889716532,
         "type": "scattergeo"
        },
        {
         "lat": [
          42.94052472,
          41.979595
         ],
         "line": {
          "color": "red",
          "width": 1
         },
         "locationmode": "USA-states",
         "lon": [
          -78.73216667,
          -87.90446417
         ],
         "mode": "lines",
         "opacity": 0.13925098282640183,
         "type": "scattergeo"
        },
        {
         "lat": [
          42.94052472,
          39.87195278
         ],
         "line": {
          "color": "red",
          "width": 1
         },
         "locationmode": "USA-states",
         "lon": [
          -78.73216667,
          -75.24114083
         ],
         "mode": "lines",
         "opacity": 0.1032484998965446,
         "type": "scattergeo"
        },
        {
         "lat": [
          34.20061917,
          36.08036111
         ],
         "line": {
          "color": "red",
          "width": 1
         },
         "locationmode": "USA-states",
         "lon": [
          -118.3584969,
          -115.1523333
         ],
         "mode": "lines",
         "opacity": 0.22022208428167458,
         "type": "scattergeo"
        },
        {
         "lat": [
          34.20061917,
          37.72129083
         ],
         "line": {
          "color": "red",
          "width": 1
         },
         "locationmode": "USA-states",
         "lon": [
          -118.3584969,
          -122.2207167
         ],
         "mode": "lines",
         "opacity": 0.23263673356783227,
         "type": "scattergeo"
        },
        {
         "lat": [
          34.20061917,
          33.43416667
         ],
         "line": {
          "color": "red",
          "width": 1
         },
         "locationmode": "USA-states",
         "lon": [
          -118.3584969,
          -112.0080556
         ],
         "mode": "lines",
         "opacity": 0.2111180081384923,
         "type": "scattergeo"
        },
        {
         "lat": [
          34.20061917,
          37.61900194
         ],
         "line": {
          "color": "red",
          "width": 1
         },
         "locationmode": "USA-states",
         "lon": [
          -118.3584969,
          -122.3748433
         ],
         "mode": "lines",
         "opacity": 0.1994620318642665,
         "type": "scattergeo"
        },
        {
         "lat": [
          34.20061917,
          37.36186194
         ],
         "line": {
          "color": "red",
          "width": 1
         },
         "locationmode": "USA-states",
         "lon": [
          -118.3584969,
          -121.9290089
         ],
         "mode": "lines",
         "opacity": 0.12731912545692806,
         "type": "scattergeo"
        },
        {
         "lat": [
          34.20061917,
          38.69542167
         ],
         "line": {
          "color": "red",
          "width": 1
         },
         "locationmode": "USA-states",
         "lon": [
          -118.3584969,
          -121.5907669
         ],
         "mode": "lines",
         "opacity": 0.16235602455341747,
         "type": "scattergeo"
        },
        {
         "lat": [
          39.17540167,
          33.64044444
         ],
         "line": {
          "color": "red",
          "width": 1
         },
         "locationmode": "USA-states",
         "lon": [
          -76.66819833,
          -84.42694444
         ],
         "mode": "lines",
         "opacity": 0.19415132078074349,
         "type": "scattergeo"
        },
        {
         "lat": [
          39.17540167,
          41.93887417
         ],
         "line": {
          "color": "red",
          "width": 1
         },
         "locationmode": "USA-states",
         "lon": [
          -76.66819833,
          -72.68322833
         ],
         "mode": "lines",
         "opacity": 0.08952341540795918,
         "type": "scattergeo"
        },
        {
         "lat": [
          39.17540167,
          36.12447667
         ],
         "line": {
          "color": "red",
          "width": 1
         },
         "locationmode": "USA-states",
         "lon": [
          -76.66819833,
          -86.67818222
         ],
         "mode": "lines",
         "opacity": 0.1589764811366301,
         "type": "scattergeo"
        },
        {
         "lat": [
          39.17540167,
          42.3643475
         ],
         "line": {
          "color": "red",
          "width": 1
         },
         "locationmode": "USA-states",
         "lon": [
          -76.66819833,
          -71.00517917
         ],
         "mode": "lines",
         "opacity": 0.0935926615628664,
         "type": "scattergeo"
        },
        {
         "lat": [
          39.17540167,
          41.41089417
         ],
         "line": {
          "color": "red",
          "width": 1
         },
         "locationmode": "USA-states",
         "lon": [
          -76.66819833,
          -81.84939667
         ],
         "mode": "lines",
         "opacity": 0.2538795779019243,
         "type": "scattergeo"
        },
        {
         "lat": [
          39.17540167,
          35.21401111
         ],
         "line": {
          "color": "red",
          "width": 1
         },
         "locationmode": "USA-states",
         "lon": [
          -76.66819833,
          -80.94312583
         ],
         "mode": "lines",
         "opacity": 0.1212497413614732,
         "type": "scattergeo"
        },
        {
         "lat": [
          39.17540167,
          26.07258333
         ],
         "line": {
          "color": "red",
          "width": 1
         },
         "locationmode": "USA-states",
         "lon": [
          -76.66819833,
          -80.15275
         ],
         "mode": "lines",
         "opacity": 0.11524932753983033,
         "type": "scattergeo"
        },
        {
         "lat": [
          39.17540167,
          29.98047222
         ],
         "line": {
          "color": "red",
          "width": 1
         },
         "locationmode": "USA-states",
         "lon": [
          -76.66819833,
          -95.33972222
         ],
         "mode": "lines",
         "opacity": 0.07579833091937375,
         "type": "scattergeo"
        },
        {
         "lat": [
          39.17540167,
          40.7952425
         ],
         "line": {
          "color": "red",
          "width": 1
         },
         "locationmode": "USA-states",
         "lon": [
          -76.66819833,
          -73.10021194
         ],
         "mode": "lines",
         "opacity": 0.11683564383750604,
         "type": "scattergeo"
        },
        {
         "lat": [
          39.17540167,
          30.49405556
         ],
         "line": {
          "color": "red",
          "width": 1
         },
         "locationmode": "USA-states",
         "lon": [
          -76.66819833,
          -81.68786111
         ],
         "mode": "lines",
         "opacity": 0.10186909442030485,
         "type": "scattergeo"
        },
        {
         "lat": [
          39.17540167,
          28.42888889
         ],
         "line": {
          "color": "red",
          "width": 1
         },
         "locationmode": "USA-states",
         "lon": [
          -76.66819833,
          -81.31602778
         ],
         "mode": "lines",
         "opacity": 0.17518449548244708,
         "type": "scattergeo"
        },
        {
         "lat": [
          39.17540167,
          41.7859825
         ],
         "line": {
          "color": "red",
          "width": 1
         },
         "locationmode": "USA-states",
         "lon": [
          -76.66819833,
          -87.75242444
         ],
         "mode": "lines",
         "opacity": 0.218221946341127,
         "type": "scattergeo"
        },
        {
         "lat": [
          39.17540167,
          42.93451639
         ],
         "line": {
          "color": "red",
          "width": 1
         },
         "locationmode": "USA-states",
         "lon": [
          -76.66819833,
          -71.43705583
         ],
         "mode": "lines",
         "opacity": 0.2518794399613766,
         "type": "scattergeo"
        },
        {
         "lat": [
          39.17540167,
          41.979595
         ],
         "line": {
          "color": "red",
          "width": 1
         },
         "locationmode": "USA-states",
         "lon": [
          -76.66819833,
          -87.90446417
         ],
         "mode": "lines",
         "opacity": 0.1277329470998,
         "type": "scattergeo"
        },
        {
         "lat": [
          39.17540167,
          33.43416667
         ],
         "line": {
          "color": "red",
          "width": 1
         },
         "locationmode": "USA-states",
         "lon": [
          -76.66819833,
          -112.0080556
         ],
         "mode": "lines",
         "opacity": 0.11959445478998551,
         "type": "scattergeo"
        },
        {
         "lat": [
          39.17540167,
          40.49146583
         ],
         "line": {
          "color": "red",
          "width": 1
         },
         "locationmode": "USA-states",
         "lon": [
          -76.66819833,
          -80.23287083
         ],
         "mode": "lines",
         "opacity": 0.13256086626663907,
         "type": "scattergeo"
        },
        {
         "lat": [
          39.17540167,
          41.72399917
         ],
         "line": {
          "color": "red",
          "width": 1
         },
         "locationmode": "USA-states",
         "lon": [
          -76.66819833,
          -71.42822111
         ],
         "mode": "lines",
         "opacity": 0.35554176150079314,
         "type": "scattergeo"
        },
        {
         "lat": [
          39.17540167,
          35.87763889
         ],
         "line": {
          "color": "red",
          "width": 1
         },
         "locationmode": "USA-states",
         "lon": [
          -76.66819833,
          -78.78747222
         ],
         "mode": "lines",
         "opacity": 0.07690185530036554,
         "type": "scattergeo"
        },
        {
         "lat": [
          39.17540167,
          38.74768694
         ],
         "line": {
          "color": "red",
          "width": 1
         },
         "locationmode": "USA-states",
         "lon": [
          -76.66819833,
          -90.35998972
         ],
         "mode": "lines",
         "opacity": 0.13628526105248637,
         "type": "scattergeo"
        },
        {
         "lat": [
          39.17540167,
          27.97547222
         ],
         "line": {
          "color": "red",
          "width": 1
         },
         "locationmode": "USA-states",
         "lon": [
          -76.66819833,
          -82.53325
         ],
         "mode": "lines",
         "opacity": 0.1919442720187599,
         "type": "scattergeo"
        },
        {
         "lat": [
          33.93884,
          33.64044444
         ],
         "line": {
          "color": "red",
          "width": 1
         },
         "locationmode": "USA-states",
         "lon": [
          -81.11953944,
          -84.42694444
         ],
         "mode": "lines",
         "opacity": 0.13863025036209395,
         "type": "scattergeo"
        },
        {
         "lat": [
          32.89864639,
          33.64044444
         ],
         "line": {
          "color": "red",
          "width": 1
         },
         "locationmode": "USA-states",
         "lon": [
          -80.04050583,
          -84.42694444
         ],
         "mode": "lines",
         "opacity": 0.13380233119525484,
         "type": "scattergeo"
        },
        {
         "lat": [
          41.41089417,
          33.64044444
         ],
         "line": {
          "color": "red",
          "width": 1
         },
         "locationmode": "USA-states",
         "lon": [
          -81.84939667,
          -84.42694444
         ],
         "mode": "lines",
         "opacity": 0.08697151527691564,
         "type": "scattergeo"
        },
        {
         "lat": [
          41.41089417,
          39.17540167
         ],
         "line": {
          "color": "red",
          "width": 1
         },
         "locationmode": "USA-states",
         "lon": [
          -81.84939667,
          -76.66819833
         ],
         "mode": "lines",
         "opacity": 0.28070901441478724,
         "type": "scattergeo"
        },
        {
         "lat": [
          41.41089417,
          40.69249722
         ],
         "line": {
          "color": "red",
          "width": 1
         },
         "locationmode": "USA-states",
         "lon": [
          -81.84939667,
          -74.16866056
         ],
         "mode": "lines",
         "opacity": 0.10917994344437547,
         "type": "scattergeo"
        },
        {
         "lat": [
          41.41089417,
          29.98047222
         ],
         "line": {
          "color": "red",
          "width": 1
         },
         "locationmode": "USA-states",
         "lon": [
          -81.84939667,
          -95.33972222
         ],
         "mode": "lines",
         "opacity": 0.08897165321746327,
         "type": "scattergeo"
        },
        {
         "lat": [
          41.41089417,
          40.77724306
         ],
         "line": {
          "color": "red",
          "width": 1
         },
         "locationmode": "USA-states",
         "lon": [
          -81.84939667,
          -73.87260917
         ],
         "mode": "lines",
         "opacity": 0.08683357472929168,
         "type": "scattergeo"
        },
        {
         "lat": [
          41.41089417,
          41.7859825
         ],
         "line": {
          "color": "red",
          "width": 1
         },
         "locationmode": "USA-states",
         "lon": [
          -81.84939667,
          -87.75242444
         ],
         "mode": "lines",
         "opacity": 0.1882888475067246,
         "type": "scattergeo"
        },
        {
         "lat": [
          41.41089417,
          41.979595
         ],
         "line": {
          "color": "red",
          "width": 1
         },
         "locationmode": "USA-states",
         "lon": [
          -81.84939667,
          -87.90446417
         ],
         "mode": "lines",
         "opacity": 0.13111249051658735,
         "type": "scattergeo"
        },
        {
         "lat": [
          41.41089417,
          39.87195278
         ],
         "line": {
          "color": "red",
          "width": 1
         },
         "locationmode": "USA-states",
         "lon": [
          -81.84939667,
          -75.24114083
         ],
         "mode": "lines",
         "opacity": 0.10462790537278432,
         "type": "scattergeo"
        },
        {
         "lat": [
          41.41089417,
          38.74768694
         ],
         "line": {
          "color": "red",
          "width": 1
         },
         "locationmode": "USA-states",
         "lon": [
          -81.84939667,
          -90.35998972
         ],
         "mode": "lines",
         "opacity": 0.11835298986136975,
         "type": "scattergeo"
        },
        {
         "lat": [
          35.21401111,
          33.64044444
         ],
         "line": {
          "color": "red",
          "width": 1
         },
         "locationmode": "USA-states",
         "lon": [
          -80.94312583,
          -84.42694444
         ],
         "mode": "lines",
         "opacity": 0.2678805434857576,
         "type": "scattergeo"
        },
        {
         "lat": [
          35.21401111,
          41.93887417
         ],
         "line": {
          "color": "red",
          "width": 1
         },
         "locationmode": "USA-states",
         "lon": [
          -80.94312583,
          -72.68322833
         ],
         "mode": "lines",
         "opacity": 0.0786950824194772,
         "type": "scattergeo"
        },
        {
         "lat": [
          35.21401111,
          42.3643475
         ],
         "line": {
          "color": "red",
          "width": 1
         },
         "locationmode": "USA-states",
         "lon": [
          -80.94312583,
          -71.00517917
         ],
         "mode": "lines",
         "opacity": 0.17373611973239533,
         "type": "scattergeo"
        },
        {
         "lat": [
          35.21401111,
          39.17540167
         ],
         "line": {
          "color": "red",
          "width": 1
         },
         "locationmode": "USA-states",
         "lon": [
          -80.94312583,
          -76.66819833
         ],
         "mode": "lines",
         "opacity": 0.15235533485067937,
         "type": "scattergeo"
        },
        {
         "lat": [
          35.21401111,
          33.93884
         ],
         "line": {
          "color": "red",
          "width": 1
         },
         "locationmode": "USA-states",
         "lon": [
          -80.94312583,
          -81.11953944
         ],
         "mode": "lines",
         "opacity": 0.08317815021725636,
         "type": "scattergeo"
        },
        {
         "lat": [
          35.21401111,
          32.89864639
         ],
         "line": {
          "color": "red",
          "width": 1
         },
         "locationmode": "USA-states",
         "lon": [
          -80.94312583,
          -80.04050583
         ],
         "mode": "lines",
         "opacity": 0.11518035726601834,
         "type": "scattergeo"
        },
        {
         "lat": [
          35.21401111,
          39.99798528
         ],
         "line": {
          "color": "red",
          "width": 1
         },
         "locationmode": "USA-states",
         "lon": [
          -80.94312583,
          -82.89188278
         ],
         "mode": "lines",
         "opacity": 0.0755224498241258,
         "type": "scattergeo"
        },
        {
         "lat": [
          35.21401111,
          38.85208333
         ],
         "line": {
          "color": "red",
          "width": 1
         },
         "locationmode": "USA-states",
         "lon": [
          -80.94312583,
          -77.03772222
         ],
         "mode": "lines",
         "opacity": 0.17304641699427548,
         "type": "scattergeo"
        },
        {
         "lat": [
          35.21401111,
          32.89595056
         ],
         "line": {
          "color": "red",
          "width": 1
         },
         "locationmode": "USA-states",
         "lon": [
          -80.94312583,
          -97.0372
         ],
         "mode": "lines",
         "opacity": 0.08448858541968411,
         "type": "scattergeo"
        },
        {
         "lat": [
          35.21401111,
          42.21205889
         ],
         "line": {
          "color": "red",
          "width": 1
         },
         "locationmode": "USA-states",
         "lon": [
          -80.94312583,
          -83.34883583
         ],
         "mode": "lines",
         "opacity": 0.09476515621767019,
         "type": "scattergeo"
        },
        {
         "lat": [
          35.21401111,
          40.69249722
         ],
         "line": {
          "color": "red",
          "width": 1
         },
         "locationmode": "USA-states",
         "lon": [
          -80.94312583,
          -74.16866056
         ],
         "mode": "lines",
         "opacity": 0.14883785088626802,
         "type": "scattergeo"
        },
        {
         "lat": [
          35.21401111,
          26.07258333
         ],
         "line": {
          "color": "red",
          "width": 1
         },
         "locationmode": "USA-states",
         "lon": [
          -80.94312583,
          -80.15275
         ],
         "mode": "lines",
         "opacity": 0.11931857369473757,
         "type": "scattergeo"
        },
        {
         "lat": [
          35.21401111,
          36.09774694
         ],
         "line": {
          "color": "red",
          "width": 1
         },
         "locationmode": "USA-states",
         "lon": [
          -80.94312583,
          -79.9372975
         ],
         "mode": "lines",
         "opacity": 0.10338644044416856,
         "type": "scattergeo"
        },
        {
         "lat": [
          35.21401111,
          38.94453194
         ],
         "line": {
          "color": "red",
          "width": 1
         },
         "locationmode": "USA-states",
         "lon": [
          -80.94312583,
          -77.45580972
         ],
         "mode": "lines",
         "opacity": 0.07414304434788606,
         "type": "scattergeo"
        },
        {
         "lat": [
          35.21401111,
          29.98047222
         ],
         "line": {
          "color": "red",
          "width": 1
         },
         "locationmode": "USA-states",
         "lon": [
          -80.94312583,
          -95.33972222
         ],
         "mode": "lines",
         "opacity": 0.08014345816952893,
         "type": "scattergeo"
        },
        {
         "lat": [
          35.21401111,
          34.27061111
         ],
         "line": {
          "color": "red",
          "width": 1
         },
         "locationmode": "USA-states",
         "lon": [
          -80.94312583,
          -77.90255556
         ],
         "mode": "lines",
         "opacity": 0.09911028346782537,
         "type": "scattergeo"
        },
        {
         "lat": [
          35.21401111,
          39.71732917
         ],
         "line": {
          "color": "red",
          "width": 1
         },
         "locationmode": "USA-states",
         "lon": [
          -80.94312583,
          -86.29438417
         ],
         "mode": "lines",
         "opacity": 0.07434995516932202,
         "type": "scattergeo"
        },
        {
         "lat": [
          35.21401111,
          30.49405556
         ],
         "line": {
          "color": "red",
          "width": 1
         },
         "locationmode": "USA-states",
         "lon": [
          -80.94312583,
          -81.68786111
         ],
         "mode": "lines",
         "opacity": 0.11552520863507829,
         "type": "scattergeo"
        },
        {
         "lat": [
          35.21401111,
          33.94253611
         ],
         "line": {
          "color": "red",
          "width": 1
         },
         "locationmode": "USA-states",
         "lon": [
          -80.94312583,
          -118.4080744
         ],
         "mode": "lines",
         "opacity": 0.08221256638388855,
         "type": "scattergeo"
        },
        {
         "lat": [
          35.21401111,
          40.77724306
         ],
         "line": {
          "color": "red",
          "width": 1
         },
         "locationmode": "USA-states",
         "lon": [
          -80.94312583,
          -73.87260917
         ],
         "mode": "lines",
         "opacity": 0.2649837919856542,
         "type": "scattergeo"
        },
        {
         "lat": [
          35.21401111,
          28.42888889
         ],
         "line": {
          "color": "red",
          "width": 1
         },
         "locationmode": "USA-states",
         "lon": [
          -80.94312583,
          -81.31602778
         ],
         "mode": "lines",
         "opacity": 0.13800951789778607,
         "type": "scattergeo"
        },
        {
         "lat": [
          35.21401111,
          35.04241667
         ],
         "line": {
          "color": "red",
          "width": 1
         },
         "locationmode": "USA-states",
         "lon": [
          -80.94312583,
          -89.97666667
         ],
         "mode": "lines",
         "opacity": 0.07800537968135733,
         "type": "scattergeo"
        },
        {
         "lat": [
          35.21401111,
          25.79325
         ],
         "line": {
          "color": "red",
          "width": 1
         },
         "locationmode": "USA-states",
         "lon": [
          -80.94312583,
          -80.29055556
         ],
         "mode": "lines",
         "opacity": 0.11669770328988206,
         "type": "scattergeo"
        },
        {
         "lat": [
          35.21401111,
          29.99338889
         ],
         "line": {
          "color": "red",
          "width": 1
         },
         "locationmode": "USA-states",
         "lon": [
          -80.94312583,
          -90.25802778
         ],
         "mode": "lines",
         "opacity": 0.07697082557417753,
         "type": "scattergeo"
        },
        {
         "lat": [
          35.21401111,
          33.67975
         ],
         "line": {
          "color": "red",
          "width": 1
         },
         "locationmode": "USA-states",
         "lon": [
          -80.94312583,
          -78.92833333
         ],
         "mode": "lines",
         "opacity": 0.12256017656390096,
         "type": "scattergeo"
        },
        {
         "lat": [
          35.21401111,
          41.979595
         ],
         "line": {
          "color": "red",
          "width": 1
         },
         "locationmode": "USA-states",
         "lon": [
          -80.94312583,
          -87.90446417
         ],
         "mode": "lines",
         "opacity": 0.20656597006690117,
         "type": "scattergeo"
        },
        {
         "lat": [
          35.21401111,
          36.89461111
         ],
         "line": {
          "color": "red",
          "width": 1
         },
         "locationmode": "USA-states",
         "lon": [
          -80.94312583,
          -76.20122222
         ],
         "mode": "lines",
         "opacity": 0.11359404096834265,
         "type": "scattergeo"
        },
        {
         "lat": [
          35.21401111,
          26.68316194
         ],
         "line": {
          "color": "red",
          "width": 1
         },
         "locationmode": "USA-states",
         "lon": [
          -80.94312583,
          -80.09559417
         ],
         "mode": "lines",
         "opacity": 0.11180081384923098,
         "type": "scattergeo"
        },
        {
         "lat": [
          35.21401111,
          39.87195278
         ],
         "line": {
          "color": "red",
          "width": 1
         },
         "locationmode": "USA-states",
         "lon": [
          -80.94312583,
          -75.24114083
         ],
         "mode": "lines",
         "opacity": 0.20553141595972135,
         "type": "scattergeo"
        },
        {
         "lat": [
          35.21401111,
          40.49146583
         ],
         "line": {
          "color": "red",
          "width": 1
         },
         "locationmode": "USA-states",
         "lon": [
          -80.94312583,
          -80.23287083
         ],
         "mode": "lines",
         "opacity": 0.2223601627698462,
         "type": "scattergeo"
        },
        {
         "lat": [
          35.21401111,
          35.87763889
         ],
         "line": {
          "color": "red",
          "width": 1
         },
         "locationmode": "USA-states",
         "lon": [
          -80.94312583,
          -78.78747222
         ],
         "mode": "lines",
         "opacity": 0.1366990826953583,
         "type": "scattergeo"
        },
        {
         "lat": [
          35.21401111,
          37.50516667
         ],
         "line": {
          "color": "red",
          "width": 1
         },
         "locationmode": "USA-states",
         "lon": [
          -80.94312583,
          -77.31966667
         ],
         "mode": "lines",
         "opacity": 0.11497344644458239,
         "type": "scattergeo"
        },
        {
         "lat": [
          35.21401111,
          26.53616667
         ],
         "line": {
          "color": "red",
          "width": 1
         },
         "locationmode": "USA-states",
         "lon": [
          -80.94312583,
          -81.75516667
         ],
         "mode": "lines",
         "opacity": 0.10752465687288779,
         "type": "scattergeo"
        },
        {
         "lat": [
          35.21401111,
          32.12758333
         ],
         "line": {
          "color": "red",
          "width": 1
         },
         "locationmode": "USA-states",
         "lon": [
          -80.94312583,
          -81.20213889
         ],
         "mode": "lines",
         "opacity": 0.09435133457479826,
         "type": "scattergeo"
        },
        {
         "lat": [
          35.21401111,
          27.39533333
         ],
         "line": {
          "color": "red",
          "width": 1
         },
         "locationmode": "USA-states",
         "lon": [
          -80.94312583,
          -82.55411111
         ],
         "mode": "lines",
         "opacity": 0.08000551762190496,
         "type": "scattergeo"
        },
        {
         "lat": [
          35.21401111,
          38.74768694
         ],
         "line": {
          "color": "red",
          "width": 1
         },
         "locationmode": "USA-states",
         "lon": [
          -80.94312583,
          -90.35998972
         ],
         "mode": "lines",
         "opacity": 0.07759155803848541,
         "type": "scattergeo"
        },
        {
         "lat": [
          35.21401111,
          27.97547222
         ],
         "line": {
          "color": "red",
          "width": 1
         },
         "locationmode": "USA-states",
         "lon": [
          -80.94312583,
          -82.53325
         ],
         "mode": "lines",
         "opacity": 0.16904614111318023,
         "type": "scattergeo"
        },
        {
         "lat": [
          39.99798528,
          33.64044444
         ],
         "line": {
          "color": "red",
          "width": 1
         },
         "locationmode": "USA-states",
         "lon": [
          -82.89188278,
          -84.42694444
         ],
         "mode": "lines",
         "opacity": 0.07752258776467343,
         "type": "scattergeo"
        },
        {
         "lat": [
          39.99798528,
          38.85208333
         ],
         "line": {
          "color": "red",
          "width": 1
         },
         "locationmode": "USA-states",
         "lon": [
          -82.89188278,
          -77.03772222
         ],
         "mode": "lines",
         "opacity": 0.0733843713359542,
         "type": "scattergeo"
        },
        {
         "lat": [
          39.99798528,
          40.69249722
         ],
         "line": {
          "color": "red",
          "width": 1
         },
         "locationmode": "USA-states",
         "lon": [
          -82.89188278,
          -74.16866056
         ],
         "mode": "lines",
         "opacity": 0.09462721567004621,
         "type": "scattergeo"
        },
        {
         "lat": [
          39.99798528,
          41.7859825
         ],
         "line": {
          "color": "red",
          "width": 1
         },
         "locationmode": "USA-states",
         "lon": [
          -82.89188278,
          -87.75242444
         ],
         "mode": "lines",
         "opacity": 0.09931719428926133,
         "type": "scattergeo"
        },
        {
         "lat": [
          39.99798528,
          41.979595
         ],
         "line": {
          "color": "red",
          "width": 1
         },
         "locationmode": "USA-states",
         "lon": [
          -82.89188278,
          -87.90446417
         ],
         "mode": "lines",
         "opacity": 0.09035105869370301,
         "type": "scattergeo"
        },
        {
         "lat": [
          39.99798528,
          39.87195278
         ],
         "line": {
          "color": "red",
          "width": 1
         },
         "locationmode": "USA-states",
         "lon": [
          -82.89188278,
          -75.24114083
         ],
         "mode": "lines",
         "opacity": 0.08607490171735982,
         "type": "scattergeo"
        },
        {
         "lat": [
          39.99798528,
          33.43416667
         ],
         "line": {
          "color": "red",
          "width": 1
         },
         "locationmode": "USA-states",
         "lon": [
          -82.89188278,
          -112.0080556
         ],
         "mode": "lines",
         "opacity": 0.07676391475274157,
         "type": "scattergeo"
        },
        {
         "lat": [
          39.99798528,
          38.74768694
         ],
         "line": {
          "color": "red",
          "width": 1
         },
         "locationmode": "USA-states",
         "lon": [
          -82.89188278,
          -90.35998972
         ],
         "mode": "lines",
         "opacity": 0.09173046416994275,
         "type": "scattergeo"
        },
        {
         "lat": [
          38.80580556,
          39.85840806
         ],
         "line": {
          "color": "red",
          "width": 1
         },
         "locationmode": "USA-states",
         "lon": [
          -104.70025,
          -104.6670019
         ],
         "mode": "lines",
         "opacity": 0.09276501827712257,
         "type": "scattergeo"
        },
        {
         "lat": [
          27.77036083,
          29.64541861
         ],
         "line": {
          "color": "red",
          "width": 1
         },
         "locationmode": "USA-states",
         "lon": [
          -97.50121528,
          -95.27888889
         ],
         "mode": "lines",
         "opacity": 0.08386785295537623,
         "type": "scattergeo"
        },
        {
         "lat": [
          39.04614278,
          33.64044444
         ],
         "line": {
          "color": "red",
          "width": 1
         },
         "locationmode": "USA-states",
         "lon": [
          -84.6621725,
          -84.42694444
         ],
         "mode": "lines",
         "opacity": 0.1925650044830678,
         "type": "scattergeo"
        },
        {
         "lat": [
          39.04614278,
          42.3643475
         ],
         "line": {
          "color": "red",
          "width": 1
         },
         "locationmode": "USA-states",
         "lon": [
          -84.6621725,
          -71.00517917
         ],
         "mode": "lines",
         "opacity": 0.08945444513414719,
         "type": "scattergeo"
        },
        {
         "lat": [
          39.04614278,
          32.89595056
         ],
         "line": {
          "color": "red",
          "width": 1
         },
         "locationmode": "USA-states",
         "lon": [
          -84.6621725,
          -97.0372
         ],
         "mode": "lines",
         "opacity": 0.10738671632526381,
         "type": "scattergeo"
        },
        {
         "lat": [
          39.04614278,
          33.94253611
         ],
         "line": {
          "color": "red",
          "width": 1
         },
         "locationmode": "USA-states",
         "lon": [
          -84.6621725,
          -118.4080744
         ],
         "mode": "lines",
         "opacity": 0.09000620732464308,
         "type": "scattergeo"
        },
        {
         "lat": [
          39.04614278,
          40.77724306
         ],
         "line": {
          "color": "red",
          "width": 1
         },
         "locationmode": "USA-states",
         "lon": [
          -84.6621725,
          -73.87260917
         ],
         "mode": "lines",
         "opacity": 0.11159390302779502,
         "type": "scattergeo"
        },
        {
         "lat": [
          39.04614278,
          28.42888889
         ],
         "line": {
          "color": "red",
          "width": 1
         },
         "locationmode": "USA-states",
         "lon": [
          -84.6621725,
          -81.31602778
         ],
         "mode": "lines",
         "opacity": 0.0755224498241258,
         "type": "scattergeo"
        },
        {
         "lat": [
          39.04614278,
          41.979595
         ],
         "line": {
          "color": "red",
          "width": 1
         },
         "locationmode": "USA-states",
         "lon": [
          -84.6621725,
          -87.90446417
         ],
         "mode": "lines",
         "opacity": 0.20863507828126077,
         "type": "scattergeo"
        },
        {
         "lat": [
          39.04614278,
          37.61900194
         ],
         "line": {
          "color": "red",
          "width": 1
         },
         "locationmode": "USA-states",
         "lon": [
          -84.6621725,
          -122.3748433
         ],
         "mode": "lines",
         "opacity": 0.07303951996689427,
         "type": "scattergeo"
        },
        {
         "lat": [
          39.04614278,
          40.78838778
         ],
         "line": {
          "color": "red",
          "width": 1
         },
         "locationmode": "USA-states",
         "lon": [
          -84.6621725,
          -111.9777731
         ],
         "mode": "lines",
         "opacity": 0.11373198151596661,
         "type": "scattergeo"
        },
        {
         "lat": [
          39.04614278,
          27.97547222
         ],
         "line": {
          "color": "red",
          "width": 1
         },
         "locationmode": "USA-states",
         "lon": [
          -84.6621725,
          -82.53325
         ],
         "mode": "lines",
         "opacity": 0.07483274708600593,
         "type": "scattergeo"
        },
        {
         "lat": [
          29.17991667,
          33.64044444
         ],
         "line": {
          "color": "red",
          "width": 1
         },
         "locationmode": "USA-states",
         "lon": [
          -81.05805556,
          -84.42694444
         ],
         "mode": "lines",
         "opacity": 0.07469480653838195,
         "type": "scattergeo"
        },
        {
         "lat": [
          32.84711389,
          35.04022222
         ],
         "line": {
          "color": "red",
          "width": 1
         },
         "locationmode": "USA-states",
         "lon": [
          -96.85177222,
          -106.6091944
         ],
         "mode": "lines",
         "opacity": 0.13483688530243465,
         "type": "scattergeo"
        },
        {
         "lat": [
          32.84711389,
          35.2193725
         ],
         "line": {
          "color": "red",
          "width": 1
         },
         "locationmode": "USA-states",
         "lon": [
          -96.85177222,
          -101.7059272
         ],
         "mode": "lines",
         "opacity": 0.14125112076694946,
         "type": "scattergeo"
        },
        {
         "lat": [
          32.84711389,
          30.19453278
         ],
         "line": {
          "color": "red",
          "width": 1
         },
         "locationmode": "USA-states",
         "lon": [
          -96.85177222,
          -97.66987194
         ],
         "mode": "lines",
         "opacity": 0.2564314780329678,
         "type": "scattergeo"
        },
        {
         "lat": [
          32.84711389,
          31.80666667
         ],
         "line": {
          "color": "red",
          "width": 1
         },
         "locationmode": "USA-states",
         "lon": [
          -96.85177222,
          -106.3778056
         ],
         "mode": "lines",
         "opacity": 0.08593696116973584,
         "type": "scattergeo"
        },
        {
         "lat": [
          32.84711389,
          29.64541861
         ],
         "line": {
          "color": "red",
          "width": 1
         },
         "locationmode": "USA-states",
         "lon": [
          -96.85177222,
          -95.27888889
         ],
         "mode": "lines",
         "opacity": 0.5199668942685702,
         "type": "scattergeo"
        },
        {
         "lat": [
          32.84711389,
          29.98047222
         ],
         "line": {
          "color": "red",
          "width": 1
         },
         "locationmode": "USA-states",
         "lon": [
          -96.85177222,
          -95.33972222
         ],
         "mode": "lines",
         "opacity": 0.08821298020553142,
         "type": "scattergeo"
        },
        {
         "lat": [
          32.84711389,
          33.66363889
         ],
         "line": {
          "color": "red",
          "width": 1
         },
         "locationmode": "USA-states",
         "lon": [
          -96.85177222,
          -101.8227778
         ],
         "mode": "lines",
         "opacity": 0.17090833850610387,
         "type": "scattergeo"
        },
        {
         "lat": [
          32.84711389,
          34.72939611
         ],
         "line": {
          "color": "red",
          "width": 1
         },
         "locationmode": "USA-states",
         "lon": [
          -96.85177222,
          -92.22424556
         ],
         "mode": "lines",
         "opacity": 0.17139113042278778,
         "type": "scattergeo"
        },
        {
         "lat": [
          32.84711389,
          31.94252778
         ],
         "line": {
          "color": "red",
          "width": 1
         },
         "locationmode": "USA-states",
         "lon": [
          -96.85177222,
          -102.2019139
         ],
         "mode": "lines",
         "opacity": 0.13476791502862268,
         "type": "scattergeo"
        },
        {
         "lat": [
          32.84711389,
          29.99338889
         ],
         "line": {
          "color": "red",
          "width": 1
         },
         "locationmode": "USA-states",
         "lon": [
          -96.85177222,
          -90.25802778
         ],
         "mode": "lines",
         "opacity": 0.10538657838471618,
         "type": "scattergeo"
        },
        {
         "lat": [
          32.84711389,
          35.39308833
         ],
         "line": {
          "color": "red",
          "width": 1
         },
         "locationmode": "USA-states",
         "lon": [
          -96.85177222,
          -97.60073389
         ],
         "mode": "lines",
         "opacity": 0.13049175805227947,
         "type": "scattergeo"
        },
        {
         "lat": [
          32.84711389,
          29.53369444
         ],
         "line": {
          "color": "red",
          "width": 1
         },
         "locationmode": "USA-states",
         "lon": [
          -96.85177222,
          -98.46977778
         ],
         "mode": "lines",
         "opacity": 0.2243603007103938,
         "type": "scattergeo"
        },
        {
         "lat": [
          32.84711389,
          36.19837222
         ],
         "line": {
          "color": "red",
          "width": 1
         },
         "locationmode": "USA-states",
         "lon": [
          -96.85177222,
          -95.88824167
         ],
         "mode": "lines",
         "opacity": 0.16318366783916133,
         "type": "scattergeo"
        },
        {
         "lat": [
          38.85208333,
          33.64044444
         ],
         "line": {
          "color": "red",
          "width": 1
         },
         "locationmode": "USA-states",
         "lon": [
          -77.03772222,
          -84.42694444
         ],
         "mode": "lines",
         "opacity": 0.2636043865094144,
         "type": "scattergeo"
        },
        {
         "lat": [
          38.85208333,
          42.3643475
         ],
         "line": {
          "color": "red",
          "width": 1
         },
         "locationmode": "USA-states",
         "lon": [
          -77.03772222,
          -71.00517917
         ],
         "mode": "lines",
         "opacity": 0.15814883785088626,
         "type": "scattergeo"
        },
        {
         "lat": [
          38.85208333,
          35.21401111
         ],
         "line": {
          "color": "red",
          "width": 1
         },
         "locationmode": "USA-states",
         "lon": [
          -77.03772222,
          -80.94312583
         ],
         "mode": "lines",
         "opacity": 0.15297606731498725,
         "type": "scattergeo"
        },
        {
         "lat": [
          38.85208333,
          32.89595056
         ],
         "line": {
          "color": "red",
          "width": 1
         },
         "locationmode": "USA-states",
         "lon": [
          -77.03772222,
          -97.0372
         ],
         "mode": "lines",
         "opacity": 0.14711359404096835,
         "type": "scattergeo"
        },
        {
         "lat": [
          38.85208333,
          40.69249722
         ],
         "line": {
          "color": "red",
          "width": 1
         },
         "locationmode": "USA-states",
         "lon": [
          -77.03772222,
          -74.16866056
         ],
         "mode": "lines",
         "opacity": 0.1020760052417408,
         "type": "scattergeo"
        },
        {
         "lat": [
          38.85208333,
          29.98047222
         ],
         "line": {
          "color": "red",
          "width": 1
         },
         "locationmode": "USA-states",
         "lon": [
          -77.03772222,
          -95.33972222
         ],
         "mode": "lines",
         "opacity": 0.07862611214566521,
         "type": "scattergeo"
        },
        {
         "lat": [
          38.85208333,
          40.77724306
         ],
         "line": {
          "color": "red",
          "width": 1
         },
         "locationmode": "USA-states",
         "lon": [
          -77.03772222,
          -73.87260917
         ],
         "mode": "lines",
         "opacity": 0.09869646182495345,
         "type": "scattergeo"
        },
        {
         "lat": [
          38.85208333,
          25.79325
         ],
         "line": {
          "color": "red",
          "width": 1
         },
         "locationmode": "USA-states",
         "lon": [
          -77.03772222,
          -80.29055556
         ],
         "mode": "lines",
         "opacity": 0.12297399820677288,
         "type": "scattergeo"
        },
        {
         "lat": [
          38.85208333,
          41.979595
         ],
         "line": {
          "color": "red",
          "width": 1
         },
         "locationmode": "USA-states",
         "lon": [
          -77.03772222,
          -87.90446417
         ],
         "mode": "lines",
         "opacity": 0.32953996827367404,
         "type": "scattergeo"
        },
        {
         "lat": [
          38.85208333,
          40.49146583
         ],
         "line": {
          "color": "red",
          "width": 1
         },
         "locationmode": "USA-states",
         "lon": [
          -77.03772222,
          -80.23287083
         ],
         "mode": "lines",
         "opacity": 0.08979929650320712,
         "type": "scattergeo"
        },
        {
         "lat": [
          39.85840806,
          35.04022222
         ],
         "line": {
          "color": "red",
          "width": 1
         },
         "locationmode": "USA-states",
         "lon": [
          -104.6670019,
          -106.6091944
         ],
         "mode": "lines",
         "opacity": 0.1660114490654528,
         "type": "scattergeo"
        },
        {
         "lat": [
          39.85840806,
          33.64044444
         ],
         "line": {
          "color": "red",
          "width": 1
         },
         "locationmode": "USA-states",
         "lon": [
          -104.6670019,
          -84.42694444
         ],
         "mode": "lines",
         "opacity": 0.25084488585419684,
         "type": "scattergeo"
        },
        {
         "lat": [
          39.85840806,
          42.3643475
         ],
         "line": {
          "color": "red",
          "width": 1
         },
         "locationmode": "USA-states",
         "lon": [
          -104.6670019,
          -71.00517917
         ],
         "mode": "lines",
         "opacity": 0.12207738464721705,
         "type": "scattergeo"
        },
        {
         "lat": [
          39.85840806,
          39.17540167
         ],
         "line": {
          "color": "red",
          "width": 1
         },
         "locationmode": "USA-states",
         "lon": [
          -104.6670019,
          -76.66819833
         ],
         "mode": "lines",
         "opacity": 0.09759293744396165,
         "type": "scattergeo"
        },
        {
         "lat": [
          39.85840806,
          38.80580556
         ],
         "line": {
          "color": "red",
          "width": 1
         },
         "locationmode": "USA-states",
         "lon": [
          -104.6670019,
          -104.70025
         ],
         "mode": "lines",
         "opacity": 0.10821435961100766,
         "type": "scattergeo"
        },
        {
         "lat": [
          39.85840806,
          32.89595056
         ],
         "line": {
          "color": "red",
          "width": 1
         },
         "locationmode": "USA-states",
         "lon": [
          -104.6670019,
          -97.0372
         ],
         "mode": "lines",
         "opacity": 0.33360921442858127,
         "type": "scattergeo"
        },
        {
         "lat": [
          39.85840806,
          42.21205889
         ],
         "line": {
          "color": "red",
          "width": 1
         },
         "locationmode": "USA-states",
         "lon": [
          -104.6670019,
          -83.34883583
         ],
         "mode": "lines",
         "opacity": 0.10483481619422029,
         "type": "scattergeo"
        },
        {
         "lat": [
          39.85840806,
          40.69249722
         ],
         "line": {
          "color": "red",
          "width": 1
         },
         "locationmode": "USA-states",
         "lon": [
          -104.6670019,
          -74.16866056
         ],
         "mode": "lines",
         "opacity": 0.17621904958962686,
         "type": "scattergeo"
        },
        {
         "lat": [
          39.85840806,
          38.94453194
         ],
         "line": {
          "color": "red",
          "width": 1
         },
         "locationmode": "USA-states",
         "lon": [
          -104.6670019,
          -77.45580972
         ],
         "mode": "lines",
         "opacity": 0.17139113042278778,
         "type": "scattergeo"
        },
        {
         "lat": [
          39.85840806,
          29.98047222
         ],
         "line": {
          "color": "red",
          "width": 1
         },
         "locationmode": "USA-states",
         "lon": [
          -104.6670019,
          -95.33972222
         ],
         "mode": "lines",
         "opacity": 0.21560107593627148,
         "type": "scattergeo"
        },
        {
         "lat": [
          39.85840806,
          39.71732917
         ],
         "line": {
          "color": "red",
          "width": 1
         },
         "locationmode": "USA-states",
         "lon": [
          -104.6670019,
          -86.29438417
         ],
         "mode": "lines",
         "opacity": 0.09435133457479826,
         "type": "scattergeo"
        },
        {
         "lat": [
          39.85840806,
          36.08036111
         ],
         "line": {
          "color": "red",
          "width": 1
         },
         "locationmode": "USA-states",
         "lon": [
          -104.6670019,
          -115.1523333
         ],
         "mode": "lines",
         "opacity": 0.2612593971998069,
         "type": "scattergeo"
        },
        {
         "lat": [
          39.85840806,
          33.94253611
         ],
         "line": {
          "color": "red",
          "width": 1
         },
         "locationmode": "USA-states",
         "lon": [
          -104.6670019,
          -118.4080744
         ],
         "mode": "lines",
         "opacity": 0.2999517208083316,
         "type": "scattergeo"
        },
        {
         "lat": [
          39.85840806,
          40.77724306
         ],
         "line": {
          "color": "red",
          "width": 1
         },
         "locationmode": "USA-states",
         "lon": [
          -104.6670019,
          -73.87260917
         ],
         "mode": "lines",
         "opacity": 0.15621767018415064,
         "type": "scattergeo"
        },
        {
         "lat": [
          39.85840806,
          39.29760528
         ],
         "line": {
          "color": "red",
          "width": 1
         },
         "locationmode": "USA-states",
         "lon": [
          -104.6670019,
          -94.71390556
         ],
         "mode": "lines",
         "opacity": 0.17214980343471964,
         "type": "scattergeo"
        },
        {
         "lat": [
          39.85840806,
          28.42888889
         ],
         "line": {
          "color": "red",
          "width": 1
         },
         "locationmode": "USA-states",
         "lon": [
          -104.6670019,
          -81.31602778
         ],
         "mode": "lines",
         "opacity": 0.08504034761018,
         "type": "scattergeo"
        },
        {
         "lat": [
          39.85840806,
          25.79325
         ],
         "line": {
          "color": "red",
          "width": 1
         },
         "locationmode": "USA-states",
         "lon": [
          -104.6670019,
          -80.29055556
         ],
         "mode": "lines",
         "opacity": 0.07331540106214221,
         "type": "scattergeo"
        },
        {
         "lat": [
          39.85840806,
          44.88054694
         ],
         "line": {
          "color": "red",
          "width": 1
         },
         "locationmode": "USA-states",
         "lon": [
          -104.6670019,
          -93.2169225
         ],
         "mode": "lines",
         "opacity": 0.21615283812676736,
         "type": "scattergeo"
        },
        {
         "lat": [
          39.85840806,
          37.72129083
         ],
         "line": {
          "color": "red",
          "width": 1
         },
         "locationmode": "USA-states",
         "lon": [
          -104.6670019,
          -122.2207167
         ],
         "mode": "lines",
         "opacity": 0.1154562383612663,
         "type": "scattergeo"
        },
        {
         "lat": [
          39.85840806,
          35.39308833
         ],
         "line": {
          "color": "red",
          "width": 1
         },
         "locationmode": "USA-states",
         "lon": [
          -104.6670019,
          -97.60073389
         ],
         "mode": "lines",
         "opacity": 0.11104214083729913,
         "type": "scattergeo"
        },
        {
         "lat": [
          39.85840806,
          41.30251861
         ],
         "line": {
          "color": "red",
          "width": 1
         },
         "locationmode": "USA-states",
         "lon": [
          -104.6670019,
          -95.89417306
         ],
         "mode": "lines",
         "opacity": 0.0984205807297055,
         "type": "scattergeo"
        },
        {
         "lat": [
          39.85840806,
          34.056
         ],
         "line": {
          "color": "red",
          "width": 1
         },
         "locationmode": "USA-states",
         "lon": [
          -104.6670019,
          -117.6011944
         ],
         "mode": "lines",
         "opacity": 0.07510862818125388,
         "type": "scattergeo"
        },
        {
         "lat": [
          39.85840806,
          41.979595
         ],
         "line": {
          "color": "red",
          "width": 1
         },
         "locationmode": "USA-states",
         "lon": [
          -104.6670019,
          -87.90446417
         ],
         "mode": "lines",
         "opacity": 0.4225808676460446,
         "type": "scattergeo"
        },
        {
         "lat": [
          39.85840806,
          45.58872222
         ],
         "line": {
          "color": "red",
          "width": 1
         },
         "locationmode": "USA-states",
         "lon": [
          -104.6670019,
          -122.5975
         ],
         "mode": "lines",
         "opacity": 0.16311469756534933,
         "type": "scattergeo"
        },
        {
         "lat": [
          39.85840806,
          39.87195278
         ],
         "line": {
          "color": "red",
          "width": 1
         },
         "locationmode": "USA-states",
         "lon": [
          -104.6670019,
          -75.24114083
         ],
         "mode": "lines",
         "opacity": 0.11662873301607007,
         "type": "scattergeo"
        },
        {
         "lat": [
          39.85840806,
          33.43416667
         ],
         "line": {
          "color": "red",
          "width": 1
         },
         "locationmode": "USA-states",
         "lon": [
          -104.6670019,
          -112.0080556
         ],
         "mode": "lines",
         "opacity": 0.29084764466514934,
         "type": "scattergeo"
        },
        {
         "lat": [
          39.85840806,
          32.73355611
         ],
         "line": {
          "color": "red",
          "width": 1
         },
         "locationmode": "USA-states",
         "lon": [
          -104.6670019,
          -117.1896567
         ],
         "mode": "lines",
         "opacity": 0.1313194013380233,
         "type": "scattergeo"
        },
        {
         "lat": [
          39.85840806,
          47.44898194
         ],
         "line": {
          "color": "red",
          "width": 1
         },
         "locationmode": "USA-states",
         "lon": [
          -104.6670019,
          -122.3093131
         ],
         "mode": "lines",
         "opacity": 0.24581005586592178,
         "type": "scattergeo"
        },
        {
         "lat": [
          39.85840806,
          37.61900194
         ],
         "line": {
          "color": "red",
          "width": 1
         },
         "locationmode": "USA-states",
         "lon": [
          -104.6670019,
          -122.3748433
         ],
         "mode": "lines",
         "opacity": 0.31002138078488173,
         "type": "scattergeo"
        },
        {
         "lat": [
          39.85840806,
          37.36186194
         ],
         "line": {
          "color": "red",
          "width": 1
         },
         "locationmode": "USA-states",
         "lon": [
          -104.6670019,
          -121.9290089
         ],
         "mode": "lines",
         "opacity": 0.15035519691013174,
         "type": "scattergeo"
        },
        {
         "lat": [
          39.85840806,
          40.78838778
         ],
         "line": {
          "color": "red",
          "width": 1
         },
         "locationmode": "USA-states",
         "lon": [
          -104.6670019,
          -111.9777731
         ],
         "mode": "lines",
         "opacity": 0.2653286433547141,
         "type": "scattergeo"
        },
        {
         "lat": [
          39.85840806,
          38.69542167
         ],
         "line": {
          "color": "red",
          "width": 1
         },
         "locationmode": "USA-states",
         "lon": [
          -104.6670019,
          -121.5907669
         ],
         "mode": "lines",
         "opacity": 0.11504241671839437,
         "type": "scattergeo"
        },
        {
         "lat": [
          39.85840806,
          33.67565861
         ],
         "line": {
          "color": "red",
          "width": 1
         },
         "locationmode": "USA-states",
         "lon": [
          -104.6670019,
          -117.8682225
         ],
         "mode": "lines",
         "opacity": 0.09828264018208152,
         "type": "scattergeo"
        },
        {
         "lat": [
          39.85840806,
          38.74768694
         ],
         "line": {
          "color": "red",
          "width": 1
         },
         "locationmode": "USA-states",
         "lon": [
          -104.6670019,
          -90.35998972
         ],
         "mode": "lines",
         "opacity": 0.17856403889923442,
         "type": "scattergeo"
        },
        {
         "lat": [
          39.85840806,
          36.19837222
         ],
         "line": {
          "color": "red",
          "width": 1
         },
         "locationmode": "USA-states",
         "lon": [
          -104.6670019,
          -95.88824167
         ],
         "mode": "lines",
         "opacity": 0.08221256638388855,
         "type": "scattergeo"
        },
        {
         "lat": [
          32.89595056,
          35.04022222
         ],
         "line": {
          "color": "red",
          "width": 1
         },
         "locationmode": "USA-states",
         "lon": [
          -97.0372,
          -106.6091944
         ],
         "mode": "lines",
         "opacity": 0.16614938961307676,
         "type": "scattergeo"
        },
        {
         "lat": [
          32.89595056,
          33.64044444
         ],
         "line": {
          "color": "red",
          "width": 1
         },
         "locationmode": "USA-states",
         "lon": [
          -97.0372,
          -84.42694444
         ],
         "mode": "lines",
         "opacity": 0.5438306090075178,
         "type": "scattergeo"
        },
        {
         "lat": [
          32.89595056,
          30.19453278
         ],
         "line": {
          "color": "red",
          "width": 1
         },
         "locationmode": "USA-states",
         "lon": [
          -97.0372,
          -97.66987194
         ],
         "mode": "lines",
         "opacity": 0.30126215601075934,
         "type": "scattergeo"
        },
        {
         "lat": [
          32.89595056,
          36.12447667
         ],
         "line": {
          "color": "red",
          "width": 1
         },
         "locationmode": "USA-states",
         "lon": [
          -97.0372,
          -86.67818222
         ],
         "mode": "lines",
         "opacity": 0.16428719222015312,
         "type": "scattergeo"
        },
        {
         "lat": [
          32.89595056,
          42.3643475
         ],
         "line": {
          "color": "red",
          "width": 1
         },
         "locationmode": "USA-states",
         "lon": [
          -97.0372,
          -71.00517917
         ],
         "mode": "lines",
         "opacity": 0.21194565142423616,
         "type": "scattergeo"
        },
        {
         "lat": [
          32.89595056,
          39.17540167
         ],
         "line": {
          "color": "red",
          "width": 1
         },
         "locationmode": "USA-states",
         "lon": [
          -97.0372,
          -76.66819833
         ],
         "mode": "lines",
         "opacity": 0.09400648320573833,
         "type": "scattergeo"
        },
        {
         "lat": [
          32.89595056,
          41.41089417
         ],
         "line": {
          "color": "red",
          "width": 1
         },
         "locationmode": "USA-states",
         "lon": [
          -97.0372,
          -81.84939667
         ],
         "mode": "lines",
         "opacity": 0.07876405269328919,
         "type": "scattergeo"
        },
        {
         "lat": [
          32.89595056,
          35.21401111
         ],
         "line": {
          "color": "red",
          "width": 1
         },
         "locationmode": "USA-states",
         "lon": [
          -97.0372,
          -80.94312583
         ],
         "mode": "lines",
         "opacity": 0.16518380577970895,
         "type": "scattergeo"
        },
        {
         "lat": [
          32.89595056,
          38.80580556
         ],
         "line": {
          "color": "red",
          "width": 1
         },
         "locationmode": "USA-states",
         "lon": [
          -97.0372,
          -104.70025
         ],
         "mode": "lines",
         "opacity": 0.1282847092902959,
         "type": "scattergeo"
        },
        {
         "lat": [
          32.89595056,
          39.04614278
         ],
         "line": {
          "color": "red",
          "width": 1
         },
         "locationmode": "USA-states",
         "lon": [
          -97.0372,
          -84.6621725
         ],
         "mode": "lines",
         "opacity": 0.1346299744809987,
         "type": "scattergeo"
        },
        {
         "lat": [
          32.89595056,
          38.85208333
         ],
         "line": {
          "color": "red",
          "width": 1
         },
         "locationmode": "USA-states",
         "lon": [
          -97.0372,
          -77.03772222
         ],
         "mode": "lines",
         "opacity": 0.2133250569004759,
         "type": "scattergeo"
        },
        {
         "lat": [
          32.89595056,
          39.85840806
         ],
         "line": {
          "color": "red",
          "width": 1
         },
         "locationmode": "USA-states",
         "lon": [
          -97.0372,
          -104.6670019
         ],
         "mode": "lines",
         "opacity": 0.42637423270570385,
         "type": "scattergeo"
        },
        {
         "lat": [
          32.89595056,
          42.21205889
         ],
         "line": {
          "color": "red",
          "width": 1
         },
         "locationmode": "USA-states",
         "lon": [
          -97.0372,
          -83.34883583
         ],
         "mode": "lines",
         "opacity": 0.15352782950548313,
         "type": "scattergeo"
        },
        {
         "lat": [
          32.89595056,
          31.80666667
         ],
         "line": {
          "color": "red",
          "width": 1
         },
         "locationmode": "USA-states",
         "lon": [
          -97.0372,
          -106.3778056
         ],
         "mode": "lines",
         "opacity": 0.19877232912614662,
         "type": "scattergeo"
        },
        {
         "lat": [
          32.89595056,
          40.69249722
         ],
         "line": {
          "color": "red",
          "width": 1
         },
         "locationmode": "USA-states",
         "lon": [
          -97.0372,
          -74.16866056
         ],
         "mode": "lines",
         "opacity": 0.24870680736602524,
         "type": "scattergeo"
        },
        {
         "lat": [
          32.89595056,
          26.07258333
         ],
         "line": {
          "color": "red",
          "width": 1
         },
         "locationmode": "USA-states",
         "lon": [
          -97.0372,
          -80.15275
         ],
         "mode": "lines",
         "opacity": 0.1409752396717015,
         "type": "scattergeo"
        },
        {
         "lat": [
          32.89595056,
          38.94453194
         ],
         "line": {
          "color": "red",
          "width": 1
         },
         "locationmode": "USA-states",
         "lon": [
          -97.0372,
          -77.45580972
         ],
         "mode": "lines",
         "opacity": 0.16090764880336575,
         "type": "scattergeo"
        },
        {
         "lat": [
          32.89595056,
          29.98047222
         ],
         "line": {
          "color": "red",
          "width": 1
         },
         "locationmode": "USA-states",
         "lon": [
          -97.0372,
          -95.33972222
         ],
         "mode": "lines",
         "opacity": 0.33326436305952134,
         "type": "scattergeo"
        },
        {
         "lat": [
          32.89595056,
          37.64995889
         ],
         "line": {
          "color": "red",
          "width": 1
         },
         "locationmode": "USA-states",
         "lon": [
          -97.0372,
          -97.43304583
         ],
         "mode": "lines",
         "opacity": 0.0728326091454583,
         "type": "scattergeo"
        },
        {
         "lat": [
          32.89595056,
          30.49405556
         ],
         "line": {
          "color": "red",
          "width": 1
         },
         "locationmode": "USA-states",
         "lon": [
          -97.0372,
          -81.68786111
         ],
         "mode": "lines",
         "opacity": 0.08786812883647148,
         "type": "scattergeo"
        },
        {
         "lat": [
          32.89595056,
          36.08036111
         ],
         "line": {
          "color": "red",
          "width": 1
         },
         "locationmode": "USA-states",
         "lon": [
          -97.0372,
          -115.1523333
         ],
         "mode": "lines",
         "opacity": 0.18387474998275743,
         "type": "scattergeo"
        },
        {
         "lat": [
          32.89595056,
          33.94253611
         ],
         "line": {
          "color": "red",
          "width": 1
         },
         "locationmode": "USA-states",
         "lon": [
          -97.0372,
          -118.4080744
         ],
         "mode": "lines",
         "opacity": 0.36305952134629976,
         "type": "scattergeo"
        },
        {
         "lat": [
          32.89595056,
          40.77724306
         ],
         "line": {
          "color": "red",
          "width": 1
         },
         "locationmode": "USA-states",
         "lon": [
          -97.0372,
          -73.87260917
         ],
         "mode": "lines",
         "opacity": 0.35588661286985307,
         "type": "scattergeo"
        },
        {
         "lat": [
          32.89595056,
          34.72939611
         ],
         "line": {
          "color": "red",
          "width": 1
         },
         "locationmode": "USA-states",
         "lon": [
          -97.0372,
          -92.22424556
         ],
         "mode": "lines",
         "opacity": 0.08779915856265949,
         "type": "scattergeo"
        },
        {
         "lat": [
          32.89595056,
          39.29760528
         ],
         "line": {
          "color": "red",
          "width": 1
         },
         "locationmode": "USA-states",
         "lon": [
          -97.0372,
          -94.71390556
         ],
         "mode": "lines",
         "opacity": 0.22684323056762534,
         "type": "scattergeo"
        },
        {
         "lat": [
          32.89595056,
          28.42888889
         ],
         "line": {
          "color": "red",
          "width": 1
         },
         "locationmode": "USA-states",
         "lon": [
          -97.0372,
          -81.31602778
         ],
         "mode": "lines",
         "opacity": 0.1889095799710325,
         "type": "scattergeo"
        },
        {
         "lat": [
          32.89595056,
          35.04241667
         ],
         "line": {
          "color": "red",
          "width": 1
         },
         "locationmode": "USA-states",
         "lon": [
          -97.0372,
          -89.97666667
         ],
         "mode": "lines",
         "opacity": 0.10614525139664804,
         "type": "scattergeo"
        },
        {
         "lat": [
          32.89595056,
          25.79325
         ],
         "line": {
          "color": "red",
          "width": 1
         },
         "locationmode": "USA-states",
         "lon": [
          -97.0372,
          -80.29055556
         ],
         "mode": "lines",
         "opacity": 0.2276708738533692,
         "type": "scattergeo"
        },
        {
         "lat": [
          32.89595056,
          44.88054694
         ],
         "line": {
          "color": "red",
          "width": 1
         },
         "locationmode": "USA-states",
         "lon": [
          -97.0372,
          -93.2169225
         ],
         "mode": "lines",
         "opacity": 0.1744947927443272,
         "type": "scattergeo"
        },
        {
         "lat": [
          32.89595056,
          29.99338889
         ],
         "line": {
          "color": "red",
          "width": 1
         },
         "locationmode": "USA-states",
         "lon": [
          -97.0372,
          -90.25802778
         ],
         "mode": "lines",
         "opacity": 0.1458721291123526,
         "type": "scattergeo"
        },
        {
         "lat": [
          32.89595056,
          37.72129083
         ],
         "line": {
          "color": "red",
          "width": 1
         },
         "locationmode": "USA-states",
         "lon": [
          -97.0372,
          -122.2207167
         ],
         "mode": "lines",
         "opacity": 0.10538657838471618,
         "type": "scattergeo"
        },
        {
         "lat": [
          32.89595056,
          34.056
         ],
         "line": {
          "color": "red",
          "width": 1
         },
         "locationmode": "USA-states",
         "lon": [
          -97.0372,
          -117.6011944
         ],
         "mode": "lines",
         "opacity": 0.11766328712324987,
         "type": "scattergeo"
        },
        {
         "lat": [
          32.89595056,
          41.979595
         ],
         "line": {
          "color": "red",
          "width": 1
         },
         "locationmode": "USA-states",
         "lon": [
          -97.0372,
          -87.90446417
         ],
         "mode": "lines",
         "opacity": 0.5041037312918132,
         "type": "scattergeo"
        },
        {
         "lat": [
          32.89595056,
          26.68316194
         ],
         "line": {
          "color": "red",
          "width": 1
         },
         "locationmode": "USA-states",
         "lon": [
          -97.0372,
          -80.09559417
         ],
         "mode": "lines",
         "opacity": 0.07883302296710118,
         "type": "scattergeo"
        },
        {
         "lat": [
          32.89595056,
          45.58872222
         ],
         "line": {
          "color": "red",
          "width": 1
         },
         "locationmode": "USA-states",
         "lon": [
          -97.0372,
          -122.5975
         ],
         "mode": "lines",
         "opacity": 0.11449065452789847,
         "type": "scattergeo"
        },
        {
         "lat": [
          32.89595056,
          39.87195278
         ],
         "line": {
          "color": "red",
          "width": 1
         },
         "locationmode": "USA-states",
         "lon": [
          -97.0372,
          -75.24114083
         ],
         "mode": "lines",
         "opacity": 0.1845644527208773,
         "type": "scattergeo"
        },
        {
         "lat": [
          32.89595056,
          33.43416667
         ],
         "line": {
          "color": "red",
          "width": 1
         },
         "locationmode": "USA-states",
         "lon": [
          -97.0372,
          -112.0080556
         ],
         "mode": "lines",
         "opacity": 0.3015380371060073,
         "type": "scattergeo"
        },
        {
         "lat": [
          32.89595056,
          40.49146583
         ],
         "line": {
          "color": "red",
          "width": 1
         },
         "locationmode": "USA-states",
         "lon": [
          -97.0372,
          -80.23287083
         ],
         "mode": "lines",
         "opacity": 0.10145527277743292,
         "type": "scattergeo"
        },
        {
         "lat": [
          32.89595056,
          35.87763889
         ],
         "line": {
          "color": "red",
          "width": 1
         },
         "locationmode": "USA-states",
         "lon": [
          -97.0372,
          -78.78747222
         ],
         "mode": "lines",
         "opacity": 0.15125181046968755,
         "type": "scattergeo"
        },
        {
         "lat": [
          32.89595056,
          39.49857611
         ],
         "line": {
          "color": "red",
          "width": 1
         },
         "locationmode": "USA-states",
         "lon": [
          -97.0372,
          -119.7680647
         ],
         "mode": "lines",
         "opacity": 0.0760052417408097,
         "type": "scattergeo"
        },
        {
         "lat": [
          32.89595056,
          32.73355611
         ],
         "line": {
          "color": "red",
          "width": 1
         },
         "locationmode": "USA-states",
         "lon": [
          -97.0372,
          -117.1896567
         ],
         "mode": "lines",
         "opacity": 0.2280846954962411,
         "type": "scattergeo"
        },
        {
         "lat": [
          32.89595056,
          29.53369444
         ],
         "line": {
          "color": "red",
          "width": 1
         },
         "locationmode": "USA-states",
         "lon": [
          -97.0372,
          -98.46977778
         ],
         "mode": "lines",
         "opacity": 0.2824332712600869,
         "type": "scattergeo"
        },
        {
         "lat": [
          32.89595056,
          47.44898194
         ],
         "line": {
          "color": "red",
          "width": 1
         },
         "locationmode": "USA-states",
         "lon": [
          -97.0372,
          -122.3093131
         ],
         "mode": "lines",
         "opacity": 0.191530450375888,
         "type": "scattergeo"
        },
        {
         "lat": [
          32.89595056,
          37.61900194
         ],
         "line": {
          "color": "red",
          "width": 1
         },
         "locationmode": "USA-states",
         "lon": [
          -97.0372,
          -122.3748433
         ],
         "mode": "lines",
         "opacity": 0.27036347334298916,
         "type": "scattergeo"
        },
        {
         "lat": [
          32.89595056,
          37.36186194
         ],
         "line": {
          "color": "red",
          "width": 1
         },
         "locationmode": "USA-states",
         "lon": [
          -97.0372,
          -121.9290089
         ],
         "mode": "lines",
         "opacity": 0.1398717152907097,
         "type": "scattergeo"
        },
        {
         "lat": [
          32.89595056,
          18.43941667
         ],
         "line": {
          "color": "red",
          "width": 1
         },
         "locationmode": "USA-states",
         "lon": [
          -97.0372,
          -66.00183333
         ],
         "mode": "lines",
         "opacity": 0.07586730119318574,
         "type": "scattergeo"
        },
        {
         "lat": [
          32.89595056,
          40.78838778
         ],
         "line": {
          "color": "red",
          "width": 1
         },
         "locationmode": "USA-states",
         "lon": [
          -97.0372,
          -111.9777731
         ],
         "mode": "lines",
         "opacity": 0.17704669287537073,
         "type": "scattergeo"
        },
        {
         "lat": [
          32.89595056,
          33.67565861
         ],
         "line": {
          "color": "red",
          "width": 1
         },
         "locationmode": "USA-states",
         "lon": [
          -97.0372,
          -117.8682225
         ],
         "mode": "lines",
         "opacity": 0.1745637630181392,
         "type": "scattergeo"
        },
        {
         "lat": [
          32.89595056,
          38.74768694
         ],
         "line": {
          "color": "red",
          "width": 1
         },
         "locationmode": "USA-states",
         "lon": [
          -97.0372,
          -90.35998972
         ],
         "mode": "lines",
         "opacity": 0.16463204358921305,
         "type": "scattergeo"
        },
        {
         "lat": [
          32.89595056,
          27.97547222
         ],
         "line": {
          "color": "red",
          "width": 1
         },
         "locationmode": "USA-states",
         "lon": [
          -97.0372,
          -82.53325
         ],
         "mode": "lines",
         "opacity": 0.16139044072004965,
         "type": "scattergeo"
        },
        {
         "lat": [
          32.89595056,
          36.19837222
         ],
         "line": {
          "color": "red",
          "width": 1
         },
         "locationmode": "USA-states",
         "lon": [
          -97.0372,
          -95.88824167
         ],
         "mode": "lines",
         "opacity": 0.08704048555072763,
         "type": "scattergeo"
        },
        {
         "lat": [
          32.89595056,
          32.11608333
         ],
         "line": {
          "color": "red",
          "width": 1
         },
         "locationmode": "USA-states",
         "lon": [
          -97.0372,
          -110.9410278
         ],
         "mode": "lines",
         "opacity": 0.16256293537485345,
         "type": "scattergeo"
        },
        {
         "lat": [
          41.53493306,
          41.979595
         ],
         "line": {
          "color": "red",
          "width": 1
         },
         "locationmode": "USA-states",
         "lon": [
          -93.66068222,
          -87.90446417
         ],
         "mode": "lines",
         "opacity": 0.07434995516932202,
         "type": "scattergeo"
        },
        {
         "lat": [
          42.21205889,
          33.64044444
         ],
         "line": {
          "color": "red",
          "width": 1
         },
         "locationmode": "USA-states",
         "lon": [
          -83.34883583,
          -84.42694444
         ],
         "mode": "lines",
         "opacity": 0.2824332712600869,
         "type": "scattergeo"
        },
        {
         "lat": [
          42.21205889,
          41.93887417
         ],
         "line": {
          "color": "red",
          "width": 1
         },
         "locationmode": "USA-states",
         "lon": [
          -83.34883583,
          -72.68322833
         ],
         "mode": "lines",
         "opacity": 0.07248775777639838,
         "type": "scattergeo"
        },
        {
         "lat": [
          42.21205889,
          36.12447667
         ],
         "line": {
          "color": "red",
          "width": 1
         },
         "locationmode": "USA-states",
         "lon": [
          -83.34883583,
          -86.67818222
         ],
         "mode": "lines",
         "opacity": 0.14228567487412924,
         "type": "scattergeo"
        },
        {
         "lat": [
          42.21205889,
          42.3643475
         ],
         "line": {
          "color": "red",
          "width": 1
         },
         "locationmode": "USA-states",
         "lon": [
          -83.34883583,
          -71.00517917
         ],
         "mode": "lines",
         "opacity": 0.15076901855300365,
         "type": "scattergeo"
        },
        {
         "lat": [
          42.21205889,
          42.94052472
         ],
         "line": {
          "color": "red",
          "width": 1
         },
         "locationmode": "USA-states",
         "lon": [
          -83.34883583,
          -78.73216667
         ],
         "mode": "lines",
         "opacity": 0.07269466859783433,
         "type": "scattergeo"
        },
        {
         "lat": [
          42.21205889,
          39.17540167
         ],
         "line": {
          "color": "red",
          "width": 1
         },
         "locationmode": "USA-states",
         "lon": [
          -83.34883583,
          -76.66819833
         ],
         "mode": "lines",
         "opacity": 0.1261466308021243,
         "type": "scattergeo"
        },
        {
         "lat": [
          42.21205889,
          35.21401111
         ],
         "line": {
          "color": "red",
          "width": 1
         },
         "locationmode": "USA-states",
         "lon": [
          -83.34883583,
          -80.94312583
         ],
         "mode": "lines",
         "opacity": 0.13221601489757914,
         "type": "scattergeo"
        },
        {
         "lat": [
          42.21205889,
          39.99798528
         ],
         "line": {
          "color": "red",
          "width": 1
         },
         "locationmode": "USA-states",
         "lon": [
          -83.34883583,
          -82.89188278
         ],
         "mode": "lines",
         "opacity": 0.08372991240775225,
         "type": "scattergeo"
        },
        {
         "lat": [
          42.21205889,
          38.85208333
         ],
         "line": {
          "color": "red",
          "width": 1
         },
         "locationmode": "USA-states",
         "lon": [
          -83.34883583,
          -77.03772222
         ],
         "mode": "lines",
         "opacity": 0.1324229257190151,
         "type": "scattergeo"
        },
        {
         "lat": [
          42.21205889,
          39.85840806
         ],
         "line": {
          "color": "red",
          "width": 1
         },
         "locationmode": "USA-states",
         "lon": [
          -83.34883583,
          -104.6670019
         ],
         "mode": "lines",
         "opacity": 0.10842127043244362,
         "type": "scattergeo"
        },
        {
         "lat": [
          42.21205889,
          32.89595056
         ],
         "line": {
          "color": "red",
          "width": 1
         },
         "locationmode": "USA-states",
         "lon": [
          -83.34883583,
          -97.0372
         ],
         "mode": "lines",
         "opacity": 0.1484929995172081,
         "type": "scattergeo"
        },
        {
         "lat": [
          42.21205889,
          40.69249722
         ],
         "line": {
          "color": "red",
          "width": 1
         },
         "locationmode": "USA-states",
         "lon": [
          -83.34883583,
          -74.16866056
         ],
         "mode": "lines",
         "opacity": 0.2507069453065729,
         "type": "scattergeo"
        },
        {
         "lat": [
          42.21205889,
          42.88081972
         ],
         "line": {
          "color": "red",
          "width": 1
         },
         "locationmode": "USA-states",
         "lon": [
          -83.34883583,
          -85.52276778
         ],
         "mode": "lines",
         "opacity": 0.12904338230222773,
         "type": "scattergeo"
        },
        {
         "lat": [
          42.21205889,
          38.94453194
         ],
         "line": {
          "color": "red",
          "width": 1
         },
         "locationmode": "USA-states",
         "lon": [
          -83.34883583,
          -77.45580972
         ],
         "mode": "lines",
         "opacity": 0.08483343678874405,
         "type": "scattergeo"
        },
        {
         "lat": [
          42.21205889,
          29.98047222
         ],
         "line": {
          "color": "red",
          "width": 1
         },
         "locationmode": "USA-states",
         "lon": [
          -83.34883583,
          -95.33972222
         ],
         "mode": "lines",
         "opacity": 0.12290502793296089,
         "type": "scattergeo"
        },
        {
         "lat": [
          42.21205889,
          39.71732917
         ],
         "line": {
          "color": "red",
          "width": 1
         },
         "locationmode": "USA-states",
         "lon": [
          -83.34883583,
          -86.29438417
         ],
         "mode": "lines",
         "opacity": 0.13952686392164976,
         "type": "scattergeo"
        },
        {
         "lat": [
          42.21205889,
          40.63975111
         ],
         "line": {
          "color": "red",
          "width": 1
         },
         "locationmode": "USA-states",
         "lon": [
          -83.34883583,
          -73.77892556
         ],
         "mode": "lines",
         "opacity": 0.07345334160976619,
         "type": "scattergeo"
        },
        {
         "lat": [
          42.21205889,
          42.7787
         ],
         "line": {
          "color": "red",
          "width": 1
         },
         "locationmode": "USA-states",
         "lon": [
          -83.34883583,
          -84.58735806
         ],
         "mode": "lines",
         "opacity": 0.07952272570522105,
         "type": "scattergeo"
        },
        {
         "lat": [
          42.21205889,
          36.08036111
         ],
         "line": {
          "color": "red",
          "width": 1
         },
         "locationmode": "USA-states",
         "lon": [
          -83.34883583,
          -115.1523333
         ],
         "mode": "lines",
         "opacity": 0.1069039244085799,
         "type": "scattergeo"
        },
        {
         "lat": [
          42.21205889,
          33.94253611
         ],
         "line": {
          "color": "red",
          "width": 1
         },
         "locationmode": "USA-states",
         "lon": [
          -83.34883583,
          -118.4080744
         ],
         "mode": "lines",
         "opacity": 0.12366370094489275,
         "type": "scattergeo"
        },
        {
         "lat": [
          42.21205889,
          40.77724306
         ],
         "line": {
          "color": "red",
          "width": 1
         },
         "locationmode": "USA-states",
         "lon": [
          -83.34883583,
          -73.87260917
         ],
         "mode": "lines",
         "opacity": 0.19380646941168356,
         "type": "scattergeo"
        },
        {
         "lat": [
          42.21205889,
          28.42888889
         ],
         "line": {
          "color": "red",
          "width": 1
         },
         "locationmode": "USA-states",
         "lon": [
          -83.34883583,
          -81.31602778
         ],
         "mode": "lines",
         "opacity": 0.16980481412511209,
         "type": "scattergeo"
        },
        {
         "lat": [
          42.21205889,
          41.7859825
         ],
         "line": {
          "color": "red",
          "width": 1
         },
         "locationmode": "USA-states",
         "lon": [
          -83.34883583,
          -87.75242444
         ],
         "mode": "lines",
         "opacity": 0.27470860059314434,
         "type": "scattergeo"
        },
        {
         "lat": [
          42.21205889,
          35.04241667
         ],
         "line": {
          "color": "red",
          "width": 1
         },
         "locationmode": "USA-states",
         "lon": [
          -83.34883583,
          -89.97666667
         ],
         "mode": "lines",
         "opacity": 0.15870060004138217,
         "type": "scattergeo"
        },
        {
         "lat": [
          42.21205889,
          25.79325
         ],
         "line": {
          "color": "red",
          "width": 1
         },
         "locationmode": "USA-states",
         "lon": [
          -83.34883583,
          -80.29055556
         ],
         "mode": "lines",
         "opacity": 0.10711083523001587,
         "type": "scattergeo"
        },
        {
         "lat": [
          42.21205889,
          42.94722222
         ],
         "line": {
          "color": "red",
          "width": 1
         },
         "locationmode": "USA-states",
         "lon": [
          -83.34883583,
          -87.89658333
         ],
         "mode": "lines",
         "opacity": 0.13221601489757914,
         "type": "scattergeo"
        },
        {
         "lat": [
          42.21205889,
          43.13985778
         ],
         "line": {
          "color": "red",
          "width": 1
         },
         "locationmode": "USA-states",
         "lon": [
          -83.34883583,
          -89.33751361
         ],
         "mode": "lines",
         "opacity": 0.07469480653838195,
         "type": "scattergeo"
        },
        {
         "lat": [
          42.21205889,
          44.88054694
         ],
         "line": {
          "color": "red",
          "width": 1
         },
         "locationmode": "USA-states",
         "lon": [
          -83.34883583,
          -93.2169225
         ],
         "mode": "lines",
         "opacity": 0.2758810952479481,
         "type": "scattergeo"
        },
        {
         "lat": [
          42.21205889,
          41.979595
         ],
         "line": {
          "color": "red",
          "width": 1
         },
         "locationmode": "USA-states",
         "lon": [
          -83.34883583,
          -87.90446417
         ],
         "mode": "lines",
         "opacity": 0.3760949030967653,
         "type": "scattergeo"
        },
        {
         "lat": [
          42.21205889,
          39.87195278
         ],
         "line": {
          "color": "red",
          "width": 1
         },
         "locationmode": "USA-states",
         "lon": [
          -83.34883583,
          -75.24114083
         ],
         "mode": "lines",
         "opacity": 0.21787709497206703,
         "type": "scattergeo"
        },
        {
         "lat": [
          42.21205889,
          33.43416667
         ],
         "line": {
          "color": "red",
          "width": 1
         },
         "locationmode": "USA-states",
         "lon": [
          -83.34883583,
          -112.0080556
         ],
         "mode": "lines",
         "opacity": 0.15028622663631974,
         "type": "scattergeo"
        },
        {
         "lat": [
          42.21205889,
          40.49146583
         ],
         "line": {
          "color": "red",
          "width": 1
         },
         "locationmode": "USA-states",
         "lon": [
          -83.34883583,
          -80.23287083
         ],
         "mode": "lines",
         "opacity": 0.07710876612180151,
         "type": "scattergeo"
        },
        {
         "lat": [
          42.21205889,
          47.44898194
         ],
         "line": {
          "color": "red",
          "width": 1
         },
         "locationmode": "USA-states",
         "lon": [
          -83.34883583,
          -122.3093131
         ],
         "mode": "lines",
         "opacity": 0.13111249051658735,
         "type": "scattergeo"
        },
        {
         "lat": [
          42.21205889,
          37.61900194
         ],
         "line": {
          "color": "red",
          "width": 1
         },
         "locationmode": "USA-states",
         "lon": [
          -83.34883583,
          -122.3748433
         ],
         "mode": "lines",
         "opacity": 0.10835230015863163,
         "type": "scattergeo"
        },
        {
         "lat": [
          42.21205889,
          38.74768694
         ],
         "line": {
          "color": "red",
          "width": 1
         },
         "locationmode": "USA-states",
         "lon": [
          -83.34883583,
          -90.35998972
         ],
         "mode": "lines",
         "opacity": 0.2196703220911787,
         "type": "scattergeo"
        },
        {
         "lat": [
          42.21205889,
          27.97547222
         ],
         "line": {
          "color": "red",
          "width": 1
         },
         "locationmode": "USA-states",
         "lon": [
          -83.34883583,
          -82.53325
         ],
         "mode": "lines",
         "opacity": 0.12435340368301262,
         "type": "scattergeo"
        },
        {
         "lat": [
          31.80666667,
          32.84711389
         ],
         "line": {
          "color": "red",
          "width": 1
         },
         "locationmode": "USA-states",
         "lon": [
          -106.3778056,
          -96.85177222
         ],
         "mode": "lines",
         "opacity": 0.09035105869370301,
         "type": "scattergeo"
        },
        {
         "lat": [
          31.80666667,
          32.89595056
         ],
         "line": {
          "color": "red",
          "width": 1
         },
         "locationmode": "USA-states",
         "lon": [
          -106.3778056,
          -97.0372
         ],
         "mode": "lines",
         "opacity": 0.09579971032484999,
         "type": "scattergeo"
        },
        {
         "lat": [
          31.80666667,
          29.64541861
         ],
         "line": {
          "color": "red",
          "width": 1
         },
         "locationmode": "USA-states",
         "lon": [
          -106.3778056,
          -95.27888889
         ],
         "mode": "lines",
         "opacity": 0.09669632388440583,
         "type": "scattergeo"
        },
        {
         "lat": [
          31.80666667,
          33.94253611
         ],
         "line": {
          "color": "red",
          "width": 1
         },
         "locationmode": "USA-states",
         "lon": [
          -106.3778056,
          -118.4080744
         ],
         "mode": "lines",
         "opacity": 0.08041933926477689,
         "type": "scattergeo"
        },
        {
         "lat": [
          31.80666667,
          33.43416667
         ],
         "line": {
          "color": "red",
          "width": 1
         },
         "locationmode": "USA-states",
         "lon": [
          -106.3778056,
          -112.0080556
         ],
         "mode": "lines",
         "opacity": 0.1803572660183461,
         "type": "scattergeo"
        },
        {
         "lat": [
          31.80666667,
          29.53369444
         ],
         "line": {
          "color": "red",
          "width": 1
         },
         "locationmode": "USA-states",
         "lon": [
          -106.3778056,
          -98.46977778
         ],
         "mode": "lines",
         "opacity": 0.07745361749086144,
         "type": "scattergeo"
        },
        {
         "lat": [
          44.12326,
          37.61900194
         ],
         "line": {
          "color": "red",
          "width": 1
         },
         "locationmode": "USA-states",
         "lon": [
          -123.2186856,
          -122.3748433
         ],
         "mode": "lines",
         "opacity": 0.08793709911028347,
         "type": "scattergeo"
        },
        {
         "lat": [
          40.69249722,
          33.64044444
         ],
         "line": {
          "color": "red",
          "width": 1
         },
         "locationmode": "USA-states",
         "lon": [
          -74.16866056,
          -84.42694444
         ],
         "mode": "lines",
         "opacity": 0.3878198496448031,
         "type": "scattergeo"
        },
        {
         "lat": [
          40.69249722,
          42.3643475
         ],
         "line": {
          "color": "red",
          "width": 1
         },
         "locationmode": "USA-states",
         "lon": [
          -74.16866056,
          -71.00517917
         ],
         "mode": "lines",
         "opacity": 0.22636043865094144,
         "type": "scattergeo"
        },
        {
         "lat": [
          40.69249722,
          41.41089417
         ],
         "line": {
          "color": "red",
          "width": 1
         },
         "locationmode": "USA-states",
         "lon": [
          -74.16866056,
          -81.84939667
         ],
         "mode": "lines",
         "opacity": 0.10917994344437547,
         "type": "scattergeo"
        },
        {
         "lat": [
          40.69249722,
          35.21401111
         ],
         "line": {
          "color": "red",
          "width": 1
         },
         "locationmode": "USA-states",
         "lon": [
          -74.16866056,
          -80.94312583
         ],
         "mode": "lines",
         "opacity": 0.1213187116352852,
         "type": "scattergeo"
        },
        {
         "lat": [
          40.69249722,
          39.99798528
         ],
         "line": {
          "color": "red",
          "width": 1
         },
         "locationmode": "USA-states",
         "lon": [
          -74.16866056,
          -82.89188278
         ],
         "mode": "lines",
         "opacity": 0.07414304434788606,
         "type": "scattergeo"
        },
        {
         "lat": [
          40.69249722,
          39.04614278
         ],
         "line": {
          "color": "red",
          "width": 1
         },
         "locationmode": "USA-states",
         "lon": [
          -74.16866056,
          -84.6621725
         ],
         "mode": "lines",
         "opacity": 0.07303951996689427,
         "type": "scattergeo"
        },
        {
         "lat": [
          40.69249722,
          38.85208333
         ],
         "line": {
          "color": "red",
          "width": 1
         },
         "locationmode": "USA-states",
         "lon": [
          -74.16866056,
          -77.03772222
         ],
         "mode": "lines",
         "opacity": 0.09559279950341402,
         "type": "scattergeo"
        },
        {
         "lat": [
          40.69249722,
          39.85840806
         ],
         "line": {
          "color": "red",
          "width": 1
         },
         "locationmode": "USA-states",
         "lon": [
          -74.16866056,
          -104.6670019
         ],
         "mode": "lines",
         "opacity": 0.14656183185047245,
         "type": "scattergeo"
        },
        {
         "lat": [
          40.69249722,
          32.89595056
         ],
         "line": {
          "color": "red",
          "width": 1
         },
         "locationmode": "USA-states",
         "lon": [
          -74.16866056,
          -97.0372
         ],
         "mode": "lines",
         "opacity": 0.17621904958962686,
         "type": "scattergeo"
        },
        {
         "lat": [
          40.69249722,
          42.21205889
         ],
         "line": {
          "color": "red",
          "width": 1
         },
         "locationmode": "USA-states",
         "lon": [
          -74.16866056,
          -83.34883583
         ],
         "mode": "lines",
         "opacity": 0.1824953445065177,
         "type": "scattergeo"
        },
        {
         "lat": [
          40.69249722,
          26.07258333
         ],
         "line": {
          "color": "red",
          "width": 1
         },
         "locationmode": "USA-states",
         "lon": [
          -74.16866056,
          -80.15275
         ],
         "mode": "lines",
         "opacity": 0.1719428926132837,
         "type": "scattergeo"
        },
        {
         "lat": [
          40.69249722,
          29.98047222
         ],
         "line": {
          "color": "red",
          "width": 1
         },
         "locationmode": "USA-states",
         "lon": [
          -74.16866056,
          -95.33972222
         ],
         "mode": "lines",
         "opacity": 0.16987378439892406,
         "type": "scattergeo"
        },
        {
         "lat": [
          40.69249722,
          36.08036111
         ],
         "line": {
          "color": "red",
          "width": 1
         },
         "locationmode": "USA-states",
         "lon": [
          -74.16866056,
          -115.1523333
         ],
         "mode": "lines",
         "opacity": 0.10938685426581143,
         "type": "scattergeo"
        },
        {
         "lat": [
          40.69249722,
          33.94253611
         ],
         "line": {
          "color": "red",
          "width": 1
         },
         "locationmode": "USA-states",
         "lon": [
          -74.16866056,
          -118.4080744
         ],
         "mode": "lines",
         "opacity": 0.22415338988895786,
         "type": "scattergeo"
        },
        {
         "lat": [
          40.69249722,
          28.42888889
         ],
         "line": {
          "color": "red",
          "width": 1
         },
         "locationmode": "USA-states",
         "lon": [
          -74.16866056,
          -81.31602778
         ],
         "mode": "lines",
         "opacity": 0.2769156493551279,
         "type": "scattergeo"
        },
        {
         "lat": [
          40.69249722,
          25.79325
         ],
         "line": {
          "color": "red",
          "width": 1
         },
         "locationmode": "USA-states",
         "lon": [
          -74.16866056,
          -80.29055556
         ],
         "mode": "lines",
         "opacity": 0.15256224567211532,
         "type": "scattergeo"
        },
        {
         "lat": [
          40.69249722,
          44.88054694
         ],
         "line": {
          "color": "red",
          "width": 1
         },
         "locationmode": "USA-states",
         "lon": [
          -74.16866056,
          -93.2169225
         ],
         "mode": "lines",
         "opacity": 0.1101455272777433,
         "type": "scattergeo"
        },
        {
         "lat": [
          40.69249722,
          41.979595
         ],
         "line": {
          "color": "red",
          "width": 1
         },
         "locationmode": "USA-states",
         "lon": [
          -74.16866056,
          -87.90446417
         ],
         "mode": "lines",
         "opacity": 0.44920339333747156,
         "type": "scattergeo"
        },
        {
         "lat": [
          40.69249722,
          26.68316194
         ],
         "line": {
          "color": "red",
          "width": 1
         },
         "locationmode": "USA-states",
         "lon": [
          -74.16866056,
          -80.09559417
         ],
         "mode": "lines",
         "opacity": 0.09504103731291813,
         "type": "scattergeo"
        },
        {
         "lat": [
          40.69249722,
          33.43416667
         ],
         "line": {
          "color": "red",
          "width": 1
         },
         "locationmode": "USA-states",
         "lon": [
          -74.16866056,
          -112.0080556
         ],
         "mode": "lines",
         "opacity": 0.13276777708807505,
         "type": "scattergeo"
        },
        {
         "lat": [
          40.69249722,
          40.49146583
         ],
         "line": {
          "color": "red",
          "width": 1
         },
         "locationmode": "USA-states",
         "lon": [
          -74.16866056,
          -80.23287083
         ],
         "mode": "lines",
         "opacity": 0.13283674736188703,
         "type": "scattergeo"
        },
        {
         "lat": [
          40.69249722,
          37.61900194
         ],
         "line": {
          "color": "red",
          "width": 1
         },
         "locationmode": "USA-states",
         "lon": [
          -74.16866056,
          -122.3748433
         ],
         "mode": "lines",
         "opacity": 0.17228774398234362,
         "type": "scattergeo"
        },
        {
         "lat": [
          40.69249722,
          18.43941667
         ],
         "line": {
          "color": "red",
          "width": 1
         },
         "locationmode": "USA-states",
         "lon": [
          -74.16866056,
          -66.00183333
         ],
         "mode": "lines",
         "opacity": 0.09352369128905441,
         "type": "scattergeo"
        },
        {
         "lat": [
          40.69249722,
          38.74768694
         ],
         "line": {
          "color": "red",
          "width": 1
         },
         "locationmode": "USA-states",
         "lon": [
          -74.16866056,
          -90.35998972
         ],
         "mode": "lines",
         "opacity": 0.12580177943306434,
         "type": "scattergeo"
        },
        {
         "lat": [
          40.69249722,
          27.97547222
         ],
         "line": {
          "color": "red",
          "width": 1
         },
         "locationmode": "USA-states",
         "lon": [
          -74.16866056,
          -82.53325
         ],
         "mode": "lines",
         "opacity": 0.13021587695703152,
         "type": "scattergeo"
        },
        {
         "lat": [
          64.8136775,
          61.17432028
         ],
         "line": {
          "color": "red",
          "width": 1
         },
         "locationmode": "USA-states",
         "lon": [
          -147.8596694,
          -149.9961856
         ],
         "mode": "lines",
         "opacity": 0.13125043106421133,
         "type": "scattergeo"
        },
        {
         "lat": [
          26.07258333,
          33.64044444
         ],
         "line": {
          "color": "red",
          "width": 1
         },
         "locationmode": "USA-states",
         "lon": [
          -80.15275,
          -84.42694444
         ],
         "mode": "lines",
         "opacity": 0.18028829574453412,
         "type": "scattergeo"
        },
        {
         "lat": [
          26.07258333,
          42.3643475
         ],
         "line": {
          "color": "red",
          "width": 1
         },
         "locationmode": "USA-states",
         "lon": [
          -80.15275,
          -71.00517917
         ],
         "mode": "lines",
         "opacity": 0.13021587695703152,
         "type": "scattergeo"
        },
        {
         "lat": [
          26.07258333,
          39.17540167
         ],
         "line": {
          "color": "red",
          "width": 1
         },
         "locationmode": "USA-states",
         "lon": [
          -80.15275,
          -76.66819833
         ],
         "mode": "lines",
         "opacity": 0.11359404096834265,
         "type": "scattergeo"
        },
        {
         "lat": [
          26.07258333,
          35.21401111
         ],
         "line": {
          "color": "red",
          "width": 1
         },
         "locationmode": "USA-states",
         "lon": [
          -80.15275,
          -80.94312583
         ],
         "mode": "lines",
         "opacity": 0.09159252362231877,
         "type": "scattergeo"
        },
        {
         "lat": [
          26.07258333,
          32.89595056
         ],
         "line": {
          "color": "red",
          "width": 1
         },
         "locationmode": "USA-states",
         "lon": [
          -80.15275,
          -97.0372
         ],
         "mode": "lines",
         "opacity": 0.10814538933719567,
         "type": "scattergeo"
        },
        {
         "lat": [
          26.07258333,
          40.69249722
         ],
         "line": {
          "color": "red",
          "width": 1
         },
         "locationmode": "USA-states",
         "lon": [
          -80.15275,
          -74.16866056
         ],
         "mode": "lines",
         "opacity": 0.1759431684943789,
         "type": "scattergeo"
        },
        {
         "lat": [
          26.07258333,
          30.49405556
         ],
         "line": {
          "color": "red",
          "width": 1
         },
         "locationmode": "USA-states",
         "lon": [
          -80.15275,
          -81.68786111
         ],
         "mode": "lines",
         "opacity": 0.08862680184840334,
         "type": "scattergeo"
        },
        {
         "lat": [
          26.07258333,
          40.77724306
         ],
         "line": {
          "color": "red",
          "width": 1
         },
         "locationmode": "USA-states",
         "lon": [
          -80.15275,
          -73.87260917
         ],
         "mode": "lines",
         "opacity": 0.18697841230429685,
         "type": "scattergeo"
        },
        {
         "lat": [
          26.07258333,
          28.42888889
         ],
         "line": {
          "color": "red",
          "width": 1
         },
         "locationmode": "USA-states",
         "lon": [
          -80.15275,
          -81.31602778
         ],
         "mode": "lines",
         "opacity": 0.14497551555279675,
         "type": "scattergeo"
        },
        {
         "lat": [
          26.07258333,
          41.979595
         ],
         "line": {
          "color": "red",
          "width": 1
         },
         "locationmode": "USA-states",
         "lon": [
          -80.15275,
          -87.90446417
         ],
         "mode": "lines",
         "opacity": 0.08841989102696737,
         "type": "scattergeo"
        },
        {
         "lat": [
          26.07258333,
          39.87195278
         ],
         "line": {
          "color": "red",
          "width": 1
         },
         "locationmode": "USA-states",
         "lon": [
          -80.15275,
          -75.24114083
         ],
         "mode": "lines",
         "opacity": 0.10621422167046003,
         "type": "scattergeo"
        },
        {
         "lat": [
          26.07258333,
          27.97547222
         ],
         "line": {
          "color": "red",
          "width": 1
         },
         "locationmode": "USA-states",
         "lon": [
          -80.15275,
          -82.53325
         ],
         "mode": "lines",
         "opacity": 0.20891095937650872,
         "type": "scattergeo"
        },
        {
         "lat": [
          47.61985556,
          47.44898194
         ],
         "line": {
          "color": "red",
          "width": 1
         },
         "locationmode": "USA-states",
         "lon": [
          -117.5338425,
          -122.3093131
         ],
         "mode": "lines",
         "opacity": 0.21856679771018692,
         "type": "scattergeo"
        },
        {
         "lat": [
          36.09774694,
          33.64044444
         ],
         "line": {
          "color": "red",
          "width": 1
         },
         "locationmode": "USA-states",
         "lon": [
          -79.9372975,
          -84.42694444
         ],
         "mode": "lines",
         "opacity": 0.16125250017242568,
         "type": "scattergeo"
        },
        {
         "lat": [
          36.09774694,
          35.21401111
         ],
         "line": {
          "color": "red",
          "width": 1
         },
         "locationmode": "USA-states",
         "lon": [
          -79.9372975,
          -80.94312583
         ],
         "mode": "lines",
         "opacity": 0.08731636664597558,
         "type": "scattergeo"
        },
        {
         "lat": [
          36.09774694,
          39.87195278
         ],
         "line": {
          "color": "red",
          "width": 1
         },
         "locationmode": "USA-states",
         "lon": [
          -79.9372975,
          -75.24114083
         ],
         "mode": "lines",
         "opacity": 0.07628112283605766,
         "type": "scattergeo"
        },
        {
         "lat": [
          34.89566722,
          33.64044444
         ],
         "line": {
          "color": "red",
          "width": 1
         },
         "locationmode": "USA-states",
         "lon": [
          -82.21885833,
          -84.42694444
         ],
         "mode": "lines",
         "opacity": 0.08614387199117181,
         "type": "scattergeo"
        },
        {
         "lat": [
          21.31869111,
          33.94253611
         ],
         "line": {
          "color": "red",
          "width": 1
         },
         "locationmode": "USA-states",
         "lon": [
          -157.9224072,
          -118.4080744
         ],
         "mode": "lines",
         "opacity": 0.11414580315883854,
         "type": "scattergeo"
        },
        {
         "lat": [
          21.31869111,
          37.61900194
         ],
         "line": {
          "color": "red",
          "width": 1
         },
         "locationmode": "USA-states",
         "lon": [
          -157.9224072,
          -122.3748433
         ],
         "mode": "lines",
         "opacity": 0.07462583626456996,
         "type": "scattergeo"
        },
        {
         "lat": [
          29.64541861,
          30.19453278
         ],
         "line": {
          "color": "red",
          "width": 1
         },
         "locationmode": "USA-states",
         "lon": [
          -95.27888889,
          -97.66987194
         ],
         "mode": "lines",
         "opacity": 0.22732602248430928,
         "type": "scattergeo"
        },
        {
         "lat": [
          29.64541861,
          36.12447667
         ],
         "line": {
          "color": "red",
          "width": 1
         },
         "locationmode": "USA-states",
         "lon": [
          -95.27888889,
          -86.67818222
         ],
         "mode": "lines",
         "opacity": 0.12324987930202083,
         "type": "scattergeo"
        },
        {
         "lat": [
          29.64541861,
          27.77036083
         ],
         "line": {
          "color": "red",
          "width": 1
         },
         "locationmode": "USA-states",
         "lon": [
          -95.27888889,
          -97.50121528
         ],
         "mode": "lines",
         "opacity": 0.1309055796951514,
         "type": "scattergeo"
        },
        {
         "lat": [
          29.64541861,
          32.84711389
         ],
         "line": {
          "color": "red",
          "width": 1
         },
         "locationmode": "USA-states",
         "lon": [
          -95.27888889,
          -96.85177222
         ],
         "mode": "lines",
         "opacity": 0.5603834747223947,
         "type": "scattergeo"
        },
        {
         "lat": [
          29.64541861,
          26.22850611
         ],
         "line": {
          "color": "red",
          "width": 1
         },
         "locationmode": "USA-states",
         "lon": [
          -95.27888889,
          -97.65439389
         ],
         "mode": "lines",
         "opacity": 0.17208083316090764,
         "type": "scattergeo"
        },
        {
         "lat": [
          29.64541861,
          32.31116667
         ],
         "line": {
          "color": "red",
          "width": 1
         },
         "locationmode": "USA-states",
         "lon": [
          -95.27888889,
          -90.07588889
         ],
         "mode": "lines",
         "opacity": 0.09028208841989102,
         "type": "scattergeo"
        },
        {
         "lat": [
          29.64541861,
          29.99338889
         ],
         "line": {
          "color": "red",
          "width": 1
         },
         "locationmode": "USA-states",
         "lon": [
          -95.27888889,
          -90.25802778
         ],
         "mode": "lines",
         "opacity": 0.39802745016897717,
         "type": "scattergeo"
        },
        {
         "lat": [
          29.64541861,
          35.39308833
         ],
         "line": {
          "color": "red",
          "width": 1
         },
         "locationmode": "USA-states",
         "lon": [
          -95.27888889,
          -97.60073389
         ],
         "mode": "lines",
         "opacity": 0.0760742120146217,
         "type": "scattergeo"
        },
        {
         "lat": [
          29.64541861,
          33.43416667
         ],
         "line": {
          "color": "red",
          "width": 1
         },
         "locationmode": "USA-states",
         "lon": [
          -95.27888889,
          -112.0080556
         ],
         "mode": "lines",
         "opacity": 0.09924822401544935,
         "type": "scattergeo"
        },
        {
         "lat": [
          29.64541861,
          29.53369444
         ],
         "line": {
          "color": "red",
          "width": 1
         },
         "locationmode": "USA-states",
         "lon": [
          -95.27888889,
          -98.46977778
         ],
         "mode": "lines",
         "opacity": 0.21077315676943237,
         "type": "scattergeo"
        },
        {
         "lat": [
          29.64541861,
          38.74768694
         ],
         "line": {
          "color": "red",
          "width": 1
         },
         "locationmode": "USA-states",
         "lon": [
          -95.27888889,
          -90.35998972
         ],
         "mode": "lines",
         "opacity": 0.143734050624181,
         "type": "scattergeo"
        },
        {
         "lat": [
          41.06695778,
          41.979595
         ],
         "line": {
          "color": "red",
          "width": 1
         },
         "locationmode": "USA-states",
         "lon": [
          -73.70757444,
          -87.90446417
         ],
         "mode": "lines",
         "opacity": 0.13187116352851921,
         "type": "scattergeo"
        },
        {
         "lat": [
          26.22850611,
          29.64541861
         ],
         "line": {
          "color": "red",
          "width": 1
         },
         "locationmode": "USA-states",
         "lon": [
          -97.65439389,
          -95.27888889
         ],
         "mode": "lines",
         "opacity": 0.1213187116352852,
         "type": "scattergeo"
        },
        {
         "lat": [
          34.6404475,
          33.64044444
         ],
         "line": {
          "color": "red",
          "width": 1
         },
         "locationmode": "USA-states",
         "lon": [
          -86.77310944,
          -84.42694444
         ],
         "mode": "lines",
         "opacity": 0.09821366990826953,
         "type": "scattergeo"
        },
        {
         "lat": [
          38.94453194,
          33.64044444
         ],
         "line": {
          "color": "red",
          "width": 1
         },
         "locationmode": "USA-states",
         "lon": [
          -77.45580972,
          -84.42694444
         ],
         "mode": "lines",
         "opacity": 0.308366094213394,
         "type": "scattergeo"
        },
        {
         "lat": [
          38.94453194,
          41.93887417
         ],
         "line": {
          "color": "red",
          "width": 1
         },
         "locationmode": "USA-states",
         "lon": [
          -77.45580972,
          -72.68322833
         ],
         "mode": "lines",
         "opacity": 0.09097179115801089,
         "type": "scattergeo"
        },
        {
         "lat": [
          38.94453194,
          42.3643475
         ],
         "line": {
          "color": "red",
          "width": 1
         },
         "locationmode": "USA-states",
         "lon": [
          -77.45580972,
          -71.00517917
         ],
         "mode": "lines",
         "opacity": 0.29808952341540795,
         "type": "scattergeo"
        },
        {
         "lat": [
          38.94453194,
          39.85840806
         ],
         "line": {
          "color": "red",
          "width": 1
         },
         "locationmode": "USA-states",
         "lon": [
          -77.45580972,
          -104.6670019
         ],
         "mode": "lines",
         "opacity": 0.1378715773501621,
         "type": "scattergeo"
        },
        {
         "lat": [
          38.94453194,
          32.89595056
         ],
         "line": {
          "color": "red",
          "width": 1
         },
         "locationmode": "USA-states",
         "lon": [
          -77.45580972,
          -97.0372
         ],
         "mode": "lines",
         "opacity": 0.10552451893234016,
         "type": "scattergeo"
        },
        {
         "lat": [
          38.94453194,
          33.94253611
         ],
         "line": {
          "color": "red",
          "width": 1
         },
         "locationmode": "USA-states",
         "lon": [
          -77.45580972,
          -118.4080744
         ],
         "mode": "lines",
         "opacity": 0.17035657631560797,
         "type": "scattergeo"
        },
        {
         "lat": [
          38.94453194,
          40.77724306
         ],
         "line": {
          "color": "red",
          "width": 1
         },
         "locationmode": "USA-states",
         "lon": [
          -77.45580972,
          -73.87260917
         ],
         "mode": "lines",
         "opacity": 0.18215049313745776,
         "type": "scattergeo"
        },
        {
         "lat": [
          38.94453194,
          28.42888889
         ],
         "line": {
          "color": "red",
          "width": 1
         },
         "locationmode": "USA-states",
         "lon": [
          -77.45580972,
          -81.31602778
         ],
         "mode": "lines",
         "opacity": 0.2594661700806952,
         "type": "scattergeo"
        },
        {
         "lat": [
          38.94453194,
          25.79325
         ],
         "line": {
          "color": "red",
          "width": 1
         },
         "locationmode": "USA-states",
         "lon": [
          -77.45580972,
          -80.29055556
         ],
         "mode": "lines",
         "opacity": 0.10152424305124491,
         "type": "scattergeo"
        },
        {
         "lat": [
          38.94453194,
          41.979595
         ],
         "line": {
          "color": "red",
          "width": 1
         },
         "locationmode": "USA-states",
         "lon": [
          -77.45580972,
          -87.90446417
         ],
         "mode": "lines",
         "opacity": 0.1504931374577557,
         "type": "scattergeo"
        },
        {
         "lat": [
          38.94453194,
          37.61900194
         ],
         "line": {
          "color": "red",
          "width": 1
         },
         "locationmode": "USA-states",
         "lon": [
          -77.45580972,
          -122.3748433
         ],
         "mode": "lines",
         "opacity": 0.14738947513621628,
         "type": "scattergeo"
        },
        {
         "lat": [
          38.94453194,
          27.97547222
         ],
         "line": {
          "color": "red",
          "width": 1
         },
         "locationmode": "USA-states",
         "lon": [
          -77.45580972,
          -82.53325
         ],
         "mode": "lines",
         "opacity": 0.0973860266225257,
         "type": "scattergeo"
        },
        {
         "lat": [
          29.98047222,
          33.64044444
         ],
         "line": {
          "color": "red",
          "width": 1
         },
         "locationmode": "USA-states",
         "lon": [
          -95.33972222,
          -84.42694444
         ],
         "mode": "lines",
         "opacity": 0.2409821366990827,
         "type": "scattergeo"
        },
        {
         "lat": [
          29.98047222,
          30.19453278
         ],
         "line": {
          "color": "red",
          "width": 1
         },
         "locationmode": "USA-states",
         "lon": [
          -95.33972222,
          -97.66987194
         ],
         "mode": "lines",
         "opacity": 0.1563556107317746,
         "type": "scattergeo"
        },
        {
         "lat": [
          29.98047222,
          42.3643475
         ],
         "line": {
          "color": "red",
          "width": 1
         },
         "locationmode": "USA-states",
         "lon": [
          -95.33972222,
          -71.00517917
         ],
         "mode": "lines",
         "opacity": 0.09559279950341402,
         "type": "scattergeo"
        },
        {
         "lat": [
          29.98047222,
          39.17540167
         ],
         "line": {
          "color": "red",
          "width": 1
         },
         "locationmode": "USA-states",
         "lon": [
          -95.33972222,
          -76.66819833
         ],
         "mode": "lines",
         "opacity": 0.10980067590868335,
         "type": "scattergeo"
        },
        {
         "lat": [
          29.98047222,
          41.41089417
         ],
         "line": {
          "color": "red",
          "width": 1
         },
         "locationmode": "USA-states",
         "lon": [
          -95.33972222,
          -81.84939667
         ],
         "mode": "lines",
         "opacity": 0.10966273536105939,
         "type": "scattergeo"
        },
        {
         "lat": [
          29.98047222,
          38.85208333
         ],
         "line": {
          "color": "red",
          "width": 1
         },
         "locationmode": "USA-states",
         "lon": [
          -95.33972222,
          -77.03772222
         ],
         "mode": "lines",
         "opacity": 0.09566176977722601,
         "type": "scattergeo"
        },
        {
         "lat": [
          29.98047222,
          39.85840806
         ],
         "line": {
          "color": "red",
          "width": 1
         },
         "locationmode": "USA-states",
         "lon": [
          -95.33972222,
          -104.6670019
         ],
         "mode": "lines",
         "opacity": 0.2304296848058487,
         "type": "scattergeo"
        },
        {
         "lat": [
          29.98047222,
          32.89595056
         ],
         "line": {
          "color": "red",
          "width": 1
         },
         "locationmode": "USA-states",
         "lon": [
          -95.33972222,
          -97.0372
         ],
         "mode": "lines",
         "opacity": 0.28698530933167804,
         "type": "scattergeo"
        },
        {
         "lat": [
          29.98047222,
          42.21205889
         ],
         "line": {
          "color": "red",
          "width": 1
         },
         "locationmode": "USA-states",
         "lon": [
          -95.33972222,
          -83.34883583
         ],
         "mode": "lines",
         "opacity": 0.1053176081109042,
         "type": "scattergeo"
        },
        {
         "lat": [
          29.98047222,
          40.69249722
         ],
         "line": {
          "color": "red",
          "width": 1
         },
         "locationmode": "USA-states",
         "lon": [
          -95.33972222,
          -74.16866056
         ],
         "mode": "lines",
         "opacity": 0.19380646941168356,
         "type": "scattergeo"
        },
        {
         "lat": [
          29.98047222,
          26.07258333
         ],
         "line": {
          "color": "red",
          "width": 1
         },
         "locationmode": "USA-states",
         "lon": [
          -95.33972222,
          -80.15275
         ],
         "mode": "lines",
         "opacity": 0.08310917994344437,
         "type": "scattergeo"
        },
        {
         "lat": [
          29.98047222,
          36.08036111
         ],
         "line": {
          "color": "red",
          "width": 1
         },
         "locationmode": "USA-states",
         "lon": [
          -95.33972222,
          -115.1523333
         ],
         "mode": "lines",
         "opacity": 0.12683633354024415,
         "type": "scattergeo"
        },
        {
         "lat": [
          29.98047222,
          33.94253611
         ],
         "line": {
          "color": "red",
          "width": 1
         },
         "locationmode": "USA-states",
         "lon": [
          -95.33972222,
          -118.4080744
         ],
         "mode": "lines",
         "opacity": 0.2361542175322436,
         "type": "scattergeo"
        },
        {
         "lat": [
          29.98047222,
          40.77724306
         ],
         "line": {
          "color": "red",
          "width": 1
         },
         "locationmode": "USA-states",
         "lon": [
          -95.33972222,
          -73.87260917
         ],
         "mode": "lines",
         "opacity": 0.1876681150424167,
         "type": "scattergeo"
        },
        {
         "lat": [
          29.98047222,
          28.42888889
         ],
         "line": {
          "color": "red",
          "width": 1
         },
         "locationmode": "USA-states",
         "lon": [
          -95.33972222,
          -81.31602778
         ],
         "mode": "lines",
         "opacity": 0.11573211945651424,
         "type": "scattergeo"
        },
        {
         "lat": [
          29.98047222,
          26.17583333
         ],
         "line": {
          "color": "red",
          "width": 1
         },
         "locationmode": "USA-states",
         "lon": [
          -95.33972222,
          -98.23861111
         ],
         "mode": "lines",
         "opacity": 0.0925581074556866,
         "type": "scattergeo"
        },
        {
         "lat": [
          29.98047222,
          25.79325
         ],
         "line": {
          "color": "red",
          "width": 1
         },
         "locationmode": "USA-states",
         "lon": [
          -95.33972222,
          -80.29055556
         ],
         "mode": "lines",
         "opacity": 0.14511345610042073,
         "type": "scattergeo"
        },
        {
         "lat": [
          29.98047222,
          44.88054694
         ],
         "line": {
          "color": "red",
          "width": 1
         },
         "locationmode": "USA-states",
         "lon": [
          -95.33972222,
          -93.2169225
         ],
         "mode": "lines",
         "opacity": 0.07897096351472516,
         "type": "scattergeo"
        },
        {
         "lat": [
          29.98047222,
          29.99338889
         ],
         "line": {
          "color": "red",
          "width": 1
         },
         "locationmode": "USA-states",
         "lon": [
          -95.33972222,
          -90.25802778
         ],
         "mode": "lines",
         "opacity": 0.1999448237809504,
         "type": "scattergeo"
        },
        {
         "lat": [
          29.98047222,
          41.979595
         ],
         "line": {
          "color": "red",
          "width": 1
         },
         "locationmode": "USA-states",
         "lon": [
          -95.33972222,
          -87.90446417
         ],
         "mode": "lines",
         "opacity": 0.32850541416649426,
         "type": "scattergeo"
        },
        {
         "lat": [
          29.98047222,
          39.87195278
         ],
         "line": {
          "color": "red",
          "width": 1
         },
         "locationmode": "USA-states",
         "lon": [
          -95.33972222,
          -75.24114083
         ],
         "mode": "lines",
         "opacity": 0.10117939168218498,
         "type": "scattergeo"
        },
        {
         "lat": [
          29.98047222,
          33.43416667
         ],
         "line": {
          "color": "red",
          "width": 1
         },
         "locationmode": "USA-states",
         "lon": [
          -95.33972222,
          -112.0080556
         ],
         "mode": "lines",
         "opacity": 0.17794330643492653,
         "type": "scattergeo"
        },
        {
         "lat": [
          29.98047222,
          32.73355611
         ],
         "line": {
          "color": "red",
          "width": 1
         },
         "locationmode": "USA-states",
         "lon": [
          -95.33972222,
          -117.1896567
         ],
         "mode": "lines",
         "opacity": 0.07986757707428098,
         "type": "scattergeo"
        },
        {
         "lat": [
          29.98047222,
          29.53369444
         ],
         "line": {
          "color": "red",
          "width": 1
         },
         "locationmode": "USA-states",
         "lon": [
          -95.33972222,
          -98.46977778
         ],
         "mode": "lines",
         "opacity": 0.19435823160217947,
         "type": "scattergeo"
        },
        {
         "lat": [
          29.98047222,
          47.44898194
         ],
         "line": {
          "color": "red",
          "width": 1
         },
         "locationmode": "USA-states",
         "lon": [
          -95.33972222,
          -122.3093131
         ],
         "mode": "lines",
         "opacity": 0.09014414787226706,
         "type": "scattergeo"
        },
        {
         "lat": [
          29.98047222,
          37.61900194
         ],
         "line": {
          "color": "red",
          "width": 1
         },
         "locationmode": "USA-states",
         "lon": [
          -95.33972222,
          -122.3748433
         ],
         "mode": "lines",
         "opacity": 0.16125250017242568,
         "type": "scattergeo"
        },
        {
         "lat": [
          29.98047222,
          27.97547222
         ],
         "line": {
          "color": "red",
          "width": 1
         },
         "locationmode": "USA-states",
         "lon": [
          -95.33972222,
          -82.53325
         ],
         "mode": "lines",
         "opacity": 0.101110421408373,
         "type": "scattergeo"
        },
        {
         "lat": [
          39.71732917,
          33.64044444
         ],
         "line": {
          "color": "red",
          "width": 1
         },
         "locationmode": "USA-states",
         "lon": [
          -86.29438417,
          -84.42694444
         ],
         "mode": "lines",
         "opacity": 0.07862611214566521,
         "type": "scattergeo"
        },
        {
         "lat": [
          39.71732917,
          41.7859825
         ],
         "line": {
          "color": "red",
          "width": 1
         },
         "locationmode": "USA-states",
         "lon": [
          -86.29438417,
          -87.75242444
         ],
         "mode": "lines",
         "opacity": 0.08228153665770054,
         "type": "scattergeo"
        },
        {
         "lat": [
          39.71732917,
          41.979595
         ],
         "line": {
          "color": "red",
          "width": 1
         },
         "locationmode": "USA-states",
         "lon": [
          -86.29438417,
          -87.90446417
         ],
         "mode": "lines",
         "opacity": 0.13076763914752743,
         "type": "scattergeo"
        },
        {
         "lat": [
          39.71732917,
          39.87195278
         ],
         "line": {
          "color": "red",
          "width": 1
         },
         "locationmode": "USA-states",
         "lon": [
          -86.29438417,
          -75.24114083
         ],
         "mode": "lines",
         "opacity": 0.08904062349127526,
         "type": "scattergeo"
        },
        {
         "lat": [
          39.71732917,
          40.49146583
         ],
         "line": {
          "color": "red",
          "width": 1
         },
         "locationmode": "USA-states",
         "lon": [
          -86.29438417,
          -80.23287083
         ],
         "mode": "lines",
         "opacity": 0.08862680184840334,
         "type": "scattergeo"
        },
        {
         "lat": [
          39.71732917,
          38.74768694
         ],
         "line": {
          "color": "red",
          "width": 1
         },
         "locationmode": "USA-states",
         "lon": [
          -86.29438417,
          -90.35998972
         ],
         "mode": "lines",
         "opacity": 0.1350437961238706,
         "type": "scattergeo"
        },
        {
         "lat": [
          40.7952425,
          39.17540167
         ],
         "line": {
          "color": "red",
          "width": 1
         },
         "locationmode": "USA-states",
         "lon": [
          -73.10021194,
          -76.66819833
         ],
         "mode": "lines",
         "opacity": 0.08428167459824816,
         "type": "scattergeo"
        },
        {
         "lat": [
          30.49405556,
          33.64044444
         ],
         "line": {
          "color": "red",
          "width": 1
         },
         "locationmode": "USA-states",
         "lon": [
          -81.68786111,
          -84.42694444
         ],
         "mode": "lines",
         "opacity": 0.14704462376715635,
         "type": "scattergeo"
        },
        {
         "lat": [
          30.49405556,
          39.17540167
         ],
         "line": {
          "color": "red",
          "width": 1
         },
         "locationmode": "USA-states",
         "lon": [
          -81.68786111,
          -76.66819833
         ],
         "mode": "lines",
         "opacity": 0.10255879715842472,
         "type": "scattergeo"
        },
        {
         "lat": [
          30.49405556,
          35.21401111
         ],
         "line": {
          "color": "red",
          "width": 1
         },
         "locationmode": "USA-states",
         "lon": [
          -81.68786111,
          -80.94312583
         ],
         "mode": "lines",
         "opacity": 0.09366163183667839,
         "type": "scattergeo"
        },
        {
         "lat": [
          30.49405556,
          26.07258333
         ],
         "line": {
          "color": "red",
          "width": 1
         },
         "locationmode": "USA-states",
         "lon": [
          -81.68786111,
          -80.15275
         ],
         "mode": "lines",
         "opacity": 0.0967652941582178,
         "type": "scattergeo"
        },
        {
         "lat": [
          40.63975111,
          33.64044444
         ],
         "line": {
          "color": "red",
          "width": 1
         },
         "locationmode": "USA-states",
         "lon": [
          -73.77892556,
          -84.42694444
         ],
         "mode": "lines",
         "opacity": 0.08573005034829988,
         "type": "scattergeo"
        },
        {
         "lat": [
          40.63975111,
          36.08036111
         ],
         "line": {
          "color": "red",
          "width": 1
         },
         "locationmode": "USA-states",
         "lon": [
          -73.77892556,
          -115.1523333
         ],
         "mode": "lines",
         "opacity": 0.12083591971860129,
         "type": "scattergeo"
        },
        {
         "lat": [
          40.63975111,
          33.94253611
         ],
         "line": {
          "color": "red",
          "width": 1
         },
         "locationmode": "USA-states",
         "lon": [
          -73.77892556,
          -118.4080744
         ],
         "mode": "lines",
         "opacity": 0.3261604248568867,
         "type": "scattergeo"
        },
        {
         "lat": [
          40.63975111,
          25.79325
         ],
         "line": {
          "color": "red",
          "width": 1
         },
         "locationmode": "USA-states",
         "lon": [
          -73.77892556,
          -80.29055556
         ],
         "mode": "lines",
         "opacity": 0.11787019794468584,
         "type": "scattergeo"
        },
        {
         "lat": [
          40.63975111,
          37.61900194
         ],
         "line": {
          "color": "red",
          "width": 1
         },
         "locationmode": "USA-states",
         "lon": [
          -73.77892556,
          -122.3748433
         ],
         "mode": "lines",
         "opacity": 0.21394578936478378,
         "type": "scattergeo"
        },
        {
         "lat": [
          40.63975111,
          18.43941667
         ],
         "line": {
          "color": "red",
          "width": 1
         },
         "locationmode": "USA-states",
         "lon": [
          -73.77892556,
          -66.00183333
         ],
         "mode": "lines",
         "opacity": 0.12904338230222773,
         "type": "scattergeo"
        },
        {
         "lat": [
          58.35496194,
          47.44898194
         ],
         "line": {
          "color": "red",
          "width": 1
         },
         "locationmode": "USA-states",
         "lon": [
          -134.5762764,
          -122.3093131
         ],
         "mode": "lines",
         "opacity": 0.0729015794192703,
         "type": "scattergeo"
        },
        {
         "lat": [
          36.08036111,
          35.04022222
         ],
         "line": {
          "color": "red",
          "width": 1
         },
         "locationmode": "USA-states",
         "lon": [
          -115.1523333,
          -106.6091944
         ],
         "mode": "lines",
         "opacity": 0.16897717083936822,
         "type": "scattergeo"
        },
        {
         "lat": [
          36.08036111,
          33.64044444
         ],
         "line": {
          "color": "red",
          "width": 1
         },
         "locationmode": "USA-states",
         "lon": [
          -115.1523333,
          -84.42694444
         ],
         "mode": "lines",
         "opacity": 0.13076763914752743,
         "type": "scattergeo"
        },
        {
         "lat": [
          36.08036111,
          34.20061917
         ],
         "line": {
          "color": "red",
          "width": 1
         },
         "locationmode": "USA-states",
         "lon": [
          -115.1523333,
          -118.3584969
         ],
         "mode": "lines",
         "opacity": 0.2847092902958825,
         "type": "scattergeo"
        },
        {
         "lat": [
          36.08036111,
          39.99798528
         ],
         "line": {
          "color": "red",
          "width": 1
         },
         "locationmode": "USA-states",
         "lon": [
          -115.1523333,
          -82.89188278
         ],
         "mode": "lines",
         "opacity": 0.08331609076488034,
         "type": "scattergeo"
        },
        {
         "lat": [
          36.08036111,
          39.85840806
         ],
         "line": {
          "color": "red",
          "width": 1
         },
         "locationmode": "USA-states",
         "lon": [
          -115.1523333,
          -104.6670019
         ],
         "mode": "lines",
         "opacity": 0.25125870749706875,
         "type": "scattergeo"
        },
        {
         "lat": [
          36.08036111,
          32.89595056
         ],
         "line": {
          "color": "red",
          "width": 1
         },
         "locationmode": "USA-states",
         "lon": [
          -115.1523333,
          -97.0372
         ],
         "mode": "lines",
         "opacity": 0.14345816952893303,
         "type": "scattergeo"
        },
        {
         "lat": [
          36.08036111,
          40.69249722
         ],
         "line": {
          "color": "red",
          "width": 1
         },
         "locationmode": "USA-states",
         "lon": [
          -115.1523333,
          -74.16866056
         ],
         "mode": "lines",
         "opacity": 0.10993861645630733,
         "type": "scattergeo"
        },
        {
         "lat": [
          36.08036111,
          29.98047222
         ],
         "line": {
          "color": "red",
          "width": 1
         },
         "locationmode": "USA-states",
         "lon": [
          -115.1523333,
          -95.33972222
         ],
         "mode": "lines",
         "opacity": 0.1357334988619905,
         "type": "scattergeo"
        },
        {
         "lat": [
          36.08036111,
          40.63975111
         ],
         "line": {
          "color": "red",
          "width": 1
         },
         "locationmode": "USA-states",
         "lon": [
          -115.1523333,
          -73.77892556
         ],
         "mode": "lines",
         "opacity": 0.1376646665287261,
         "type": "scattergeo"
        },
        {
         "lat": [
          36.08036111,
          33.94253611
         ],
         "line": {
          "color": "red",
          "width": 1
         },
         "locationmode": "USA-states",
         "lon": [
          -115.1523333,
          -118.4080744
         ],
         "mode": "lines",
         "opacity": 0.839851024208566,
         "type": "scattergeo"
        },
        {
         "lat": [
          36.08036111,
          39.29760528
         ],
         "line": {
          "color": "red",
          "width": 1
         },
         "locationmode": "USA-states",
         "lon": [
          -115.1523333,
          -94.71390556
         ],
         "mode": "lines",
         "opacity": 0.1053176081109042,
         "type": "scattergeo"
        },
        {
         "lat": [
          36.08036111,
          37.72129083
         ],
         "line": {
          "color": "red",
          "width": 1
         },
         "locationmode": "USA-states",
         "lon": [
          -115.1523333,
          -122.2207167
         ],
         "mode": "lines",
         "opacity": 0.22677426029381337,
         "type": "scattergeo"
        },
        {
         "lat": [
          36.08036111,
          34.056
         ],
         "line": {
          "color": "red",
          "width": 1
         },
         "locationmode": "USA-states",
         "lon": [
          -115.1523333,
          -117.6011944
         ],
         "mode": "lines",
         "opacity": 0.22856748741292504,
         "type": "scattergeo"
        },
        {
         "lat": [
          36.08036111,
          41.979595
         ],
         "line": {
          "color": "red",
          "width": 1
         },
         "locationmode": "USA-states",
         "lon": [
          -115.1523333,
          -87.90446417
         ],
         "mode": "lines",
         "opacity": 0.22056693565073454,
         "type": "scattergeo"
        },
        {
         "lat": [
          36.08036111,
          45.58872222
         ],
         "line": {
          "color": "red",
          "width": 1
         },
         "locationmode": "USA-states",
         "lon": [
          -115.1523333,
          -122.5975
         ],
         "mode": "lines",
         "opacity": 0.1387681909097179,
         "type": "scattergeo"
        },
        {
         "lat": [
          36.08036111,
          39.87195278
         ],
         "line": {
          "color": "red",
          "width": 1
         },
         "locationmode": "USA-states",
         "lon": [
          -115.1523333,
          -75.24114083
         ],
         "mode": "lines",
         "opacity": 0.08441961514587212,
         "type": "scattergeo"
        },
        {
         "lat": [
          36.08036111,
          33.43416667
         ],
         "line": {
          "color": "red",
          "width": 1
         },
         "locationmode": "USA-states",
         "lon": [
          -115.1523333,
          -112.0080556
         ],
         "mode": "lines",
         "opacity": 0.7564659631698738,
         "type": "scattergeo"
        },
        {
         "lat": [
          36.08036111,
          39.49857611
         ],
         "line": {
          "color": "red",
          "width": 1
         },
         "locationmode": "USA-states",
         "lon": [
          -115.1523333,
          -119.7680647
         ],
         "mode": "lines",
         "opacity": 0.3133319539278571,
         "type": "scattergeo"
        },
        {
         "lat": [
          36.08036111,
          32.73355611
         ],
         "line": {
          "color": "red",
          "width": 1
         },
         "locationmode": "USA-states",
         "lon": [
          -115.1523333,
          -117.1896567
         ],
         "mode": "lines",
         "opacity": 0.33209186840471755,
         "type": "scattergeo"
        },
        {
         "lat": [
          36.08036111,
          29.53369444
         ],
         "line": {
          "color": "red",
          "width": 1
         },
         "locationmode": "USA-states",
         "lon": [
          -115.1523333,
          -98.46977778
         ],
         "mode": "lines",
         "opacity": 0.0840747637768122,
         "type": "scattergeo"
        },
        {
         "lat": [
          36.08036111,
          47.44898194
         ],
         "line": {
          "color": "red",
          "width": 1
         },
         "locationmode": "USA-states",
         "lon": [
          -115.1523333,
          -122.3093131
         ],
         "mode": "lines",
         "opacity": 0.2165666597696393,
         "type": "scattergeo"
        },
        {
         "lat": [
          36.08036111,
          37.61900194
         ],
         "line": {
          "color": "red",
          "width": 1
         },
         "locationmode": "USA-states",
         "lon": [
          -115.1523333,
          -122.3748433
         ],
         "mode": "lines",
         "opacity": 0.3743016759776536,
         "type": "scattergeo"
        },
        {
         "lat": [
          36.08036111,
          37.36186194
         ],
         "line": {
          "color": "red",
          "width": 1
         },
         "locationmode": "USA-states",
         "lon": [
          -115.1523333,
          -121.9290089
         ],
         "mode": "lines",
         "opacity": 0.19490999379267535,
         "type": "scattergeo"
        },
        {
         "lat": [
          36.08036111,
          40.78838778
         ],
         "line": {
          "color": "red",
          "width": 1
         },
         "locationmode": "USA-states",
         "lon": [
          -115.1523333,
          -111.9777731
         ],
         "mode": "lines",
         "opacity": 0.3089178564038899,
         "type": "scattergeo"
        },
        {
         "lat": [
          36.08036111,
          38.69542167
         ],
         "line": {
          "color": "red",
          "width": 1
         },
         "locationmode": "USA-states",
         "lon": [
          -115.1523333,
          -121.5907669
         ],
         "mode": "lines",
         "opacity": 0.18435754189944134,
         "type": "scattergeo"
        },
        {
         "lat": [
          36.08036111,
          33.67565861
         ],
         "line": {
          "color": "red",
          "width": 1
         },
         "locationmode": "USA-states",
         "lon": [
          -115.1523333,
          -117.8682225
         ],
         "mode": "lines",
         "opacity": 0.09476515621767019,
         "type": "scattergeo"
        },
        {
         "lat": [
          36.08036111,
          32.11608333
         ],
         "line": {
          "color": "red",
          "width": 1
         },
         "locationmode": "USA-states",
         "lon": [
          -115.1523333,
          -110.9410278
         ],
         "mode": "lines",
         "opacity": 0.10890406234912753,
         "type": "scattergeo"
        },
        {
         "lat": [
          33.94253611,
          35.04022222
         ],
         "line": {
          "color": "red",
          "width": 1
         },
         "locationmode": "USA-states",
         "lon": [
          -118.4080744,
          -106.6091944
         ],
         "mode": "lines",
         "opacity": 0.14387199117180496,
         "type": "scattergeo"
        },
        {
         "lat": [
          33.94253611,
          33.64044444
         ],
         "line": {
          "color": "red",
          "width": 1
         },
         "locationmode": "USA-states",
         "lon": [
          -118.4080744,
          -84.42694444
         ],
         "mode": "lines",
         "opacity": 0.1845644527208773,
         "type": "scattergeo"
        },
        {
         "lat": [
          33.94253611,
          36.12447667
         ],
         "line": {
          "color": "red",
          "width": 1
         },
         "locationmode": "USA-states",
         "lon": [
          -118.4080744,
          -86.67818222
         ],
         "mode": "lines",
         "opacity": 0.07683288502655355,
         "type": "scattergeo"
        },
        {
         "lat": [
          33.94253611,
          42.3643475
         ],
         "line": {
          "color": "red",
          "width": 1
         },
         "locationmode": "USA-states",
         "lon": [
          -118.4080744,
          -71.00517917
         ],
         "mode": "lines",
         "opacity": 0.12090488999241326,
         "type": "scattergeo"
        },
        {
         "lat": [
          33.94253611,
          39.85840806
         ],
         "line": {
          "color": "red",
          "width": 1
         },
         "locationmode": "USA-states",
         "lon": [
          -118.4080744,
          -104.6670019
         ],
         "mode": "lines",
         "opacity": 0.3292640871784261,
         "type": "scattergeo"
        },
        {
         "lat": [
          33.94253611,
          32.89595056
         ],
         "line": {
          "color": "red",
          "width": 1
         },
         "locationmode": "USA-states",
         "lon": [
          -118.4080744,
          -97.0372
         ],
         "mode": "lines",
         "opacity": 0.313607835023105,
         "type": "scattergeo"
        },
        {
         "lat": [
          33.94253611,
          31.80666667
         ],
         "line": {
          "color": "red",
          "width": 1
         },
         "locationmode": "USA-states",
         "lon": [
          -118.4080744,
          -106.3778056
         ],
         "mode": "lines",
         "opacity": 0.1680115870060004,
         "type": "scattergeo"
        },
        {
         "lat": [
          33.94253611,
          40.69249722
         ],
         "line": {
          "color": "red",
          "width": 1
         },
         "locationmode": "USA-states",
         "lon": [
          -118.4080744,
          -74.16866056
         ],
         "mode": "lines",
         "opacity": 0.22939513069866888,
         "type": "scattergeo"
        },
        {
         "lat": [
          33.94253611,
          21.31869111
         ],
         "line": {
          "color": "red",
          "width": 1
         },
         "locationmode": "USA-states",
         "lon": [
          -118.4080744,
          -157.9224072
         ],
         "mode": "lines",
         "opacity": 0.21180771087661218,
         "type": "scattergeo"
        },
        {
         "lat": [
          33.94253611,
          38.94453194
         ],
         "line": {
          "color": "red",
          "width": 1
         },
         "locationmode": "USA-states",
         "lon": [
          -118.4080744,
          -77.45580972
         ],
         "mode": "lines",
         "opacity": 0.2165666597696393,
         "type": "scattergeo"
        },
        {
         "lat": [
          33.94253611,
          29.98047222
         ],
         "line": {
          "color": "red",
          "width": 1
         },
         "locationmode": "USA-states",
         "lon": [
          -118.4080744,
          -95.33972222
         ],
         "mode": "lines",
         "opacity": 0.18663356093523692,
         "type": "scattergeo"
        },
        {
         "lat": [
          33.94253611,
          40.63975111
         ],
         "line": {
          "color": "red",
          "width": 1
         },
         "locationmode": "USA-states",
         "lon": [
          -118.4080744,
          -73.77892556
         ],
         "mode": "lines",
         "opacity": 0.3574039588937168,
         "type": "scattergeo"
        },
        {
         "lat": [
          33.94253611,
          36.08036111
         ],
         "line": {
          "color": "red",
          "width": 1
         },
         "locationmode": "USA-states",
         "lon": [
          -118.4080744,
          -115.1523333
         ],
         "mode": "lines",
         "opacity": 0.9633767846058349,
         "type": "scattergeo"
        },
        {
         "lat": [
          33.94253611,
          39.29760528
         ],
         "line": {
          "color": "red",
          "width": 1
         },
         "locationmode": "USA-states",
         "lon": [
          -118.4080744,
          -94.71390556
         ],
         "mode": "lines",
         "opacity": 0.09973101593213325,
         "type": "scattergeo"
        },
        {
         "lat": [
          33.94253611,
          28.42888889
         ],
         "line": {
          "color": "red",
          "width": 1
         },
         "locationmode": "USA-states",
         "lon": [
          -118.4080744,
          -81.31602778
         ],
         "mode": "lines",
         "opacity": 0.10786950824194771,
         "type": "scattergeo"
        },
        {
         "lat": [
          33.94253611,
          25.79325
         ],
         "line": {
          "color": "red",
          "width": 1
         },
         "locationmode": "USA-states",
         "lon": [
          -118.4080744,
          -80.29055556
         ],
         "mode": "lines",
         "opacity": 0.10186909442030485,
         "type": "scattergeo"
        },
        {
         "lat": [
          33.94253611,
          37.72129083
         ],
         "line": {
          "color": "red",
          "width": 1
         },
         "locationmode": "USA-states",
         "lon": [
          -118.4080744,
          -122.2207167
         ],
         "mode": "lines",
         "opacity": 0.6558383336781847,
         "type": "scattergeo"
        },
        {
         "lat": [
          33.94253611,
          20.89864972
         ],
         "line": {
          "color": "red",
          "width": 1
         },
         "locationmode": "USA-states",
         "lon": [
          -118.4080744,
          -156.4304578
         ],
         "mode": "lines",
         "opacity": 0.07731567694323746,
         "type": "scattergeo"
        },
        {
         "lat": [
          33.94253611,
          41.979595
         ],
         "line": {
          "color": "red",
          "width": 1
         },
         "locationmode": "USA-states",
         "lon": [
          -118.4080744,
          -87.90446417
         ],
         "mode": "lines",
         "opacity": 0.5403131250431065,
         "type": "scattergeo"
        },
        {
         "lat": [
          33.94253611,
          45.58872222
         ],
         "line": {
          "color": "red",
          "width": 1
         },
         "locationmode": "USA-states",
         "lon": [
          -118.4080744,
          -122.5975
         ],
         "mode": "lines",
         "opacity": 0.2616042485688668,
         "type": "scattergeo"
        },
        {
         "lat": [
          33.94253611,
          39.87195278
         ],
         "line": {
          "color": "red",
          "width": 1
         },
         "locationmode": "USA-states",
         "lon": [
          -118.4080744,
          -75.24114083
         ],
         "mode": "lines",
         "opacity": 0.11642182219463411,
         "type": "scattergeo"
        },
        {
         "lat": [
          33.94253611,
          33.43416667
         ],
         "line": {
          "color": "red",
          "width": 1
         },
         "locationmode": "USA-states",
         "lon": [
          -118.4080744,
          -112.0080556
         ],
         "mode": "lines",
         "opacity": 1,
         "type": "scattergeo"
        },
        {
         "lat": [
          33.94253611,
          39.49857611
         ],
         "line": {
          "color": "red",
          "width": 1
         },
         "locationmode": "USA-states",
         "lon": [
          -118.4080744,
          -119.7680647
         ],
         "mode": "lines",
         "opacity": 0.1602179460652459,
         "type": "scattergeo"
        },
        {
         "lat": [
          33.94253611,
          32.73355611
         ],
         "line": {
          "color": "red",
          "width": 1
         },
         "locationmode": "USA-states",
         "lon": [
          -118.4080744,
          -117.1896567
         ],
         "mode": "lines",
         "opacity": 0.08124698255052072,
         "type": "scattergeo"
        },
        {
         "lat": [
          33.94253611,
          47.44898194
         ],
         "line": {
          "color": "red",
          "width": 1
         },
         "locationmode": "USA-states",
         "lon": [
          -118.4080744,
          -122.3093131
         ],
         "mode": "lines",
         "opacity": 0.44589282019449616,
         "type": "scattergeo"
        },
        {
         "lat": [
          33.94253611,
          37.61900194
         ],
         "line": {
          "color": "red",
          "width": 1
         },
         "locationmode": "USA-states",
         "lon": [
          -118.4080744,
          -122.3748433
         ],
         "mode": "lines",
         "opacity": 0.8152976067314988,
         "type": "scattergeo"
        },
        {
         "lat": [
          33.94253611,
          37.36186194
         ],
         "line": {
          "color": "red",
          "width": 1
         },
         "locationmode": "USA-states",
         "lon": [
          -118.4080744,
          -121.9290089
         ],
         "mode": "lines",
         "opacity": 0.5385198979239948,
         "type": "scattergeo"
        },
        {
         "lat": [
          33.94253611,
          40.78838778
         ],
         "line": {
          "color": "red",
          "width": 1
         },
         "locationmode": "USA-states",
         "lon": [
          -118.4080744,
          -111.9777731
         ],
         "mode": "lines",
         "opacity": 0.24008552313952686,
         "type": "scattergeo"
        },
        {
         "lat": [
          33.94253611,
          38.69542167
         ],
         "line": {
          "color": "red",
          "width": 1
         },
         "locationmode": "USA-states",
         "lon": [
          -118.4080744,
          -121.5907669
         ],
         "mode": "lines",
         "opacity": 0.33650596592868476,
         "type": "scattergeo"
        },
        {
         "lat": [
          33.94253611,
          38.74768694
         ],
         "line": {
          "color": "red",
          "width": 1
         },
         "locationmode": "USA-states",
         "lon": [
          -118.4080744,
          -90.35998972
         ],
         "mode": "lines",
         "opacity": 0.12311193875439685,
         "type": "scattergeo"
        },
        {
         "lat": [
          33.94253611,
          32.11608333
         ],
         "line": {
          "color": "red",
          "width": 1
         },
         "locationmode": "USA-states",
         "lon": [
          -118.4080744,
          -110.9410278
         ],
         "mode": "lines",
         "opacity": 0.2538106076281123,
         "type": "scattergeo"
        },
        {
         "lat": [
          33.66363889,
          32.84711389
         ],
         "line": {
          "color": "red",
          "width": 1
         },
         "locationmode": "USA-states",
         "lon": [
          -101.8227778,
          -96.85177222
         ],
         "mode": "lines",
         "opacity": 0.12752603627836404,
         "type": "scattergeo"
        },
        {
         "lat": [
          40.77724306,
          33.64044444
         ],
         "line": {
          "color": "red",
          "width": 1
         },
         "locationmode": "USA-states",
         "lon": [
          -73.87260917,
          -84.42694444
         ],
         "mode": "lines",
         "opacity": 0.37899165459686873,
         "type": "scattergeo"
        },
        {
         "lat": [
          40.77724306,
          42.3643475
         ],
         "line": {
          "color": "red",
          "width": 1
         },
         "locationmode": "USA-states",
         "lon": [
          -73.87260917,
          -71.00517917
         ],
         "mode": "lines",
         "opacity": 0.08752327746741155,
         "type": "scattergeo"
        },
        {
         "lat": [
          40.77724306,
          42.94052472
         ],
         "line": {
          "color": "red",
          "width": 1
         },
         "locationmode": "USA-states",
         "lon": [
          -73.87260917,
          -78.73216667
         ],
         "mode": "lines",
         "opacity": 0.09124767225325885,
         "type": "scattergeo"
        },
        {
         "lat": [
          40.77724306,
          41.41089417
         ],
         "line": {
          "color": "red",
          "width": 1
         },
         "locationmode": "USA-states",
         "lon": [
          -73.87260917,
          -81.84939667
         ],
         "mode": "lines",
         "opacity": 0.08097110145527278,
         "type": "scattergeo"
        },
        {
         "lat": [
          40.77724306,
          35.21401111
         ],
         "line": {
          "color": "red",
          "width": 1
         },
         "locationmode": "USA-states",
         "lon": [
          -73.87260917,
          -80.94312583
         ],
         "mode": "lines",
         "opacity": 0.2228429546865301,
         "type": "scattergeo"
        },
        {
         "lat": [
          40.77724306,
          39.04614278
         ],
         "line": {
          "color": "red",
          "width": 1
         },
         "locationmode": "USA-states",
         "lon": [
          -73.87260917,
          -84.6621725
         ],
         "mode": "lines",
         "opacity": 0.10442099455134837,
         "type": "scattergeo"
        },
        {
         "lat": [
          40.77724306,
          38.85208333
         ],
         "line": {
          "color": "red",
          "width": 1
         },
         "locationmode": "USA-states",
         "lon": [
          -73.87260917,
          -77.03772222
         ],
         "mode": "lines",
         "opacity": 0.07986757707428098,
         "type": "scattergeo"
        },
        {
         "lat": [
          40.77724306,
          39.85840806
         ],
         "line": {
          "color": "red",
          "width": 1
         },
         "locationmode": "USA-states",
         "lon": [
          -73.87260917,
          -104.6670019
         ],
         "mode": "lines",
         "opacity": 0.11159390302779502,
         "type": "scattergeo"
        },
        {
         "lat": [
          40.77724306,
          32.89595056
         ],
         "line": {
          "color": "red",
          "width": 1
         },
         "locationmode": "USA-states",
         "lon": [
          -73.87260917,
          -97.0372
         ],
         "mode": "lines",
         "opacity": 0.2936754258914408,
         "type": "scattergeo"
        },
        {
         "lat": [
          40.77724306,
          42.21205889
         ],
         "line": {
          "color": "red",
          "width": 1
         },
         "locationmode": "USA-states",
         "lon": [
          -73.87260917,
          -83.34883583
         ],
         "mode": "lines",
         "opacity": 0.12959514449272364,
         "type": "scattergeo"
        },
        {
         "lat": [
          40.77724306,
          26.07258333
         ],
         "line": {
          "color": "red",
          "width": 1
         },
         "locationmode": "USA-states",
         "lon": [
          -73.87260917,
          -80.15275
         ],
         "mode": "lines",
         "opacity": 0.22491206290088972,
         "type": "scattergeo"
        },
        {
         "lat": [
          40.77724306,
          38.94453194
         ],
         "line": {
          "color": "red",
          "width": 1
         },
         "locationmode": "USA-states",
         "lon": [
          -73.87260917,
          -77.45580972
         ],
         "mode": "lines",
         "opacity": 0.14173391268363336,
         "type": "scattergeo"
        },
        {
         "lat": [
          40.77724306,
          29.98047222
         ],
         "line": {
          "color": "red",
          "width": 1
         },
         "locationmode": "USA-states",
         "lon": [
          -73.87260917,
          -95.33972222
         ],
         "mode": "lines",
         "opacity": 0.11904269259948962,
         "type": "scattergeo"
        },
        {
         "lat": [
          40.77724306,
          28.42888889
         ],
         "line": {
          "color": "red",
          "width": 1
         },
         "locationmode": "USA-states",
         "lon": [
          -73.87260917,
          -81.31602778
         ],
         "mode": "lines",
         "opacity": 0.19587557762604318,
         "type": "scattergeo"
        },
        {
         "lat": [
          40.77724306,
          25.79325
         ],
         "line": {
          "color": "red",
          "width": 1
         },
         "locationmode": "USA-states",
         "lon": [
          -73.87260917,
          -80.29055556
         ],
         "mode": "lines",
         "opacity": 0.2041520104834816,
         "type": "scattergeo"
        },
        {
         "lat": [
          40.77724306,
          44.88054694
         ],
         "line": {
          "color": "red",
          "width": 1
         },
         "locationmode": "USA-states",
         "lon": [
          -73.87260917,
          -93.2169225
         ],
         "mode": "lines",
         "opacity": 0.101110421408373,
         "type": "scattergeo"
        },
        {
         "lat": [
          40.77724306,
          41.979595
         ],
         "line": {
          "color": "red",
          "width": 1
         },
         "locationmode": "USA-states",
         "lon": [
          -73.87260917,
          -87.90446417
         ],
         "mode": "lines",
         "opacity": 0.47734326505276226,
         "type": "scattergeo"
        },
        {
         "lat": [
          40.77724306,
          26.68316194
         ],
         "line": {
          "color": "red",
          "width": 1
         },
         "locationmode": "USA-states",
         "lon": [
          -73.87260917,
          -80.09559417
         ],
         "mode": "lines",
         "opacity": 0.1919442720187599,
         "type": "scattergeo"
        },
        {
         "lat": [
          40.77724306,
          40.49146583
         ],
         "line": {
          "color": "red",
          "width": 1
         },
         "locationmode": "USA-states",
         "lon": [
          -73.87260917,
          -80.23287083
         ],
         "mode": "lines",
         "opacity": 0.1893923718877164,
         "type": "scattergeo"
        },
        {
         "lat": [
          40.77724306,
          38.74768694
         ],
         "line": {
          "color": "red",
          "width": 1
         },
         "locationmode": "USA-states",
         "lon": [
          -73.87260917,
          -90.35998972
         ],
         "mode": "lines",
         "opacity": 0.11414580315883854,
         "type": "scattergeo"
        },
        {
         "lat": [
          40.77724306,
          27.97547222
         ],
         "line": {
          "color": "red",
          "width": 1
         },
         "locationmode": "USA-states",
         "lon": [
          -73.87260917,
          -82.53325
         ],
         "mode": "lines",
         "opacity": 0.13849230981446997,
         "type": "scattergeo"
        },
        {
         "lat": [
          34.72939611,
          32.84711389
         ],
         "line": {
          "color": "red",
          "width": 1
         },
         "locationmode": "USA-states",
         "lon": [
          -92.22424556,
          -96.85177222
         ],
         "mode": "lines",
         "opacity": 0.12573280915925236,
         "type": "scattergeo"
        },
        {
         "lat": [
          34.72939611,
          38.74768694
         ],
         "line": {
          "color": "red",
          "width": 1
         },
         "locationmode": "USA-states",
         "lon": [
          -92.22424556,
          -90.35998972
         ],
         "mode": "lines",
         "opacity": 0.13111249051658735,
         "type": "scattergeo"
        },
        {
         "lat": [
          31.94252778,
          32.84711389
         ],
         "line": {
          "color": "red",
          "width": 1
         },
         "locationmode": "USA-states",
         "lon": [
          -102.2019139,
          -96.85177222
         ],
         "mode": "lines",
         "opacity": 0.08862680184840334,
         "type": "scattergeo"
        },
        {
         "lat": [
          39.29760528,
          33.64044444
         ],
         "line": {
          "color": "red",
          "width": 1
         },
         "locationmode": "USA-states",
         "lon": [
          -94.71390556,
          -84.42694444
         ],
         "mode": "lines",
         "opacity": 0.08917856403889923,
         "type": "scattergeo"
        },
        {
         "lat": [
          39.29760528,
          39.85840806
         ],
         "line": {
          "color": "red",
          "width": 1
         },
         "locationmode": "USA-states",
         "lon": [
          -94.71390556,
          -104.6670019
         ],
         "mode": "lines",
         "opacity": 0.1724256845299676,
         "type": "scattergeo"
        },
        {
         "lat": [
          39.29760528,
          32.89595056
         ],
         "line": {
          "color": "red",
          "width": 1
         },
         "locationmode": "USA-states",
         "lon": [
          -94.71390556,
          -97.0372
         ],
         "mode": "lines",
         "opacity": 0.15407959169597904,
         "type": "scattergeo"
        },
        {
         "lat": [
          39.29760528,
          36.08036111
         ],
         "line": {
          "color": "red",
          "width": 1
         },
         "locationmode": "USA-states",
         "lon": [
          -94.71390556,
          -115.1523333
         ],
         "mode": "lines",
         "opacity": 0.07359128215739016,
         "type": "scattergeo"
        },
        {
         "lat": [
          39.29760528,
          41.7859825
         ],
         "line": {
          "color": "red",
          "width": 1
         },
         "locationmode": "USA-states",
         "lon": [
          -94.71390556,
          -87.75242444
         ],
         "mode": "lines",
         "opacity": 0.2807779846885992,
         "type": "scattergeo"
        },
        {
         "lat": [
          39.29760528,
          35.39308833
         ],
         "line": {
          "color": "red",
          "width": 1
         },
         "locationmode": "USA-states",
         "lon": [
          -94.71390556,
          -97.60073389
         ],
         "mode": "lines",
         "opacity": 0.10083454031312504,
         "type": "scattergeo"
        },
        {
         "lat": [
          39.29760528,
          41.979595
         ],
         "line": {
          "color": "red",
          "width": 1
         },
         "locationmode": "USA-states",
         "lon": [
          -94.71390556,
          -87.90446417
         ],
         "mode": "lines",
         "opacity": 0.1660114490654528,
         "type": "scattergeo"
        },
        {
         "lat": [
          39.29760528,
          33.43416667
         ],
         "line": {
          "color": "red",
          "width": 1
         },
         "locationmode": "USA-states",
         "lon": [
          -94.71390556,
          -112.0080556
         ],
         "mode": "lines",
         "opacity": 0.1350437961238706,
         "type": "scattergeo"
        },
        {
         "lat": [
          39.29760528,
          38.74768694
         ],
         "line": {
          "color": "red",
          "width": 1
         },
         "locationmode": "USA-states",
         "lon": [
          -94.71390556,
          -90.35998972
         ],
         "mode": "lines",
         "opacity": 0.20808331609076489,
         "type": "scattergeo"
        },
        {
         "lat": [
          39.29760528,
          36.19837222
         ],
         "line": {
          "color": "red",
          "width": 1
         },
         "locationmode": "USA-states",
         "lon": [
          -94.71390556,
          -95.88824167
         ],
         "mode": "lines",
         "opacity": 0.08904062349127526,
         "type": "scattergeo"
        },
        {
         "lat": [
          28.42888889,
          33.64044444
         ],
         "line": {
          "color": "red",
          "width": 1
         },
         "locationmode": "USA-states",
         "lon": [
          -81.31602778,
          -84.42694444
         ],
         "mode": "lines",
         "opacity": 0.25339678598524035,
         "type": "scattergeo"
        },
        {
         "lat": [
          28.42888889,
          41.93887417
         ],
         "line": {
          "color": "red",
          "width": 1
         },
         "locationmode": "USA-states",
         "lon": [
          -81.31602778,
          -72.68322833
         ],
         "mode": "lines",
         "opacity": 0.1091109731705635,
         "type": "scattergeo"
        },
        {
         "lat": [
          28.42888889,
          36.12447667
         ],
         "line": {
          "color": "red",
          "width": 1
         },
         "locationmode": "USA-states",
         "lon": [
          -81.31602778,
          -86.67818222
         ],
         "mode": "lines",
         "opacity": 0.09779984826539762,
         "type": "scattergeo"
        },
        {
         "lat": [
          28.42888889,
          42.3643475
         ],
         "line": {
          "color": "red",
          "width": 1
         },
         "locationmode": "USA-states",
         "lon": [
          -81.31602778,
          -71.00517917
         ],
         "mode": "lines",
         "opacity": 0.1782191875301745,
         "type": "scattergeo"
        },
        {
         "lat": [
          28.42888889,
          39.17540167
         ],
         "line": {
          "color": "red",
          "width": 1
         },
         "locationmode": "USA-states",
         "lon": [
          -81.31602778,
          -76.66819833
         ],
         "mode": "lines",
         "opacity": 0.16732188426788056,
         "type": "scattergeo"
        },
        {
         "lat": [
          28.42888889,
          35.21401111
         ],
         "line": {
          "color": "red",
          "width": 1
         },
         "locationmode": "USA-states",
         "lon": [
          -81.31602778,
          -80.94312583
         ],
         "mode": "lines",
         "opacity": 0.10069659976550106,
         "type": "scattergeo"
        },
        {
         "lat": [
          28.42888889,
          39.04614278
         ],
         "line": {
          "color": "red",
          "width": 1
         },
         "locationmode": "USA-states",
         "lon": [
          -81.31602778,
          -84.6621725
         ],
         "mode": "lines",
         "opacity": 0.09062693978895096,
         "type": "scattergeo"
        },
        {
         "lat": [
          28.42888889,
          39.85840806
         ],
         "line": {
          "color": "red",
          "width": 1
         },
         "locationmode": "USA-states",
         "lon": [
          -81.31602778,
          -104.6670019
         ],
         "mode": "lines",
         "opacity": 0.08710945582453962,
         "type": "scattergeo"
        },
        {
         "lat": [
          28.42888889,
          32.89595056
         ],
         "line": {
          "color": "red",
          "width": 1
         },
         "locationmode": "USA-states",
         "lon": [
          -81.31602778,
          -97.0372
         ],
         "mode": "lines",
         "opacity": 0.11483550589695841,
         "type": "scattergeo"
        },
        {
         "lat": [
          28.42888889,
          42.21205889
         ],
         "line": {
          "color": "red",
          "width": 1
         },
         "locationmode": "USA-states",
         "lon": [
          -81.31602778,
          -83.34883583
         ],
         "mode": "lines",
         "opacity": 0.07917787433616111,
         "type": "scattergeo"
        },
        {
         "lat": [
          28.42888889,
          40.69249722
         ],
         "line": {
          "color": "red",
          "width": 1
         },
         "locationmode": "USA-states",
         "lon": [
          -81.31602778,
          -74.16866056
         ],
         "mode": "lines",
         "opacity": 0.25939719980688325,
         "type": "scattergeo"
        },
        {
         "lat": [
          28.42888889,
          26.07258333
         ],
         "line": {
          "color": "red",
          "width": 1
         },
         "locationmode": "USA-states",
         "lon": [
          -81.31602778,
          -80.15275
         ],
         "mode": "lines",
         "opacity": 0.13262983654045107,
         "type": "scattergeo"
        },
        {
         "lat": [
          28.42888889,
          38.94453194
         ],
         "line": {
          "color": "red",
          "width": 1
         },
         "locationmode": "USA-states",
         "lon": [
          -81.31602778,
          -77.45580972
         ],
         "mode": "lines",
         "opacity": 0.21573901648389543,
         "type": "scattergeo"
        },
        {
         "lat": [
          28.42888889,
          29.98047222
         ],
         "line": {
          "color": "red",
          "width": 1
         },
         "locationmode": "USA-states",
         "lon": [
          -81.31602778,
          -95.33972222
         ],
         "mode": "lines",
         "opacity": 0.07469480653838195,
         "type": "scattergeo"
        },
        {
         "lat": [
          28.42888889,
          40.63975111
         ],
         "line": {
          "color": "red",
          "width": 1
         },
         "locationmode": "USA-states",
         "lon": [
          -81.31602778,
          -73.77892556
         ],
         "mode": "lines",
         "opacity": 0.0888337126698393,
         "type": "scattergeo"
        },
        {
         "lat": [
          28.42888889,
          33.94253611
         ],
         "line": {
          "color": "red",
          "width": 1
         },
         "locationmode": "USA-states",
         "lon": [
          -81.31602778,
          -118.4080744
         ],
         "mode": "lines",
         "opacity": 0.09917925374163736,
         "type": "scattergeo"
        },
        {
         "lat": [
          28.42888889,
          40.77724306
         ],
         "line": {
          "color": "red",
          "width": 1
         },
         "locationmode": "USA-states",
         "lon": [
          -81.31602778,
          -73.87260917
         ],
         "mode": "lines",
         "opacity": 0.23374025794882405,
         "type": "scattergeo"
        },
        {
         "lat": [
          28.42888889,
          25.79325
         ],
         "line": {
          "color": "red",
          "width": 1
         },
         "locationmode": "USA-states",
         "lon": [
          -81.31602778,
          -80.29055556
         ],
         "mode": "lines",
         "opacity": 0.09248913718187461,
         "type": "scattergeo"
        },
        {
         "lat": [
          28.42888889,
          41.979595
         ],
         "line": {
          "color": "red",
          "width": 1
         },
         "locationmode": "USA-states",
         "lon": [
          -81.31602778,
          -87.90446417
         ],
         "mode": "lines",
         "opacity": 0.1713221601489758,
         "type": "scattergeo"
        },
        {
         "lat": [
          28.42888889,
          39.87195278
         ],
         "line": {
          "color": "red",
          "width": 1
         },
         "locationmode": "USA-states",
         "lon": [
          -81.31602778,
          -75.24114083
         ],
         "mode": "lines",
         "opacity": 0.16856334919649632,
         "type": "scattergeo"
        },
        {
         "lat": [
          28.42888889,
          40.49146583
         ],
         "line": {
          "color": "red",
          "width": 1
         },
         "locationmode": "USA-states",
         "lon": [
          -81.31602778,
          -80.23287083
         ],
         "mode": "lines",
         "opacity": 0.12435340368301262,
         "type": "scattergeo"
        },
        {
         "lat": [
          28.42888889,
          38.74768694
         ],
         "line": {
          "color": "red",
          "width": 1
         },
         "locationmode": "USA-states",
         "lon": [
          -81.31602778,
          -90.35998972
         ],
         "mode": "lines",
         "opacity": 0.12745706600455203,
         "type": "scattergeo"
        },
        {
         "lat": [
          41.7859825,
          36.12447667
         ],
         "line": {
          "color": "red",
          "width": 1
         },
         "locationmode": "USA-states",
         "lon": [
          -87.75242444,
          -86.67818222
         ],
         "mode": "lines",
         "opacity": 0.18421960135181736,
         "type": "scattergeo"
        },
        {
         "lat": [
          41.7859825,
          39.17540167
         ],
         "line": {
          "color": "red",
          "width": 1
         },
         "locationmode": "USA-states",
         "lon": [
          -87.75242444,
          -76.66819833
         ],
         "mode": "lines",
         "opacity": 0.21773915442444305,
         "type": "scattergeo"
        },
        {
         "lat": [
          41.7859825,
          41.41089417
         ],
         "line": {
          "color": "red",
          "width": 1
         },
         "locationmode": "USA-states",
         "lon": [
          -87.75242444,
          -81.84939667
         ],
         "mode": "lines",
         "opacity": 0.2149803434719636,
         "type": "scattergeo"
        },
        {
         "lat": [
          41.7859825,
          39.99798528
         ],
         "line": {
          "color": "red",
          "width": 1
         },
         "locationmode": "USA-states",
         "lon": [
          -87.75242444,
          -82.89188278
         ],
         "mode": "lines",
         "opacity": 0.12469825505207256,
         "type": "scattergeo"
        },
        {
         "lat": [
          41.7859825,
          42.21205889
         ],
         "line": {
          "color": "red",
          "width": 1
         },
         "locationmode": "USA-states",
         "lon": [
          -87.75242444,
          -83.34883583
         ],
         "mode": "lines",
         "opacity": 0.24856886681840126,
         "type": "scattergeo"
        },
        {
         "lat": [
          41.7859825,
          39.71732917
         ],
         "line": {
          "color": "red",
          "width": 1
         },
         "locationmode": "USA-states",
         "lon": [
          -87.75242444,
          -86.29438417
         ],
         "mode": "lines",
         "opacity": 0.1265604524449962,
         "type": "scattergeo"
        },
        {
         "lat": [
          41.7859825,
          39.29760528
         ],
         "line": {
          "color": "red",
          "width": 1
         },
         "locationmode": "USA-states",
         "lon": [
          -87.75242444,
          -94.71390556
         ],
         "mode": "lines",
         "opacity": 0.3280915925236223,
         "type": "scattergeo"
        },
        {
         "lat": [
          41.7859825,
          44.88054694
         ],
         "line": {
          "color": "red",
          "width": 1
         },
         "locationmode": "USA-states",
         "lon": [
          -87.75242444,
          -93.2169225
         ],
         "mode": "lines",
         "opacity": 0.09290295882474653,
         "type": "scattergeo"
        },
        {
         "lat": [
          41.7859825,
          41.30251861
         ],
         "line": {
          "color": "red",
          "width": 1
         },
         "locationmode": "USA-states",
         "lon": [
          -87.75242444,
          -95.89417306
         ],
         "mode": "lines",
         "opacity": 0.12207738464721705,
         "type": "scattergeo"
        },
        {
         "lat": [
          41.7859825,
          38.17438889
         ],
         "line": {
          "color": "red",
          "width": 1
         },
         "locationmode": "USA-states",
         "lon": [
          -87.75242444,
          -85.736
         ],
         "mode": "lines",
         "opacity": 0.11752534657562591,
         "type": "scattergeo"
        },
        {
         "lat": [
          41.7859825,
          38.74768694
         ],
         "line": {
          "color": "red",
          "width": 1
         },
         "locationmode": "USA-states",
         "lon": [
          -87.75242444,
          -90.35998972
         ],
         "mode": "lines",
         "opacity": 0.31250431064211326,
         "type": "scattergeo"
        },
        {
         "lat": [
          35.04241667,
          33.64044444
         ],
         "line": {
          "color": "red",
          "width": 1
         },
         "locationmode": "USA-states",
         "lon": [
          -89.97666667,
          -84.42694444
         ],
         "mode": "lines",
         "opacity": 0.18532312573280915,
         "type": "scattergeo"
        },
        {
         "lat": [
          35.04241667,
          32.89595056
         ],
         "line": {
          "color": "red",
          "width": 1
         },
         "locationmode": "USA-states",
         "lon": [
          -89.97666667,
          -97.0372
         ],
         "mode": "lines",
         "opacity": 0.11055934892061521,
         "type": "scattergeo"
        },
        {
         "lat": [
          35.04241667,
          42.21205889
         ],
         "line": {
          "color": "red",
          "width": 1
         },
         "locationmode": "USA-states",
         "lon": [
          -89.97666667,
          -83.34883583
         ],
         "mode": "lines",
         "opacity": 0.10545554865852817,
         "type": "scattergeo"
        },
        {
         "lat": [
          35.04241667,
          44.88054694
         ],
         "line": {
          "color": "red",
          "width": 1
         },
         "locationmode": "USA-states",
         "lon": [
          -89.97666667,
          -93.2169225
         ],
         "mode": "lines",
         "opacity": 0.10028277812262915,
         "type": "scattergeo"
        },
        {
         "lat": [
          35.04241667,
          41.979595
         ],
         "line": {
          "color": "red",
          "width": 1
         },
         "locationmode": "USA-states",
         "lon": [
          -89.97666667,
          -87.90446417
         ],
         "mode": "lines",
         "opacity": 0.10559348920615215,
         "type": "scattergeo"
        },
        {
         "lat": [
          42.93451639,
          39.17540167
         ],
         "line": {
          "color": "red",
          "width": 1
         },
         "locationmode": "USA-states",
         "lon": [
          -71.43705583,
          -76.66819833
         ],
         "mode": "lines",
         "opacity": 0.22539485481757363,
         "type": "scattergeo"
        },
        {
         "lat": [
          42.93451639,
          41.979595
         ],
         "line": {
          "color": "red",
          "width": 1
         },
         "locationmode": "USA-states",
         "lon": [
          -71.43705583,
          -87.90446417
         ],
         "mode": "lines",
         "opacity": 0.0729015794192703,
         "type": "scattergeo"
        },
        {
         "lat": [
          42.93451639,
          39.87195278
         ],
         "line": {
          "color": "red",
          "width": 1
         },
         "locationmode": "USA-states",
         "lon": [
          -71.43705583,
          -75.24114083
         ],
         "mode": "lines",
         "opacity": 0.08372991240775225,
         "type": "scattergeo"
        },
        {
         "lat": [
          25.79325,
          33.64044444
         ],
         "line": {
          "color": "red",
          "width": 1
         },
         "locationmode": "USA-states",
         "lon": [
          -80.29055556,
          -84.42694444
         ],
         "mode": "lines",
         "opacity": 0.3145734188564729,
         "type": "scattergeo"
        },
        {
         "lat": [
          25.79325,
          42.3643475
         ],
         "line": {
          "color": "red",
          "width": 1
         },
         "locationmode": "USA-states",
         "lon": [
          -80.29055556,
          -71.00517917
         ],
         "mode": "lines",
         "opacity": 0.09504103731291813,
         "type": "scattergeo"
        },
        {
         "lat": [
          25.79325,
          38.85208333
         ],
         "line": {
          "color": "red",
          "width": 1
         },
         "locationmode": "USA-states",
         "lon": [
          -80.29055556,
          -77.03772222
         ],
         "mode": "lines",
         "opacity": 0.13545761776674253,
         "type": "scattergeo"
        },
        {
         "lat": [
          25.79325,
          32.89595056
         ],
         "line": {
          "color": "red",
          "width": 1
         },
         "locationmode": "USA-states",
         "lon": [
          -80.29055556,
          -97.0372
         ],
         "mode": "lines",
         "opacity": 0.1930477963997517,
         "type": "scattergeo"
        },
        {
         "lat": [
          25.79325,
          40.69249722
         ],
         "line": {
          "color": "red",
          "width": 1
         },
         "locationmode": "USA-states",
         "lon": [
          -80.29055556,
          -74.16866056
         ],
         "mode": "lines",
         "opacity": 0.15449341333885094,
         "type": "scattergeo"
        },
        {
         "lat": [
          25.79325,
          38.94453194
         ],
         "line": {
          "color": "red",
          "width": 1
         },
         "locationmode": "USA-states",
         "lon": [
          -80.29055556,
          -77.45580972
         ],
         "mode": "lines",
         "opacity": 0.08979929650320712,
         "type": "scattergeo"
        },
        {
         "lat": [
          25.79325,
          29.98047222
         ],
         "line": {
          "color": "red",
          "width": 1
         },
         "locationmode": "USA-states",
         "lon": [
          -80.29055556,
          -95.33972222
         ],
         "mode": "lines",
         "opacity": 0.09883440237257742,
         "type": "scattergeo"
        },
        {
         "lat": [
          25.79325,
          40.63975111
         ],
         "line": {
          "color": "red",
          "width": 1
         },
         "locationmode": "USA-states",
         "lon": [
          -80.29055556,
          -73.77892556
         ],
         "mode": "lines",
         "opacity": 0.15070004827919167,
         "type": "scattergeo"
        },
        {
         "lat": [
          25.79325,
          33.94253611
         ],
         "line": {
          "color": "red",
          "width": 1
         },
         "locationmode": "USA-states",
         "lon": [
          -80.29055556,
          -118.4080744
         ],
         "mode": "lines",
         "opacity": 0.1026277674322367,
         "type": "scattergeo"
        },
        {
         "lat": [
          25.79325,
          40.77724306
         ],
         "line": {
          "color": "red",
          "width": 1
         },
         "locationmode": "USA-states",
         "lon": [
          -80.29055556,
          -73.87260917
         ],
         "mode": "lines",
         "opacity": 0.21104903786468032,
         "type": "scattergeo"
        },
        {
         "lat": [
          25.79325,
          28.42888889
         ],
         "line": {
          "color": "red",
          "width": 1
         },
         "locationmode": "USA-states",
         "lon": [
          -80.29055556,
          -81.31602778
         ],
         "mode": "lines",
         "opacity": 0.07579833091937375,
         "type": "scattergeo"
        },
        {
         "lat": [
          25.79325,
          41.979595
         ],
         "line": {
          "color": "red",
          "width": 1
         },
         "locationmode": "USA-states",
         "lon": [
          -80.29055556,
          -87.90446417
         ],
         "mode": "lines",
         "opacity": 0.24284433409200634,
         "type": "scattergeo"
        },
        {
         "lat": [
          25.79325,
          39.87195278
         ],
         "line": {
          "color": "red",
          "width": 1
         },
         "locationmode": "USA-states",
         "lon": [
          -80.29055556,
          -75.24114083
         ],
         "mode": "lines",
         "opacity": 0.11366301124215464,
         "type": "scattergeo"
        },
        {
         "lat": [
          25.79325,
          18.43941667
         ],
         "line": {
          "color": "red",
          "width": 1
         },
         "locationmode": "USA-states",
         "lon": [
          -80.29055556,
          -66.00183333
         ],
         "mode": "lines",
         "opacity": 0.1426305262431892,
         "type": "scattergeo"
        },
        {
         "lat": [
          30.69141667,
          33.64044444
         ],
         "line": {
          "color": "red",
          "width": 1
         },
         "locationmode": "USA-states",
         "lon": [
          -88.24283333,
          -84.42694444
         ],
         "mode": "lines",
         "opacity": 0.09683426443202979,
         "type": "scattergeo"
        },
        {
         "lat": [
          44.88054694,
          33.64044444
         ],
         "line": {
          "color": "red",
          "width": 1
         },
         "locationmode": "USA-states",
         "lon": [
          -93.2169225,
          -84.42694444
         ],
         "mode": "lines",
         "opacity": 0.18959928270915236,
         "type": "scattergeo"
        },
        {
         "lat": [
          44.88054694,
          42.3643475
         ],
         "line": {
          "color": "red",
          "width": 1
         },
         "locationmode": "USA-states",
         "lon": [
          -93.2169225,
          -71.00517917
         ],
         "mode": "lines",
         "opacity": 0.12993999586178356,
         "type": "scattergeo"
        },
        {
         "lat": [
          44.88054694,
          38.85208333
         ],
         "line": {
          "color": "red",
          "width": 1
         },
         "locationmode": "USA-states",
         "lon": [
          -93.2169225,
          -77.03772222
         ],
         "mode": "lines",
         "opacity": 0.09566176977722601,
         "type": "scattergeo"
        },
        {
         "lat": [
          44.88054694,
          39.85840806
         ],
         "line": {
          "color": "red",
          "width": 1
         },
         "locationmode": "USA-states",
         "lon": [
          -93.2169225,
          -104.6670019
         ],
         "mode": "lines",
         "opacity": 0.24594799641354576,
         "type": "scattergeo"
        },
        {
         "lat": [
          44.88054694,
          32.89595056
         ],
         "line": {
          "color": "red",
          "width": 1
         },
         "locationmode": "USA-states",
         "lon": [
          -93.2169225,
          -97.0372
         ],
         "mode": "lines",
         "opacity": 0.17104627905372785,
         "type": "scattergeo"
        },
        {
         "lat": [
          44.88054694,
          42.21205889
         ],
         "line": {
          "color": "red",
          "width": 1
         },
         "locationmode": "USA-states",
         "lon": [
          -93.2169225,
          -83.34883583
         ],
         "mode": "lines",
         "opacity": 0.2123594730671081,
         "type": "scattergeo"
        },
        {
         "lat": [
          44.88054694,
          40.69249722
         ],
         "line": {
          "color": "red",
          "width": 1
         },
         "locationmode": "USA-states",
         "lon": [
          -93.2169225,
          -74.16866056
         ],
         "mode": "lines",
         "opacity": 0.15125181046968755,
         "type": "scattergeo"
        },
        {
         "lat": [
          44.88054694,
          46.91934889
         ],
         "line": {
          "color": "red",
          "width": 1
         },
         "locationmode": "USA-states",
         "lon": [
          -93.2169225,
          -96.81498889
         ],
         "mode": "lines",
         "opacity": 0.0877301882888475,
         "type": "scattergeo"
        },
        {
         "lat": [
          44.88054694,
          29.98047222
         ],
         "line": {
          "color": "red",
          "width": 1
         },
         "locationmode": "USA-states",
         "lon": [
          -93.2169225,
          -95.33972222
         ],
         "mode": "lines",
         "opacity": 0.07407407407407407,
         "type": "scattergeo"
        },
        {
         "lat": [
          44.88054694,
          36.08036111
         ],
         "line": {
          "color": "red",
          "width": 1
         },
         "locationmode": "USA-states",
         "lon": [
          -93.2169225,
          -115.1523333
         ],
         "mode": "lines",
         "opacity": 0.0920063452651907,
         "type": "scattergeo"
        },
        {
         "lat": [
          44.88054694,
          33.94253611
         ],
         "line": {
          "color": "red",
          "width": 1
         },
         "locationmode": "USA-states",
         "lon": [
          -93.2169225,
          -118.4080744
         ],
         "mode": "lines",
         "opacity": 0.11897372232567763,
         "type": "scattergeo"
        },
        {
         "lat": [
          44.88054694,
          40.77724306
         ],
         "line": {
          "color": "red",
          "width": 1
         },
         "locationmode": "USA-states",
         "lon": [
          -93.2169225,
          -73.87260917
         ],
         "mode": "lines",
         "opacity": 0.13145734188564728,
         "type": "scattergeo"
        },
        {
         "lat": [
          44.88054694,
          39.29760528
         ],
         "line": {
          "color": "red",
          "width": 1
         },
         "locationmode": "USA-states",
         "lon": [
          -93.2169225,
          -94.71390556
         ],
         "mode": "lines",
         "opacity": 0.08814400993171943,
         "type": "scattergeo"
        },
        {
         "lat": [
          44.88054694,
          28.42888889
         ],
         "line": {
          "color": "red",
          "width": 1
         },
         "locationmode": "USA-states",
         "lon": [
          -93.2169225,
          -81.31602778
         ],
         "mode": "lines",
         "opacity": 0.07828126077660529,
         "type": "scattergeo"
        },
        {
         "lat": [
          44.88054694,
          41.7859825
         ],
         "line": {
          "color": "red",
          "width": 1
         },
         "locationmode": "USA-states",
         "lon": [
          -93.2169225,
          -87.75242444
         ],
         "mode": "lines",
         "opacity": 0.09717911580108973,
         "type": "scattergeo"
        },
        {
         "lat": [
          44.88054694,
          35.04241667
         ],
         "line": {
          "color": "red",
          "width": 1
         },
         "locationmode": "USA-states",
         "lon": [
          -93.2169225,
          -89.97666667
         ],
         "mode": "lines",
         "opacity": 0.1037312918132285,
         "type": "scattergeo"
        },
        {
         "lat": [
          44.88054694,
          42.94722222
         ],
         "line": {
          "color": "red",
          "width": 1
         },
         "locationmode": "USA-states",
         "lon": [
          -93.2169225,
          -87.89658333
         ],
         "mode": "lines",
         "opacity": 0.11724946548037796,
         "type": "scattergeo"
        },
        {
         "lat": [
          44.88054694,
          41.30251861
         ],
         "line": {
          "color": "red",
          "width": 1
         },
         "locationmode": "USA-states",
         "lon": [
          -93.2169225,
          -95.89417306
         ],
         "mode": "lines",
         "opacity": 0.08338506103869232,
         "type": "scattergeo"
        },
        {
         "lat": [
          44.88054694,
          41.979595
         ],
         "line": {
          "color": "red",
          "width": 1
         },
         "locationmode": "USA-states",
         "lon": [
          -93.2169225,
          -87.90446417
         ],
         "mode": "lines",
         "opacity": 0.4643078833022967,
         "type": "scattergeo"
        },
        {
         "lat": [
          44.88054694,
          39.87195278
         ],
         "line": {
          "color": "red",
          "width": 1
         },
         "locationmode": "USA-states",
         "lon": [
          -93.2169225,
          -75.24114083
         ],
         "mode": "lines",
         "opacity": 0.12028415752810538,
         "type": "scattergeo"
        },
        {
         "lat": [
          44.88054694,
          33.43416667
         ],
         "line": {
          "color": "red",
          "width": 1
         },
         "locationmode": "USA-states",
         "lon": [
          -93.2169225,
          -112.0080556
         ],
         "mode": "lines",
         "opacity": 0.14621698048141252,
         "type": "scattergeo"
        },
        {
         "lat": [
          44.88054694,
          47.44898194
         ],
         "line": {
          "color": "red",
          "width": 1
         },
         "locationmode": "USA-states",
         "lon": [
          -93.2169225,
          -122.3093131
         ],
         "mode": "lines",
         "opacity": 0.1510448996482516,
         "type": "scattergeo"
        },
        {
         "lat": [
          44.88054694,
          37.61900194
         ],
         "line": {
          "color": "red",
          "width": 1
         },
         "locationmode": "USA-states",
         "lon": [
          -93.2169225,
          -122.3748433
         ],
         "mode": "lines",
         "opacity": 0.1249741361473205,
         "type": "scattergeo"
        },
        {
         "lat": [
          44.88054694,
          40.78838778
         ],
         "line": {
          "color": "red",
          "width": 1
         },
         "locationmode": "USA-states",
         "lon": [
          -93.2169225,
          -111.9777731
         ],
         "mode": "lines",
         "opacity": 0.11849093040899372,
         "type": "scattergeo"
        },
        {
         "lat": [
          44.88054694,
          38.74768694
         ],
         "line": {
          "color": "red",
          "width": 1
         },
         "locationmode": "USA-states",
         "lon": [
          -93.2169225,
          -90.35998972
         ],
         "mode": "lines",
         "opacity": 0.14269949651700117,
         "type": "scattergeo"
        },
        {
         "lat": [
          29.99338889,
          33.64044444
         ],
         "line": {
          "color": "red",
          "width": 1
         },
         "locationmode": "USA-states",
         "lon": [
          -90.25802778,
          -84.42694444
         ],
         "mode": "lines",
         "opacity": 0.13518173667149458,
         "type": "scattergeo"
        },
        {
         "lat": [
          29.99338889,
          33.56294306
         ],
         "line": {
          "color": "red",
          "width": 1
         },
         "locationmode": "USA-states",
         "lon": [
          -90.25802778,
          -86.75354972
         ],
         "mode": "lines",
         "opacity": 0.1320091040761432,
         "type": "scattergeo"
        },
        {
         "lat": [
          29.99338889,
          32.84711389
         ],
         "line": {
          "color": "red",
          "width": 1
         },
         "locationmode": "USA-states",
         "lon": [
          -90.25802778,
          -96.85177222
         ],
         "mode": "lines",
         "opacity": 0.11207669494447893,
         "type": "scattergeo"
        },
        {
         "lat": [
          29.99338889,
          32.89595056
         ],
         "line": {
          "color": "red",
          "width": 1
         },
         "locationmode": "USA-states",
         "lon": [
          -90.25802778,
          -97.0372
         ],
         "mode": "lines",
         "opacity": 0.09035105869370301,
         "type": "scattergeo"
        },
        {
         "lat": [
          29.99338889,
          29.64541861
         ],
         "line": {
          "color": "red",
          "width": 1
         },
         "locationmode": "USA-states",
         "lon": [
          -90.25802778,
          -95.27888889
         ],
         "mode": "lines",
         "opacity": 0.29443409890337263,
         "type": "scattergeo"
        },
        {
         "lat": [
          29.99338889,
          29.98047222
         ],
         "line": {
          "color": "red",
          "width": 1
         },
         "locationmode": "USA-states",
         "lon": [
          -90.25802778,
          -95.33972222
         ],
         "mode": "lines",
         "opacity": 0.1303538175046555,
         "type": "scattergeo"
        },
        {
         "lat": [
          29.99338889,
          28.42888889
         ],
         "line": {
          "color": "red",
          "width": 1
         },
         "locationmode": "USA-states",
         "lon": [
          -90.25802778,
          -81.31602778
         ],
         "mode": "lines",
         "opacity": 0.08545416925305194,
         "type": "scattergeo"
        },
        {
         "lat": [
          29.99338889,
          41.979595
         ],
         "line": {
          "color": "red",
          "width": 1
         },
         "locationmode": "USA-states",
         "lon": [
          -90.25802778,
          -87.90446417
         ],
         "mode": "lines",
         "opacity": 0.09297192909855852,
         "type": "scattergeo"
        },
        {
         "lat": [
          29.99338889,
          27.97547222
         ],
         "line": {
          "color": "red",
          "width": 1
         },
         "locationmode": "USA-states",
         "lon": [
          -90.25802778,
          -82.53325
         ],
         "mode": "lines",
         "opacity": 0.10669701358714394,
         "type": "scattergeo"
        },
        {
         "lat": [
          37.72129083,
          34.20061917
         ],
         "line": {
          "color": "red",
          "width": 1
         },
         "locationmode": "USA-states",
         "lon": [
          -122.2207167,
          -118.3584969
         ],
         "mode": "lines",
         "opacity": 0.2956755638319884,
         "type": "scattergeo"
        },
        {
         "lat": [
          37.72129083,
          39.85840806
         ],
         "line": {
          "color": "red",
          "width": 1
         },
         "locationmode": "USA-states",
         "lon": [
          -122.2207167,
          -104.6670019
         ],
         "mode": "lines",
         "opacity": 0.07779846885992138,
         "type": "scattergeo"
        },
        {
         "lat": [
          37.72129083,
          36.08036111
         ],
         "line": {
          "color": "red",
          "width": 1
         },
         "locationmode": "USA-states",
         "lon": [
          -122.2207167,
          -115.1523333
         ],
         "mode": "lines",
         "opacity": 0.1719428926132837,
         "type": "scattergeo"
        },
        {
         "lat": [
          37.72129083,
          33.94253611
         ],
         "line": {
          "color": "red",
          "width": 1
         },
         "locationmode": "USA-states",
         "lon": [
          -122.2207167,
          -118.4080744
         ],
         "mode": "lines",
         "opacity": 0.6975653493344368,
         "type": "scattergeo"
        },
        {
         "lat": [
          37.72129083,
          34.056
         ],
         "line": {
          "color": "red",
          "width": 1
         },
         "locationmode": "USA-states",
         "lon": [
          -122.2207167,
          -117.6011944
         ],
         "mode": "lines",
         "opacity": 0.2217394303055383,
         "type": "scattergeo"
        },
        {
         "lat": [
          37.72129083,
          45.58872222
         ],
         "line": {
          "color": "red",
          "width": 1
         },
         "locationmode": "USA-states",
         "lon": [
          -122.2207167,
          -122.5975
         ],
         "mode": "lines",
         "opacity": 0.17352920891095938,
         "type": "scattergeo"
        },
        {
         "lat": [
          37.72129083,
          33.43416667
         ],
         "line": {
          "color": "red",
          "width": 1
         },
         "locationmode": "USA-states",
         "lon": [
          -122.2207167,
          -112.0080556
         ],
         "mode": "lines",
         "opacity": 0.10917994344437547,
         "type": "scattergeo"
        },
        {
         "lat": [
          37.72129083,
          39.49857611
         ],
         "line": {
          "color": "red",
          "width": 1
         },
         "locationmode": "USA-states",
         "lon": [
          -122.2207167,
          -119.7680647
         ],
         "mode": "lines",
         "opacity": 0.15539002689840678,
         "type": "scattergeo"
        },
        {
         "lat": [
          37.72129083,
          32.73355611
         ],
         "line": {
          "color": "red",
          "width": 1
         },
         "locationmode": "USA-states",
         "lon": [
          -122.2207167,
          -117.1896567
         ],
         "mode": "lines",
         "opacity": 0.18801296641147666,
         "type": "scattergeo"
        },
        {
         "lat": [
          37.72129083,
          47.44898194
         ],
         "line": {
          "color": "red",
          "width": 1
         },
         "locationmode": "USA-states",
         "lon": [
          -122.2207167,
          -122.3093131
         ],
         "mode": "lines",
         "opacity": 0.2995378991654597,
         "type": "scattergeo"
        },
        {
         "lat": [
          37.72129083,
          33.67565861
         ],
         "line": {
          "color": "red",
          "width": 1
         },
         "locationmode": "USA-states",
         "lon": [
          -122.2207167,
          -117.8682225
         ],
         "mode": "lines",
         "opacity": 0.20815228636457686,
         "type": "scattergeo"
        },
        {
         "lat": [
          35.39308833,
          32.84711389
         ],
         "line": {
          "color": "red",
          "width": 1
         },
         "locationmode": "USA-states",
         "lon": [
          -97.60073389,
          -96.85177222
         ],
         "mode": "lines",
         "opacity": 0.106421132491896,
         "type": "scattergeo"
        },
        {
         "lat": [
          35.39308833,
          39.85840806
         ],
         "line": {
          "color": "red",
          "width": 1
         },
         "locationmode": "USA-states",
         "lon": [
          -97.60073389,
          -104.6670019
         ],
         "mode": "lines",
         "opacity": 0.0829712393958204,
         "type": "scattergeo"
        },
        {
         "lat": [
          35.39308833,
          39.29760528
         ],
         "line": {
          "color": "red",
          "width": 1
         },
         "locationmode": "USA-states",
         "lon": [
          -97.60073389,
          -94.71390556
         ],
         "mode": "lines",
         "opacity": 0.09904131319401338,
         "type": "scattergeo"
        },
        {
         "lat": [
          35.39308833,
          38.74768694
         ],
         "line": {
          "color": "red",
          "width": 1
         },
         "locationmode": "USA-states",
         "lon": [
          -97.60073389,
          -90.35998972
         ],
         "mode": "lines",
         "opacity": 0.10124836195599697,
         "type": "scattergeo"
        },
        {
         "lat": [
          41.30251861,
          39.85840806
         ],
         "line": {
          "color": "red",
          "width": 1
         },
         "locationmode": "USA-states",
         "lon": [
          -95.89417306,
          -104.6670019
         ],
         "mode": "lines",
         "opacity": 0.08752327746741155,
         "type": "scattergeo"
        },
        {
         "lat": [
          41.30251861,
          41.7859825
         ],
         "line": {
          "color": "red",
          "width": 1
         },
         "locationmode": "USA-states",
         "lon": [
          -95.89417306,
          -87.75242444
         ],
         "mode": "lines",
         "opacity": 0.10117939168218498,
         "type": "scattergeo"
        },
        {
         "lat": [
          41.30251861,
          41.979595
         ],
         "line": {
          "color": "red",
          "width": 1
         },
         "locationmode": "USA-states",
         "lon": [
          -95.89417306,
          -87.90446417
         ],
         "mode": "lines",
         "opacity": 0.09097179115801089,
         "type": "scattergeo"
        },
        {
         "lat": [
          41.30251861,
          33.43416667
         ],
         "line": {
          "color": "red",
          "width": 1
         },
         "locationmode": "USA-states",
         "lon": [
          -95.89417306,
          -112.0080556
         ],
         "mode": "lines",
         "opacity": 0.09421339402717428,
         "type": "scattergeo"
        },
        {
         "lat": [
          41.30251861,
          38.74768694
         ],
         "line": {
          "color": "red",
          "width": 1
         },
         "locationmode": "USA-states",
         "lon": [
          -95.89417306,
          -90.35998972
         ],
         "mode": "lines",
         "opacity": 0.09131664252707083,
         "type": "scattergeo"
        },
        {
         "lat": [
          34.056,
          36.08036111
         ],
         "line": {
          "color": "red",
          "width": 1
         },
         "locationmode": "USA-states",
         "lon": [
          -117.6011944,
          -115.1523333
         ],
         "mode": "lines",
         "opacity": 0.21029036485274846,
         "type": "scattergeo"
        },
        {
         "lat": [
          34.056,
          37.72129083
         ],
         "line": {
          "color": "red",
          "width": 1
         },
         "locationmode": "USA-states",
         "lon": [
          -117.6011944,
          -122.2207167
         ],
         "mode": "lines",
         "opacity": 0.24877577763983724,
         "type": "scattergeo"
        },
        {
         "lat": [
          34.056,
          33.43416667
         ],
         "line": {
          "color": "red",
          "width": 1
         },
         "locationmode": "USA-states",
         "lon": [
          -117.6011944,
          -112.0080556
         ],
         "mode": "lines",
         "opacity": 0.3425063797503276,
         "type": "scattergeo"
        },
        {
         "lat": [
          34.056,
          37.61900194
         ],
         "line": {
          "color": "red",
          "width": 1
         },
         "locationmode": "USA-states",
         "lon": [
          -117.6011944,
          -122.3748433
         ],
         "mode": "lines",
         "opacity": 0.10442099455134837,
         "type": "scattergeo"
        },
        {
         "lat": [
          34.056,
          37.36186194
         ],
         "line": {
          "color": "red",
          "width": 1
         },
         "locationmode": "USA-states",
         "lon": [
          -117.6011944,
          -121.9290089
         ],
         "mode": "lines",
         "opacity": 0.14669977239809642,
         "type": "scattergeo"
        },
        {
         "lat": [
          34.056,
          38.69542167
         ],
         "line": {
          "color": "red",
          "width": 1
         },
         "locationmode": "USA-states",
         "lon": [
          -117.6011944,
          -121.5907669
         ],
         "mode": "lines",
         "opacity": 0.18001241464928616,
         "type": "scattergeo"
        },
        {
         "lat": [
          41.979595,
          42.74811944
         ],
         "line": {
          "color": "red",
          "width": 1
         },
         "locationmode": "USA-states",
         "lon": [
          -87.90446417,
          -73.80297861
         ],
         "mode": "lines",
         "opacity": 0.10883509207531554,
         "type": "scattergeo"
        },
        {
         "lat": [
          41.979595,
          33.64044444
         ],
         "line": {
          "color": "red",
          "width": 1
         },
         "locationmode": "USA-states",
         "lon": [
          -87.90446417,
          -84.42694444
         ],
         "mode": "lines",
         "opacity": 0.5248637837092214,
         "type": "scattergeo"
        },
        {
         "lat": [
          41.979595,
          30.19453278
         ],
         "line": {
          "color": "red",
          "width": 1
         },
         "locationmode": "USA-states",
         "lon": [
          -87.90446417,
          -97.66987194
         ],
         "mode": "lines",
         "opacity": 0.1430443478860611,
         "type": "scattergeo"
        },
        {
         "lat": [
          41.979595,
          41.93887417
         ],
         "line": {
          "color": "red",
          "width": 1
         },
         "locationmode": "USA-states",
         "lon": [
          -87.90446417,
          -72.68322833
         ],
         "mode": "lines",
         "opacity": 0.2154631353886475,
         "type": "scattergeo"
        },
        {
         "lat": [
          41.979595,
          36.12447667
         ],
         "line": {
          "color": "red",
          "width": 1
         },
         "locationmode": "USA-states",
         "lon": [
          -87.90446417,
          -86.67818222
         ],
         "mode": "lines",
         "opacity": 0.1500103455410718,
         "type": "scattergeo"
        },
        {
         "lat": [
          41.979595,
          42.3643475
         ],
         "line": {
          "color": "red",
          "width": 1
         },
         "locationmode": "USA-states",
         "lon": [
          -87.90446417,
          -71.00517917
         ],
         "mode": "lines",
         "opacity": 0.4605834885164494,
         "type": "scattergeo"
        },
        {
         "lat": [
          41.979595,
          42.94052472
         ],
         "line": {
          "color": "red",
          "width": 1
         },
         "locationmode": "USA-states",
         "lon": [
          -87.90446417,
          -78.73216667
         ],
         "mode": "lines",
         "opacity": 0.18801296641147666,
         "type": "scattergeo"
        },
        {
         "lat": [
          41.979595,
          39.17540167
         ],
         "line": {
          "color": "red",
          "width": 1
         },
         "locationmode": "USA-states",
         "lon": [
          -87.90446417,
          -76.66819833
         ],
         "mode": "lines",
         "opacity": 0.1659424787916408,
         "type": "scattergeo"
        },
        {
         "lat": [
          41.979595,
          41.88458833
         ],
         "line": {
          "color": "red",
          "width": 1
         },
         "locationmode": "USA-states",
         "lon": [
          -87.90446417,
          -91.71087222
         ],
         "mode": "lines",
         "opacity": 0.08793709911028347,
         "type": "scattergeo"
        },
        {
         "lat": [
          41.979595,
          41.41089417
         ],
         "line": {
          "color": "red",
          "width": 1
         },
         "locationmode": "USA-states",
         "lon": [
          -87.90446417,
          -81.84939667
         ],
         "mode": "lines",
         "opacity": 0.14290640733843712,
         "type": "scattergeo"
        },
        {
         "lat": [
          41.979595,
          35.21401111
         ],
         "line": {
          "color": "red",
          "width": 1
         },
         "locationmode": "USA-states",
         "lon": [
          -87.90446417,
          -80.94312583
         ],
         "mode": "lines",
         "opacity": 0.22608455755569348,
         "type": "scattergeo"
        },
        {
         "lat": [
          41.979595,
          39.99798528
         ],
         "line": {
          "color": "red",
          "width": 1
         },
         "locationmode": "USA-states",
         "lon": [
          -87.90446417,
          -82.89188278
         ],
         "mode": "lines",
         "opacity": 0.11180081384923098,
         "type": "scattergeo"
        },
        {
         "lat": [
          41.979595,
          39.04614278
         ],
         "line": {
          "color": "red",
          "width": 1
         },
         "locationmode": "USA-states",
         "lon": [
          -87.90446417,
          -84.6621725
         ],
         "mode": "lines",
         "opacity": 0.21504931374577557,
         "type": "scattergeo"
        },
        {
         "lat": [
          41.979595,
          39.90237583
         ],
         "line": {
          "color": "red",
          "width": 1
         },
         "locationmode": "USA-states",
         "lon": [
          -87.90446417,
          -84.219375
         ],
         "mode": "lines",
         "opacity": 0.08193668528864059,
         "type": "scattergeo"
        },
        {
         "lat": [
          41.979595,
          38.85208333
         ],
         "line": {
          "color": "red",
          "width": 1
         },
         "locationmode": "USA-states",
         "lon": [
          -87.90446417,
          -77.03772222
         ],
         "mode": "lines",
         "opacity": 0.41527001862197394,
         "type": "scattergeo"
        },
        {
         "lat": [
          41.979595,
          39.85840806
         ],
         "line": {
          "color": "red",
          "width": 1
         },
         "locationmode": "USA-states",
         "lon": [
          -87.90446417,
          -104.6670019
         ],
         "mode": "lines",
         "opacity": 0.4302365680391751,
         "type": "scattergeo"
        },
        {
         "lat": [
          41.979595,
          32.89595056
         ],
         "line": {
          "color": "red",
          "width": 1
         },
         "locationmode": "USA-states",
         "lon": [
          -87.90446417,
          -97.0372
         ],
         "mode": "lines",
         "opacity": 0.4706531484929995,
         "type": "scattergeo"
        },
        {
         "lat": [
          41.979595,
          41.53493306
         ],
         "line": {
          "color": "red",
          "width": 1
         },
         "locationmode": "USA-states",
         "lon": [
          -87.90446417,
          -93.66068222
         ],
         "mode": "lines",
         "opacity": 0.11835298986136975,
         "type": "scattergeo"
        },
        {
         "lat": [
          41.979595,
          42.21205889
         ],
         "line": {
          "color": "red",
          "width": 1
         },
         "locationmode": "USA-states",
         "lon": [
          -87.90446417,
          -83.34883583
         ],
         "mode": "lines",
         "opacity": 0.3691978757155666,
         "type": "scattergeo"
        },
        {
         "lat": [
          41.979595,
          40.69249722
         ],
         "line": {
          "color": "red",
          "width": 1
         },
         "locationmode": "USA-states",
         "lon": [
          -87.90446417,
          -74.16866056
         ],
         "mode": "lines",
         "opacity": 0.5230015863162977,
         "type": "scattergeo"
        },
        {
         "lat": [
          41.979595,
          26.07258333
         ],
         "line": {
          "color": "red",
          "width": 1
         },
         "locationmode": "USA-states",
         "lon": [
          -87.90446417,
          -80.15275
         ],
         "mode": "lines",
         "opacity": 0.10069659976550106,
         "type": "scattergeo"
        },
        {
         "lat": [
          41.979595,
          42.88081972
         ],
         "line": {
          "color": "red",
          "width": 1
         },
         "locationmode": "USA-states",
         "lon": [
          -87.90446417,
          -85.52276778
         ],
         "mode": "lines",
         "opacity": 0.10966273536105939,
         "type": "scattergeo"
        },
        {
         "lat": [
          41.979595,
          41.06695778
         ],
         "line": {
          "color": "red",
          "width": 1
         },
         "locationmode": "USA-states",
         "lon": [
          -87.90446417,
          -73.70757444
         ],
         "mode": "lines",
         "opacity": 0.1563556107317746,
         "type": "scattergeo"
        },
        {
         "lat": [
          41.979595,
          38.94453194
         ],
         "line": {
          "color": "red",
          "width": 1
         },
         "locationmode": "USA-states",
         "lon": [
          -87.90446417,
          -77.45580972
         ],
         "mode": "lines",
         "opacity": 0.1665632112559487,
         "type": "scattergeo"
        },
        {
         "lat": [
          41.979595,
          29.98047222
         ],
         "line": {
          "color": "red",
          "width": 1
         },
         "locationmode": "USA-states",
         "lon": [
          -87.90446417,
          -95.33972222
         ],
         "mode": "lines",
         "opacity": 0.2915373474032692,
         "type": "scattergeo"
        },
        {
         "lat": [
          41.979595,
          39.71732917
         ],
         "line": {
          "color": "red",
          "width": 1
         },
         "locationmode": "USA-states",
         "lon": [
          -87.90446417,
          -86.29438417
         ],
         "mode": "lines",
         "opacity": 0.1637354300296572,
         "type": "scattergeo"
        },
        {
         "lat": [
          41.979595,
          36.08036111
         ],
         "line": {
          "color": "red",
          "width": 1
         },
         "locationmode": "USA-states",
         "lon": [
          -87.90446417,
          -115.1523333
         ],
         "mode": "lines",
         "opacity": 0.2663631974618939,
         "type": "scattergeo"
        },
        {
         "lat": [
          41.979595,
          33.94253611
         ],
         "line": {
          "color": "red",
          "width": 1
         },
         "locationmode": "USA-states",
         "lon": [
          -87.90446417,
          -118.4080744
         ],
         "mode": "lines",
         "opacity": 0.5911442168425408,
         "type": "scattergeo"
        },
        {
         "lat": [
          41.979595,
          40.77724306
         ],
         "line": {
          "color": "red",
          "width": 1
         },
         "locationmode": "USA-states",
         "lon": [
          -87.90446417,
          -73.87260917
         ],
         "mode": "lines",
         "opacity": 0.5518311607697083,
         "type": "scattergeo"
        },
        {
         "lat": [
          41.979595,
          39.29760528
         ],
         "line": {
          "color": "red",
          "width": 1
         },
         "locationmode": "USA-states",
         "lon": [
          -87.90446417,
          -94.71390556
         ],
         "mode": "lines",
         "opacity": 0.22580867646044556,
         "type": "scattergeo"
        },
        {
         "lat": [
          41.979595,
          28.42888889
         ],
         "line": {
          "color": "red",
          "width": 1
         },
         "locationmode": "USA-states",
         "lon": [
          -87.90446417,
          -81.31602778
         ],
         "mode": "lines",
         "opacity": 0.1889095799710325,
         "type": "scattergeo"
        },
        {
         "lat": [
          41.979595,
          40.19349528
         ],
         "line": {
          "color": "red",
          "width": 1
         },
         "locationmode": "USA-states",
         "lon": [
          -87.90446417,
          -76.76340361
         ],
         "mode": "lines",
         "opacity": 0.13538864749293056,
         "type": "scattergeo"
        },
        {
         "lat": [
          41.979595,
          35.04241667
         ],
         "line": {
          "color": "red",
          "width": 1
         },
         "locationmode": "USA-states",
         "lon": [
          -87.90446417,
          -89.97666667
         ],
         "mode": "lines",
         "opacity": 0.1042830540037244,
         "type": "scattergeo"
        },
        {
         "lat": [
          41.979595,
          42.93451639
         ],
         "line": {
          "color": "red",
          "width": 1
         },
         "locationmode": "USA-states",
         "lon": [
          -87.90446417,
          -71.43705583
         ],
         "mode": "lines",
         "opacity": 0.07255672805021036,
         "type": "scattergeo"
        },
        {
         "lat": [
          41.979595,
          25.79325
         ],
         "line": {
          "color": "red",
          "width": 1
         },
         "locationmode": "USA-states",
         "lon": [
          -87.90446417,
          -80.29055556
         ],
         "mode": "lines",
         "opacity": 0.2921580798675771,
         "type": "scattergeo"
        },
        {
         "lat": [
          41.979595,
          44.88054694
         ],
         "line": {
          "color": "red",
          "width": 1
         },
         "locationmode": "USA-states",
         "lon": [
          -87.90446417,
          -93.2169225
         ],
         "mode": "lines",
         "opacity": 0.5080350368990965,
         "type": "scattergeo"
        },
        {
         "lat": [
          41.979595,
          29.99338889
         ],
         "line": {
          "color": "red",
          "width": 1
         },
         "locationmode": "USA-states",
         "lon": [
          -87.90446417,
          -90.25802778
         ],
         "mode": "lines",
         "opacity": 0.11221463549210291,
         "type": "scattergeo"
        },
        {
         "lat": [
          41.979595,
          41.30251861
         ],
         "line": {
          "color": "red",
          "width": 1
         },
         "locationmode": "USA-states",
         "lon": [
          -87.90446417,
          -95.89417306
         ],
         "mode": "lines",
         "opacity": 0.11683564383750604,
         "type": "scattergeo"
        },
        {
         "lat": [
          41.979595,
          45.58872222
         ],
         "line": {
          "color": "red",
          "width": 1
         },
         "locationmode": "USA-states",
         "lon": [
          -87.90446417,
          -122.5975
         ],
         "mode": "lines",
         "opacity": 0.17732257397061865,
         "type": "scattergeo"
        },
        {
         "lat": [
          41.979595,
          39.87195278
         ],
         "line": {
          "color": "red",
          "width": 1
         },
         "locationmode": "USA-states",
         "lon": [
          -87.90446417,
          -75.24114083
         ],
         "mode": "lines",
         "opacity": 0.48844747913649217,
         "type": "scattergeo"
        },
        {
         "lat": [
          41.979595,
          33.43416667
         ],
         "line": {
          "color": "red",
          "width": 1
         },
         "locationmode": "USA-states",
         "lon": [
          -87.90446417,
          -112.0080556
         ],
         "mode": "lines",
         "opacity": 0.3280915925236223,
         "type": "scattergeo"
        },
        {
         "lat": [
          41.979595,
          40.49146583
         ],
         "line": {
          "color": "red",
          "width": 1
         },
         "locationmode": "USA-states",
         "lon": [
          -87.90446417,
          -80.23287083
         ],
         "mode": "lines",
         "opacity": 0.24091316642527072,
         "type": "scattergeo"
        },
        {
         "lat": [
          41.979595,
          41.72399917
         ],
         "line": {
          "color": "red",
          "width": 1
         },
         "locationmode": "USA-states",
         "lon": [
          -87.90446417,
          -71.42822111
         ],
         "mode": "lines",
         "opacity": 0.16787364645837644,
         "type": "scattergeo"
        },
        {
         "lat": [
          41.979595,
          35.87763889
         ],
         "line": {
          "color": "red",
          "width": 1
         },
         "locationmode": "USA-states",
         "lon": [
          -87.90446417,
          -78.78747222
         ],
         "mode": "lines",
         "opacity": 0.1993930615904545,
         "type": "scattergeo"
        },
        {
         "lat": [
          41.979595,
          43.11886611
         ],
         "line": {
          "color": "red",
          "width": 1
         },
         "locationmode": "USA-states",
         "lon": [
          -87.90446417,
          -77.67238389
         ],
         "mode": "lines",
         "opacity": 0.16456307331540107,
         "type": "scattergeo"
        },
        {
         "lat": [
          41.979595,
          32.73355611
         ],
         "line": {
          "color": "red",
          "width": 1
         },
         "locationmode": "USA-states",
         "lon": [
          -87.90446417,
          -117.1896567
         ],
         "mode": "lines",
         "opacity": 0.2149113731981516,
         "type": "scattergeo"
        },
        {
         "lat": [
          41.979595,
          29.53369444
         ],
         "line": {
          "color": "red",
          "width": 1
         },
         "locationmode": "USA-states",
         "lon": [
          -87.90446417,
          -98.46977778
         ],
         "mode": "lines",
         "opacity": 0.11042140837299125,
         "type": "scattergeo"
        },
        {
         "lat": [
          41.979595,
          47.44898194
         ],
         "line": {
          "color": "red",
          "width": 1
         },
         "locationmode": "USA-states",
         "lon": [
          -87.90446417,
          -122.3093131
         ],
         "mode": "lines",
         "opacity": 0.31002138078488173,
         "type": "scattergeo"
        },
        {
         "lat": [
          41.979595,
          37.61900194
         ],
         "line": {
          "color": "red",
          "width": 1
         },
         "locationmode": "USA-states",
         "lon": [
          -87.90446417,
          -122.3748433
         ],
         "mode": "lines",
         "opacity": 0.43382302227739844,
         "type": "scattergeo"
        },
        {
         "lat": [
          41.979595,
          37.36186194
         ],
         "line": {
          "color": "red",
          "width": 1
         },
         "locationmode": "USA-states",
         "lon": [
          -87.90446417,
          -121.9290089
         ],
         "mode": "lines",
         "opacity": 0.1775984550658666,
         "type": "scattergeo"
        },
        {
         "lat": [
          41.979595,
          40.78838778
         ],
         "line": {
          "color": "red",
          "width": 1
         },
         "locationmode": "USA-states",
         "lon": [
          -87.90446417,
          -111.9777731
         ],
         "mode": "lines",
         "opacity": 0.19187530174494793,
         "type": "scattergeo"
        },
        {
         "lat": [
          41.979595,
          38.69542167
         ],
         "line": {
          "color": "red",
          "width": 1
         },
         "locationmode": "USA-states",
         "lon": [
          -87.90446417,
          -121.5907669
         ],
         "mode": "lines",
         "opacity": 0.08945444513414719,
         "type": "scattergeo"
        },
        {
         "lat": [
          41.979595,
          33.67565861
         ],
         "line": {
          "color": "red",
          "width": 1
         },
         "locationmode": "USA-states",
         "lon": [
          -87.90446417,
          -117.8682225
         ],
         "mode": "lines",
         "opacity": 0.1744947927443272,
         "type": "scattergeo"
        },
        {
         "lat": [
          41.979595,
          38.74768694
         ],
         "line": {
          "color": "red",
          "width": 1
         },
         "locationmode": "USA-states",
         "lon": [
          -87.90446417,
          -90.35998972
         ],
         "mode": "lines",
         "opacity": 0.3627836402510518,
         "type": "scattergeo"
        },
        {
         "lat": [
          41.979595,
          43.11118694
         ],
         "line": {
          "color": "red",
          "width": 1
         },
         "locationmode": "USA-states",
         "lon": [
          -87.90446417,
          -76.10631056
         ],
         "mode": "lines",
         "opacity": 0.10359335126560452,
         "type": "scattergeo"
        },
        {
         "lat": [
          41.979595,
          27.97547222
         ],
         "line": {
          "color": "red",
          "width": 1
         },
         "locationmode": "USA-states",
         "lon": [
          -87.90446417,
          -82.53325
         ],
         "mode": "lines",
         "opacity": 0.15649355127939857,
         "type": "scattergeo"
        },
        {
         "lat": [
          41.979595,
          36.19837222
         ],
         "line": {
          "color": "red",
          "width": 1
         },
         "locationmode": "USA-states",
         "lon": [
          -87.90446417,
          -95.88824167
         ],
         "mode": "lines",
         "opacity": 0.07428098489551004,
         "type": "scattergeo"
        },
        {
         "lat": [
          36.89461111,
          33.64044444
         ],
         "line": {
          "color": "red",
          "width": 1
         },
         "locationmode": "USA-states",
         "lon": [
          -76.20122222,
          -84.42694444
         ],
         "mode": "lines",
         "opacity": 0.10724877577763983,
         "type": "scattergeo"
        },
        {
         "lat": [
          26.68316194,
          33.64044444
         ],
         "line": {
          "color": "red",
          "width": 1
         },
         "locationmode": "USA-states",
         "lon": [
          -80.09559417,
          -84.42694444
         ],
         "mode": "lines",
         "opacity": 0.17628801986343887,
         "type": "scattergeo"
        },
        {
         "lat": [
          26.68316194,
          42.3643475
         ],
         "line": {
          "color": "red",
          "width": 1
         },
         "locationmode": "USA-states",
         "lon": [
          -80.09559417,
          -71.00517917
         ],
         "mode": "lines",
         "opacity": 0.07876405269328919,
         "type": "scattergeo"
        },
        {
         "lat": [
          26.68316194,
          35.21401111
         ],
         "line": {
          "color": "red",
          "width": 1
         },
         "locationmode": "USA-states",
         "lon": [
          -80.09559417,
          -80.94312583
         ],
         "mode": "lines",
         "opacity": 0.07255672805021036,
         "type": "scattergeo"
        },
        {
         "lat": [
          26.68316194,
          40.69249722
         ],
         "line": {
          "color": "red",
          "width": 1
         },
         "locationmode": "USA-states",
         "lon": [
          -80.09559417,
          -74.16866056
         ],
         "mode": "lines",
         "opacity": 0.09483412649148217,
         "type": "scattergeo"
        },
        {
         "lat": [
          26.68316194,
          40.77724306
         ],
         "line": {
          "color": "red",
          "width": 1
         },
         "locationmode": "USA-states",
         "lon": [
          -80.09559417,
          -73.87260917
         ],
         "mode": "lines",
         "opacity": 0.186081798744741,
         "type": "scattergeo"
        },
        {
         "lat": [
          45.58872222,
          39.85840806
         ],
         "line": {
          "color": "red",
          "width": 1
         },
         "locationmode": "USA-states",
         "lon": [
          -122.5975,
          -104.6670019
         ],
         "mode": "lines",
         "opacity": 0.13904407200496585,
         "type": "scattergeo"
        },
        {
         "lat": [
          45.58872222,
          47.61985556
         ],
         "line": {
          "color": "red",
          "width": 1
         },
         "locationmode": "USA-states",
         "lon": [
          -122.5975,
          -117.5338425
         ],
         "mode": "lines",
         "opacity": 0.07262569832402235,
         "type": "scattergeo"
        },
        {
         "lat": [
          45.58872222,
          36.08036111
         ],
         "line": {
          "color": "red",
          "width": 1
         },
         "locationmode": "USA-states",
         "lon": [
          -122.5975,
          -115.1523333
         ],
         "mode": "lines",
         "opacity": 0.09669632388440583,
         "type": "scattergeo"
        },
        {
         "lat": [
          45.58872222,
          33.94253611
         ],
         "line": {
          "color": "red",
          "width": 1
         },
         "locationmode": "USA-states",
         "lon": [
          -122.5975,
          -118.4080744
         ],
         "mode": "lines",
         "opacity": 0.2653286433547141,
         "type": "scattergeo"
        },
        {
         "lat": [
          45.58872222,
          37.72129083
         ],
         "line": {
          "color": "red",
          "width": 1
         },
         "locationmode": "USA-states",
         "lon": [
          -122.5975,
          -122.2207167
         ],
         "mode": "lines",
         "opacity": 0.17746051451824263,
         "type": "scattergeo"
        },
        {
         "lat": [
          45.58872222,
          41.979595
         ],
         "line": {
          "color": "red",
          "width": 1
         },
         "locationmode": "USA-states",
         "lon": [
          -122.5975,
          -87.90446417
         ],
         "mode": "lines",
         "opacity": 0.13111249051658735,
         "type": "scattergeo"
        },
        {
         "lat": [
          45.58872222,
          33.43416667
         ],
         "line": {
          "color": "red",
          "width": 1
         },
         "locationmode": "USA-states",
         "lon": [
          -122.5975,
          -112.0080556
         ],
         "mode": "lines",
         "opacity": 0.13387130146906684,
         "type": "scattergeo"
        },
        {
         "lat": [
          45.58872222,
          37.61900194
         ],
         "line": {
          "color": "red",
          "width": 1
         },
         "locationmode": "USA-states",
         "lon": [
          -122.5975,
          -122.3748433
         ],
         "mode": "lines",
         "opacity": 0.3067797779157183,
         "type": "scattergeo"
        },
        {
         "lat": [
          45.58872222,
          37.36186194
         ],
         "line": {
          "color": "red",
          "width": 1
         },
         "locationmode": "USA-states",
         "lon": [
          -122.5975,
          -121.9290089
         ],
         "mode": "lines",
         "opacity": 0.14932064280295193,
         "type": "scattergeo"
        },
        {
         "lat": [
          45.58872222,
          40.78838778
         ],
         "line": {
          "color": "red",
          "width": 1
         },
         "locationmode": "USA-states",
         "lon": [
          -122.5975,
          -111.9777731
         ],
         "mode": "lines",
         "opacity": 0.07310849024070626,
         "type": "scattergeo"
        },
        {
         "lat": [
          45.58872222,
          38.69542167
         ],
         "line": {
          "color": "red",
          "width": 1
         },
         "locationmode": "USA-states",
         "lon": [
          -122.5975,
          -121.5907669
         ],
         "mode": "lines",
         "opacity": 0.08214359611007656,
         "type": "scattergeo"
        },
        {
         "lat": [
          39.87195278,
          42.74811944
         ],
         "line": {
          "color": "red",
          "width": 1
         },
         "locationmode": "USA-states",
         "lon": [
          -75.24114083,
          -73.80297861
         ],
         "mode": "lines",
         "opacity": 0.12111180081384923,
         "type": "scattergeo"
        },
        {
         "lat": [
          39.87195278,
          33.64044444
         ],
         "line": {
          "color": "red",
          "width": 1
         },
         "locationmode": "USA-states",
         "lon": [
          -75.24114083,
          -84.42694444
         ],
         "mode": "lines",
         "opacity": 0.3631974618939237,
         "type": "scattergeo"
        },
        {
         "lat": [
          39.87195278,
          41.93887417
         ],
         "line": {
          "color": "red",
          "width": 1
         },
         "locationmode": "USA-states",
         "lon": [
          -75.24114083,
          -72.68322833
         ],
         "mode": "lines",
         "opacity": 0.11897372232567763,
         "type": "scattergeo"
        },
        {
         "lat": [
          39.87195278,
          42.3643475
         ],
         "line": {
          "color": "red",
          "width": 1
         },
         "locationmode": "USA-states",
         "lon": [
          -75.24114083,
          -71.00517917
         ],
         "mode": "lines",
         "opacity": 0.351058693703014,
         "type": "scattergeo"
        },
        {
         "lat": [
          39.87195278,
          44.47300361
         ],
         "line": {
          "color": "red",
          "width": 1
         },
         "locationmode": "USA-states",
         "lon": [
          -75.24114083,
          -73.1503125
         ],
         "mode": "lines",
         "opacity": 0.09835161045589351,
         "type": "scattergeo"
        },
        {
         "lat": [
          39.87195278,
          42.94052472
         ],
         "line": {
          "color": "red",
          "width": 1
         },
         "locationmode": "USA-states",
         "lon": [
          -75.24114083,
          -78.73216667
         ],
         "mode": "lines",
         "opacity": 0.11573211945651424,
         "type": "scattergeo"
        },
        {
         "lat": [
          39.87195278,
          41.41089417
         ],
         "line": {
          "color": "red",
          "width": 1
         },
         "locationmode": "USA-states",
         "lon": [
          -75.24114083,
          -81.84939667
         ],
         "mode": "lines",
         "opacity": 0.11042140837299125,
         "type": "scattergeo"
        },
        {
         "lat": [
          39.87195278,
          35.21401111
         ],
         "line": {
          "color": "red",
          "width": 1
         },
         "locationmode": "USA-states",
         "lon": [
          -75.24114083,
          -80.94312583
         ],
         "mode": "lines",
         "opacity": 0.19959997241189048,
         "type": "scattergeo"
        },
        {
         "lat": [
          39.87195278,
          39.99798528
         ],
         "line": {
          "color": "red",
          "width": 1
         },
         "locationmode": "USA-states",
         "lon": [
          -75.24114083,
          -82.89188278
         ],
         "mode": "lines",
         "opacity": 0.07531553900268984,
         "type": "scattergeo"
        },
        {
         "lat": [
          39.87195278,
          38.85208333
         ],
         "line": {
          "color": "red",
          "width": 1
         },
         "locationmode": "USA-states",
         "lon": [
          -75.24114083,
          -77.03772222
         ],
         "mode": "lines",
         "opacity": 0.07738464721704945,
         "type": "scattergeo"
        },
        {
         "lat": [
          39.87195278,
          39.85840806
         ],
         "line": {
          "color": "red",
          "width": 1
         },
         "locationmode": "USA-states",
         "lon": [
          -75.24114083,
          -104.6670019
         ],
         "mode": "lines",
         "opacity": 0.11173184357541899,
         "type": "scattergeo"
        },
        {
         "lat": [
          39.87195278,
          32.89595056
         ],
         "line": {
          "color": "red",
          "width": 1
         },
         "locationmode": "USA-states",
         "lon": [
          -75.24114083,
          -97.0372
         ],
         "mode": "lines",
         "opacity": 0.14173391268363336,
         "type": "scattergeo"
        },
        {
         "lat": [
          39.87195278,
          42.21205889
         ],
         "line": {
          "color": "red",
          "width": 1
         },
         "locationmode": "USA-states",
         "lon": [
          -75.24114083,
          -83.34883583
         ],
         "mode": "lines",
         "opacity": 0.15407959169597904,
         "type": "scattergeo"
        },
        {
         "lat": [
          39.87195278,
          26.07258333
         ],
         "line": {
          "color": "red",
          "width": 1
         },
         "locationmode": "USA-states",
         "lon": [
          -75.24114083,
          -80.15275
         ],
         "mode": "lines",
         "opacity": 0.13966480446927373,
         "type": "scattergeo"
        },
        {
         "lat": [
          39.87195278,
          36.09774694
         ],
         "line": {
          "color": "red",
          "width": 1
         },
         "locationmode": "USA-states",
         "lon": [
          -75.24114083,
          -79.9372975
         ],
         "mode": "lines",
         "opacity": 0.09138561280088282,
         "type": "scattergeo"
        },
        {
         "lat": [
          39.87195278,
          29.98047222
         ],
         "line": {
          "color": "red",
          "width": 1
         },
         "locationmode": "USA-states",
         "lon": [
          -75.24114083,
          -95.33972222
         ],
         "mode": "lines",
         "opacity": 0.09614456169390992,
         "type": "scattergeo"
        },
        {
         "lat": [
          39.87195278,
          39.71732917
         ],
         "line": {
          "color": "red",
          "width": 1
         },
         "locationmode": "USA-states",
         "lon": [
          -75.24114083,
          -86.29438417
         ],
         "mode": "lines",
         "opacity": 0.10676598386095593,
         "type": "scattergeo"
        },
        {
         "lat": [
          39.87195278,
          30.49405556
         ],
         "line": {
          "color": "red",
          "width": 1
         },
         "locationmode": "USA-states",
         "lon": [
          -75.24114083,
          -81.68786111
         ],
         "mode": "lines",
         "opacity": 0.0760052417408097,
         "type": "scattergeo"
        },
        {
         "lat": [
          39.87195278,
          36.08036111
         ],
         "line": {
          "color": "red",
          "width": 1
         },
         "locationmode": "USA-states",
         "lon": [
          -75.24114083,
          -115.1523333
         ],
         "mode": "lines",
         "opacity": 0.09166149389613076,
         "type": "scattergeo"
        },
        {
         "lat": [
          39.87195278,
          33.94253611
         ],
         "line": {
          "color": "red",
          "width": 1
         },
         "locationmode": "USA-states",
         "lon": [
          -75.24114083,
          -118.4080744
         ],
         "mode": "lines",
         "opacity": 0.13097454996896338,
         "type": "scattergeo"
        },
        {
         "lat": [
          39.87195278,
          28.42888889
         ],
         "line": {
          "color": "red",
          "width": 1
         },
         "locationmode": "USA-states",
         "lon": [
          -75.24114083,
          -81.31602778
         ],
         "mode": "lines",
         "opacity": 0.2360852472584316,
         "type": "scattergeo"
        },
        {
         "lat": [
          39.87195278,
          42.93451639
         ],
         "line": {
          "color": "red",
          "width": 1
         },
         "locationmode": "USA-states",
         "lon": [
          -75.24114083,
          -71.43705583
         ],
         "mode": "lines",
         "opacity": 0.12897441202841575,
         "type": "scattergeo"
        },
        {
         "lat": [
          39.87195278,
          25.79325
         ],
         "line": {
          "color": "red",
          "width": 1
         },
         "locationmode": "USA-states",
         "lon": [
          -75.24114083,
          -80.29055556
         ],
         "mode": "lines",
         "opacity": 0.1286985309331678,
         "type": "scattergeo"
        },
        {
         "lat": [
          39.87195278,
          44.88054694
         ],
         "line": {
          "color": "red",
          "width": 1
         },
         "locationmode": "USA-states",
         "lon": [
          -75.24114083,
          -93.2169225
         ],
         "mode": "lines",
         "opacity": 0.09793778881302159,
         "type": "scattergeo"
        },
        {
         "lat": [
          39.87195278,
          41.979595
         ],
         "line": {
          "color": "red",
          "width": 1
         },
         "locationmode": "USA-states",
         "lon": [
          -75.24114083,
          -87.90446417
         ],
         "mode": "lines",
         "opacity": 0.4090626939788951,
         "type": "scattergeo"
        },
        {
         "lat": [
          39.87195278,
          36.89461111
         ],
         "line": {
          "color": "red",
          "width": 1
         },
         "locationmode": "USA-states",
         "lon": [
          -75.24114083,
          -76.20122222
         ],
         "mode": "lines",
         "opacity": 0.11497344644458239,
         "type": "scattergeo"
        },
        {
         "lat": [
          39.87195278,
          26.68316194
         ],
         "line": {
          "color": "red",
          "width": 1
         },
         "locationmode": "USA-states",
         "lon": [
          -75.24114083,
          -80.09559417
         ],
         "mode": "lines",
         "opacity": 0.08869577212221533,
         "type": "scattergeo"
        },
        {
         "lat": [
          39.87195278,
          33.43416667
         ],
         "line": {
          "color": "red",
          "width": 1
         },
         "locationmode": "USA-states",
         "lon": [
          -75.24114083,
          -112.0080556
         ],
         "mode": "lines",
         "opacity": 0.1015932133250569,
         "type": "scattergeo"
        },
        {
         "lat": [
          39.87195278,
          40.49146583
         ],
         "line": {
          "color": "red",
          "width": 1
         },
         "locationmode": "USA-states",
         "lon": [
          -75.24114083,
          -80.23287083
         ],
         "mode": "lines",
         "opacity": 0.26194909993792675,
         "type": "scattergeo"
        },
        {
         "lat": [
          39.87195278,
          41.72399917
         ],
         "line": {
          "color": "red",
          "width": 1
         },
         "locationmode": "USA-states",
         "lon": [
          -75.24114083,
          -71.42822111
         ],
         "mode": "lines",
         "opacity": 0.13228498517139112,
         "type": "scattergeo"
        },
        {
         "lat": [
          39.87195278,
          43.64616667
         ],
         "line": {
          "color": "red",
          "width": 1
         },
         "locationmode": "USA-states",
         "lon": [
          -75.24114083,
          -70.30875
         ],
         "mode": "lines",
         "opacity": 0.09262707772949859,
         "type": "scattergeo"
        },
        {
         "lat": [
          39.87195278,
          35.87763889
         ],
         "line": {
          "color": "red",
          "width": 1
         },
         "locationmode": "USA-states",
         "lon": [
          -75.24114083,
          -78.78747222
         ],
         "mode": "lines",
         "opacity": 0.12697427408786813,
         "type": "scattergeo"
        },
        {
         "lat": [
          39.87195278,
          37.50516667
         ],
         "line": {
          "color": "red",
          "width": 1
         },
         "locationmode": "USA-states",
         "lon": [
          -75.24114083,
          -77.31966667
         ],
         "mode": "lines",
         "opacity": 0.09986895647975723,
         "type": "scattergeo"
        },
        {
         "lat": [
          39.87195278,
          43.11886611
         ],
         "line": {
          "color": "red",
          "width": 1
         },
         "locationmode": "USA-states",
         "lon": [
          -75.24114083,
          -77.67238389
         ],
         "mode": "lines",
         "opacity": 0.10683495413476791,
         "type": "scattergeo"
        },
        {
         "lat": [
          39.87195278,
          37.61900194
         ],
         "line": {
          "color": "red",
          "width": 1
         },
         "locationmode": "USA-states",
         "lon": [
          -75.24114083,
          -122.3748433
         ],
         "mode": "lines",
         "opacity": 0.1069039244085799,
         "type": "scattergeo"
        },
        {
         "lat": [
          39.87195278,
          18.43941667
         ],
         "line": {
          "color": "red",
          "width": 1
         },
         "locationmode": "USA-states",
         "lon": [
          -75.24114083,
          -66.00183333
         ],
         "mode": "lines",
         "opacity": 0.07676391475274157,
         "type": "scattergeo"
        },
        {
         "lat": [
          39.87195278,
          38.74768694
         ],
         "line": {
          "color": "red",
          "width": 1
         },
         "locationmode": "USA-states",
         "lon": [
          -75.24114083,
          -90.35998972
         ],
         "mode": "lines",
         "opacity": 0.07890199324091317,
         "type": "scattergeo"
        },
        {
         "lat": [
          39.87195278,
          43.11118694
         ],
         "line": {
          "color": "red",
          "width": 1
         },
         "locationmode": "USA-states",
         "lon": [
          -75.24114083,
          -76.10631056
         ],
         "mode": "lines",
         "opacity": 0.10517966756328023,
         "type": "scattergeo"
        },
        {
         "lat": [
          39.87195278,
          27.97547222
         ],
         "line": {
          "color": "red",
          "width": 1
         },
         "locationmode": "USA-states",
         "lon": [
          -75.24114083,
          -82.53325
         ],
         "mode": "lines",
         "opacity": 0.1787709497206704,
         "type": "scattergeo"
        },
        {
         "lat": [
          33.43416667,
          35.04022222
         ],
         "line": {
          "color": "red",
          "width": 1
         },
         "locationmode": "USA-states",
         "lon": [
          -112.0080556,
          -106.6091944
         ],
         "mode": "lines",
         "opacity": 0.3913373336092144,
         "type": "scattergeo"
        },
        {
         "lat": [
          33.43416667,
          33.64044444
         ],
         "line": {
          "color": "red",
          "width": 1
         },
         "locationmode": "USA-states",
         "lon": [
          -112.0080556,
          -84.42694444
         ],
         "mode": "lines",
         "opacity": 0.1920822125663839,
         "type": "scattergeo"
        },
        {
         "lat": [
          33.43416667,
          30.19453278
         ],
         "line": {
          "color": "red",
          "width": 1
         },
         "locationmode": "USA-states",
         "lon": [
          -112.0080556,
          -97.66987194
         ],
         "mode": "lines",
         "opacity": 0.19559969653079523,
         "type": "scattergeo"
        },
        {
         "lat": [
          33.43416667,
          42.3643475
         ],
         "line": {
          "color": "red",
          "width": 1
         },
         "locationmode": "USA-states",
         "lon": [
          -112.0080556,
          -71.00517917
         ],
         "mode": "lines",
         "opacity": 0.08359197186012829,
         "type": "scattergeo"
        },
        {
         "lat": [
          33.43416667,
          34.20061917
         ],
         "line": {
          "color": "red",
          "width": 1
         },
         "locationmode": "USA-states",
         "lon": [
          -112.0080556,
          -118.3584969
         ],
         "mode": "lines",
         "opacity": 0.22911924960342092,
         "type": "scattergeo"
        },
        {
         "lat": [
          33.43416667,
          39.17540167
         ],
         "line": {
          "color": "red",
          "width": 1
         },
         "locationmode": "USA-states",
         "lon": [
          -112.0080556,
          -76.66819833
         ],
         "mode": "lines",
         "opacity": 0.16008000551762191,
         "type": "scattergeo"
        },
        {
         "lat": [
          33.43416667,
          39.99798528
         ],
         "line": {
          "color": "red",
          "width": 1
         },
         "locationmode": "USA-states",
         "lon": [
          -112.0080556,
          -82.89188278
         ],
         "mode": "lines",
         "opacity": 0.09669632388440583,
         "type": "scattergeo"
        },
        {
         "lat": [
          33.43416667,
          39.85840806
         ],
         "line": {
          "color": "red",
          "width": 1
         },
         "locationmode": "USA-states",
         "lon": [
          -112.0080556,
          -104.6670019
         ],
         "mode": "lines",
         "opacity": 0.3718187461204221,
         "type": "scattergeo"
        },
        {
         "lat": [
          33.43416667,
          32.89595056
         ],
         "line": {
          "color": "red",
          "width": 1
         },
         "locationmode": "USA-states",
         "lon": [
          -112.0080556,
          -97.0372
         ],
         "mode": "lines",
         "opacity": 0.25339678598524035,
         "type": "scattergeo"
        },
        {
         "lat": [
          33.43416667,
          42.21205889
         ],
         "line": {
          "color": "red",
          "width": 1
         },
         "locationmode": "USA-states",
         "lon": [
          -112.0080556,
          -83.34883583
         ],
         "mode": "lines",
         "opacity": 0.13304365818332298,
         "type": "scattergeo"
        },
        {
         "lat": [
          33.43416667,
          31.80666667
         ],
         "line": {
          "color": "red",
          "width": 1
         },
         "locationmode": "USA-states",
         "lon": [
          -112.0080556,
          -106.3778056
         ],
         "mode": "lines",
         "opacity": 0.2696737706048693,
         "type": "scattergeo"
        },
        {
         "lat": [
          33.43416667,
          40.69249722
         ],
         "line": {
          "color": "red",
          "width": 1
         },
         "locationmode": "USA-states",
         "lon": [
          -112.0080556,
          -74.16866056
         ],
         "mode": "lines",
         "opacity": 0.15752810538657838,
         "type": "scattergeo"
        },
        {
         "lat": [
          33.43416667,
          29.64541861
         ],
         "line": {
          "color": "red",
          "width": 1
         },
         "locationmode": "USA-states",
         "lon": [
          -112.0080556,
          -95.27888889
         ],
         "mode": "lines",
         "opacity": 0.11621491137319816,
         "type": "scattergeo"
        },
        {
         "lat": [
          33.43416667,
          29.98047222
         ],
         "line": {
          "color": "red",
          "width": 1
         },
         "locationmode": "USA-states",
         "lon": [
          -112.0080556,
          -95.33972222
         ],
         "mode": "lines",
         "opacity": 0.1835298986136975,
         "type": "scattergeo"
        },
        {
         "lat": [
          33.43416667,
          40.63975111
         ],
         "line": {
          "color": "red",
          "width": 1
         },
         "locationmode": "USA-states",
         "lon": [
          -112.0080556,
          -73.77892556
         ],
         "mode": "lines",
         "opacity": 0.07800537968135733,
         "type": "scattergeo"
        },
        {
         "lat": [
          33.43416667,
          36.08036111
         ],
         "line": {
          "color": "red",
          "width": 1
         },
         "locationmode": "USA-states",
         "lon": [
          -112.0080556,
          -115.1523333
         ],
         "mode": "lines",
         "opacity": 0.8207462583626457,
         "type": "scattergeo"
        },
        {
         "lat": [
          33.43416667,
          33.94253611
         ],
         "line": {
          "color": "red",
          "width": 1
         },
         "locationmode": "USA-states",
         "lon": [
          -112.0080556,
          -118.4080744
         ],
         "mode": "lines",
         "opacity": 0.8965445892820194,
         "type": "scattergeo"
        },
        {
         "lat": [
          33.43416667,
          33.81772222
         ],
         "line": {
          "color": "red",
          "width": 1
         },
         "locationmode": "USA-states",
         "lon": [
          -112.0080556,
          -118.1516111
         ],
         "mode": "lines",
         "opacity": 0.07917787433616111,
         "type": "scattergeo"
        },
        {
         "lat": [
          33.43416667,
          39.29760528
         ],
         "line": {
          "color": "red",
          "width": 1
         },
         "locationmode": "USA-states",
         "lon": [
          -112.0080556,
          -94.71390556
         ],
         "mode": "lines",
         "opacity": 0.1733222980895234,
         "type": "scattergeo"
        },
        {
         "lat": [
          33.43416667,
          44.88054694
         ],
         "line": {
          "color": "red",
          "width": 1
         },
         "locationmode": "USA-states",
         "lon": [
          -112.0080556,
          -93.2169225
         ],
         "mode": "lines",
         "opacity": 0.12276708738533693,
         "type": "scattergeo"
        },
        {
         "lat": [
          33.43416667,
          37.72129083
         ],
         "line": {
          "color": "red",
          "width": 1
         },
         "locationmode": "USA-states",
         "lon": [
          -112.0080556,
          -122.2207167
         ],
         "mode": "lines",
         "opacity": 0.15166563211255948,
         "type": "scattergeo"
        },
        {
         "lat": [
          33.43416667,
          35.39308833
         ],
         "line": {
          "color": "red",
          "width": 1
         },
         "locationmode": "USA-states",
         "lon": [
          -112.0080556,
          -97.60073389
         ],
         "mode": "lines",
         "opacity": 0.08469549624112008,
         "type": "scattergeo"
        },
        {
         "lat": [
          33.43416667,
          41.30251861
         ],
         "line": {
          "color": "red",
          "width": 1
         },
         "locationmode": "USA-states",
         "lon": [
          -112.0080556,
          -95.89417306
         ],
         "mode": "lines",
         "opacity": 0.11318021932547072,
         "type": "scattergeo"
        },
        {
         "lat": [
          33.43416667,
          34.056
         ],
         "line": {
          "color": "red",
          "width": 1
         },
         "locationmode": "USA-states",
         "lon": [
          -112.0080556,
          -117.6011944
         ],
         "mode": "lines",
         "opacity": 0.4251327677770881,
         "type": "scattergeo"
        },
        {
         "lat": [
          33.43416667,
          41.979595
         ],
         "line": {
          "color": "red",
          "width": 1
         },
         "locationmode": "USA-states",
         "lon": [
          -112.0080556,
          -87.90446417
         ],
         "mode": "lines",
         "opacity": 0.3521622180840058,
         "type": "scattergeo"
        },
        {
         "lat": [
          33.43416667,
          45.58872222
         ],
         "line": {
          "color": "red",
          "width": 1
         },
         "locationmode": "USA-states",
         "lon": [
          -112.0080556,
          -122.5975
         ],
         "mode": "lines",
         "opacity": 0.17159804124422373,
         "type": "scattergeo"
        },
        {
         "lat": [
          33.43416667,
          39.87195278
         ],
         "line": {
          "color": "red",
          "width": 1
         },
         "locationmode": "USA-states",
         "lon": [
          -112.0080556,
          -75.24114083
         ],
         "mode": "lines",
         "opacity": 0.09566176977722601,
         "type": "scattergeo"
        },
        {
         "lat": [
          33.43416667,
          39.49857611
         ],
         "line": {
          "color": "red",
          "width": 1
         },
         "locationmode": "USA-states",
         "lon": [
          -112.0080556,
          -119.7680647
         ],
         "mode": "lines",
         "opacity": 0.14007862611214567,
         "type": "scattergeo"
        },
        {
         "lat": [
          33.43416667,
          32.73355611
         ],
         "line": {
          "color": "red",
          "width": 1
         },
         "locationmode": "USA-states",
         "lon": [
          -112.0080556,
          -117.1896567
         ],
         "mode": "lines",
         "opacity": 0.531484929995172,
         "type": "scattergeo"
        },
        {
         "lat": [
          33.43416667,
          29.53369444
         ],
         "line": {
          "color": "red",
          "width": 1
         },
         "locationmode": "USA-states",
         "lon": [
          -112.0080556,
          -98.46977778
         ],
         "mode": "lines",
         "opacity": 0.14925167252913993,
         "type": "scattergeo"
        },
        {
         "lat": [
          33.43416667,
          47.44898194
         ],
         "line": {
          "color": "red",
          "width": 1
         },
         "locationmode": "USA-states",
         "lon": [
          -112.0080556,
          -122.3093131
         ],
         "mode": "lines",
         "opacity": 0.3206428029519277,
         "type": "scattergeo"
        },
        {
         "lat": [
          33.43416667,
          37.61900194
         ],
         "line": {
          "color": "red",
          "width": 1
         },
         "locationmode": "USA-states",
         "lon": [
          -112.0080556,
          -122.3748433
         ],
         "mode": "lines",
         "opacity": 0.44237533623008485,
         "type": "scattergeo"
        },
        {
         "lat": [
          33.43416667,
          37.36186194
         ],
         "line": {
          "color": "red",
          "width": 1
         },
         "locationmode": "USA-states",
         "lon": [
          -112.0080556,
          -121.9290089
         ],
         "mode": "lines",
         "opacity": 0.2154631353886475,
         "type": "scattergeo"
        },
        {
         "lat": [
          33.43416667,
          40.78838778
         ],
         "line": {
          "color": "red",
          "width": 1
         },
         "locationmode": "USA-states",
         "lon": [
          -112.0080556,
          -111.9777731
         ],
         "mode": "lines",
         "opacity": 0.2856059038554383,
         "type": "scattergeo"
        },
        {
         "lat": [
          33.43416667,
          38.69542167
         ],
         "line": {
          "color": "red",
          "width": 1
         },
         "locationmode": "USA-states",
         "lon": [
          -112.0080556,
          -121.5907669
         ],
         "mode": "lines",
         "opacity": 0.1882198772329126,
         "type": "scattergeo"
        },
        {
         "lat": [
          33.43416667,
          33.67565861
         ],
         "line": {
          "color": "red",
          "width": 1
         },
         "locationmode": "USA-states",
         "lon": [
          -112.0080556,
          -117.8682225
         ],
         "mode": "lines",
         "opacity": 0.15401062142216704,
         "type": "scattergeo"
        },
        {
         "lat": [
          33.43416667,
          38.74768694
         ],
         "line": {
          "color": "red",
          "width": 1
         },
         "locationmode": "USA-states",
         "lon": [
          -112.0080556,
          -90.35998972
         ],
         "mode": "lines",
         "opacity": 0.25567280502103595,
         "type": "scattergeo"
        },
        {
         "lat": [
          33.43416667,
          32.11608333
         ],
         "line": {
          "color": "red",
          "width": 1
         },
         "locationmode": "USA-states",
         "lon": [
          -112.0080556,
          -110.9410278
         ],
         "mode": "lines",
         "opacity": 0.2718808193668529,
         "type": "scattergeo"
        },
        {
         "lat": [
          40.49146583,
          33.64044444
         ],
         "line": {
          "color": "red",
          "width": 1
         },
         "locationmode": "USA-states",
         "lon": [
          -80.23287083,
          -84.42694444
         ],
         "mode": "lines",
         "opacity": 0.15670046210083455,
         "type": "scattergeo"
        },
        {
         "lat": [
          40.49146583,
          41.93887417
         ],
         "line": {
          "color": "red",
          "width": 1
         },
         "locationmode": "USA-states",
         "lon": [
          -80.23287083,
          -72.68322833
         ],
         "mode": "lines",
         "opacity": 0.08179874474101662,
         "type": "scattergeo"
        },
        {
         "lat": [
          40.49146583,
          42.3643475
         ],
         "line": {
          "color": "red",
          "width": 1
         },
         "locationmode": "USA-states",
         "lon": [
          -80.23287083,
          -71.00517917
         ],
         "mode": "lines",
         "opacity": 0.16476998413683702,
         "type": "scattergeo"
        },
        {
         "lat": [
          40.49146583,
          39.17540167
         ],
         "line": {
          "color": "red",
          "width": 1
         },
         "locationmode": "USA-states",
         "lon": [
          -80.23287083,
          -76.66819833
         ],
         "mode": "lines",
         "opacity": 0.1111111111111111,
         "type": "scattergeo"
        },
        {
         "lat": [
          40.49146583,
          35.21401111
         ],
         "line": {
          "color": "red",
          "width": 1
         },
         "locationmode": "USA-states",
         "lon": [
          -80.23287083,
          -80.94312583
         ],
         "mode": "lines",
         "opacity": 0.25256914269949654,
         "type": "scattergeo"
        },
        {
         "lat": [
          40.49146583,
          39.99798528
         ],
         "line": {
          "color": "red",
          "width": 1
         },
         "locationmode": "USA-states",
         "lon": [
          -80.23287083,
          -82.89188278
         ],
         "mode": "lines",
         "opacity": 0.0984205807297055,
         "type": "scattergeo"
        },
        {
         "lat": [
          40.49146583,
          39.90237583
         ],
         "line": {
          "color": "red",
          "width": 1
         },
         "locationmode": "USA-states",
         "lon": [
          -80.23287083,
          -84.219375
         ],
         "mode": "lines",
         "opacity": 0.07786743913373335,
         "type": "scattergeo"
        },
        {
         "lat": [
          40.49146583,
          38.85208333
         ],
         "line": {
          "color": "red",
          "width": 1
         },
         "locationmode": "USA-states",
         "lon": [
          -80.23287083,
          -77.03772222
         ],
         "mode": "lines",
         "opacity": 0.11531829781364232,
         "type": "scattergeo"
        },
        {
         "lat": [
          40.49146583,
          32.89595056
         ],
         "line": {
          "color": "red",
          "width": 1
         },
         "locationmode": "USA-states",
         "lon": [
          -80.23287083,
          -97.0372
         ],
         "mode": "lines",
         "opacity": 0.09752396717014966,
         "type": "scattergeo"
        },
        {
         "lat": [
          40.49146583,
          42.21205889
         ],
         "line": {
          "color": "red",
          "width": 1
         },
         "locationmode": "USA-states",
         "lon": [
          -80.23287083,
          -83.34883583
         ],
         "mode": "lines",
         "opacity": 0.08324712049106835,
         "type": "scattergeo"
        },
        {
         "lat": [
          40.49146583,
          40.69249722
         ],
         "line": {
          "color": "red",
          "width": 1
         },
         "locationmode": "USA-states",
         "lon": [
          -80.23287083,
          -74.16866056
         ],
         "mode": "lines",
         "opacity": 0.12049106834954135,
         "type": "scattergeo"
        },
        {
         "lat": [
          40.49146583,
          29.98047222
         ],
         "line": {
          "color": "red",
          "width": 1
         },
         "locationmode": "USA-states",
         "lon": [
          -80.23287083,
          -95.33972222
         ],
         "mode": "lines",
         "opacity": 0.08117801227670873,
         "type": "scattergeo"
        },
        {
         "lat": [
          40.49146583,
          39.71732917
         ],
         "line": {
          "color": "red",
          "width": 1
         },
         "locationmode": "USA-states",
         "lon": [
          -80.23287083,
          -86.29438417
         ],
         "mode": "lines",
         "opacity": 0.10973170563487138,
         "type": "scattergeo"
        },
        {
         "lat": [
          40.49146583,
          33.94253611
         ],
         "line": {
          "color": "red",
          "width": 1
         },
         "locationmode": "USA-states",
         "lon": [
          -80.23287083,
          -118.4080744
         ],
         "mode": "lines",
         "opacity": 0.10759362714669977,
         "type": "scattergeo"
        },
        {
         "lat": [
          40.49146583,
          40.77724306
         ],
         "line": {
          "color": "red",
          "width": 1
         },
         "locationmode": "USA-states",
         "lon": [
          -80.23287083,
          -73.87260917
         ],
         "mode": "lines",
         "opacity": 0.19773777501896683,
         "type": "scattergeo"
        },
        {
         "lat": [
          40.49146583,
          39.29760528
         ],
         "line": {
          "color": "red",
          "width": 1
         },
         "locationmode": "USA-states",
         "lon": [
          -80.23287083,
          -94.71390556
         ],
         "mode": "lines",
         "opacity": 0.07517759845506587,
         "type": "scattergeo"
        },
        {
         "lat": [
          40.49146583,
          28.42888889
         ],
         "line": {
          "color": "red",
          "width": 1
         },
         "locationmode": "USA-states",
         "lon": [
          -80.23287083,
          -81.31602778
         ],
         "mode": "lines",
         "opacity": 0.12897441202841575,
         "type": "scattergeo"
        },
        {
         "lat": [
          40.49146583,
          41.979595
         ],
         "line": {
          "color": "red",
          "width": 1
         },
         "locationmode": "USA-states",
         "lon": [
          -80.23287083,
          -87.90446417
         ],
         "mode": "lines",
         "opacity": 0.2100834540313125,
         "type": "scattergeo"
        },
        {
         "lat": [
          40.49146583,
          39.87195278
         ],
         "line": {
          "color": "red",
          "width": 1
         },
         "locationmode": "USA-states",
         "lon": [
          -80.23287083,
          -75.24114083
         ],
         "mode": "lines",
         "opacity": 0.2123594730671081,
         "type": "scattergeo"
        },
        {
         "lat": [
          40.49146583,
          35.87763889
         ],
         "line": {
          "color": "red",
          "width": 1
         },
         "locationmode": "USA-states",
         "lon": [
          -80.23287083,
          -78.78747222
         ],
         "mode": "lines",
         "opacity": 0.07669494447892958,
         "type": "scattergeo"
        },
        {
         "lat": [
          40.49146583,
          37.61900194
         ],
         "line": {
          "color": "red",
          "width": 1
         },
         "locationmode": "USA-states",
         "lon": [
          -80.23287083,
          -122.3748433
         ],
         "mode": "lines",
         "opacity": 0.08559210980067591,
         "type": "scattergeo"
        },
        {
         "lat": [
          40.49146583,
          38.74768694
         ],
         "line": {
          "color": "red",
          "width": 1
         },
         "locationmode": "USA-states",
         "lon": [
          -80.23287083,
          -90.35998972
         ],
         "mode": "lines",
         "opacity": 0.08504034761018,
         "type": "scattergeo"
        },
        {
         "lat": [
          40.49146583,
          43.11118694
         ],
         "line": {
          "color": "red",
          "width": 1
         },
         "locationmode": "USA-states",
         "lon": [
          -80.23287083,
          -76.10631056
         ],
         "mode": "lines",
         "opacity": 0.07441892544313401,
         "type": "scattergeo"
        },
        {
         "lat": [
          40.49146583,
          27.97547222
         ],
         "line": {
          "color": "red",
          "width": 1
         },
         "locationmode": "USA-states",
         "lon": [
          -80.23287083,
          -82.53325
         ],
         "mode": "lines",
         "opacity": 0.1309055796951514,
         "type": "scattergeo"
        },
        {
         "lat": [
          30.47330556,
          33.64044444
         ],
         "line": {
          "color": "red",
          "width": 1
         },
         "locationmode": "USA-states",
         "lon": [
          -87.18744444,
          -84.42694444
         ],
         "mode": "lines",
         "opacity": 0.11076625974205118,
         "type": "scattergeo"
        },
        {
         "lat": [
          41.72399917,
          39.17540167
         ],
         "line": {
          "color": "red",
          "width": 1
         },
         "locationmode": "USA-states",
         "lon": [
          -71.42822111,
          -76.66819833
         ],
         "mode": "lines",
         "opacity": 0.3238154355472791,
         "type": "scattergeo"
        },
        {
         "lat": [
          41.72399917,
          41.979595
         ],
         "line": {
          "color": "red",
          "width": 1
         },
         "locationmode": "USA-states",
         "lon": [
          -71.42822111,
          -87.90446417
         ],
         "mode": "lines",
         "opacity": 0.10152424305124491,
         "type": "scattergeo"
        },
        {
         "lat": [
          41.72399917,
          39.87195278
         ],
         "line": {
          "color": "red",
          "width": 1
         },
         "locationmode": "USA-states",
         "lon": [
          -71.42822111,
          -75.24114083
         ],
         "mode": "lines",
         "opacity": 0.09400648320573833,
         "type": "scattergeo"
        },
        {
         "lat": [
          35.87763889,
          33.64044444
         ],
         "line": {
          "color": "red",
          "width": 1
         },
         "locationmode": "USA-states",
         "lon": [
          -78.78747222,
          -84.42694444
         ],
         "mode": "lines",
         "opacity": 0.12669839299262017,
         "type": "scattergeo"
        },
        {
         "lat": [
          35.87763889,
          35.21401111
         ],
         "line": {
          "color": "red",
          "width": 1
         },
         "locationmode": "USA-states",
         "lon": [
          -78.78747222,
          -80.94312583
         ],
         "mode": "lines",
         "opacity": 0.12745706600455203,
         "type": "scattergeo"
        },
        {
         "lat": [
          35.87763889,
          41.979595
         ],
         "line": {
          "color": "red",
          "width": 1
         },
         "locationmode": "USA-states",
         "lon": [
          -78.78747222,
          -87.90446417
         ],
         "mode": "lines",
         "opacity": 0.13807848817159804,
         "type": "scattergeo"
        },
        {
         "lat": [
          35.87763889,
          39.87195278
         ],
         "line": {
          "color": "red",
          "width": 1
         },
         "locationmode": "USA-states",
         "lon": [
          -78.78747222,
          -75.24114083
         ],
         "mode": "lines",
         "opacity": 0.10138630250362093,
         "type": "scattergeo"
        },
        {
         "lat": [
          37.50516667,
          33.64044444
         ],
         "line": {
          "color": "red",
          "width": 1
         },
         "locationmode": "USA-states",
         "lon": [
          -77.31966667,
          -84.42694444
         ],
         "mode": "lines",
         "opacity": 0.11883578177805366,
         "type": "scattergeo"
        },
        {
         "lat": [
          37.50516667,
          35.21401111
         ],
         "line": {
          "color": "red",
          "width": 1
         },
         "locationmode": "USA-states",
         "lon": [
          -77.31966667,
          -80.94312583
         ],
         "mode": "lines",
         "opacity": 0.08393682322918822,
         "type": "scattergeo"
        },
        {
         "lat": [
          37.50516667,
          39.87195278
         ],
         "line": {
          "color": "red",
          "width": 1
         },
         "locationmode": "USA-states",
         "lon": [
          -77.31966667,
          -75.24114083
         ],
         "mode": "lines",
         "opacity": 0.07262569832402235,
         "type": "scattergeo"
        },
        {
         "lat": [
          39.49857611,
          36.08036111
         ],
         "line": {
          "color": "red",
          "width": 1
         },
         "locationmode": "USA-states",
         "lon": [
          -119.7680647,
          -115.1523333
         ],
         "mode": "lines",
         "opacity": 0.212842264983792,
         "type": "scattergeo"
        },
        {
         "lat": [
          39.49857611,
          33.94253611
         ],
         "line": {
          "color": "red",
          "width": 1
         },
         "locationmode": "USA-states",
         "lon": [
          -119.7680647,
          -118.4080744
         ],
         "mode": "lines",
         "opacity": 0.16008000551762191,
         "type": "scattergeo"
        },
        {
         "lat": [
          39.49857611,
          37.72129083
         ],
         "line": {
          "color": "red",
          "width": 1
         },
         "locationmode": "USA-states",
         "lon": [
          -119.7680647,
          -122.2207167
         ],
         "mode": "lines",
         "opacity": 0.09966204565832126,
         "type": "scattergeo"
        },
        {
         "lat": [
          39.49857611,
          45.58872222
         ],
         "line": {
          "color": "red",
          "width": 1
         },
         "locationmode": "USA-states",
         "lon": [
          -119.7680647,
          -122.5975
         ],
         "mode": "lines",
         "opacity": 0.10345541071798055,
         "type": "scattergeo"
        },
        {
         "lat": [
          39.49857611,
          33.43416667
         ],
         "line": {
          "color": "red",
          "width": 1
         },
         "locationmode": "USA-states",
         "lon": [
          -119.7680647,
          -112.0080556
         ],
         "mode": "lines",
         "opacity": 0.08310917994344437,
         "type": "scattergeo"
        },
        {
         "lat": [
          39.49857611,
          47.44898194
         ],
         "line": {
          "color": "red",
          "width": 1
         },
         "locationmode": "USA-states",
         "lon": [
          -119.7680647,
          -122.3093131
         ],
         "mode": "lines",
         "opacity": 0.13959583419546176,
         "type": "scattergeo"
        },
        {
         "lat": [
          39.49857611,
          37.61900194
         ],
         "line": {
          "color": "red",
          "width": 1
         },
         "locationmode": "USA-states",
         "lon": [
          -119.7680647,
          -122.3748433
         ],
         "mode": "lines",
         "opacity": 0.10835230015863163,
         "type": "scattergeo"
        },
        {
         "lat": [
          39.49857611,
          37.36186194
         ],
         "line": {
          "color": "red",
          "width": 1
         },
         "locationmode": "USA-states",
         "lon": [
          -119.7680647,
          -121.9290089
         ],
         "mode": "lines",
         "opacity": 0.11235257603972688,
         "type": "scattergeo"
        },
        {
         "lat": [
          39.49857611,
          40.78838778
         ],
         "line": {
          "color": "red",
          "width": 1
         },
         "locationmode": "USA-states",
         "lon": [
          -119.7680647,
          -111.9777731
         ],
         "mode": "lines",
         "opacity": 0.0803503689909649,
         "type": "scattergeo"
        },
        {
         "lat": [
          43.11886611,
          41.979595
         ],
         "line": {
          "color": "red",
          "width": 1
         },
         "locationmode": "USA-states",
         "lon": [
          -77.67238389,
          -87.90446417
         ],
         "mode": "lines",
         "opacity": 0.11718049520656597,
         "type": "scattergeo"
        },
        {
         "lat": [
          43.11886611,
          39.87195278
         ],
         "line": {
          "color": "red",
          "width": 1
         },
         "locationmode": "USA-states",
         "lon": [
          -77.67238389,
          -75.24114083
         ],
         "mode": "lines",
         "opacity": 0.0935926615628664,
         "type": "scattergeo"
        },
        {
         "lat": [
          26.53616667,
          33.64044444
         ],
         "line": {
          "color": "red",
          "width": 1
         },
         "locationmode": "USA-states",
         "lon": [
          -81.75516667,
          -84.42694444
         ],
         "mode": "lines",
         "opacity": 0.12242223601627698,
         "type": "scattergeo"
        },
        {
         "lat": [
          32.73355611,
          35.04022222
         ],
         "line": {
          "color": "red",
          "width": 1
         },
         "locationmode": "USA-states",
         "lon": [
          -117.1896567,
          -106.6091944
         ],
         "mode": "lines",
         "opacity": 0.07531553900268984,
         "type": "scattergeo"
        },
        {
         "lat": [
          32.73355611,
          39.85840806
         ],
         "line": {
          "color": "red",
          "width": 1
         },
         "locationmode": "USA-states",
         "lon": [
          -117.1896567,
          -104.6670019
         ],
         "mode": "lines",
         "opacity": 0.12725015518311608,
         "type": "scattergeo"
        },
        {
         "lat": [
          32.73355611,
          32.89595056
         ],
         "line": {
          "color": "red",
          "width": 1
         },
         "locationmode": "USA-states",
         "lon": [
          -117.1896567,
          -97.0372
         ],
         "mode": "lines",
         "opacity": 0.1256638388854404,
         "type": "scattergeo"
        },
        {
         "lat": [
          32.73355611,
          36.08036111
         ],
         "line": {
          "color": "red",
          "width": 1
         },
         "locationmode": "USA-states",
         "lon": [
          -117.1896567,
          -115.1523333
         ],
         "mode": "lines",
         "opacity": 0.31057314297537764,
         "type": "scattergeo"
        },
        {
         "lat": [
          32.73355611,
          37.72129083
         ],
         "line": {
          "color": "red",
          "width": 1
         },
         "locationmode": "USA-states",
         "lon": [
          -117.1896567,
          -122.2207167
         ],
         "mode": "lines",
         "opacity": 0.20760052417408098,
         "type": "scattergeo"
        },
        {
         "lat": [
          32.73355611,
          41.979595
         ],
         "line": {
          "color": "red",
          "width": 1
         },
         "locationmode": "USA-states",
         "lon": [
          -117.1896567,
          -87.90446417
         ],
         "mode": "lines",
         "opacity": 0.15828677839851024,
         "type": "scattergeo"
        },
        {
         "lat": [
          32.73355611,
          33.43416667
         ],
         "line": {
          "color": "red",
          "width": 1
         },
         "locationmode": "USA-states",
         "lon": [
          -117.1896567,
          -112.0080556
         ],
         "mode": "lines",
         "opacity": 0.4605834885164494,
         "type": "scattergeo"
        },
        {
         "lat": [
          32.73355611,
          47.44898194
         ],
         "line": {
          "color": "red",
          "width": 1
         },
         "locationmode": "USA-states",
         "lon": [
          -117.1896567,
          -122.3093131
         ],
         "mode": "lines",
         "opacity": 0.13159528243327126,
         "type": "scattergeo"
        },
        {
         "lat": [
          32.73355611,
          37.61900194
         ],
         "line": {
          "color": "red",
          "width": 1
         },
         "locationmode": "USA-states",
         "lon": [
          -117.1896567,
          -122.3748433
         ],
         "mode": "lines",
         "opacity": 0.46568728877853643,
         "type": "scattergeo"
        },
        {
         "lat": [
          32.73355611,
          37.36186194
         ],
         "line": {
          "color": "red",
          "width": 1
         },
         "locationmode": "USA-states",
         "lon": [
          -117.1896567,
          -121.9290089
         ],
         "mode": "lines",
         "opacity": 0.28677839851024206,
         "type": "scattergeo"
        },
        {
         "lat": [
          32.73355611,
          38.69542167
         ],
         "line": {
          "color": "red",
          "width": 1
         },
         "locationmode": "USA-states",
         "lon": [
          -117.1896567,
          -121.5907669
         ],
         "mode": "lines",
         "opacity": 0.223394716877026,
         "type": "scattergeo"
        },
        {
         "lat": [
          29.53369444,
          33.64044444
         ],
         "line": {
          "color": "red",
          "width": 1
         },
         "locationmode": "USA-states",
         "lon": [
          -98.46977778,
          -84.42694444
         ],
         "mode": "lines",
         "opacity": 0.09462721567004621,
         "type": "scattergeo"
        },
        {
         "lat": [
          29.53369444,
          32.84711389
         ],
         "line": {
          "color": "red",
          "width": 1
         },
         "locationmode": "USA-states",
         "lon": [
          -98.46977778,
          -96.85177222
         ],
         "mode": "lines",
         "opacity": 0.24560314504448583,
         "type": "scattergeo"
        },
        {
         "lat": [
          29.53369444,
          32.89595056
         ],
         "line": {
          "color": "red",
          "width": 1
         },
         "locationmode": "USA-states",
         "lon": [
          -98.46977778,
          -97.0372
         ],
         "mode": "lines",
         "opacity": 0.1787709497206704,
         "type": "scattergeo"
        },
        {
         "lat": [
          29.53369444,
          31.80666667
         ],
         "line": {
          "color": "red",
          "width": 1
         },
         "locationmode": "USA-states",
         "lon": [
          -98.46977778,
          -106.3778056
         ],
         "mode": "lines",
         "opacity": 0.07462583626456996,
         "type": "scattergeo"
        },
        {
         "lat": [
          29.53369444,
          29.64541861
         ],
         "line": {
          "color": "red",
          "width": 1
         },
         "locationmode": "USA-states",
         "lon": [
          -98.46977778,
          -95.27888889
         ],
         "mode": "lines",
         "opacity": 0.1904958962687082,
         "type": "scattergeo"
        },
        {
         "lat": [
          29.53369444,
          29.98047222
         ],
         "line": {
          "color": "red",
          "width": 1
         },
         "locationmode": "USA-states",
         "lon": [
          -98.46977778,
          -95.33972222
         ],
         "mode": "lines",
         "opacity": 0.15463135388647492,
         "type": "scattergeo"
        },
        {
         "lat": [
          32.12758333,
          33.64044444
         ],
         "line": {
          "color": "red",
          "width": 1
         },
         "locationmode": "USA-states",
         "lon": [
          -81.20213889,
          -84.42694444
         ],
         "mode": "lines",
         "opacity": 0.17166701151803573,
         "type": "scattergeo"
        },
        {
         "lat": [
          38.17438889,
          33.64044444
         ],
         "line": {
          "color": "red",
          "width": 1
         },
         "locationmode": "USA-states",
         "lon": [
          -85.736,
          -84.42694444
         ],
         "mode": "lines",
         "opacity": 0.09752396717014966,
         "type": "scattergeo"
        },
        {
         "lat": [
          38.17438889,
          41.7859825
         ],
         "line": {
          "color": "red",
          "width": 1
         },
         "locationmode": "USA-states",
         "lon": [
          -85.736,
          -87.75242444
         ],
         "mode": "lines",
         "opacity": 0.08766121801503551,
         "type": "scattergeo"
        },
        {
         "lat": [
          38.17438889,
          38.74768694
         ],
         "line": {
          "color": "red",
          "width": 1
         },
         "locationmode": "USA-states",
         "lon": [
          -85.736,
          -90.35998972
         ],
         "mode": "lines",
         "opacity": 0.12318090902820884,
         "type": "scattergeo"
        },
        {
         "lat": [
          47.44898194,
          61.17432028
         ],
         "line": {
          "color": "red",
          "width": 1
         },
         "locationmode": "USA-states",
         "lon": [
          -122.3093131,
          -149.9961856
         ],
         "mode": "lines",
         "opacity": 0.45430719359955857,
         "type": "scattergeo"
        },
        {
         "lat": [
          47.44898194,
          39.85840806
         ],
         "line": {
          "color": "red",
          "width": 1
         },
         "locationmode": "USA-states",
         "lon": [
          -122.3093131,
          -104.6670019
         ],
         "mode": "lines",
         "opacity": 0.19318573694737567,
         "type": "scattergeo"
        },
        {
         "lat": [
          47.44898194,
          32.89595056
         ],
         "line": {
          "color": "red",
          "width": 1
         },
         "locationmode": "USA-states",
         "lon": [
          -122.3093131,
          -97.0372
         ],
         "mode": "lines",
         "opacity": 0.11138699220635906,
         "type": "scattergeo"
        },
        {
         "lat": [
          47.44898194,
          47.61985556
         ],
         "line": {
          "color": "red",
          "width": 1
         },
         "locationmode": "USA-states",
         "lon": [
          -122.3093131,
          -117.5338425
         ],
         "mode": "lines",
         "opacity": 0.24760328298503345,
         "type": "scattergeo"
        },
        {
         "lat": [
          47.44898194,
          58.35496194
         ],
         "line": {
          "color": "red",
          "width": 1
         },
         "locationmode": "USA-states",
         "lon": [
          -122.3093131,
          -134.5762764
         ],
         "mode": "lines",
         "opacity": 0.07835023105041727,
         "type": "scattergeo"
        },
        {
         "lat": [
          47.44898194,
          55.35556861
         ],
         "line": {
          "color": "red",
          "width": 1
         },
         "locationmode": "USA-states",
         "lon": [
          -122.3093131,
          -131.71374
         ],
         "mode": "lines",
         "opacity": 0.08766121801503551,
         "type": "scattergeo"
        },
        {
         "lat": [
          47.44898194,
          36.08036111
         ],
         "line": {
          "color": "red",
          "width": 1
         },
         "locationmode": "USA-states",
         "lon": [
          -122.3093131,
          -115.1523333
         ],
         "mode": "lines",
         "opacity": 0.21104903786468032,
         "type": "scattergeo"
        },
        {
         "lat": [
          47.44898194,
          33.94253611
         ],
         "line": {
          "color": "red",
          "width": 1
         },
         "locationmode": "USA-states",
         "lon": [
          -122.3093131,
          -118.4080744
         ],
         "mode": "lines",
         "opacity": 0.4441685633491965,
         "type": "scattergeo"
        },
        {
         "lat": [
          47.44898194,
          44.88054694
         ],
         "line": {
          "color": "red",
          "width": 1
         },
         "locationmode": "USA-states",
         "lon": [
          -122.3093131,
          -93.2169225
         ],
         "mode": "lines",
         "opacity": 0.08283329884819643,
         "type": "scattergeo"
        },
        {
         "lat": [
          47.44898194,
          37.72129083
         ],
         "line": {
          "color": "red",
          "width": 1
         },
         "locationmode": "USA-states",
         "lon": [
          -122.3093131,
          -122.2207167
         ],
         "mode": "lines",
         "opacity": 0.2837437064625147,
         "type": "scattergeo"
        },
        {
         "lat": [
          47.44898194,
          34.056
         ],
         "line": {
          "color": "red",
          "width": 1
         },
         "locationmode": "USA-states",
         "lon": [
          -122.3093131,
          -117.6011944
         ],
         "mode": "lines",
         "opacity": 0.08048830953858886,
         "type": "scattergeo"
        },
        {
         "lat": [
          47.44898194,
          41.979595
         ],
         "line": {
          "color": "red",
          "width": 1
         },
         "locationmode": "USA-states",
         "lon": [
          -122.3093131,
          -87.90446417
         ],
         "mode": "lines",
         "opacity": 0.1921511828401959,
         "type": "scattergeo"
        },
        {
         "lat": [
          47.44898194,
          45.58872222
         ],
         "line": {
          "color": "red",
          "width": 1
         },
         "locationmode": "USA-states",
         "lon": [
          -122.3093131,
          -122.5975
         ],
         "mode": "lines",
         "opacity": 0.07745361749086144,
         "type": "scattergeo"
        },
        {
         "lat": [
          47.44898194,
          33.43416667
         ],
         "line": {
          "color": "red",
          "width": 1
         },
         "locationmode": "USA-states",
         "lon": [
          -122.3093131,
          -112.0080556
         ],
         "mode": "lines",
         "opacity": 0.2755362438788882,
         "type": "scattergeo"
        },
        {
         "lat": [
          47.44898194,
          39.49857611
         ],
         "line": {
          "color": "red",
          "width": 1
         },
         "locationmode": "USA-states",
         "lon": [
          -122.3093131,
          -119.7680647
         ],
         "mode": "lines",
         "opacity": 0.1218015035519691,
         "type": "scattergeo"
        },
        {
         "lat": [
          47.44898194,
          32.73355611
         ],
         "line": {
          "color": "red",
          "width": 1
         },
         "locationmode": "USA-states",
         "lon": [
          -122.3093131,
          -117.1896567
         ],
         "mode": "lines",
         "opacity": 0.14483757500517278,
         "type": "scattergeo"
        },
        {
         "lat": [
          47.44898194,
          37.61900194
         ],
         "line": {
          "color": "red",
          "width": 1
         },
         "locationmode": "USA-states",
         "lon": [
          -122.3093131,
          -122.3748433
         ],
         "mode": "lines",
         "opacity": 0.5138285398993034,
         "type": "scattergeo"
        },
        {
         "lat": [
          47.44898194,
          37.36186194
         ],
         "line": {
          "color": "red",
          "width": 1
         },
         "locationmode": "USA-states",
         "lon": [
          -122.3093131,
          -121.9290089
         ],
         "mode": "lines",
         "opacity": 0.23622318780605558,
         "type": "scattergeo"
        },
        {
         "lat": [
          47.44898194,
          40.78838778
         ],
         "line": {
          "color": "red",
          "width": 1
         },
         "locationmode": "USA-states",
         "lon": [
          -122.3093131,
          -111.9777731
         ],
         "mode": "lines",
         "opacity": 0.14545830746948066,
         "type": "scattergeo"
        },
        {
         "lat": [
          47.44898194,
          38.69542167
         ],
         "line": {
          "color": "red",
          "width": 1
         },
         "locationmode": "USA-states",
         "lon": [
          -122.3093131,
          -121.5907669
         ],
         "mode": "lines",
         "opacity": 0.18366783916132148,
         "type": "scattergeo"
        },
        {
         "lat": [
          47.44898194,
          33.67565861
         ],
         "line": {
          "color": "red",
          "width": 1
         },
         "locationmode": "USA-states",
         "lon": [
          -122.3093131,
          -117.8682225
         ],
         "mode": "lines",
         "opacity": 0.10717980550382784,
         "type": "scattergeo"
        },
        {
         "lat": [
          47.44898194,
          38.74768694
         ],
         "line": {
          "color": "red",
          "width": 1
         },
         "locationmode": "USA-states",
         "lon": [
          -122.3093131,
          -90.35998972
         ],
         "mode": "lines",
         "opacity": 0.09000620732464308,
         "type": "scattergeo"
        },
        {
         "lat": [
          37.61900194,
          33.64044444
         ],
         "line": {
          "color": "red",
          "width": 1
         },
         "locationmode": "USA-states",
         "lon": [
          -122.3748433,
          -84.42694444
         ],
         "mode": "lines",
         "opacity": 0.15759707566039038,
         "type": "scattergeo"
        },
        {
         "lat": [
          37.61900194,
          43.56444444
         ],
         "line": {
          "color": "red",
          "width": 1
         },
         "locationmode": "USA-states",
         "lon": [
          -122.3748433,
          -116.2227778
         ],
         "mode": "lines",
         "opacity": 0.07959169597903304,
         "type": "scattergeo"
        },
        {
         "lat": [
          37.61900194,
          42.3643475
         ],
         "line": {
          "color": "red",
          "width": 1
         },
         "locationmode": "USA-states",
         "lon": [
          -122.3748433,
          -71.00517917
         ],
         "mode": "lines",
         "opacity": 0.1277329470998,
         "type": "scattergeo"
        },
        {
         "lat": [
          37.61900194,
          34.20061917
         ],
         "line": {
          "color": "red",
          "width": 1
         },
         "locationmode": "USA-states",
         "lon": [
          -122.3748433,
          -118.3584969
         ],
         "mode": "lines",
         "opacity": 0.22070487619835852,
         "type": "scattergeo"
        },
        {
         "lat": [
          37.61900194,
          39.85840806
         ],
         "line": {
          "color": "red",
          "width": 1
         },
         "locationmode": "USA-states",
         "lon": [
          -122.3748433,
          -104.6670019
         ],
         "mode": "lines",
         "opacity": 0.2562245672115318,
         "type": "scattergeo"
        },
        {
         "lat": [
          37.61900194,
          32.89595056
         ],
         "line": {
          "color": "red",
          "width": 1
         },
         "locationmode": "USA-states",
         "lon": [
          -122.3748433,
          -97.0372
         ],
         "mode": "lines",
         "opacity": 0.2297399820677288,
         "type": "scattergeo"
        },
        {
         "lat": [
          37.61900194,
          44.12326
         ],
         "line": {
          "color": "red",
          "width": 1
         },
         "locationmode": "USA-states",
         "lon": [
          -122.3748433,
          -123.2186856
         ],
         "mode": "lines",
         "opacity": 0.09835161045589351,
         "type": "scattergeo"
        },
        {
         "lat": [
          37.61900194,
          40.69249722
         ],
         "line": {
          "color": "red",
          "width": 1
         },
         "locationmode": "USA-states",
         "lon": [
          -122.3748433,
          -74.16866056
         ],
         "mode": "lines",
         "opacity": 0.1680115870060004,
         "type": "scattergeo"
        },
        {
         "lat": [
          37.61900194,
          21.31869111
         ],
         "line": {
          "color": "red",
          "width": 1
         },
         "locationmode": "USA-states",
         "lon": [
          -122.3748433,
          -157.9224072
         ],
         "mode": "lines",
         "opacity": 0.1320091040761432,
         "type": "scattergeo"
        },
        {
         "lat": [
          37.61900194,
          38.94453194
         ],
         "line": {
          "color": "red",
          "width": 1
         },
         "locationmode": "USA-states",
         "lon": [
          -122.3748433,
          -77.45580972
         ],
         "mode": "lines",
         "opacity": 0.12745706600455203,
         "type": "scattergeo"
        },
        {
         "lat": [
          37.61900194,
          29.98047222
         ],
         "line": {
          "color": "red",
          "width": 1
         },
         "locationmode": "USA-states",
         "lon": [
          -122.3748433,
          -95.33972222
         ],
         "mode": "lines",
         "opacity": 0.12042209807572936,
         "type": "scattergeo"
        },
        {
         "lat": [
          37.61900194,
          40.63975111
         ],
         "line": {
          "color": "red",
          "width": 1
         },
         "locationmode": "USA-states",
         "lon": [
          -122.3748433,
          -73.77892556
         ],
         "mode": "lines",
         "opacity": 0.21608386785295539,
         "type": "scattergeo"
        },
        {
         "lat": [
          37.61900194,
          36.08036111
         ],
         "line": {
          "color": "red",
          "width": 1
         },
         "locationmode": "USA-states",
         "lon": [
          -122.3748433,
          -115.1523333
         ],
         "mode": "lines",
         "opacity": 0.33057452238085383,
         "type": "scattergeo"
        },
        {
         "lat": [
          37.61900194,
          33.94253611
         ],
         "line": {
          "color": "red",
          "width": 1
         },
         "locationmode": "USA-states",
         "lon": [
          -122.3748433,
          -118.4080744
         ],
         "mode": "lines",
         "opacity": 0.7418442651217325,
         "type": "scattergeo"
        },
        {
         "lat": [
          37.61900194,
          34.056
         ],
         "line": {
          "color": "red",
          "width": 1
         },
         "locationmode": "USA-states",
         "lon": [
          -122.3748433,
          -117.6011944
         ],
         "mode": "lines",
         "opacity": 0.11538726808745431,
         "type": "scattergeo"
        },
        {
         "lat": [
          37.61900194,
          41.979595
         ],
         "line": {
          "color": "red",
          "width": 1
         },
         "locationmode": "USA-states",
         "lon": [
          -122.3748433,
          -87.90446417
         ],
         "mode": "lines",
         "opacity": 0.3418856472860197,
         "type": "scattergeo"
        },
        {
         "lat": [
          37.61900194,
          45.58872222
         ],
         "line": {
          "color": "red",
          "width": 1
         },
         "locationmode": "USA-states",
         "lon": [
          -122.3748433,
          -122.5975
         ],
         "mode": "lines",
         "opacity": 0.29746879095110007,
         "type": "scattergeo"
        },
        {
         "lat": [
          37.61900194,
          39.87195278
         ],
         "line": {
          "color": "red",
          "width": 1
         },
         "locationmode": "USA-states",
         "lon": [
          -122.3748433,
          -75.24114083
         ],
         "mode": "lines",
         "opacity": 0.09490309676529415,
         "type": "scattergeo"
        },
        {
         "lat": [
          37.61900194,
          33.43416667
         ],
         "line": {
          "color": "red",
          "width": 1
         },
         "locationmode": "USA-states",
         "lon": [
          -122.3748433,
          -112.0080556
         ],
         "mode": "lines",
         "opacity": 0.33891992551210426,
         "type": "scattergeo"
        },
        {
         "lat": [
          37.61900194,
          39.49857611
         ],
         "line": {
          "color": "red",
          "width": 1
         },
         "locationmode": "USA-states",
         "lon": [
          -122.3748433,
          -119.7680647
         ],
         "mode": "lines",
         "opacity": 0.10455893509897235,
         "type": "scattergeo"
        },
        {
         "lat": [
          37.61900194,
          32.73355611
         ],
         "line": {
          "color": "red",
          "width": 1
         },
         "locationmode": "USA-states",
         "lon": [
          -122.3748433,
          -117.1896567
         ],
         "mode": "lines",
         "opacity": 0.40926960480033103,
         "type": "scattergeo"
        },
        {
         "lat": [
          37.61900194,
          34.42621194
         ],
         "line": {
          "color": "red",
          "width": 1
         },
         "locationmode": "USA-states",
         "lon": [
          -122.3748433,
          -119.8403733
         ],
         "mode": "lines",
         "opacity": 0.0771777363956135,
         "type": "scattergeo"
        },
        {
         "lat": [
          37.61900194,
          47.44898194
         ],
         "line": {
          "color": "red",
          "width": 1
         },
         "locationmode": "USA-states",
         "lon": [
          -122.3748433,
          -122.3093131
         ],
         "mode": "lines",
         "opacity": 0.5223118835781778,
         "type": "scattergeo"
        },
        {
         "lat": [
          37.61900194,
          40.78838778
         ],
         "line": {
          "color": "red",
          "width": 1
         },
         "locationmode": "USA-states",
         "lon": [
          -122.3748433,
          -111.9777731
         ],
         "mode": "lines",
         "opacity": 0.1473205048624043,
         "type": "scattergeo"
        },
        {
         "lat": [
          37.61900194,
          33.67565861
         ],
         "line": {
          "color": "red",
          "width": 1
         },
         "locationmode": "USA-states",
         "lon": [
          -122.3748433,
          -117.8682225
         ],
         "mode": "lines",
         "opacity": 0.1324918959928271,
         "type": "scattergeo"
        },
        {
         "lat": [
          37.61900194,
          38.74768694
         ],
         "line": {
          "color": "red",
          "width": 1
         },
         "locationmode": "USA-states",
         "lon": [
          -122.3748433,
          -90.35998972
         ],
         "mode": "lines",
         "opacity": 0.11145596248017105,
         "type": "scattergeo"
        },
        {
         "lat": [
          37.36186194,
          34.20061917
         ],
         "line": {
          "color": "red",
          "width": 1
         },
         "locationmode": "USA-states",
         "lon": [
          -121.9290089,
          -118.3584969
         ],
         "mode": "lines",
         "opacity": 0.1420787640526933,
         "type": "scattergeo"
        },
        {
         "lat": [
          37.36186194,
          39.85840806
         ],
         "line": {
          "color": "red",
          "width": 1
         },
         "locationmode": "USA-states",
         "lon": [
          -121.9290089,
          -104.6670019
         ],
         "mode": "lines",
         "opacity": 0.11704255465894199,
         "type": "scattergeo"
        },
        {
         "lat": [
          37.36186194,
          32.89595056
         ],
         "line": {
          "color": "red",
          "width": 1
         },
         "locationmode": "USA-states",
         "lon": [
          -121.9290089,
          -97.0372
         ],
         "mode": "lines",
         "opacity": 0.101041451134561,
         "type": "scattergeo"
        },
        {
         "lat": [
          37.36186194,
          36.08036111
         ],
         "line": {
          "color": "red",
          "width": 1
         },
         "locationmode": "USA-states",
         "lon": [
          -121.9290089,
          -115.1523333
         ],
         "mode": "lines",
         "opacity": 0.23415407959169598,
         "type": "scattergeo"
        },
        {
         "lat": [
          37.36186194,
          33.94253611
         ],
         "line": {
          "color": "red",
          "width": 1
         },
         "locationmode": "USA-states",
         "lon": [
          -121.9290089,
          -118.4080744
         ],
         "mode": "lines",
         "opacity": 0.5988688875094834,
         "type": "scattergeo"
        },
        {
         "lat": [
          37.36186194,
          34.056
         ],
         "line": {
          "color": "red",
          "width": 1
         },
         "locationmode": "USA-states",
         "lon": [
          -121.9290089,
          -117.6011944
         ],
         "mode": "lines",
         "opacity": 0.12580177943306434,
         "type": "scattergeo"
        },
        {
         "lat": [
          37.36186194,
          41.979595
         ],
         "line": {
          "color": "red",
          "width": 1
         },
         "locationmode": "USA-states",
         "lon": [
          -121.9290089,
          -87.90446417
         ],
         "mode": "lines",
         "opacity": 0.15670046210083455,
         "type": "scattergeo"
        },
        {
         "lat": [
          37.36186194,
          45.58872222
         ],
         "line": {
          "color": "red",
          "width": 1
         },
         "locationmode": "USA-states",
         "lon": [
          -121.9290089,
          -122.5975
         ],
         "mode": "lines",
         "opacity": 0.17587419822056694,
         "type": "scattergeo"
        },
        {
         "lat": [
          37.36186194,
          33.43416667
         ],
         "line": {
          "color": "red",
          "width": 1
         },
         "locationmode": "USA-states",
         "lon": [
          -121.9290089,
          -112.0080556
         ],
         "mode": "lines",
         "opacity": 0.12787088764742396,
         "type": "scattergeo"
        },
        {
         "lat": [
          37.36186194,
          39.49857611
         ],
         "line": {
          "color": "red",
          "width": 1
         },
         "locationmode": "USA-states",
         "lon": [
          -121.9290089,
          -119.7680647
         ],
         "mode": "lines",
         "opacity": 0.12718118490930408,
         "type": "scattergeo"
        },
        {
         "lat": [
          37.36186194,
          32.73355611
         ],
         "line": {
          "color": "red",
          "width": 1
         },
         "locationmode": "USA-states",
         "lon": [
          -121.9290089,
          -117.1896567
         ],
         "mode": "lines",
         "opacity": 0.2580177943306435,
         "type": "scattergeo"
        },
        {
         "lat": [
          37.36186194,
          47.44898194
         ],
         "line": {
          "color": "red",
          "width": 1
         },
         "locationmode": "USA-states",
         "lon": [
          -121.9290089,
          -122.3093131
         ],
         "mode": "lines",
         "opacity": 0.24401682874681013,
         "type": "scattergeo"
        },
        {
         "lat": [
          37.36186194,
          33.67565861
         ],
         "line": {
          "color": "red",
          "width": 1
         },
         "locationmode": "USA-states",
         "lon": [
          -121.9290089,
          -117.8682225
         ],
         "mode": "lines",
         "opacity": 0.19056486654252017,
         "type": "scattergeo"
        },
        {
         "lat": [
          18.43941667,
          33.64044444
         ],
         "line": {
          "color": "red",
          "width": 1
         },
         "locationmode": "USA-states",
         "lon": [
          -66.00183333,
          -84.42694444
         ],
         "mode": "lines",
         "opacity": 0.07986757707428098,
         "type": "scattergeo"
        },
        {
         "lat": [
          18.43941667,
          40.69249722
         ],
         "line": {
          "color": "red",
          "width": 1
         },
         "locationmode": "USA-states",
         "lon": [
          -66.00183333,
          -74.16866056
         ],
         "mode": "lines",
         "opacity": 0.08490240706255604,
         "type": "scattergeo"
        },
        {
         "lat": [
          18.43941667,
          40.63975111
         ],
         "line": {
          "color": "red",
          "width": 1
         },
         "locationmode": "USA-states",
         "lon": [
          -66.00183333,
          -73.77892556
         ],
         "mode": "lines",
         "opacity": 0.11090420028967515,
         "type": "scattergeo"
        },
        {
         "lat": [
          18.43941667,
          25.79325
         ],
         "line": {
          "color": "red",
          "width": 1
         },
         "locationmode": "USA-states",
         "lon": [
          -66.00183333,
          -80.29055556
         ],
         "mode": "lines",
         "opacity": 0.0989033726463894,
         "type": "scattergeo"
        },
        {
         "lat": [
          40.78838778,
          33.64044444
         ],
         "line": {
          "color": "red",
          "width": 1
         },
         "locationmode": "USA-states",
         "lon": [
          -111.9777731,
          -84.42694444
         ],
         "mode": "lines",
         "opacity": 0.1298710255879716,
         "type": "scattergeo"
        },
        {
         "lat": [
          40.78838778,
          43.56444444
         ],
         "line": {
          "color": "red",
          "width": 1
         },
         "locationmode": "USA-states",
         "lon": [
          -111.9777731,
          -116.2227778
         ],
         "mode": "lines",
         "opacity": 0.1265604524449962,
         "type": "scattergeo"
        },
        {
         "lat": [
          40.78838778,
          39.04614278
         ],
         "line": {
          "color": "red",
          "width": 1
         },
         "locationmode": "USA-states",
         "lon": [
          -111.9777731,
          -84.6621725
         ],
         "mode": "lines",
         "opacity": 0.0845575556934961,
         "type": "scattergeo"
        },
        {
         "lat": [
          40.78838778,
          39.85840806
         ],
         "line": {
          "color": "red",
          "width": 1
         },
         "locationmode": "USA-states",
         "lon": [
          -111.9777731,
          -104.6670019
         ],
         "mode": "lines",
         "opacity": 0.23498172287743982,
         "type": "scattergeo"
        },
        {
         "lat": [
          40.78838778,
          32.89595056
         ],
         "line": {
          "color": "red",
          "width": 1
         },
         "locationmode": "USA-states",
         "lon": [
          -111.9777731,
          -97.0372
         ],
         "mode": "lines",
         "opacity": 0.10414511345610042,
         "type": "scattergeo"
        },
        {
         "lat": [
          40.78838778,
          36.08036111
         ],
         "line": {
          "color": "red",
          "width": 1
         },
         "locationmode": "USA-states",
         "lon": [
          -111.9777731,
          -115.1523333
         ],
         "mode": "lines",
         "opacity": 0.21160080005517623,
         "type": "scattergeo"
        },
        {
         "lat": [
          40.78838778,
          33.94253611
         ],
         "line": {
          "color": "red",
          "width": 1
         },
         "locationmode": "USA-states",
         "lon": [
          -111.9777731,
          -118.4080744
         ],
         "mode": "lines",
         "opacity": 0.24056831505621076,
         "type": "scattergeo"
        },
        {
         "lat": [
          40.78838778,
          41.979595
         ],
         "line": {
          "color": "red",
          "width": 1
         },
         "locationmode": "USA-states",
         "lon": [
          -111.9777731,
          -87.90446417
         ],
         "mode": "lines",
         "opacity": 0.14959652389819988,
         "type": "scattergeo"
        },
        {
         "lat": [
          40.78838778,
          45.58872222
         ],
         "line": {
          "color": "red",
          "width": 1
         },
         "locationmode": "USA-states",
         "lon": [
          -111.9777731,
          -122.5975
         ],
         "mode": "lines",
         "opacity": 0.1095937650872474,
         "type": "scattergeo"
        },
        {
         "lat": [
          40.78838778,
          33.43416667
         ],
         "line": {
          "color": "red",
          "width": 1
         },
         "locationmode": "USA-states",
         "lon": [
          -111.9777731,
          -112.0080556
         ],
         "mode": "lines",
         "opacity": 0.21787709497206703,
         "type": "scattergeo"
        },
        {
         "lat": [
          40.78838778,
          47.44898194
         ],
         "line": {
          "color": "red",
          "width": 1
         },
         "locationmode": "USA-states",
         "lon": [
          -111.9777731,
          -122.3093131
         ],
         "mode": "lines",
         "opacity": 0.14228567487412924,
         "type": "scattergeo"
        },
        {
         "lat": [
          40.78838778,
          37.61900194
         ],
         "line": {
          "color": "red",
          "width": 1
         },
         "locationmode": "USA-states",
         "lon": [
          -111.9777731,
          -122.3748433
         ],
         "mode": "lines",
         "opacity": 0.1600110352438099,
         "type": "scattergeo"
        },
        {
         "lat": [
          40.78838778,
          38.74768694
         ],
         "line": {
          "color": "red",
          "width": 1
         },
         "locationmode": "USA-states",
         "lon": [
          -111.9777731,
          -90.35998972
         ],
         "mode": "lines",
         "opacity": 0.08435064487206015,
         "type": "scattergeo"
        },
        {
         "lat": [
          38.69542167,
          34.20061917
         ],
         "line": {
          "color": "red",
          "width": 1
         },
         "locationmode": "USA-states",
         "lon": [
          -121.5907669,
          -118.3584969
         ],
         "mode": "lines",
         "opacity": 0.18490930408993725,
         "type": "scattergeo"
        },
        {
         "lat": [
          38.69542167,
          39.85840806
         ],
         "line": {
          "color": "red",
          "width": 1
         },
         "locationmode": "USA-states",
         "lon": [
          -121.5907669,
          -104.6670019
         ],
         "mode": "lines",
         "opacity": 0.1101455272777433,
         "type": "scattergeo"
        },
        {
         "lat": [
          38.69542167,
          36.08036111
         ],
         "line": {
          "color": "red",
          "width": 1
         },
         "locationmode": "USA-states",
         "lon": [
          -121.5907669,
          -115.1523333
         ],
         "mode": "lines",
         "opacity": 0.1564245810055866,
         "type": "scattergeo"
        },
        {
         "lat": [
          38.69542167,
          33.94253611
         ],
         "line": {
          "color": "red",
          "width": 1
         },
         "locationmode": "USA-states",
         "lon": [
          -121.5907669,
          -118.4080744
         ],
         "mode": "lines",
         "opacity": 0.3585764535485206,
         "type": "scattergeo"
        },
        {
         "lat": [
          38.69542167,
          34.056
         ],
         "line": {
          "color": "red",
          "width": 1
         },
         "locationmode": "USA-states",
         "lon": [
          -121.5907669,
          -117.6011944
         ],
         "mode": "lines",
         "opacity": 0.20815228636457686,
         "type": "scattergeo"
        },
        {
         "lat": [
          38.69542167,
          45.58872222
         ],
         "line": {
          "color": "red",
          "width": 1
         },
         "locationmode": "USA-states",
         "lon": [
          -121.5907669,
          -122.5975
         ],
         "mode": "lines",
         "opacity": 0.10090351058693703,
         "type": "scattergeo"
        },
        {
         "lat": [
          38.69542167,
          33.43416667
         ],
         "line": {
          "color": "red",
          "width": 1
         },
         "locationmode": "USA-states",
         "lon": [
          -121.5907669,
          -112.0080556
         ],
         "mode": "lines",
         "opacity": 0.09855852127732947,
         "type": "scattergeo"
        },
        {
         "lat": [
          38.69542167,
          32.73355611
         ],
         "line": {
          "color": "red",
          "width": 1
         },
         "locationmode": "USA-states",
         "lon": [
          -121.5907669,
          -117.1896567
         ],
         "mode": "lines",
         "opacity": 0.21849782743637491,
         "type": "scattergeo"
        },
        {
         "lat": [
          38.69542167,
          47.44898194
         ],
         "line": {
          "color": "red",
          "width": 1
         },
         "locationmode": "USA-states",
         "lon": [
          -121.5907669,
          -122.3093131
         ],
         "mode": "lines",
         "opacity": 0.18428857162562937,
         "type": "scattergeo"
        },
        {
         "lat": [
          33.67565861,
          39.85840806
         ],
         "line": {
          "color": "red",
          "width": 1
         },
         "locationmode": "USA-states",
         "lon": [
          -117.8682225,
          -104.6670019
         ],
         "mode": "lines",
         "opacity": 0.08276432857438444,
         "type": "scattergeo"
        },
        {
         "lat": [
          33.67565861,
          32.89595056
         ],
         "line": {
          "color": "red",
          "width": 1
         },
         "locationmode": "USA-states",
         "lon": [
          -117.8682225,
          -97.0372
         ],
         "mode": "lines",
         "opacity": 0.14125112076694946,
         "type": "scattergeo"
        },
        {
         "lat": [
          33.67565861,
          36.08036111
         ],
         "line": {
          "color": "red",
          "width": 1
         },
         "locationmode": "USA-states",
         "lon": [
          -117.8682225,
          -115.1523333
         ],
         "mode": "lines",
         "opacity": 0.09835161045589351,
         "type": "scattergeo"
        },
        {
         "lat": [
          33.67565861,
          37.72129083
         ],
         "line": {
          "color": "red",
          "width": 1
         },
         "locationmode": "USA-states",
         "lon": [
          -117.8682225,
          -122.2207167
         ],
         "mode": "lines",
         "opacity": 0.2042209807572936,
         "type": "scattergeo"
        },
        {
         "lat": [
          33.67565861,
          41.979595
         ],
         "line": {
          "color": "red",
          "width": 1
         },
         "locationmode": "USA-states",
         "lon": [
          -117.8682225,
          -87.90446417
         ],
         "mode": "lines",
         "opacity": 0.1409062693978895,
         "type": "scattergeo"
        },
        {
         "lat": [
          33.67565861,
          33.43416667
         ],
         "line": {
          "color": "red",
          "width": 1
         },
         "locationmode": "USA-states",
         "lon": [
          -117.8682225,
          -112.0080556
         ],
         "mode": "lines",
         "opacity": 0.12911235257603973,
         "type": "scattergeo"
        },
        {
         "lat": [
          33.67565861,
          47.44898194
         ],
         "line": {
          "color": "red",
          "width": 1
         },
         "locationmode": "USA-states",
         "lon": [
          -117.8682225,
          -122.3093131
         ],
         "mode": "lines",
         "opacity": 0.11980136561142148,
         "type": "scattergeo"
        },
        {
         "lat": [
          33.67565861,
          37.61900194
         ],
         "line": {
          "color": "red",
          "width": 1
         },
         "locationmode": "USA-states",
         "lon": [
          -117.8682225,
          -122.3748433
         ],
         "mode": "lines",
         "opacity": 0.1820125525898338,
         "type": "scattergeo"
        },
        {
         "lat": [
          33.67565861,
          37.36186194
         ],
         "line": {
          "color": "red",
          "width": 1
         },
         "locationmode": "USA-states",
         "lon": [
          -117.8682225,
          -121.9290089
         ],
         "mode": "lines",
         "opacity": 0.22332574660321403,
         "type": "scattergeo"
        },
        {
         "lat": [
          27.39533333,
          33.64044444
         ],
         "line": {
          "color": "red",
          "width": 1
         },
         "locationmode": "USA-states",
         "lon": [
          -82.55411111,
          -84.42694444
         ],
         "mode": "lines",
         "opacity": 0.08200565556245258,
         "type": "scattergeo"
        },
        {
         "lat": [
          38.74768694,
          35.04022222
         ],
         "line": {
          "color": "red",
          "width": 1
         },
         "locationmode": "USA-states",
         "lon": [
          -90.35998972,
          -106.6091944
         ],
         "mode": "lines",
         "opacity": 0.11269742740878681,
         "type": "scattergeo"
        },
        {
         "lat": [
          38.74768694,
          33.64044444
         ],
         "line": {
          "color": "red",
          "width": 1
         },
         "locationmode": "USA-states",
         "lon": [
          -90.35998972,
          -84.42694444
         ],
         "mode": "lines",
         "opacity": 0.2484998965445893,
         "type": "scattergeo"
        },
        {
         "lat": [
          38.74768694,
          42.3643475
         ],
         "line": {
          "color": "red",
          "width": 1
         },
         "locationmode": "USA-states",
         "lon": [
          -90.35998972,
          -71.00517917
         ],
         "mode": "lines",
         "opacity": 0.11421477343265053,
         "type": "scattergeo"
        },
        {
         "lat": [
          38.74768694,
          39.17540167
         ],
         "line": {
          "color": "red",
          "width": 1
         },
         "locationmode": "USA-states",
         "lon": [
          -90.35998972,
          -76.66819833
         ],
         "mode": "lines",
         "opacity": 0.14345816952893303,
         "type": "scattergeo"
        },
        {
         "lat": [
          38.74768694,
          41.88458833
         ],
         "line": {
          "color": "red",
          "width": 1
         },
         "locationmode": "USA-states",
         "lon": [
          -90.35998972,
          -91.71087222
         ],
         "mode": "lines",
         "opacity": 0.07786743913373335,
         "type": "scattergeo"
        },
        {
         "lat": [
          38.74768694,
          41.41089417
         ],
         "line": {
          "color": "red",
          "width": 1
         },
         "locationmode": "USA-states",
         "lon": [
          -90.35998972,
          -81.84939667
         ],
         "mode": "lines",
         "opacity": 0.14697565349334438,
         "type": "scattergeo"
        },
        {
         "lat": [
          38.74768694,
          35.21401111
         ],
         "line": {
          "color": "red",
          "width": 1
         },
         "locationmode": "USA-states",
         "lon": [
          -90.35998972,
          -80.94312583
         ],
         "mode": "lines",
         "opacity": 0.10573142975377613,
         "type": "scattergeo"
        },
        {
         "lat": [
          38.74768694,
          39.99798528
         ],
         "line": {
          "color": "red",
          "width": 1
         },
         "locationmode": "USA-states",
         "lon": [
          -90.35998972,
          -82.89188278
         ],
         "mode": "lines",
         "opacity": 0.13338850955238293,
         "type": "scattergeo"
        },
        {
         "lat": [
          38.74768694,
          38.85208333
         ],
         "line": {
          "color": "red",
          "width": 1
         },
         "locationmode": "USA-states",
         "lon": [
          -90.35998972,
          -77.03772222
         ],
         "mode": "lines",
         "opacity": 0.10566245947996414,
         "type": "scattergeo"
        },
        {
         "lat": [
          38.74768694,
          39.85840806
         ],
         "line": {
          "color": "red",
          "width": 1
         },
         "locationmode": "USA-states",
         "lon": [
          -90.35998972,
          -104.6670019
         ],
         "mode": "lines",
         "opacity": 0.16739085454169253,
         "type": "scattergeo"
        },
        {
         "lat": [
          38.74768694,
          32.89595056
         ],
         "line": {
          "color": "red",
          "width": 1
         },
         "locationmode": "USA-states",
         "lon": [
          -90.35998972,
          -97.0372
         ],
         "mode": "lines",
         "opacity": 0.17083936823229187,
         "type": "scattergeo"
        },
        {
         "lat": [
          38.74768694,
          41.53493306
         ],
         "line": {
          "color": "red",
          "width": 1
         },
         "locationmode": "USA-states",
         "lon": [
          -90.35998972,
          -93.66068222
         ],
         "mode": "lines",
         "opacity": 0.07883302296710118,
         "type": "scattergeo"
        },
        {
         "lat": [
          38.74768694,
          42.21205889
         ],
         "line": {
          "color": "red",
          "width": 1
         },
         "locationmode": "USA-states",
         "lon": [
          -90.35998972,
          -83.34883583
         ],
         "mode": "lines",
         "opacity": 0.23015380371060074,
         "type": "scattergeo"
        },
        {
         "lat": [
          38.74768694,
          40.69249722
         ],
         "line": {
          "color": "red",
          "width": 1
         },
         "locationmode": "USA-states",
         "lon": [
          -90.35998972,
          -74.16866056
         ],
         "mode": "lines",
         "opacity": 0.1355955583143665,
         "type": "scattergeo"
        },
        {
         "lat": [
          38.74768694,
          29.64541861
         ],
         "line": {
          "color": "red",
          "width": 1
         },
         "locationmode": "USA-states",
         "lon": [
          -90.35998972,
          -95.27888889
         ],
         "mode": "lines",
         "opacity": 0.12587074970687634,
         "type": "scattergeo"
        },
        {
         "lat": [
          38.74768694,
          38.94453194
         ],
         "line": {
          "color": "red",
          "width": 1
         },
         "locationmode": "USA-states",
         "lon": [
          -90.35998972,
          -77.45580972
         ],
         "mode": "lines",
         "opacity": 0.07814332022898131,
         "type": "scattergeo"
        },
        {
         "lat": [
          38.74768694,
          29.98047222
         ],
         "line": {
          "color": "red",
          "width": 1
         },
         "locationmode": "USA-states",
         "lon": [
          -90.35998972,
          -95.33972222
         ],
         "mode": "lines",
         "opacity": 0.08428167459824816,
         "type": "scattergeo"
        },
        {
         "lat": [
          38.74768694,
          37.64995889
         ],
         "line": {
          "color": "red",
          "width": 1
         },
         "locationmode": "USA-states",
         "lon": [
          -90.35998972,
          -97.43304583
         ],
         "mode": "lines",
         "opacity": 0.07248775777639838,
         "type": "scattergeo"
        },
        {
         "lat": [
          38.74768694,
          39.71732917
         ],
         "line": {
          "color": "red",
          "width": 1
         },
         "locationmode": "USA-states",
         "lon": [
          -90.35998972,
          -86.29438417
         ],
         "mode": "lines",
         "opacity": 0.1724256845299676,
         "type": "scattergeo"
        },
        {
         "lat": [
          38.74768694,
          40.63975111
         ],
         "line": {
          "color": "red",
          "width": 1
         },
         "locationmode": "USA-states",
         "lon": [
          -90.35998972,
          -73.77892556
         ],
         "mode": "lines",
         "opacity": 0.0845575556934961,
         "type": "scattergeo"
        },
        {
         "lat": [
          38.74768694,
          36.08036111
         ],
         "line": {
          "color": "red",
          "width": 1
         },
         "locationmode": "USA-states",
         "lon": [
          -90.35998972,
          -115.1523333
         ],
         "mode": "lines",
         "opacity": 0.1074556865990758,
         "type": "scattergeo"
        },
        {
         "lat": [
          38.74768694,
          33.94253611
         ],
         "line": {
          "color": "red",
          "width": 1
         },
         "locationmode": "USA-states",
         "lon": [
          -90.35998972,
          -118.4080744
         ],
         "mode": "lines",
         "opacity": 0.16387337057728119,
         "type": "scattergeo"
        },
        {
         "lat": [
          38.74768694,
          40.77724306
         ],
         "line": {
          "color": "red",
          "width": 1
         },
         "locationmode": "USA-states",
         "lon": [
          -90.35998972,
          -73.87260917
         ],
         "mode": "lines",
         "opacity": 0.14166494240982136,
         "type": "scattergeo"
        },
        {
         "lat": [
          38.74768694,
          34.72939611
         ],
         "line": {
          "color": "red",
          "width": 1
         },
         "locationmode": "USA-states",
         "lon": [
          -90.35998972,
          -92.22424556
         ],
         "mode": "lines",
         "opacity": 0.14545830746948066,
         "type": "scattergeo"
        },
        {
         "lat": [
          38.74768694,
          39.29760528
         ],
         "line": {
          "color": "red",
          "width": 1
         },
         "locationmode": "USA-states",
         "lon": [
          -90.35998972,
          -94.71390556
         ],
         "mode": "lines",
         "opacity": 0.2794675494861715,
         "type": "scattergeo"
        },
        {
         "lat": [
          38.74768694,
          28.42888889
         ],
         "line": {
          "color": "red",
          "width": 1
         },
         "locationmode": "USA-states",
         "lon": [
          -90.35998972,
          -81.31602778
         ],
         "mode": "lines",
         "opacity": 0.14483757500517278,
         "type": "scattergeo"
        },
        {
         "lat": [
          38.74768694,
          41.7859825
         ],
         "line": {
          "color": "red",
          "width": 1
         },
         "locationmode": "USA-states",
         "lon": [
          -90.35998972,
          -87.75242444
         ],
         "mode": "lines",
         "opacity": 0.1994620318642665,
         "type": "scattergeo"
        },
        {
         "lat": [
          38.74768694,
          42.94722222
         ],
         "line": {
          "color": "red",
          "width": 1
         },
         "locationmode": "USA-states",
         "lon": [
          -90.35998972,
          -87.89658333
         ],
         "mode": "lines",
         "opacity": 0.07621215256224567,
         "type": "scattergeo"
        },
        {
         "lat": [
          38.74768694,
          44.88054694
         ],
         "line": {
          "color": "red",
          "width": 1
         },
         "locationmode": "USA-states",
         "lon": [
          -90.35998972,
          -93.2169225
         ],
         "mode": "lines",
         "opacity": 0.1515966618387475,
         "type": "scattergeo"
        },
        {
         "lat": [
          38.74768694,
          35.39308833
         ],
         "line": {
          "color": "red",
          "width": 1
         },
         "locationmode": "USA-states",
         "lon": [
          -90.35998972,
          -97.60073389
         ],
         "mode": "lines",
         "opacity": 0.14407890199324092,
         "type": "scattergeo"
        },
        {
         "lat": [
          38.74768694,
          41.30251861
         ],
         "line": {
          "color": "red",
          "width": 1
         },
         "locationmode": "USA-states",
         "lon": [
          -90.35998972,
          -95.89417306
         ],
         "mode": "lines",
         "opacity": 0.11904269259948962,
         "type": "scattergeo"
        },
        {
         "lat": [
          38.74768694,
          41.979595
         ],
         "line": {
          "color": "red",
          "width": 1
         },
         "locationmode": "USA-states",
         "lon": [
          -90.35998972,
          -87.90446417
         ],
         "mode": "lines",
         "opacity": 0.3256776329402028,
         "type": "scattergeo"
        },
        {
         "lat": [
          38.74768694,
          39.87195278
         ],
         "line": {
          "color": "red",
          "width": 1
         },
         "locationmode": "USA-states",
         "lon": [
          -90.35998972,
          -75.24114083
         ],
         "mode": "lines",
         "opacity": 0.10400717290847644,
         "type": "scattergeo"
        },
        {
         "lat": [
          38.74768694,
          33.43416667
         ],
         "line": {
          "color": "red",
          "width": 1
         },
         "locationmode": "USA-states",
         "lon": [
          -90.35998972,
          -112.0080556
         ],
         "mode": "lines",
         "opacity": 0.2224291330436582,
         "type": "scattergeo"
        },
        {
         "lat": [
          38.74768694,
          40.49146583
         ],
         "line": {
          "color": "red",
          "width": 1
         },
         "locationmode": "USA-states",
         "lon": [
          -90.35998972,
          -80.23287083
         ],
         "mode": "lines",
         "opacity": 0.12145665218290917,
         "type": "scattergeo"
        },
        {
         "lat": [
          38.74768694,
          29.53369444
         ],
         "line": {
          "color": "red",
          "width": 1
         },
         "locationmode": "USA-states",
         "lon": [
          -90.35998972,
          -98.46977778
         ],
         "mode": "lines",
         "opacity": 0.07807434995516932,
         "type": "scattergeo"
        },
        {
         "lat": [
          38.74768694,
          38.17438889
         ],
         "line": {
          "color": "red",
          "width": 1
         },
         "locationmode": "USA-states",
         "lon": [
          -90.35998972,
          -85.736
         ],
         "mode": "lines",
         "opacity": 0.12331884957583282,
         "type": "scattergeo"
        },
        {
         "lat": [
          38.74768694,
          47.44898194
         ],
         "line": {
          "color": "red",
          "width": 1
         },
         "locationmode": "USA-states",
         "lon": [
          -90.35998972,
          -122.3093131
         ],
         "mode": "lines",
         "opacity": 0.11621491137319816,
         "type": "scattergeo"
        },
        {
         "lat": [
          38.74768694,
          37.61900194
         ],
         "line": {
          "color": "red",
          "width": 1
         },
         "locationmode": "USA-states",
         "lon": [
          -90.35998972,
          -122.3748433
         ],
         "mode": "lines",
         "opacity": 0.12835367956410787,
         "type": "scattergeo"
        },
        {
         "lat": [
          38.74768694,
          40.78838778
         ],
         "line": {
          "color": "red",
          "width": 1
         },
         "locationmode": "USA-states",
         "lon": [
          -90.35998972,
          -111.9777731
         ],
         "mode": "lines",
         "opacity": 0.11669770328988206,
         "type": "scattergeo"
        },
        {
         "lat": [
          38.74768694,
          27.97547222
         ],
         "line": {
          "color": "red",
          "width": 1
         },
         "locationmode": "USA-states",
         "lon": [
          -90.35998972,
          -82.53325
         ],
         "mode": "lines",
         "opacity": 0.10117939168218498,
         "type": "scattergeo"
        },
        {
         "lat": [
          38.74768694,
          36.19837222
         ],
         "line": {
          "color": "red",
          "width": 1
         },
         "locationmode": "USA-states",
         "lon": [
          -90.35998972,
          -95.88824167
         ],
         "mode": "lines",
         "opacity": 0.1398027450168977,
         "type": "scattergeo"
        },
        {
         "lat": [
          43.11118694,
          39.87195278
         ],
         "line": {
          "color": "red",
          "width": 1
         },
         "locationmode": "USA-states",
         "lon": [
          -76.10631056,
          -75.24114083
         ],
         "mode": "lines",
         "opacity": 0.07800537968135733,
         "type": "scattergeo"
        },
        {
         "lat": [
          43.11118694,
          40.49146583
         ],
         "line": {
          "color": "red",
          "width": 1
         },
         "locationmode": "USA-states",
         "lon": [
          -76.10631056,
          -80.23287083
         ],
         "mode": "lines",
         "opacity": 0.0729015794192703,
         "type": "scattergeo"
        },
        {
         "lat": [
          30.39652778,
          33.64044444
         ],
         "line": {
          "color": "red",
          "width": 1
         },
         "locationmode": "USA-states",
         "lon": [
          -84.35033333,
          -84.42694444
         ],
         "mode": "lines",
         "opacity": 0.10200703496792882,
         "type": "scattergeo"
        },
        {
         "lat": [
          27.97547222,
          33.64044444
         ],
         "line": {
          "color": "red",
          "width": 1
         },
         "locationmode": "USA-states",
         "lon": [
          -82.53325,
          -84.42694444
         ],
         "mode": "lines",
         "opacity": 0.16194220291054556,
         "type": "scattergeo"
        },
        {
         "lat": [
          27.97547222,
          42.3643475
         ],
         "line": {
          "color": "red",
          "width": 1
         },
         "locationmode": "USA-states",
         "lon": [
          -82.53325,
          -71.00517917
         ],
         "mode": "lines",
         "opacity": 0.09897234292020139,
         "type": "scattergeo"
        },
        {
         "lat": [
          27.97547222,
          39.17540167
         ],
         "line": {
          "color": "red",
          "width": 1
         },
         "locationmode": "USA-states",
         "lon": [
          -82.53325,
          -76.66819833
         ],
         "mode": "lines",
         "opacity": 0.1760121387681909,
         "type": "scattergeo"
        },
        {
         "lat": [
          27.97547222,
          35.21401111
         ],
         "line": {
          "color": "red",
          "width": 1
         },
         "locationmode": "USA-states",
         "lon": [
          -82.53325,
          -80.94312583
         ],
         "mode": "lines",
         "opacity": 0.11145596248017105,
         "type": "scattergeo"
        },
        {
         "lat": [
          27.97547222,
          32.89595056
         ],
         "line": {
          "color": "red",
          "width": 1
         },
         "locationmode": "USA-states",
         "lon": [
          -82.53325,
          -97.0372
         ],
         "mode": "lines",
         "opacity": 0.11290433823022278,
         "type": "scattergeo"
        },
        {
         "lat": [
          27.97547222,
          40.69249722
         ],
         "line": {
          "color": "red",
          "width": 1
         },
         "locationmode": "USA-states",
         "lon": [
          -82.53325,
          -74.16866056
         ],
         "mode": "lines",
         "opacity": 0.13614732050486242,
         "type": "scattergeo"
        },
        {
         "lat": [
          27.97547222,
          26.07258333
         ],
         "line": {
          "color": "red",
          "width": 1
         },
         "locationmode": "USA-states",
         "lon": [
          -82.53325,
          -80.15275
         ],
         "mode": "lines",
         "opacity": 0.1935995585902476,
         "type": "scattergeo"
        },
        {
         "lat": [
          27.97547222,
          38.94453194
         ],
         "line": {
          "color": "red",
          "width": 1
         },
         "locationmode": "USA-states",
         "lon": [
          -82.53325,
          -77.45580972
         ],
         "mode": "lines",
         "opacity": 0.09317883991999448,
         "type": "scattergeo"
        },
        {
         "lat": [
          27.97547222,
          40.77724306
         ],
         "line": {
          "color": "red",
          "width": 1
         },
         "locationmode": "USA-states",
         "lon": [
          -82.53325,
          -73.87260917
         ],
         "mode": "lines",
         "opacity": 0.13518173667149458,
         "type": "scattergeo"
        },
        {
         "lat": [
          27.97547222,
          29.99338889
         ],
         "line": {
          "color": "red",
          "width": 1
         },
         "locationmode": "USA-states",
         "lon": [
          -82.53325,
          -90.25802778
         ],
         "mode": "lines",
         "opacity": 0.0840057935030002,
         "type": "scattergeo"
        },
        {
         "lat": [
          27.97547222,
          41.979595
         ],
         "line": {
          "color": "red",
          "width": 1
         },
         "locationmode": "USA-states",
         "lon": [
          -82.53325,
          -87.90446417
         ],
         "mode": "lines",
         "opacity": 0.1320091040761432,
         "type": "scattergeo"
        },
        {
         "lat": [
          27.97547222,
          39.87195278
         ],
         "line": {
          "color": "red",
          "width": 1
         },
         "locationmode": "USA-states",
         "lon": [
          -82.53325,
          -75.24114083
         ],
         "mode": "lines",
         "opacity": 0.1393199531002138,
         "type": "scattergeo"
        },
        {
         "lat": [
          27.97547222,
          40.49146583
         ],
         "line": {
          "color": "red",
          "width": 1
         },
         "locationmode": "USA-states",
         "lon": [
          -82.53325,
          -80.23287083
         ],
         "mode": "lines",
         "opacity": 0.11787019794468584,
         "type": "scattergeo"
        },
        {
         "lat": [
          27.97547222,
          38.74768694
         ],
         "line": {
          "color": "red",
          "width": 1
         },
         "locationmode": "USA-states",
         "lon": [
          -82.53325,
          -90.35998972
         ],
         "mode": "lines",
         "opacity": 0.07255672805021036,
         "type": "scattergeo"
        },
        {
         "lat": [
          36.19837222,
          32.84711389
         ],
         "line": {
          "color": "red",
          "width": 1
         },
         "locationmode": "USA-states",
         "lon": [
          -95.88824167,
          -96.85177222
         ],
         "mode": "lines",
         "opacity": 0.14200979377888132,
         "type": "scattergeo"
        },
        {
         "lat": [
          36.19837222,
          38.74768694
         ],
         "line": {
          "color": "red",
          "width": 1
         },
         "locationmode": "USA-states",
         "lon": [
          -95.88824167,
          -90.35998972
         ],
         "mode": "lines",
         "opacity": 0.10593834057521208,
         "type": "scattergeo"
        },
        {
         "lat": [
          32.11608333,
          32.89595056
         ],
         "line": {
          "color": "red",
          "width": 1
         },
         "locationmode": "USA-states",
         "lon": [
          -110.9410278,
          -97.0372
         ],
         "mode": "lines",
         "opacity": 0.0760052417408097,
         "type": "scattergeo"
        },
        {
         "lat": [
          32.11608333,
          36.08036111
         ],
         "line": {
          "color": "red",
          "width": 1
         },
         "locationmode": "USA-states",
         "lon": [
          -110.9410278,
          -115.1523333
         ],
         "mode": "lines",
         "opacity": 0.07531553900268984,
         "type": "scattergeo"
        },
        {
         "lat": [
          32.11608333,
          33.94253611
         ],
         "line": {
          "color": "red",
          "width": 1
         },
         "locationmode": "USA-states",
         "lon": [
          -110.9410278,
          -118.4080744
         ],
         "mode": "lines",
         "opacity": 0.21304917580522795,
         "type": "scattergeo"
        },
        {
         "lat": [
          32.11608333,
          33.43416667
         ],
         "line": {
          "color": "red",
          "width": 1
         },
         "locationmode": "USA-states",
         "lon": [
          -110.9410278,
          -112.0080556
         ],
         "mode": "lines",
         "opacity": 0.1813228498517139,
         "type": "scattergeo"
        },
        {
         "lat": [
          35.81248722,
          33.64044444
         ],
         "line": {
          "color": "red",
          "width": 1
         },
         "locationmode": "USA-states",
         "lon": [
          -83.99285583,
          -84.42694444
         ],
         "mode": "lines",
         "opacity": 0.1021449755155528,
         "type": "scattergeo"
        }
       ],
       "layout": {
        "geo": {
         "countrycolor": "rgb(204, 204, 204)",
         "landcolor": "rgb(243, 243, 243)",
         "projection": {
          "type": "azimuthal equal area"
         },
         "scope": "north america",
         "showland": true
        },
        "showlegend": false,
        "template": {
         "data": {
          "bar": [
           {
            "error_x": {
             "color": "#2a3f5f"
            },
            "error_y": {
             "color": "#2a3f5f"
            },
            "marker": {
             "line": {
              "color": "#E5ECF6",
              "width": 0.5
             },
             "pattern": {
              "fillmode": "overlay",
              "size": 10,
              "solidity": 0.2
             }
            },
            "type": "bar"
           }
          ],
          "barpolar": [
           {
            "marker": {
             "line": {
              "color": "#E5ECF6",
              "width": 0.5
             },
             "pattern": {
              "fillmode": "overlay",
              "size": 10,
              "solidity": 0.2
             }
            },
            "type": "barpolar"
           }
          ],
          "carpet": [
           {
            "aaxis": {
             "endlinecolor": "#2a3f5f",
             "gridcolor": "white",
             "linecolor": "white",
             "minorgridcolor": "white",
             "startlinecolor": "#2a3f5f"
            },
            "baxis": {
             "endlinecolor": "#2a3f5f",
             "gridcolor": "white",
             "linecolor": "white",
             "minorgridcolor": "white",
             "startlinecolor": "#2a3f5f"
            },
            "type": "carpet"
           }
          ],
          "choropleth": [
           {
            "colorbar": {
             "outlinewidth": 0,
             "ticks": ""
            },
            "type": "choropleth"
           }
          ],
          "contour": [
           {
            "colorbar": {
             "outlinewidth": 0,
             "ticks": ""
            },
            "colorscale": [
             [
              0,
              "#0d0887"
             ],
             [
              0.1111111111111111,
              "#46039f"
             ],
             [
              0.2222222222222222,
              "#7201a8"
             ],
             [
              0.3333333333333333,
              "#9c179e"
             ],
             [
              0.4444444444444444,
              "#bd3786"
             ],
             [
              0.5555555555555556,
              "#d8576b"
             ],
             [
              0.6666666666666666,
              "#ed7953"
             ],
             [
              0.7777777777777778,
              "#fb9f3a"
             ],
             [
              0.8888888888888888,
              "#fdca26"
             ],
             [
              1,
              "#f0f921"
             ]
            ],
            "type": "contour"
           }
          ],
          "contourcarpet": [
           {
            "colorbar": {
             "outlinewidth": 0,
             "ticks": ""
            },
            "type": "contourcarpet"
           }
          ],
          "heatmap": [
           {
            "colorbar": {
             "outlinewidth": 0,
             "ticks": ""
            },
            "colorscale": [
             [
              0,
              "#0d0887"
             ],
             [
              0.1111111111111111,
              "#46039f"
             ],
             [
              0.2222222222222222,
              "#7201a8"
             ],
             [
              0.3333333333333333,
              "#9c179e"
             ],
             [
              0.4444444444444444,
              "#bd3786"
             ],
             [
              0.5555555555555556,
              "#d8576b"
             ],
             [
              0.6666666666666666,
              "#ed7953"
             ],
             [
              0.7777777777777778,
              "#fb9f3a"
             ],
             [
              0.8888888888888888,
              "#fdca26"
             ],
             [
              1,
              "#f0f921"
             ]
            ],
            "type": "heatmap"
           }
          ],
          "heatmapgl": [
           {
            "colorbar": {
             "outlinewidth": 0,
             "ticks": ""
            },
            "colorscale": [
             [
              0,
              "#0d0887"
             ],
             [
              0.1111111111111111,
              "#46039f"
             ],
             [
              0.2222222222222222,
              "#7201a8"
             ],
             [
              0.3333333333333333,
              "#9c179e"
             ],
             [
              0.4444444444444444,
              "#bd3786"
             ],
             [
              0.5555555555555556,
              "#d8576b"
             ],
             [
              0.6666666666666666,
              "#ed7953"
             ],
             [
              0.7777777777777778,
              "#fb9f3a"
             ],
             [
              0.8888888888888888,
              "#fdca26"
             ],
             [
              1,
              "#f0f921"
             ]
            ],
            "type": "heatmapgl"
           }
          ],
          "histogram": [
           {
            "marker": {
             "pattern": {
              "fillmode": "overlay",
              "size": 10,
              "solidity": 0.2
             }
            },
            "type": "histogram"
           }
          ],
          "histogram2d": [
           {
            "colorbar": {
             "outlinewidth": 0,
             "ticks": ""
            },
            "colorscale": [
             [
              0,
              "#0d0887"
             ],
             [
              0.1111111111111111,
              "#46039f"
             ],
             [
              0.2222222222222222,
              "#7201a8"
             ],
             [
              0.3333333333333333,
              "#9c179e"
             ],
             [
              0.4444444444444444,
              "#bd3786"
             ],
             [
              0.5555555555555556,
              "#d8576b"
             ],
             [
              0.6666666666666666,
              "#ed7953"
             ],
             [
              0.7777777777777778,
              "#fb9f3a"
             ],
             [
              0.8888888888888888,
              "#fdca26"
             ],
             [
              1,
              "#f0f921"
             ]
            ],
            "type": "histogram2d"
           }
          ],
          "histogram2dcontour": [
           {
            "colorbar": {
             "outlinewidth": 0,
             "ticks": ""
            },
            "colorscale": [
             [
              0,
              "#0d0887"
             ],
             [
              0.1111111111111111,
              "#46039f"
             ],
             [
              0.2222222222222222,
              "#7201a8"
             ],
             [
              0.3333333333333333,
              "#9c179e"
             ],
             [
              0.4444444444444444,
              "#bd3786"
             ],
             [
              0.5555555555555556,
              "#d8576b"
             ],
             [
              0.6666666666666666,
              "#ed7953"
             ],
             [
              0.7777777777777778,
              "#fb9f3a"
             ],
             [
              0.8888888888888888,
              "#fdca26"
             ],
             [
              1,
              "#f0f921"
             ]
            ],
            "type": "histogram2dcontour"
           }
          ],
          "mesh3d": [
           {
            "colorbar": {
             "outlinewidth": 0,
             "ticks": ""
            },
            "type": "mesh3d"
           }
          ],
          "parcoords": [
           {
            "line": {
             "colorbar": {
              "outlinewidth": 0,
              "ticks": ""
             }
            },
            "type": "parcoords"
           }
          ],
          "pie": [
           {
            "automargin": true,
            "type": "pie"
           }
          ],
          "scatter": [
           {
            "marker": {
             "colorbar": {
              "outlinewidth": 0,
              "ticks": ""
             }
            },
            "type": "scatter"
           }
          ],
          "scatter3d": [
           {
            "line": {
             "colorbar": {
              "outlinewidth": 0,
              "ticks": ""
             }
            },
            "marker": {
             "colorbar": {
              "outlinewidth": 0,
              "ticks": ""
             }
            },
            "type": "scatter3d"
           }
          ],
          "scattercarpet": [
           {
            "marker": {
             "colorbar": {
              "outlinewidth": 0,
              "ticks": ""
             }
            },
            "type": "scattercarpet"
           }
          ],
          "scattergeo": [
           {
            "marker": {
             "colorbar": {
              "outlinewidth": 0,
              "ticks": ""
             }
            },
            "type": "scattergeo"
           }
          ],
          "scattergl": [
           {
            "marker": {
             "colorbar": {
              "outlinewidth": 0,
              "ticks": ""
             }
            },
            "type": "scattergl"
           }
          ],
          "scattermapbox": [
           {
            "marker": {
             "colorbar": {
              "outlinewidth": 0,
              "ticks": ""
             }
            },
            "type": "scattermapbox"
           }
          ],
          "scatterpolar": [
           {
            "marker": {
             "colorbar": {
              "outlinewidth": 0,
              "ticks": ""
             }
            },
            "type": "scatterpolar"
           }
          ],
          "scatterpolargl": [
           {
            "marker": {
             "colorbar": {
              "outlinewidth": 0,
              "ticks": ""
             }
            },
            "type": "scatterpolargl"
           }
          ],
          "scatterternary": [
           {
            "marker": {
             "colorbar": {
              "outlinewidth": 0,
              "ticks": ""
             }
            },
            "type": "scatterternary"
           }
          ],
          "surface": [
           {
            "colorbar": {
             "outlinewidth": 0,
             "ticks": ""
            },
            "colorscale": [
             [
              0,
              "#0d0887"
             ],
             [
              0.1111111111111111,
              "#46039f"
             ],
             [
              0.2222222222222222,
              "#7201a8"
             ],
             [
              0.3333333333333333,
              "#9c179e"
             ],
             [
              0.4444444444444444,
              "#bd3786"
             ],
             [
              0.5555555555555556,
              "#d8576b"
             ],
             [
              0.6666666666666666,
              "#ed7953"
             ],
             [
              0.7777777777777778,
              "#fb9f3a"
             ],
             [
              0.8888888888888888,
              "#fdca26"
             ],
             [
              1,
              "#f0f921"
             ]
            ],
            "type": "surface"
           }
          ],
          "table": [
           {
            "cells": {
             "fill": {
              "color": "#EBF0F8"
             },
             "line": {
              "color": "white"
             }
            },
            "header": {
             "fill": {
              "color": "#C8D4E3"
             },
             "line": {
              "color": "white"
             }
            },
            "type": "table"
           }
          ]
         },
         "layout": {
          "annotationdefaults": {
           "arrowcolor": "#2a3f5f",
           "arrowhead": 0,
           "arrowwidth": 1
          },
          "autotypenumbers": "strict",
          "coloraxis": {
           "colorbar": {
            "outlinewidth": 0,
            "ticks": ""
           }
          },
          "colorscale": {
           "diverging": [
            [
             0,
             "#8e0152"
            ],
            [
             0.1,
             "#c51b7d"
            ],
            [
             0.2,
             "#de77ae"
            ],
            [
             0.3,
             "#f1b6da"
            ],
            [
             0.4,
             "#fde0ef"
            ],
            [
             0.5,
             "#f7f7f7"
            ],
            [
             0.6,
             "#e6f5d0"
            ],
            [
             0.7,
             "#b8e186"
            ],
            [
             0.8,
             "#7fbc41"
            ],
            [
             0.9,
             "#4d9221"
            ],
            [
             1,
             "#276419"
            ]
           ],
           "sequential": [
            [
             0,
             "#0d0887"
            ],
            [
             0.1111111111111111,
             "#46039f"
            ],
            [
             0.2222222222222222,
             "#7201a8"
            ],
            [
             0.3333333333333333,
             "#9c179e"
            ],
            [
             0.4444444444444444,
             "#bd3786"
            ],
            [
             0.5555555555555556,
             "#d8576b"
            ],
            [
             0.6666666666666666,
             "#ed7953"
            ],
            [
             0.7777777777777778,
             "#fb9f3a"
            ],
            [
             0.8888888888888888,
             "#fdca26"
            ],
            [
             1,
             "#f0f921"
            ]
           ],
           "sequentialminus": [
            [
             0,
             "#0d0887"
            ],
            [
             0.1111111111111111,
             "#46039f"
            ],
            [
             0.2222222222222222,
             "#7201a8"
            ],
            [
             0.3333333333333333,
             "#9c179e"
            ],
            [
             0.4444444444444444,
             "#bd3786"
            ],
            [
             0.5555555555555556,
             "#d8576b"
            ],
            [
             0.6666666666666666,
             "#ed7953"
            ],
            [
             0.7777777777777778,
             "#fb9f3a"
            ],
            [
             0.8888888888888888,
             "#fdca26"
            ],
            [
             1,
             "#f0f921"
            ]
           ]
          },
          "colorway": [
           "#636efa",
           "#EF553B",
           "#00cc96",
           "#ab63fa",
           "#FFA15A",
           "#19d3f3",
           "#FF6692",
           "#B6E880",
           "#FF97FF",
           "#FECB52"
          ],
          "font": {
           "color": "#2a3f5f"
          },
          "geo": {
           "bgcolor": "white",
           "lakecolor": "white",
           "landcolor": "#E5ECF6",
           "showlakes": true,
           "showland": true,
           "subunitcolor": "white"
          },
          "hoverlabel": {
           "align": "left"
          },
          "hovermode": "closest",
          "mapbox": {
           "style": "light"
          },
          "paper_bgcolor": "white",
          "plot_bgcolor": "#E5ECF6",
          "polar": {
           "angularaxis": {
            "gridcolor": "white",
            "linecolor": "white",
            "ticks": ""
           },
           "bgcolor": "#E5ECF6",
           "radialaxis": {
            "gridcolor": "white",
            "linecolor": "white",
            "ticks": ""
           }
          },
          "scene": {
           "xaxis": {
            "backgroundcolor": "#E5ECF6",
            "gridcolor": "white",
            "gridwidth": 2,
            "linecolor": "white",
            "showbackground": true,
            "ticks": "",
            "zerolinecolor": "white"
           },
           "yaxis": {
            "backgroundcolor": "#E5ECF6",
            "gridcolor": "white",
            "gridwidth": 2,
            "linecolor": "white",
            "showbackground": true,
            "ticks": "",
            "zerolinecolor": "white"
           },
           "zaxis": {
            "backgroundcolor": "#E5ECF6",
            "gridcolor": "white",
            "gridwidth": 2,
            "linecolor": "white",
            "showbackground": true,
            "ticks": "",
            "zerolinecolor": "white"
           }
          },
          "shapedefaults": {
           "line": {
            "color": "#2a3f5f"
           }
          },
          "ternary": {
           "aaxis": {
            "gridcolor": "white",
            "linecolor": "white",
            "ticks": ""
           },
           "baxis": {
            "gridcolor": "white",
            "linecolor": "white",
            "ticks": ""
           },
           "bgcolor": "#E5ECF6",
           "caxis": {
            "gridcolor": "white",
            "linecolor": "white",
            "ticks": ""
           }
          },
          "title": {
           "x": 0.05
          },
          "xaxis": {
           "automargin": true,
           "gridcolor": "white",
           "linecolor": "white",
           "ticks": "",
           "title": {
            "standoff": 15
           },
           "zerolinecolor": "white",
           "zerolinewidth": 2
          },
          "yaxis": {
           "automargin": true,
           "gridcolor": "white",
           "linecolor": "white",
           "ticks": "",
           "title": {
            "standoff": 15
           },
           "zerolinecolor": "white",
           "zerolinewidth": 2
          }
         }
        },
        "title": {
         "text": "Airports Network Interaction"
        }
       }
      }
     },
     "metadata": {},
     "output_type": "display_data"
    }
   ],
   "source": [
    "fig = go.Figure()\n",
    "\n",
    "fig.add_trace(go.Scattergeo(\n",
    "    locationmode = 'USA-states',\n",
    "    lon = airportdata['long'],\n",
    "    lat = airportdata['lat'],\n",
    "    hoverinfo = 'text',\n",
    "    text = airportdata['airport'],\n",
    "    mode = 'markers',\n",
    "    marker = dict(\n",
    "        size = 2,\n",
    "        color = 'rgb(255, 0, 0)',\n",
    "        line = dict(\n",
    "            width = 3,\n",
    "            color = 'rgba(68, 68, 68, 0)'\n",
    "        )\n",
    "    )))\n",
    "\n",
    "flight_paths = []\n",
    "for i in range(len(toproutesfinal)):\n",
    "    fig.add_trace(\n",
    "        go.Scattergeo(\n",
    "            locationmode = 'USA-states',\n",
    "            lon = [toproutesfinal['start_long'][i], toproutesfinal['end_long'][i]],\n",
    "            lat = [toproutesfinal['start_lat'][i], toproutesfinal['end_lat'][i]],\n",
    "            mode = 'lines',\n",
    "            line = dict(width = 1,color = 'red'),\n",
    "            opacity = float(toproutesfinal['Number_of_flights'][i]) / float(toproutesfinal['Number_of_flights'].max()),\n",
    "        )\n",
    "    )\n",
    "\n",
    "fig.update_layout(\n",
    "    title_text = 'Airports Network Interaction',\n",
    "    showlegend = False,\n",
    "    geo = dict(\n",
    "        scope = 'north america',\n",
    "        projection_type = 'azimuthal equal area',\n",
    "        showland = True,\n",
    "        landcolor = 'rgb(243, 243, 243)',\n",
    "        countrycolor = 'rgb(204, 204, 204)',\n",
    "    ),\n",
    ")\n",
    "\n",
    "fig.show()"
   ]
  },
  {
   "cell_type": "markdown",
   "metadata": {},
   "source": [
    "## Question 5"
   ]
  },
  {
   "cell_type": "markdown",
   "metadata": {},
   "source": [
    "### Pre-processing data"
   ]
  },
  {
   "cell_type": "code",
   "execution_count": 7,
   "metadata": {},
   "outputs": [],
   "source": [
    "variables = ['Month', 'DayofMonth','DayOfWeek', 'CRSDepTime','CRSArrTime','UniqueCarrier','Origin','Dest','Distance','ArrDelay']\n",
    "data_input = dataset_modified.loc[(dataset_modified.Cancelled == 0) & (dataset_modified.Diverted == 0),variables]"
   ]
  },
  {
   "cell_type": "code",
   "execution_count": 13,
   "metadata": {},
   "outputs": [],
   "source": [
    "numerical_features = ['CRSDepTime','CRSArrTime','Distance']  # family size added as new numerical feature/variable\n",
    "\n",
    "# Applying StandardScaler into a pipeline\n",
    "numerical_transformer = Pipeline(steps=[\n",
    "    #('imputer', SimpleImputer()),\n",
    "    ('scaler', StandardScaler())])\n",
    "\n",
    "categorical_features = ['UniqueCarrier','Origin','Dest','Month', 'DayofMonth','DayOfWeek',]\n",
    "\n",
    "# Applying OneHotEncoder into another pipeline\n",
    "categorical_transformer = Pipeline(steps=[\n",
    "    #('imputer', SimpleImputer()),\n",
    "    ('onehot', OneHotEncoder(handle_unknown='ignore'))])\n",
    "\n",
    "data_transformer = ColumnTransformer(\n",
    "    transformers=[\n",
    "        ('numerical', numerical_transformer, numerical_features),\n",
    "        ('categorical', categorical_transformer, categorical_features)])\n",
    "#param_grid = {\n",
    "#    'data_transformer__numerical__imputer__strategy': ['mean', 'median'],\n",
    "#    'data_transformer__categorical__imputer__strategy': ['constant','most_frequent']\n",
    "#}"
   ]
  },
  {
   "cell_type": "markdown",
   "metadata": {},
   "source": [
    "### Modelling"
   ]
  },
  {
   "cell_type": "markdown",
   "metadata": {},
   "source": [
    "#### Create test and train sets"
   ]
  },
  {
   "cell_type": "code",
   "execution_count": 14,
   "metadata": {},
   "outputs": [],
   "source": [
    "data_split = data_input.sample(n = round(0.01 * len(data_input)), random_state = 5)\n",
    "X = data_split[variables[0:9]].copy()\n",
    "y = data_split[variables[-1]].copy()\n",
    "X_train, X_test, y_train, y_test = train_test_split(X, y, test_size=0.7, random_state=1)"
   ]
  },
  {
   "cell_type": "code",
   "execution_count": 15,
   "metadata": {},
   "outputs": [
    {
     "name": "stdout",
     "output_type": "stream",
     "text": [
      "<class 'pandas.core.frame.DataFrame'>\n",
      "Int64Index: 108413 entries, 7366810 to 6070127\n",
      "Data columns (total 10 columns):\n",
      " #   Column         Non-Null Count   Dtype  \n",
      "---  ------         --------------   -----  \n",
      " 0   Month          108413 non-null  int64  \n",
      " 1   DayofMonth     108413 non-null  int64  \n",
      " 2   DayOfWeek      108413 non-null  int64  \n",
      " 3   CRSDepTime     108413 non-null  int64  \n",
      " 4   CRSArrTime     108413 non-null  int64  \n",
      " 5   UniqueCarrier  108413 non-null  object \n",
      " 6   Origin         108413 non-null  object \n",
      " 7   Dest           108413 non-null  object \n",
      " 8   Distance       108413 non-null  int64  \n",
      " 9   ArrDelay       108413 non-null  float64\n",
      "dtypes: float64(1), int64(6), object(3)\n",
      "memory usage: 9.1+ MB\n"
     ]
    }
   ],
   "source": [
    "data_split.info()"
   ]
  },
  {
   "cell_type": "markdown",
   "metadata": {},
   "source": [
    "#### Linear Regression"
   ]
  },
  {
   "cell_type": "code",
   "execution_count": 16,
   "metadata": {},
   "outputs": [],
   "source": [
    "pipe_lm = Pipeline(steps=[('data_transformer', data_transformer),\n",
    "                          ('pipe_lm', LinearRegression())])\n",
    "\n",
    "#grid_lm = GridSearchCV(pipe_lm, param_grid=param_grid)\n",
    "pipe_lm.fit(X_train, y_train);"
   ]
  },
  {
   "cell_type": "code",
   "execution_count": 17,
   "metadata": {},
   "outputs": [
    {
     "data": {
      "text/plain": [
       "1179.6220165982202"
      ]
     },
     "execution_count": 17,
     "metadata": {},
     "output_type": "execute_result"
    }
   ],
   "source": [
    "y_predict_lm = pipe_lm.predict(X_test)\n",
    "mse_lm = mean_squared_error(y_test, y_predict_lm)\n",
    "mse_lm"
   ]
  },
  {
   "cell_type": "markdown",
   "metadata": {},
   "source": [
    "#### Random Forest"
   ]
  },
  {
   "cell_type": "code",
   "execution_count": 20,
   "metadata": {},
   "outputs": [
    {
     "data": {
      "text/plain": [
       "Pipeline(steps=[('data_transformer',\n",
       "                 ColumnTransformer(transformers=[('numerical',\n",
       "                                                  Pipeline(steps=[('scaler',\n",
       "                                                                   StandardScaler())]),\n",
       "                                                  ['CRSDepTime', 'CRSArrTime',\n",
       "                                                   'Distance']),\n",
       "                                                 ('categorical',\n",
       "                                                  Pipeline(steps=[('onehot',\n",
       "                                                                   OneHotEncoder(handle_unknown='ignore'))]),\n",
       "                                                  ['UniqueCarrier', 'Origin',\n",
       "                                                   'Dest', 'Month',\n",
       "                                                   'DayofMonth',\n",
       "                                                   'DayOfWeek'])])),\n",
       "                ('pipe_rf', RandomForestRegressor(random_state=0))])"
      ]
     },
     "execution_count": 20,
     "metadata": {},
     "output_type": "execute_result"
    }
   ],
   "source": [
    "pipe_rf = Pipeline(steps=[('data_transformer', data_transformer),\n",
    "                           ('pipe_rf', RandomForestRegressor(random_state=0))])\n",
    "\n",
    "#grid_rf = GridSearchCV(pipe_rf, param_grid=param_grid)\n",
    "#grid_rf.fit(X_train, y_train);\n",
    "pipe_rf.fit(X_train, y_train)"
   ]
  },
  {
   "cell_type": "code",
   "execution_count": 21,
   "metadata": {},
   "outputs": [
    {
     "data": {
      "text/plain": [
       "1207.8374004023558"
      ]
     },
     "execution_count": 21,
     "metadata": {},
     "output_type": "execute_result"
    }
   ],
   "source": [
    "y_predict_rf = pipe_rf.predict(X_test)\n",
    "mse_ranger = mean_squared_error(y_test, y_predict_rf)\n",
    "mse_ranger"
   ]
  },
  {
   "cell_type": "markdown",
   "metadata": {},
   "source": [
    "#### Support Vector (Additional)"
   ]
  },
  {
   "cell_type": "code",
   "execution_count": 14,
   "metadata": {},
   "outputs": [
    {
     "data": {
      "text/plain": [
       "Pipeline(steps=[('data_transformer',\n",
       "                 ColumnTransformer(transformers=[('numerical',\n",
       "                                                  Pipeline(steps=[('scaler',\n",
       "                                                                   StandardScaler())]),\n",
       "                                                  ['Month', 'DayofMonth',\n",
       "                                                   'DayOfWeek', 'CRSDepTime',\n",
       "                                                   'CRSArrTime', 'Distance']),\n",
       "                                                 ('categorical',\n",
       "                                                  Pipeline(steps=[('onehot',\n",
       "                                                                   OneHotEncoder(handle_unknown='ignore'))]),\n",
       "                                                  ['UniqueCarrier', 'Origin',\n",
       "                                                   'Dest'])])),\n",
       "                ('pipe_svr', SVR())])"
      ]
     },
     "execution_count": 14,
     "metadata": {},
     "output_type": "execute_result"
    }
   ],
   "source": [
    "pipe_svr = Pipeline(steps=[('data_transformer', data_transformer),\n",
    "                           ('pipe_svr', SVR())])\n",
    "#grid_svr = GridSearchCV(pipe_svr, param_grid=param_grid)\n",
    "#grid_svr.fit(X_train, y_train);\n",
    "pipe_svr.fit(X_train, y_train)"
   ]
  },
  {
   "cell_type": "code",
   "execution_count": 26,
   "metadata": {},
   "outputs": [
    {
     "data": {
      "text/plain": [
       "1258.1258076796728"
      ]
     },
     "execution_count": 26,
     "metadata": {},
     "output_type": "execute_result"
    }
   ],
   "source": [
    "y_predict_svr = pipe_svr.predict(X_test)\n",
    "mse_svr = mean_squared_error(y_test, y_predict_svr)\n",
    "mse_svr"
   ]
  },
  {
   "cell_type": "markdown",
   "metadata": {},
   "source": [
    "#### Rigde Regression"
   ]
  },
  {
   "cell_type": "code",
   "execution_count": 18,
   "metadata": {},
   "outputs": [],
   "source": [
    "pipe_ridge = Pipeline(steps=[('data_transformer', data_transformer),\n",
    "                          ('pipe_ridge', Ridge())])\n",
    "#grid_ridge = GridSearchCV(pipe_ridge, param_grid=param_grid)\n",
    "pipe_ridge.fit(X_train, y_train);\n"
   ]
  },
  {
   "cell_type": "code",
   "execution_count": 19,
   "metadata": {},
   "outputs": [
    {
     "data": {
      "text/plain": [
       "1177.4321930996389"
      ]
     },
     "execution_count": 19,
     "metadata": {},
     "output_type": "execute_result"
    }
   ],
   "source": [
    "y_predict_ridge = pipe_ridge.predict(X_test)\n",
    "mse_ridge = mean_squared_error(y_test, y_predict_ridge)\n",
    "mse_ridge"
   ]
  },
  {
   "cell_type": "markdown",
   "metadata": {},
   "source": [
    "#### Compare models"
   ]
  },
  {
   "cell_type": "code",
   "execution_count": 22,
   "metadata": {},
   "outputs": [
    {
     "data": {
      "text/html": [
       "<div>\n",
       "<style scoped>\n",
       "    .dataframe tbody tr th:only-of-type {\n",
       "        vertical-align: middle;\n",
       "    }\n",
       "\n",
       "    .dataframe tbody tr th {\n",
       "        vertical-align: top;\n",
       "    }\n",
       "\n",
       "    .dataframe thead th {\n",
       "        text-align: right;\n",
       "    }\n",
       "</style>\n",
       "<table border=\"1\" class=\"dataframe\">\n",
       "  <thead>\n",
       "    <tr style=\"text-align: right;\">\n",
       "      <th></th>\n",
       "      <th>Mse</th>\n",
       "    </tr>\n",
       "  </thead>\n",
       "  <tbody>\n",
       "    <tr>\n",
       "      <th>Random forest</th>\n",
       "      <td>1207.837400</td>\n",
       "    </tr>\n",
       "    <tr>\n",
       "      <th>Linear Regression</th>\n",
       "      <td>1179.622017</td>\n",
       "    </tr>\n",
       "    <tr>\n",
       "      <th>Ridge Regression</th>\n",
       "      <td>1177.432193</td>\n",
       "    </tr>\n",
       "  </tbody>\n",
       "</table>\n",
       "</div>"
      ],
      "text/plain": [
       "                           Mse\n",
       "Random forest      1207.837400\n",
       "Linear Regression  1179.622017\n",
       "Ridge Regression   1177.432193"
      ]
     },
     "execution_count": 22,
     "metadata": {},
     "output_type": "execute_result"
    }
   ],
   "source": [
    "models = {'Random forest': mse_ranger,'Linear Regression': mse_lm, 'Ridge Regression': mse_ridge}\n",
    "pd.DataFrame.from_dict(models, orient= 'index', columns=['Mse'])"
   ]
  }
 ],
 "metadata": {
  "interpreter": {
   "hash": "c54f25f987f577626bbda13146be92d61a653c7f6cf6684c5e821f0c6a6ebca9"
  },
  "kernelspec": {
   "display_name": "Python 3.8.8 64-bit ('base': conda)",
   "language": "python",
   "name": "python3"
  },
  "language_info": {
   "codemirror_mode": {
    "name": "ipython",
    "version": 3
   },
   "file_extension": ".py",
   "mimetype": "text/x-python",
   "name": "python",
   "nbconvert_exporter": "python",
   "pygments_lexer": "ipython3",
   "version": "3.8.2"
  },
  "orig_nbformat": 4
 },
 "nbformat": 4,
 "nbformat_minor": 2
}
